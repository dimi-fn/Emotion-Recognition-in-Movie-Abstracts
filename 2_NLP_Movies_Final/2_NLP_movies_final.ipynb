{
  "nbformat": 4,
  "nbformat_minor": 0,
  "metadata": {
    "colab": {
      "name": "2_NLP_movies_final.ipynb",
      "provenance": [],
      "collapsed_sections": [],
      "authorship_tag": "ABX9TyN76cSkqTcPYzPg8sdDY0IF",
      "include_colab_link": true
    },
    "kernelspec": {
      "name": "python3",
      "display_name": "Python 3"
    }
  },
  "cells": [
    {
      "cell_type": "markdown",
      "metadata": {
        "id": "view-in-github",
        "colab_type": "text"
      },
      "source": [
        "<a href=\"https://colab.research.google.com/github/dimi-fn/Emotion-Recognition-in-Movie-Abstracts/blob/master/2_NLP_movies_final.ipynb\" target=\"_parent\"><img src=\"https://colab.research.google.com/assets/colab-badge.svg\" alt=\"Open In Colab\"/></a>"
      ]
    },
    {
      "cell_type": "code",
      "metadata": {
        "id": "sPU-EvcGc6zk"
      },
      "source": [
        "# importing libraries for data analysis and manipulation\n",
        "import pandas as pd\n",
        "import numpy as np\n",
        "\n",
        "np.random.seed(42) # to make this notebook's output stable across runs\n",
        "\n",
        "# For plotting figures\n",
        "%matplotlib inline\n",
        "import matplotlib as mpl\n",
        "import matplotlib.pyplot as plt\n",
        "mpl.rc('axes', labelsize=14)\n",
        "mpl.rc('xtick', labelsize=12)\n",
        "mpl.rc('ytick', labelsize=12)\n",
        "\n",
        "# Generating the version of a wide variety of packages/libraries used & working environment\n",
        "#pd.__version__\n",
        "#pd.show_versions(as_json=False)"
      ],
      "execution_count": null,
      "outputs": []
    },
    {
      "cell_type": "code",
      "metadata": {
        "id": "B02qjoYgdEeW"
      },
      "source": [
        "# Code to read csv file into colaboratory:\n",
        "!pip install -U -q PyDrive\n",
        "from pydrive.auth import GoogleAuth\n",
        "from pydrive.drive import GoogleDrive\n",
        "from google.colab import auth\n",
        "from oauth2client.client import GoogleCredentials"
      ],
      "execution_count": null,
      "outputs": []
    },
    {
      "cell_type": "code",
      "metadata": {
        "id": "LIjK6OVjdIyE"
      },
      "source": [
        "auth.authenticate_user()\n",
        "gauth = GoogleAuth()\n",
        "gauth.credentials = GoogleCredentials.get_application_default()\n",
        "drive = GoogleDrive(gauth)"
      ],
      "execution_count": null,
      "outputs": []
    },
    {
      "cell_type": "markdown",
      "metadata": {
        "id": "-J5QPuMfdWAe"
      },
      "source": [
        "# Reading the \"movies_final.csv\" file"
      ]
    },
    {
      "cell_type": "code",
      "metadata": {
        "id": "KFd-wC5kdZRd",
        "colab": {
          "base_uri": "https://localhost:8080/",
          "height": 34
        },
        "outputId": "0bd252b4-20ba-40cd-8ccf-f9f3f7f93a8f"
      },
      "source": [
        "downloaded = drive.CreateFile({'id':'1OlZ1WgeMZh8-qo2M6AFrVhaV83zxWjub'}) \n",
        "downloaded.GetContentFile('movies_final.csv') \n",
        "\n",
        "movies_final = pd.read_csv('movies_final.csv') \n",
        "movies_final.shape"
      ],
      "execution_count": null,
      "outputs": [
        {
          "output_type": "execute_result",
          "data": {
            "text/plain": [
              "(55877, 5)"
            ]
          },
          "metadata": {
            "tags": []
          },
          "execution_count": 4
        }
      ]
    },
    {
      "cell_type": "code",
      "metadata": {
        "id": "lS7l7L9OJzHQ",
        "colab": {
          "base_uri": "https://localhost:8080/",
          "height": 106
        },
        "outputId": "cc642d6b-8c8a-4c8f-d82b-481d3d5f7029"
      },
      "source": [
        "movies_final.head(2)"
      ],
      "execution_count": null,
      "outputs": [
        {
          "output_type": "execute_result",
          "data": {
            "text/html": [
              "<div>\n",
              "<style scoped>\n",
              "    .dataframe tbody tr th:only-of-type {\n",
              "        vertical-align: middle;\n",
              "    }\n",
              "\n",
              "    .dataframe tbody tr th {\n",
              "        vertical-align: top;\n",
              "    }\n",
              "\n",
              "    .dataframe thead th {\n",
              "        text-align: right;\n",
              "    }\n",
              "</style>\n",
              "<table border=\"1\" class=\"dataframe\">\n",
              "  <thead>\n",
              "    <tr style=\"text-align: right;\">\n",
              "      <th></th>\n",
              "      <th>movieId</th>\n",
              "      <th>tmdbId</th>\n",
              "      <th>title</th>\n",
              "      <th>genres</th>\n",
              "      <th>overview</th>\n",
              "    </tr>\n",
              "  </thead>\n",
              "  <tbody>\n",
              "    <tr>\n",
              "      <th>0</th>\n",
              "      <td>1</td>\n",
              "      <td>862.0</td>\n",
              "      <td>Toy Story (1995)</td>\n",
              "      <td>Adventure|Animation|Children|Comedy|Fantasy</td>\n",
              "      <td>Led by Woody, Andy's toys live happily in his ...</td>\n",
              "    </tr>\n",
              "    <tr>\n",
              "      <th>1</th>\n",
              "      <td>2</td>\n",
              "      <td>8844.0</td>\n",
              "      <td>Jumanji (1995)</td>\n",
              "      <td>Adventure|Children|Fantasy</td>\n",
              "      <td>When siblings Judy and Peter discover an encha...</td>\n",
              "    </tr>\n",
              "  </tbody>\n",
              "</table>\n",
              "</div>"
            ],
            "text/plain": [
              "   movieId  ...                                           overview\n",
              "0        1  ...  Led by Woody, Andy's toys live happily in his ...\n",
              "1        2  ...  When siblings Judy and Peter discover an encha...\n",
              "\n",
              "[2 rows x 5 columns]"
            ]
          },
          "metadata": {
            "tags": []
          },
          "execution_count": 5
        }
      ]
    },
    {
      "cell_type": "code",
      "metadata": {
        "id": "ZoAMho6ydfqW",
        "colab": {
          "base_uri": "https://localhost:8080/",
          "height": 106
        },
        "outputId": "3034890b-c551-4d16-c88a-b23d4787f03f"
      },
      "source": [
        "movies_final.tail(2)"
      ],
      "execution_count": null,
      "outputs": [
        {
          "output_type": "execute_result",
          "data": {
            "text/html": [
              "<div>\n",
              "<style scoped>\n",
              "    .dataframe tbody tr th:only-of-type {\n",
              "        vertical-align: middle;\n",
              "    }\n",
              "\n",
              "    .dataframe tbody tr th {\n",
              "        vertical-align: top;\n",
              "    }\n",
              "\n",
              "    .dataframe thead th {\n",
              "        text-align: right;\n",
              "    }\n",
              "</style>\n",
              "<table border=\"1\" class=\"dataframe\">\n",
              "  <thead>\n",
              "    <tr style=\"text-align: right;\">\n",
              "      <th></th>\n",
              "      <th>movieId</th>\n",
              "      <th>tmdbId</th>\n",
              "      <th>title</th>\n",
              "      <th>genres</th>\n",
              "      <th>overview</th>\n",
              "    </tr>\n",
              "  </thead>\n",
              "  <tbody>\n",
              "    <tr>\n",
              "      <th>55875</th>\n",
              "      <td>209163</td>\n",
              "      <td>553036.0</td>\n",
              "      <td>Bad Poems (2018)</td>\n",
              "      <td>Comedy|Drama</td>\n",
              "      <td>33-years old Tamás Merthner is heartbroken, af...</td>\n",
              "    </tr>\n",
              "    <tr>\n",
              "      <th>55876</th>\n",
              "      <td>209171</td>\n",
              "      <td>79513.0</td>\n",
              "      <td>Women of Devil's Island (1962)</td>\n",
              "      <td>Action|Adventure|Drama</td>\n",
              "      <td>Italian costume drama about convicted women in...</td>\n",
              "    </tr>\n",
              "  </tbody>\n",
              "</table>\n",
              "</div>"
            ],
            "text/plain": [
              "       movieId  ...                                           overview\n",
              "55875   209163  ...  33-years old Tamás Merthner is heartbroken, af...\n",
              "55876   209171  ...  Italian costume drama about convicted women in...\n",
              "\n",
              "[2 rows x 5 columns]"
            ]
          },
          "metadata": {
            "tags": []
          },
          "execution_count": 6
        }
      ]
    },
    {
      "cell_type": "markdown",
      "metadata": {
        "id": "Uh8NaohcdkJU"
      },
      "source": [
        "# SpaCy Environment\n",
        "\n",
        "Download SpaCy\n",
        "\n",
        "> Open-source software library for advanced natural language processing"
      ]
    },
    {
      "cell_type": "code",
      "metadata": {
        "id": "5q-LNkO_dkRR",
        "colab": {
          "base_uri": "https://localhost:8080/",
          "height": 490
        },
        "outputId": "13865814-be34-469a-daf9-5c3e29fc0543"
      },
      "source": [
        "# Download Spacy library open source\n",
        "!python -m spacy download en"
      ],
      "execution_count": null,
      "outputs": [
        {
          "output_type": "stream",
          "text": [
            "Requirement already satisfied: en_core_web_sm==2.2.5 from https://github.com/explosion/spacy-models/releases/download/en_core_web_sm-2.2.5/en_core_web_sm-2.2.5.tar.gz#egg=en_core_web_sm==2.2.5 in /usr/local/lib/python3.6/dist-packages (2.2.5)\n",
            "Requirement already satisfied: spacy>=2.2.2 in /usr/local/lib/python3.6/dist-packages (from en_core_web_sm==2.2.5) (2.2.4)\n",
            "Requirement already satisfied: numpy>=1.15.0 in /usr/local/lib/python3.6/dist-packages (from spacy>=2.2.2->en_core_web_sm==2.2.5) (1.18.5)\n",
            "Requirement already satisfied: requests<3.0.0,>=2.13.0 in /usr/local/lib/python3.6/dist-packages (from spacy>=2.2.2->en_core_web_sm==2.2.5) (2.23.0)\n",
            "Requirement already satisfied: setuptools in /usr/local/lib/python3.6/dist-packages (from spacy>=2.2.2->en_core_web_sm==2.2.5) (50.3.0)\n",
            "Requirement already satisfied: catalogue<1.1.0,>=0.0.7 in /usr/local/lib/python3.6/dist-packages (from spacy>=2.2.2->en_core_web_sm==2.2.5) (1.0.0)\n",
            "Requirement already satisfied: preshed<3.1.0,>=3.0.2 in /usr/local/lib/python3.6/dist-packages (from spacy>=2.2.2->en_core_web_sm==2.2.5) (3.0.2)\n",
            "Requirement already satisfied: cymem<2.1.0,>=2.0.2 in /usr/local/lib/python3.6/dist-packages (from spacy>=2.2.2->en_core_web_sm==2.2.5) (2.0.3)\n",
            "Requirement already satisfied: tqdm<5.0.0,>=4.38.0 in /usr/local/lib/python3.6/dist-packages (from spacy>=2.2.2->en_core_web_sm==2.2.5) (4.41.1)\n",
            "Requirement already satisfied: srsly<1.1.0,>=1.0.2 in /usr/local/lib/python3.6/dist-packages (from spacy>=2.2.2->en_core_web_sm==2.2.5) (1.0.2)\n",
            "Requirement already satisfied: murmurhash<1.1.0,>=0.28.0 in /usr/local/lib/python3.6/dist-packages (from spacy>=2.2.2->en_core_web_sm==2.2.5) (1.0.2)\n",
            "Requirement already satisfied: thinc==7.4.0 in /usr/local/lib/python3.6/dist-packages (from spacy>=2.2.2->en_core_web_sm==2.2.5) (7.4.0)\n",
            "Requirement already satisfied: blis<0.5.0,>=0.4.0 in /usr/local/lib/python3.6/dist-packages (from spacy>=2.2.2->en_core_web_sm==2.2.5) (0.4.1)\n",
            "Requirement already satisfied: plac<1.2.0,>=0.9.6 in /usr/local/lib/python3.6/dist-packages (from spacy>=2.2.2->en_core_web_sm==2.2.5) (1.1.3)\n",
            "Requirement already satisfied: wasabi<1.1.0,>=0.4.0 in /usr/local/lib/python3.6/dist-packages (from spacy>=2.2.2->en_core_web_sm==2.2.5) (0.8.0)\n",
            "Requirement already satisfied: chardet<4,>=3.0.2 in /usr/local/lib/python3.6/dist-packages (from requests<3.0.0,>=2.13.0->spacy>=2.2.2->en_core_web_sm==2.2.5) (3.0.4)\n",
            "Requirement already satisfied: idna<3,>=2.5 in /usr/local/lib/python3.6/dist-packages (from requests<3.0.0,>=2.13.0->spacy>=2.2.2->en_core_web_sm==2.2.5) (2.10)\n",
            "Requirement already satisfied: certifi>=2017.4.17 in /usr/local/lib/python3.6/dist-packages (from requests<3.0.0,>=2.13.0->spacy>=2.2.2->en_core_web_sm==2.2.5) (2020.6.20)\n",
            "Requirement already satisfied: urllib3!=1.25.0,!=1.25.1,<1.26,>=1.21.1 in /usr/local/lib/python3.6/dist-packages (from requests<3.0.0,>=2.13.0->spacy>=2.2.2->en_core_web_sm==2.2.5) (1.24.3)\n",
            "Requirement already satisfied: importlib-metadata>=0.20; python_version < \"3.8\" in /usr/local/lib/python3.6/dist-packages (from catalogue<1.1.0,>=0.0.7->spacy>=2.2.2->en_core_web_sm==2.2.5) (2.0.0)\n",
            "Requirement already satisfied: zipp>=0.5 in /usr/local/lib/python3.6/dist-packages (from importlib-metadata>=0.20; python_version < \"3.8\"->catalogue<1.1.0,>=0.0.7->spacy>=2.2.2->en_core_web_sm==2.2.5) (3.2.0)\n",
            "\u001b[38;5;2m✔ Download and installation successful\u001b[0m\n",
            "You can now load the model via spacy.load('en_core_web_sm')\n",
            "\u001b[38;5;2m✔ Linking successful\u001b[0m\n",
            "/usr/local/lib/python3.6/dist-packages/en_core_web_sm -->\n",
            "/usr/local/lib/python3.6/dist-packages/spacy/data/en\n",
            "You can now load the model via spacy.load('en')\n"
          ],
          "name": "stdout"
        }
      ]
    },
    {
      "cell_type": "code",
      "metadata": {
        "id": "7dH7D2xrdnDs",
        "colab": {
          "base_uri": "https://localhost:8080/",
          "height": 423
        },
        "outputId": "851fcfba-db3a-4801-8147-d64d6fdebf62"
      },
      "source": [
        "!python -m spacy download en_core_web_lg"
      ],
      "execution_count": null,
      "outputs": [
        {
          "output_type": "stream",
          "text": [
            "Requirement already satisfied: en_core_web_lg==2.2.5 from https://github.com/explosion/spacy-models/releases/download/en_core_web_lg-2.2.5/en_core_web_lg-2.2.5.tar.gz#egg=en_core_web_lg==2.2.5 in /usr/local/lib/python3.6/dist-packages (2.2.5)\n",
            "Requirement already satisfied: spacy>=2.2.2 in /usr/local/lib/python3.6/dist-packages (from en_core_web_lg==2.2.5) (2.2.4)\n",
            "Requirement already satisfied: srsly<1.1.0,>=1.0.2 in /usr/local/lib/python3.6/dist-packages (from spacy>=2.2.2->en_core_web_lg==2.2.5) (1.0.2)\n",
            "Requirement already satisfied: tqdm<5.0.0,>=4.38.0 in /usr/local/lib/python3.6/dist-packages (from spacy>=2.2.2->en_core_web_lg==2.2.5) (4.41.1)\n",
            "Requirement already satisfied: catalogue<1.1.0,>=0.0.7 in /usr/local/lib/python3.6/dist-packages (from spacy>=2.2.2->en_core_web_lg==2.2.5) (1.0.0)\n",
            "Requirement already satisfied: cymem<2.1.0,>=2.0.2 in /usr/local/lib/python3.6/dist-packages (from spacy>=2.2.2->en_core_web_lg==2.2.5) (2.0.3)\n",
            "Requirement already satisfied: setuptools in /usr/local/lib/python3.6/dist-packages (from spacy>=2.2.2->en_core_web_lg==2.2.5) (50.3.0)\n",
            "Requirement already satisfied: requests<3.0.0,>=2.13.0 in /usr/local/lib/python3.6/dist-packages (from spacy>=2.2.2->en_core_web_lg==2.2.5) (2.23.0)\n",
            "Requirement already satisfied: blis<0.5.0,>=0.4.0 in /usr/local/lib/python3.6/dist-packages (from spacy>=2.2.2->en_core_web_lg==2.2.5) (0.4.1)\n",
            "Requirement already satisfied: murmurhash<1.1.0,>=0.28.0 in /usr/local/lib/python3.6/dist-packages (from spacy>=2.2.2->en_core_web_lg==2.2.5) (1.0.2)\n",
            "Requirement already satisfied: preshed<3.1.0,>=3.0.2 in /usr/local/lib/python3.6/dist-packages (from spacy>=2.2.2->en_core_web_lg==2.2.5) (3.0.2)\n",
            "Requirement already satisfied: thinc==7.4.0 in /usr/local/lib/python3.6/dist-packages (from spacy>=2.2.2->en_core_web_lg==2.2.5) (7.4.0)\n",
            "Requirement already satisfied: plac<1.2.0,>=0.9.6 in /usr/local/lib/python3.6/dist-packages (from spacy>=2.2.2->en_core_web_lg==2.2.5) (1.1.3)\n",
            "Requirement already satisfied: numpy>=1.15.0 in /usr/local/lib/python3.6/dist-packages (from spacy>=2.2.2->en_core_web_lg==2.2.5) (1.18.5)\n",
            "Requirement already satisfied: wasabi<1.1.0,>=0.4.0 in /usr/local/lib/python3.6/dist-packages (from spacy>=2.2.2->en_core_web_lg==2.2.5) (0.8.0)\n",
            "Requirement already satisfied: importlib-metadata>=0.20; python_version < \"3.8\" in /usr/local/lib/python3.6/dist-packages (from catalogue<1.1.0,>=0.0.7->spacy>=2.2.2->en_core_web_lg==2.2.5) (2.0.0)\n",
            "Requirement already satisfied: urllib3!=1.25.0,!=1.25.1,<1.26,>=1.21.1 in /usr/local/lib/python3.6/dist-packages (from requests<3.0.0,>=2.13.0->spacy>=2.2.2->en_core_web_lg==2.2.5) (1.24.3)\n",
            "Requirement already satisfied: certifi>=2017.4.17 in /usr/local/lib/python3.6/dist-packages (from requests<3.0.0,>=2.13.0->spacy>=2.2.2->en_core_web_lg==2.2.5) (2020.6.20)\n",
            "Requirement already satisfied: chardet<4,>=3.0.2 in /usr/local/lib/python3.6/dist-packages (from requests<3.0.0,>=2.13.0->spacy>=2.2.2->en_core_web_lg==2.2.5) (3.0.4)\n",
            "Requirement already satisfied: idna<3,>=2.5 in /usr/local/lib/python3.6/dist-packages (from requests<3.0.0,>=2.13.0->spacy>=2.2.2->en_core_web_lg==2.2.5) (2.10)\n",
            "Requirement already satisfied: zipp>=0.5 in /usr/local/lib/python3.6/dist-packages (from importlib-metadata>=0.20; python_version < \"3.8\"->catalogue<1.1.0,>=0.0.7->spacy>=2.2.2->en_core_web_lg==2.2.5) (3.2.0)\n",
            "\u001b[38;5;2m✔ Download and installation successful\u001b[0m\n",
            "You can now load the model via spacy.load('en_core_web_lg')\n"
          ],
          "name": "stdout"
        }
      ]
    },
    {
      "cell_type": "code",
      "metadata": {
        "id": "v2HUhk-HdohM"
      },
      "source": [
        "import spacy\n",
        "# load the large spacy library\n",
        "nlp = spacy.load(\"en_core_web_lg\") "
      ],
      "execution_count": null,
      "outputs": []
    },
    {
      "cell_type": "markdown",
      "metadata": {
        "id": "kEb4oV-1dq67"
      },
      "source": [
        "# Regular Expressions\n",
        "\n"
      ]
    },
    {
      "cell_type": "code",
      "metadata": {
        "id": "aYkqltYLdojO"
      },
      "source": [
        "import re "
      ],
      "execution_count": null,
      "outputs": []
    },
    {
      "cell_type": "code",
      "metadata": {
        "id": "FgwFFpFtdtE5",
        "colab": {
          "base_uri": "https://localhost:8080/",
          "height": 54
        },
        "outputId": "168e9014-8111-407f-ba6b-6176a56c893f"
      },
      "source": [
        "# displaying the 1st movie overview\n",
        "\n",
        "movie_first= movies_final[\"overview\"][0]\n",
        "print(movie_first)"
      ],
      "execution_count": null,
      "outputs": [
        {
          "output_type": "stream",
          "text": [
            "Led by Woody, Andy's toys live happily in his room until Andy's birthday brings Buzz Lightyear onto the scene. Afraid of losing his place in Andy's heart, Woody plots against Buzz. But when circumstances separate Buzz and Woody from their owner, the duo eventually learns to put aside their differences.\n"
          ],
          "name": "stdout"
        }
      ]
    },
    {
      "cell_type": "code",
      "metadata": {
        "id": "2wwBi5EndvAL",
        "colab": {
          "base_uri": "https://localhost:8080/",
          "height": 95
        },
        "outputId": "37b0207c-a818-406a-8206-01b66de0722c"
      },
      "source": [
        "# Displaying the text as a script which is more readable (not like above)\n",
        "from IPython.display import Markdown, display\n",
        "display(Markdown('> '+movie_first))"
      ],
      "execution_count": null,
      "outputs": [
        {
          "output_type": "display_data",
          "data": {
            "text/markdown": "> Led by Woody, Andy's toys live happily in his room until Andy's birthday brings Buzz Lightyear onto the scene. Afraid of losing his place in Andy's heart, Woody plots against Buzz. But when circumstances separate Buzz and Woody from their owner, the duo eventually learns to put aside their differences.",
            "text/plain": [
              "<IPython.core.display.Markdown object>"
            ]
          },
          "metadata": {
            "tags": []
          }
        }
      ]
    },
    {
      "cell_type": "code",
      "metadata": {
        "id": "u-t6NDsNdv9X",
        "colab": {
          "base_uri": "https://localhost:8080/",
          "height": 50
        },
        "outputId": "94bd8631-f754-45d5-a933-24c334c73a2c"
      },
      "source": [
        "pattern= \"Buzz\"\n",
        "text= movie_first\n",
        "my_match= re.search(pattern, text)\n",
        "print (pattern in text)\n",
        "print (len(re.findall(pattern, text))) #how many times my pattern occurs"
      ],
      "execution_count": null,
      "outputs": [
        {
          "output_type": "stream",
          "text": [
            "True\n",
            "3\n"
          ],
          "name": "stdout"
        }
      ]
    },
    {
      "cell_type": "markdown",
      "metadata": {
        "id": "gaGsDT43dy4X"
      },
      "source": [
        "# Tokenization & POS\n",
        "\n",
        "https://spacy.io/api/annotation#pos-tagging"
      ]
    },
    {
      "cell_type": "markdown",
      "metadata": {
        "id": "RmaIJbPOd2nR"
      },
      "source": [
        "## Coarse-grained Part-of-speech Tags\n",
        "Every token is assigned a POS Tag from the following list:\n",
        "\n",
        "\n",
        "<table><tr><th>POS</th><th>DESCRIPTION</th><th>EXAMPLES</th></tr>\n",
        "    \n",
        "<tr><td>ADJ</td><td>adjective</td><td>*big, old, green, incomprehensible, first*</td></tr>\n",
        "<tr><td>ADP</td><td>adposition</td><td>*in, to, during*</td></tr>\n",
        "<tr><td>ADV</td><td>adverb</td><td>*very, tomorrow, down, where, there*</td></tr>\n",
        "<tr><td>AUX</td><td>auxiliary</td><td>*is, has (done), will (do), should (do)*</td></tr>\n",
        "<tr><td>CONJ</td><td>conjunction</td><td>*and, or, but*</td></tr>\n",
        "<tr><td>CCONJ</td><td>coordinating conjunction</td><td>*and, or, but*</td></tr>\n",
        "<tr><td>DET</td><td>determiner</td><td>*a, an, the*</td></tr>\n",
        "<tr><td>INTJ</td><td>interjection</td><td>*psst, ouch, bravo, hello*</td></tr>\n",
        "<tr><td>NOUN</td><td>noun</td><td>*girl, cat, tree, air, beauty*</td></tr>\n",
        "<tr><td>NUM</td><td>numeral</td><td>*1, 2017, one, seventy-seven, IV, MMXIV*</td></tr>\n",
        "<tr><td>PART</td><td>particle</td><td>*'s, not,*</td></tr>\n",
        "<tr><td>PRON</td><td>pronoun</td><td>*I, you, he, she, myself, themselves, somebody*</td></tr>\n",
        "<tr><td>PROPN</td><td>proper noun</td><td>*Mary, John, London, NATO, HBO*</td></tr>\n",
        "<tr><td>PUNCT</td><td>punctuation</td><td>*., (, ), ?*</td></tr>\n",
        "<tr><td>SCONJ</td><td>subordinating conjunction</td><td>*if, while, that*</td></tr>\n",
        "<tr><td>SYM</td><td>symbol</td><td>*$, %, §, ©, +, −, ×, ÷, =, :), 😝*</td></tr>\n",
        "<tr><td>VERB</td><td>verb</td><td>*run, runs, running, eat, ate, eating*</td></tr>\n",
        "<tr><td>X</td><td>other</td><td>*sfpksdpsxmsa*</td></tr>\n",
        "<tr><td>SPACE</td><td>space</td></tr>"
      ]
    },
    {
      "cell_type": "markdown",
      "metadata": {
        "id": "Se1DtdXed-OZ"
      },
      "source": [
        "___\n",
        "## Fine-grained Part-of-speech Tags (more details of POS)\n",
        "Tokens are subsequently given a fine-grained tag as determined by morphology:\n",
        "<table>\n",
        "<tr><th>POS</th><th>Description</th><th>Fine-grained Tag</th><th>Description</th><th>Morphology</th></tr>\n",
        "<tr><td>ADJ</td><td>adjective</td><td>AFX</td><td>affix</td><td>Hyph=yes</td></tr>\n",
        "<tr><td>ADJ</td><td></td><td>JJ</td><td>adjective</td><td>Degree=pos</td></tr>\n",
        "<tr><td>ADJ</td><td></td><td>JJR</td><td>adjective, comparative</td><td>Degree=comp</td></tr>\n",
        "<tr><td>ADJ</td><td></td><td>JJS</td><td>adjective, superlative</td><td>Degree=sup</td></tr>\n",
        "<tr><td>ADJ</td><td></td><td>PDT</td><td>predeterminer</td><td>AdjType=pdt PronType=prn</td></tr>\n",
        "<tr><td>ADJ</td><td></td><td>PRP\\$</td><td>pronoun, possessive</td><td>PronType=prs Poss=yes</td></tr>\n",
        "<tr><td>ADJ</td><td></td><td>WDT</td><td>wh-determiner</td><td>PronType=int rel</td></tr>\n",
        "<tr><td>ADJ</td><td></td><td>WP\\$</td><td>wh-pronoun, possessive</td><td>Poss=yes PronType=int rel</td></tr>\n",
        "<tr><td>ADP</td><td>adposition</td><td>IN</td><td>conjunction, subordinating or preposition</td><td></td></tr>\n",
        "<tr><td>ADV</td><td>adverb</td><td>EX</td><td>existential there</td><td>AdvType=ex</td></tr>\n",
        "<tr><td>ADV</td><td></td><td>RB</td><td>adverb</td><td>Degree=pos</td></tr>\n",
        "<tr><td>ADV</td><td></td><td>RBR</td><td>adverb, comparative</td><td>Degree=comp</td></tr>\n",
        "<tr><td>ADV</td><td></td><td>RBS</td><td>adverb, superlative</td><td>Degree=sup</td></tr>\n",
        "<tr><td>ADV</td><td></td><td>WRB</td><td>wh-adverb</td><td>PronType=int rel</td></tr>\n",
        "<tr><td>CONJ</td><td>conjunction</td><td>CC</td><td>conjunction, coordinating</td><td>ConjType=coor</td></tr>\n",
        "<tr><td>DET</td><td>determiner</td><td>DT</td><td>determiner</td><td></td></tr>\n",
        "<tr><td>INTJ</td><td>interjection</td><td>UH</td><td>interjection</td><td></td></tr>\n",
        "<tr><td>NOUN</td><td>noun</td><td>NN</td><td>noun, singular or mass</td><td>Number=sing</td></tr>\n",
        "<tr><td>NOUN</td><td></td><td>NNS</td><td>noun, plural</td><td>Number=plur</td></tr>\n",
        "<tr><td>NOUN</td><td></td><td>WP</td><td>wh-pronoun, personal</td><td>PronType=int rel</td></tr>\n",
        "<tr><td>NUM</td><td>numeral</td><td>CD</td><td>cardinal number</td><td>NumType=card</td></tr>\n",
        "<tr><td>PART</td><td>particle</td><td>POS</td><td>possessive ending</td><td>Poss=yes</td></tr>\n",
        "<tr><td>PART</td><td></td><td>RP</td><td>adverb, particle</td><td></td></tr>\n",
        "<tr><td>PART</td><td></td><td>TO</td><td>infinitival to</td><td>PartType=inf VerbForm=inf</td></tr>\n",
        "<tr><td>PRON</td><td>pronoun</td><td>PRP</td><td>pronoun, personal</td><td>PronType=prs</td></tr>\n",
        "<tr><td>PROPN</td><td>proper noun</td><td>NNP</td><td>noun, proper singular</td><td>NounType=prop Number=sign</td></tr>\n",
        "<tr><td>PROPN</td><td></td><td>NNPS</td><td>noun, proper plural</td><td>NounType=prop Number=plur</td></tr>\n",
        "<tr><td>PUNCT</td><td>punctuation</td><td>-LRB-</td><td>left round bracket</td><td>PunctType=brck PunctSide=ini</td></tr>\n",
        "<tr><td>PUNCT</td><td></td><td>-RRB-</td><td>right round bracket</td><td>PunctType=brck PunctSide=fin</td></tr>\n",
        "<tr><td>PUNCT</td><td></td><td>,</td><td>punctuation mark, comma</td><td>PunctType=comm</td></tr>\n",
        "<tr><td>PUNCT</td><td></td><td>:</td><td>punctuation mark, colon or ellipsis</td><td></td></tr>\n",
        "<tr><td>PUNCT</td><td></td><td>.</td><td>punctuation mark, sentence closer</td><td>PunctType=peri</td></tr>\n",
        "<tr><td>PUNCT</td><td></td><td>''</td><td>closing quotation mark</td><td>PunctType=quot PunctSide=fin</td></tr>\n",
        "<tr><td>PUNCT</td><td></td><td>\"\"</td><td>closing quotation mark</td><td>PunctType=quot PunctSide=fin</td></tr>\n",
        "<tr><td>PUNCT</td><td></td><td>``</td><td>opening quotation mark</td><td>PunctType=quot PunctSide=ini</td></tr>\n",
        "<tr><td>PUNCT</td><td></td><td>HYPH</td><td>punctuation mark, hyphen</td><td>PunctType=dash</td></tr>\n",
        "<tr><td>PUNCT</td><td></td><td>LS</td><td>list item marker</td><td>NumType=ord</td></tr>\n",
        "<tr><td>PUNCT</td><td></td><td>NFP</td><td>superfluous punctuation</td><td></td></tr>\n",
        "<tr><td>SYM</td><td>symbol</td><td>#</td><td>symbol, number sign</td><td>SymType=numbersign</td></tr>\n",
        "<tr><td>SYM</td><td></td><td>\\$</td><td>symbol, currency</td><td>SymType=currency</td></tr>\n",
        "<tr><td>SYM</td><td></td><td>SYM</td><td>symbol</td><td></td></tr>\n",
        "<tr><td>VERB</td><td>verb</td><td>BES</td><td>auxiliary \"be\"</td><td></td></tr>\n",
        "<tr><td>VERB</td><td></td><td>HVS</td><td>forms of \"have\"</td><td></td></tr>\n",
        "<tr><td>VERB</td><td></td><td>MD</td><td>verb, modal auxiliary</td><td>VerbType=mod</td></tr>\n",
        "<tr><td>VERB</td><td></td><td>VB</td><td>verb, base form</td><td>VerbForm=inf</td></tr>\n",
        "<tr><td>VERB</td><td></td><td>VBD</td><td>verb, past tense</td><td>VerbForm=fin Tense=past</td></tr>\n",
        "<tr><td>VERB</td><td></td><td>VBG</td><td>verb, gerund or present participle</td><td>VerbForm=part Tense=pres Aspect=prog</td></tr>\n",
        "<tr><td>VERB</td><td></td><td>VBN</td><td>verb, past participle</td><td>VerbForm=part Tense=past Aspect=perf</td></tr>\n",
        "<tr><td>VERB</td><td></td><td>VBP</td><td>verb, non-3rd person singular present</td><td>VerbForm=fin Tense=pres</td></tr>\n",
        "<tr><td>VERB</td><td></td><td>VBZ</td><td>verb, 3rd person singular present</td><td>VerbForm=fin Tense=pres Number=sing Person=3</td></tr>\n",
        "<tr><td>X</td><td>other</td><td>ADD</td><td>email</td><td></td></tr>\n",
        "<tr><td>X</td><td></td><td>FW</td><td>foreign word</td><td>Foreign=yes</td></tr>\n",
        "<tr><td>X</td><td></td><td>GW</td><td>additional word in multi-word expression</td><td></td></tr>\n",
        "<tr><td>X</td><td></td><td>XX</td><td>unknown</td><td></td></tr>\n",
        "<tr><td>SPACE</td><td>space</td><td>_SP</td><td>space</td><td></td></tr>\n",
        "<tr><td></td><td></td><td>NIL</td><td>missing tag</td><td></td></tr>\n",
        "</table>"
      ]
    },
    {
      "cell_type": "markdown",
      "metadata": {
        "id": "1-QmW-F2eDQ_"
      },
      "source": [
        "> Taking as an example the 1st movie overview"
      ]
    },
    {
      "cell_type": "code",
      "metadata": {
        "id": "rdtwUu8-d-YU",
        "colab": {
          "base_uri": "https://localhost:8080/",
          "height": 1000
        },
        "outputId": "e7006b57-e1c0-4c69-a699-90fe95dd16f4"
      },
      "source": [
        "# token.text => tokens\n",
        "# token.pos_ => coarse POS\n",
        "# token.tag_ => part-of-speech tag\n",
        "# toke.dep_ => fine grained tag (dependency level)\n",
        "# token.lemma_ => lemmatization\n",
        "# spacy.explain(token.tag_) => token description\n",
        "# spacy.explain(token.dep_) => fine grained tag description\n",
        "\n",
        "document= nlp(movies_final[\"overview\"][0])\n",
        "\n",
        "for token in document:\n",
        "  print(f'{token.text:{20}} {token.pos_:{20}} {token.tag_:{20}} {token.dep_:{20}} {token.lemma_:{20}} {spacy.explain(token.tag_):{50}} {spacy.explain(token.dep_)}')"
      ],
      "execution_count": null,
      "outputs": [
        {
          "output_type": "stream",
          "text": [
            "Led                  VERB                 VBN                  advcl                lead                 verb, past participle                              adverbial clause modifier\n",
            "by                   ADP                  IN                   agent                by                   conjunction, subordinating or preposition          agent\n",
            "Woody                PROPN                NNP                  pobj                 Woody                noun, proper singular                              object of preposition\n",
            ",                    PUNCT                ,                    punct                ,                    punctuation mark, comma                            punctuation\n",
            "Andy                 PROPN                NNP                  poss                 Andy                 noun, proper singular                              possession modifier\n",
            "'s                   PART                 POS                  case                 's                   possessive ending                                  case marking\n",
            "toys                 NOUN                 NNS                  nsubj                toy                  noun, plural                                       nominal subject\n",
            "live                 VERB                 VBP                  ROOT                 live                 verb, non-3rd person singular present              None\n",
            "happily              ADV                  RB                   advmod               happily              adverb                                             adverbial modifier\n",
            "in                   ADP                  IN                   prep                 in                   conjunction, subordinating or preposition          prepositional modifier\n",
            "his                  DET                  PRP$                 poss                 -PRON-               pronoun, possessive                                possession modifier\n",
            "room                 NOUN                 NN                   pobj                 room                 noun, singular or mass                             object of preposition\n",
            "until                ADP                  IN                   mark                 until                conjunction, subordinating or preposition          marker\n",
            "Andy                 PROPN                NNP                  poss                 Andy                 noun, proper singular                              possession modifier\n",
            "'s                   PART                 POS                  case                 's                   possessive ending                                  case marking\n",
            "birthday             NOUN                 NN                   nsubj                birthday             noun, singular or mass                             nominal subject\n",
            "brings               VERB                 VBZ                  advcl                bring                verb, 3rd person singular present                  adverbial clause modifier\n",
            "Buzz                 PROPN                NNP                  compound             Buzz                 noun, proper singular                              compound\n",
            "Lightyear            PROPN                NNP                  dobj                 Lightyear            noun, proper singular                              direct object\n",
            "onto                 ADP                  IN                   prep                 onto                 conjunction, subordinating or preposition          prepositional modifier\n",
            "the                  DET                  DT                   det                  the                  determiner                                         determiner\n",
            "scene                NOUN                 NN                   pobj                 scene                noun, singular or mass                             object of preposition\n",
            ".                    PUNCT                .                    punct                .                    punctuation mark, sentence closer                  punctuation\n",
            "Afraid               ADJ                  JJ                   advmod               afraid               adjective                                          adverbial modifier\n",
            "of                   ADP                  IN                   prep                 of                   conjunction, subordinating or preposition          prepositional modifier\n",
            "losing               VERB                 VBG                  pcomp                lose                 verb, gerund or present participle                 complement of preposition\n",
            "his                  DET                  PRP$                 poss                 -PRON-               pronoun, possessive                                possession modifier\n",
            "place                NOUN                 NN                   dobj                 place                noun, singular or mass                             direct object\n",
            "in                   ADP                  IN                   prep                 in                   conjunction, subordinating or preposition          prepositional modifier\n",
            "Andy                 PROPN                NNP                  poss                 Andy                 noun, proper singular                              possession modifier\n",
            "'s                   PART                 POS                  case                 's                   possessive ending                                  case marking\n",
            "heart                NOUN                 NN                   pobj                 heart                noun, singular or mass                             object of preposition\n",
            ",                    PUNCT                ,                    punct                ,                    punctuation mark, comma                            punctuation\n",
            "Woody                ADJ                  JJ                   compound             woody                adjective                                          compound\n",
            "plots                NOUN                 NNS                  ROOT                 plot                 noun, plural                                       None\n",
            "against              ADP                  IN                   prep                 against              conjunction, subordinating or preposition          prepositional modifier\n",
            "Buzz                 PROPN                NNP                  pobj                 Buzz                 noun, proper singular                              object of preposition\n",
            ".                    PUNCT                .                    punct                .                    punctuation mark, sentence closer                  punctuation\n",
            "But                  CCONJ                CC                   cc                   but                  conjunction, coordinating                          coordinating conjunction\n",
            "when                 ADV                  WRB                  advmod               when                 wh-adverb                                          adverbial modifier\n",
            "circumstances        NOUN                 NNS                  nsubj                circumstance         noun, plural                                       nominal subject\n",
            "separate             ADJ                  JJ                   advcl                separate             adjective                                          adverbial clause modifier\n",
            "Buzz                 PROPN                NNP                  dobj                 Buzz                 noun, proper singular                              direct object\n",
            "and                  CCONJ                CC                   cc                   and                  conjunction, coordinating                          coordinating conjunction\n",
            "Woody                PROPN                NNP                  conj                 Woody                noun, proper singular                              conjunct\n",
            "from                 ADP                  IN                   prep                 from                 conjunction, subordinating or preposition          prepositional modifier\n",
            "their                DET                  PRP$                 poss                 -PRON-               pronoun, possessive                                possession modifier\n",
            "owner                NOUN                 NN                   pobj                 owner                noun, singular or mass                             object of preposition\n",
            ",                    PUNCT                ,                    punct                ,                    punctuation mark, comma                            punctuation\n",
            "the                  DET                  DT                   det                  the                  determiner                                         determiner\n",
            "duo                  NOUN                 NN                   nsubj                duo                  noun, singular or mass                             nominal subject\n",
            "eventually           ADV                  RB                   advmod               eventually           adverb                                             adverbial modifier\n",
            "learns               VERB                 VBZ                  ROOT                 learn                verb, 3rd person singular present                  None\n",
            "to                   PART                 TO                   aux                  to                   infinitival \"to\"                                   auxiliary\n",
            "put                  VERB                 VB                   xcomp                put                  verb, base form                                    open clausal complement\n",
            "aside                ADV                  RB                   advmod               aside                adverb                                             adverbial modifier\n",
            "their                DET                  PRP$                 poss                 -PRON-               pronoun, possessive                                possession modifier\n",
            "differences          NOUN                 NNS                  dobj                 difference           noun, plural                                       direct object\n",
            ".                    PUNCT                .                    punct                .                    punctuation mark, sentence closer                  punctuation\n"
          ],
          "name": "stdout"
        }
      ]
    },
    {
      "cell_type": "code",
      "metadata": {
        "id": "uxvoR6RTeGlN",
        "colab": {
          "base_uri": "https://localhost:8080/",
          "height": 34
        },
        "outputId": "64a59897-cb61-48f6-ed53-4ffa8a4fd57b"
      },
      "source": [
        "# number of tokens in the first movie review\n",
        "print (len(document))"
      ],
      "execution_count": null,
      "outputs": [
        {
          "output_type": "stream",
          "text": [
            "59\n"
          ],
          "name": "stdout"
        }
      ]
    },
    {
      "cell_type": "markdown",
      "metadata": {
        "id": "aiQ9ojX-rpuJ"
      },
      "source": [
        "### Visualizing POS\n",
        "\n",
        "\n",
        "Using the library `displacy` we can visualise the `dependency parse` and display the `dependency graphic`"
      ]
    },
    {
      "cell_type": "code",
      "metadata": {
        "id": "jGvII3D30jK7",
        "colab": {
          "base_uri": "https://localhost:8080/",
          "height": 67
        },
        "outputId": "1afc5de1-9b30-42f3-9efb-9262aeec2fc6"
      },
      "source": [
        "movie_first=nlp(movie_first)\n",
        "for sentence in movie_first.sents:\n",
        "  print(sentence)"
      ],
      "execution_count": null,
      "outputs": [
        {
          "output_type": "stream",
          "text": [
            "Led by Woody, Andy's toys live happily in his room until Andy's birthday brings Buzz Lightyear onto the scene.\n",
            "Afraid of losing his place in Andy's heart, Woody plots against Buzz.\n",
            "But when circumstances separate Buzz and Woody from their owner, the duo eventually learns to put aside their differences.\n"
          ],
          "name": "stdout"
        }
      ]
    },
    {
      "cell_type": "markdown",
      "metadata": {
        "id": "2RlXkwib1bB_"
      },
      "source": [
        "> The dependency parse shows the coarse POS tag for each token, as well as the **dependency tag** if given:"
      ]
    },
    {
      "cell_type": "code",
      "metadata": {
        "id": "NJzFlzCUcvXo",
        "colab": {
          "base_uri": "https://localhost:8080/",
          "height": 458
        },
        "outputId": "93569f36-2d5d-4878-f6e4-424bdf29848f"
      },
      "source": [
        "from spacy import displacy\n",
        "displacy.render(movie_first, style='dep', jupyter=True, options={'distance': 70})"
      ],
      "execution_count": null,
      "outputs": [
        {
          "output_type": "display_data",
          "data": {
            "text/html": [
              "<span class=\"tex2jax_ignore\"><svg xmlns=\"http://www.w3.org/2000/svg\" xmlns:xlink=\"http://www.w3.org/1999/xlink\" xml:lang=\"en\" id=\"9f50b0001fb34eb782a0c30165379aea-0\" class=\"displacy\" width=\"3760\" height=\"417.0\" direction=\"ltr\" style=\"max-width: none; height: 417.0px; color: #000000; background: #ffffff; font-family: Arial; direction: ltr\">\n",
              "<text class=\"displacy-token\" fill=\"currentColor\" text-anchor=\"middle\" y=\"327.0\">\n",
              "    <tspan class=\"displacy-word\" fill=\"currentColor\" x=\"50\">Led</tspan>\n",
              "    <tspan class=\"displacy-tag\" dy=\"2em\" fill=\"currentColor\" x=\"50\">VERB</tspan>\n",
              "</text>\n",
              "\n",
              "<text class=\"displacy-token\" fill=\"currentColor\" text-anchor=\"middle\" y=\"327.0\">\n",
              "    <tspan class=\"displacy-word\" fill=\"currentColor\" x=\"120\">by</tspan>\n",
              "    <tspan class=\"displacy-tag\" dy=\"2em\" fill=\"currentColor\" x=\"120\">ADP</tspan>\n",
              "</text>\n",
              "\n",
              "<text class=\"displacy-token\" fill=\"currentColor\" text-anchor=\"middle\" y=\"327.0\">\n",
              "    <tspan class=\"displacy-word\" fill=\"currentColor\" x=\"190\">Woody,</tspan>\n",
              "    <tspan class=\"displacy-tag\" dy=\"2em\" fill=\"currentColor\" x=\"190\">PROPN</tspan>\n",
              "</text>\n",
              "\n",
              "<text class=\"displacy-token\" fill=\"currentColor\" text-anchor=\"middle\" y=\"327.0\">\n",
              "    <tspan class=\"displacy-word\" fill=\"currentColor\" x=\"260\">Andy</tspan>\n",
              "    <tspan class=\"displacy-tag\" dy=\"2em\" fill=\"currentColor\" x=\"260\">PROPN</tspan>\n",
              "</text>\n",
              "\n",
              "<text class=\"displacy-token\" fill=\"currentColor\" text-anchor=\"middle\" y=\"327.0\">\n",
              "    <tspan class=\"displacy-word\" fill=\"currentColor\" x=\"330\">'s</tspan>\n",
              "    <tspan class=\"displacy-tag\" dy=\"2em\" fill=\"currentColor\" x=\"330\">PART</tspan>\n",
              "</text>\n",
              "\n",
              "<text class=\"displacy-token\" fill=\"currentColor\" text-anchor=\"middle\" y=\"327.0\">\n",
              "    <tspan class=\"displacy-word\" fill=\"currentColor\" x=\"400\">toys</tspan>\n",
              "    <tspan class=\"displacy-tag\" dy=\"2em\" fill=\"currentColor\" x=\"400\">NOUN</tspan>\n",
              "</text>\n",
              "\n",
              "<text class=\"displacy-token\" fill=\"currentColor\" text-anchor=\"middle\" y=\"327.0\">\n",
              "    <tspan class=\"displacy-word\" fill=\"currentColor\" x=\"470\">live</tspan>\n",
              "    <tspan class=\"displacy-tag\" dy=\"2em\" fill=\"currentColor\" x=\"470\">VERB</tspan>\n",
              "</text>\n",
              "\n",
              "<text class=\"displacy-token\" fill=\"currentColor\" text-anchor=\"middle\" y=\"327.0\">\n",
              "    <tspan class=\"displacy-word\" fill=\"currentColor\" x=\"540\">happily</tspan>\n",
              "    <tspan class=\"displacy-tag\" dy=\"2em\" fill=\"currentColor\" x=\"540\">ADV</tspan>\n",
              "</text>\n",
              "\n",
              "<text class=\"displacy-token\" fill=\"currentColor\" text-anchor=\"middle\" y=\"327.0\">\n",
              "    <tspan class=\"displacy-word\" fill=\"currentColor\" x=\"610\">in</tspan>\n",
              "    <tspan class=\"displacy-tag\" dy=\"2em\" fill=\"currentColor\" x=\"610\">ADP</tspan>\n",
              "</text>\n",
              "\n",
              "<text class=\"displacy-token\" fill=\"currentColor\" text-anchor=\"middle\" y=\"327.0\">\n",
              "    <tspan class=\"displacy-word\" fill=\"currentColor\" x=\"680\">his</tspan>\n",
              "    <tspan class=\"displacy-tag\" dy=\"2em\" fill=\"currentColor\" x=\"680\">DET</tspan>\n",
              "</text>\n",
              "\n",
              "<text class=\"displacy-token\" fill=\"currentColor\" text-anchor=\"middle\" y=\"327.0\">\n",
              "    <tspan class=\"displacy-word\" fill=\"currentColor\" x=\"750\">room</tspan>\n",
              "    <tspan class=\"displacy-tag\" dy=\"2em\" fill=\"currentColor\" x=\"750\">NOUN</tspan>\n",
              "</text>\n",
              "\n",
              "<text class=\"displacy-token\" fill=\"currentColor\" text-anchor=\"middle\" y=\"327.0\">\n",
              "    <tspan class=\"displacy-word\" fill=\"currentColor\" x=\"820\">until</tspan>\n",
              "    <tspan class=\"displacy-tag\" dy=\"2em\" fill=\"currentColor\" x=\"820\">ADP</tspan>\n",
              "</text>\n",
              "\n",
              "<text class=\"displacy-token\" fill=\"currentColor\" text-anchor=\"middle\" y=\"327.0\">\n",
              "    <tspan class=\"displacy-word\" fill=\"currentColor\" x=\"890\">Andy</tspan>\n",
              "    <tspan class=\"displacy-tag\" dy=\"2em\" fill=\"currentColor\" x=\"890\">PROPN</tspan>\n",
              "</text>\n",
              "\n",
              "<text class=\"displacy-token\" fill=\"currentColor\" text-anchor=\"middle\" y=\"327.0\">\n",
              "    <tspan class=\"displacy-word\" fill=\"currentColor\" x=\"960\">'s</tspan>\n",
              "    <tspan class=\"displacy-tag\" dy=\"2em\" fill=\"currentColor\" x=\"960\">PART</tspan>\n",
              "</text>\n",
              "\n",
              "<text class=\"displacy-token\" fill=\"currentColor\" text-anchor=\"middle\" y=\"327.0\">\n",
              "    <tspan class=\"displacy-word\" fill=\"currentColor\" x=\"1030\">birthday</tspan>\n",
              "    <tspan class=\"displacy-tag\" dy=\"2em\" fill=\"currentColor\" x=\"1030\">NOUN</tspan>\n",
              "</text>\n",
              "\n",
              "<text class=\"displacy-token\" fill=\"currentColor\" text-anchor=\"middle\" y=\"327.0\">\n",
              "    <tspan class=\"displacy-word\" fill=\"currentColor\" x=\"1100\">brings</tspan>\n",
              "    <tspan class=\"displacy-tag\" dy=\"2em\" fill=\"currentColor\" x=\"1100\">VERB</tspan>\n",
              "</text>\n",
              "\n",
              "<text class=\"displacy-token\" fill=\"currentColor\" text-anchor=\"middle\" y=\"327.0\">\n",
              "    <tspan class=\"displacy-word\" fill=\"currentColor\" x=\"1170\">Buzz</tspan>\n",
              "    <tspan class=\"displacy-tag\" dy=\"2em\" fill=\"currentColor\" x=\"1170\">PROPN</tspan>\n",
              "</text>\n",
              "\n",
              "<text class=\"displacy-token\" fill=\"currentColor\" text-anchor=\"middle\" y=\"327.0\">\n",
              "    <tspan class=\"displacy-word\" fill=\"currentColor\" x=\"1240\">Lightyear</tspan>\n",
              "    <tspan class=\"displacy-tag\" dy=\"2em\" fill=\"currentColor\" x=\"1240\">PROPN</tspan>\n",
              "</text>\n",
              "\n",
              "<text class=\"displacy-token\" fill=\"currentColor\" text-anchor=\"middle\" y=\"327.0\">\n",
              "    <tspan class=\"displacy-word\" fill=\"currentColor\" x=\"1310\">onto</tspan>\n",
              "    <tspan class=\"displacy-tag\" dy=\"2em\" fill=\"currentColor\" x=\"1310\">ADP</tspan>\n",
              "</text>\n",
              "\n",
              "<text class=\"displacy-token\" fill=\"currentColor\" text-anchor=\"middle\" y=\"327.0\">\n",
              "    <tspan class=\"displacy-word\" fill=\"currentColor\" x=\"1380\">the</tspan>\n",
              "    <tspan class=\"displacy-tag\" dy=\"2em\" fill=\"currentColor\" x=\"1380\">DET</tspan>\n",
              "</text>\n",
              "\n",
              "<text class=\"displacy-token\" fill=\"currentColor\" text-anchor=\"middle\" y=\"327.0\">\n",
              "    <tspan class=\"displacy-word\" fill=\"currentColor\" x=\"1450\">scene.</tspan>\n",
              "    <tspan class=\"displacy-tag\" dy=\"2em\" fill=\"currentColor\" x=\"1450\">NOUN</tspan>\n",
              "</text>\n",
              "\n",
              "<text class=\"displacy-token\" fill=\"currentColor\" text-anchor=\"middle\" y=\"327.0\">\n",
              "    <tspan class=\"displacy-word\" fill=\"currentColor\" x=\"1520\">Afraid</tspan>\n",
              "    <tspan class=\"displacy-tag\" dy=\"2em\" fill=\"currentColor\" x=\"1520\">ADJ</tspan>\n",
              "</text>\n",
              "\n",
              "<text class=\"displacy-token\" fill=\"currentColor\" text-anchor=\"middle\" y=\"327.0\">\n",
              "    <tspan class=\"displacy-word\" fill=\"currentColor\" x=\"1590\">of</tspan>\n",
              "    <tspan class=\"displacy-tag\" dy=\"2em\" fill=\"currentColor\" x=\"1590\">ADP</tspan>\n",
              "</text>\n",
              "\n",
              "<text class=\"displacy-token\" fill=\"currentColor\" text-anchor=\"middle\" y=\"327.0\">\n",
              "    <tspan class=\"displacy-word\" fill=\"currentColor\" x=\"1660\">losing</tspan>\n",
              "    <tspan class=\"displacy-tag\" dy=\"2em\" fill=\"currentColor\" x=\"1660\">VERB</tspan>\n",
              "</text>\n",
              "\n",
              "<text class=\"displacy-token\" fill=\"currentColor\" text-anchor=\"middle\" y=\"327.0\">\n",
              "    <tspan class=\"displacy-word\" fill=\"currentColor\" x=\"1730\">his</tspan>\n",
              "    <tspan class=\"displacy-tag\" dy=\"2em\" fill=\"currentColor\" x=\"1730\">DET</tspan>\n",
              "</text>\n",
              "\n",
              "<text class=\"displacy-token\" fill=\"currentColor\" text-anchor=\"middle\" y=\"327.0\">\n",
              "    <tspan class=\"displacy-word\" fill=\"currentColor\" x=\"1800\">place</tspan>\n",
              "    <tspan class=\"displacy-tag\" dy=\"2em\" fill=\"currentColor\" x=\"1800\">NOUN</tspan>\n",
              "</text>\n",
              "\n",
              "<text class=\"displacy-token\" fill=\"currentColor\" text-anchor=\"middle\" y=\"327.0\">\n",
              "    <tspan class=\"displacy-word\" fill=\"currentColor\" x=\"1870\">in</tspan>\n",
              "    <tspan class=\"displacy-tag\" dy=\"2em\" fill=\"currentColor\" x=\"1870\">ADP</tspan>\n",
              "</text>\n",
              "\n",
              "<text class=\"displacy-token\" fill=\"currentColor\" text-anchor=\"middle\" y=\"327.0\">\n",
              "    <tspan class=\"displacy-word\" fill=\"currentColor\" x=\"1940\">Andy</tspan>\n",
              "    <tspan class=\"displacy-tag\" dy=\"2em\" fill=\"currentColor\" x=\"1940\">PROPN</tspan>\n",
              "</text>\n",
              "\n",
              "<text class=\"displacy-token\" fill=\"currentColor\" text-anchor=\"middle\" y=\"327.0\">\n",
              "    <tspan class=\"displacy-word\" fill=\"currentColor\" x=\"2010\">'s</tspan>\n",
              "    <tspan class=\"displacy-tag\" dy=\"2em\" fill=\"currentColor\" x=\"2010\">PART</tspan>\n",
              "</text>\n",
              "\n",
              "<text class=\"displacy-token\" fill=\"currentColor\" text-anchor=\"middle\" y=\"327.0\">\n",
              "    <tspan class=\"displacy-word\" fill=\"currentColor\" x=\"2080\">heart,</tspan>\n",
              "    <tspan class=\"displacy-tag\" dy=\"2em\" fill=\"currentColor\" x=\"2080\">NOUN</tspan>\n",
              "</text>\n",
              "\n",
              "<text class=\"displacy-token\" fill=\"currentColor\" text-anchor=\"middle\" y=\"327.0\">\n",
              "    <tspan class=\"displacy-word\" fill=\"currentColor\" x=\"2150\">Woody</tspan>\n",
              "    <tspan class=\"displacy-tag\" dy=\"2em\" fill=\"currentColor\" x=\"2150\">ADJ</tspan>\n",
              "</text>\n",
              "\n",
              "<text class=\"displacy-token\" fill=\"currentColor\" text-anchor=\"middle\" y=\"327.0\">\n",
              "    <tspan class=\"displacy-word\" fill=\"currentColor\" x=\"2220\">plots</tspan>\n",
              "    <tspan class=\"displacy-tag\" dy=\"2em\" fill=\"currentColor\" x=\"2220\">NOUN</tspan>\n",
              "</text>\n",
              "\n",
              "<text class=\"displacy-token\" fill=\"currentColor\" text-anchor=\"middle\" y=\"327.0\">\n",
              "    <tspan class=\"displacy-word\" fill=\"currentColor\" x=\"2290\">against</tspan>\n",
              "    <tspan class=\"displacy-tag\" dy=\"2em\" fill=\"currentColor\" x=\"2290\">ADP</tspan>\n",
              "</text>\n",
              "\n",
              "<text class=\"displacy-token\" fill=\"currentColor\" text-anchor=\"middle\" y=\"327.0\">\n",
              "    <tspan class=\"displacy-word\" fill=\"currentColor\" x=\"2360\">Buzz.</tspan>\n",
              "    <tspan class=\"displacy-tag\" dy=\"2em\" fill=\"currentColor\" x=\"2360\">PROPN</tspan>\n",
              "</text>\n",
              "\n",
              "<text class=\"displacy-token\" fill=\"currentColor\" text-anchor=\"middle\" y=\"327.0\">\n",
              "    <tspan class=\"displacy-word\" fill=\"currentColor\" x=\"2430\">But</tspan>\n",
              "    <tspan class=\"displacy-tag\" dy=\"2em\" fill=\"currentColor\" x=\"2430\">CCONJ</tspan>\n",
              "</text>\n",
              "\n",
              "<text class=\"displacy-token\" fill=\"currentColor\" text-anchor=\"middle\" y=\"327.0\">\n",
              "    <tspan class=\"displacy-word\" fill=\"currentColor\" x=\"2500\">when</tspan>\n",
              "    <tspan class=\"displacy-tag\" dy=\"2em\" fill=\"currentColor\" x=\"2500\">ADV</tspan>\n",
              "</text>\n",
              "\n",
              "<text class=\"displacy-token\" fill=\"currentColor\" text-anchor=\"middle\" y=\"327.0\">\n",
              "    <tspan class=\"displacy-word\" fill=\"currentColor\" x=\"2570\">circumstances</tspan>\n",
              "    <tspan class=\"displacy-tag\" dy=\"2em\" fill=\"currentColor\" x=\"2570\">NOUN</tspan>\n",
              "</text>\n",
              "\n",
              "<text class=\"displacy-token\" fill=\"currentColor\" text-anchor=\"middle\" y=\"327.0\">\n",
              "    <tspan class=\"displacy-word\" fill=\"currentColor\" x=\"2640\">separate</tspan>\n",
              "    <tspan class=\"displacy-tag\" dy=\"2em\" fill=\"currentColor\" x=\"2640\">ADJ</tspan>\n",
              "</text>\n",
              "\n",
              "<text class=\"displacy-token\" fill=\"currentColor\" text-anchor=\"middle\" y=\"327.0\">\n",
              "    <tspan class=\"displacy-word\" fill=\"currentColor\" x=\"2710\">Buzz</tspan>\n",
              "    <tspan class=\"displacy-tag\" dy=\"2em\" fill=\"currentColor\" x=\"2710\">PROPN</tspan>\n",
              "</text>\n",
              "\n",
              "<text class=\"displacy-token\" fill=\"currentColor\" text-anchor=\"middle\" y=\"327.0\">\n",
              "    <tspan class=\"displacy-word\" fill=\"currentColor\" x=\"2780\">and</tspan>\n",
              "    <tspan class=\"displacy-tag\" dy=\"2em\" fill=\"currentColor\" x=\"2780\">CCONJ</tspan>\n",
              "</text>\n",
              "\n",
              "<text class=\"displacy-token\" fill=\"currentColor\" text-anchor=\"middle\" y=\"327.0\">\n",
              "    <tspan class=\"displacy-word\" fill=\"currentColor\" x=\"2850\">Woody</tspan>\n",
              "    <tspan class=\"displacy-tag\" dy=\"2em\" fill=\"currentColor\" x=\"2850\">PROPN</tspan>\n",
              "</text>\n",
              "\n",
              "<text class=\"displacy-token\" fill=\"currentColor\" text-anchor=\"middle\" y=\"327.0\">\n",
              "    <tspan class=\"displacy-word\" fill=\"currentColor\" x=\"2920\">from</tspan>\n",
              "    <tspan class=\"displacy-tag\" dy=\"2em\" fill=\"currentColor\" x=\"2920\">ADP</tspan>\n",
              "</text>\n",
              "\n",
              "<text class=\"displacy-token\" fill=\"currentColor\" text-anchor=\"middle\" y=\"327.0\">\n",
              "    <tspan class=\"displacy-word\" fill=\"currentColor\" x=\"2990\">their</tspan>\n",
              "    <tspan class=\"displacy-tag\" dy=\"2em\" fill=\"currentColor\" x=\"2990\">DET</tspan>\n",
              "</text>\n",
              "\n",
              "<text class=\"displacy-token\" fill=\"currentColor\" text-anchor=\"middle\" y=\"327.0\">\n",
              "    <tspan class=\"displacy-word\" fill=\"currentColor\" x=\"3060\">owner,</tspan>\n",
              "    <tspan class=\"displacy-tag\" dy=\"2em\" fill=\"currentColor\" x=\"3060\">NOUN</tspan>\n",
              "</text>\n",
              "\n",
              "<text class=\"displacy-token\" fill=\"currentColor\" text-anchor=\"middle\" y=\"327.0\">\n",
              "    <tspan class=\"displacy-word\" fill=\"currentColor\" x=\"3130\">the</tspan>\n",
              "    <tspan class=\"displacy-tag\" dy=\"2em\" fill=\"currentColor\" x=\"3130\">DET</tspan>\n",
              "</text>\n",
              "\n",
              "<text class=\"displacy-token\" fill=\"currentColor\" text-anchor=\"middle\" y=\"327.0\">\n",
              "    <tspan class=\"displacy-word\" fill=\"currentColor\" x=\"3200\">duo</tspan>\n",
              "    <tspan class=\"displacy-tag\" dy=\"2em\" fill=\"currentColor\" x=\"3200\">NOUN</tspan>\n",
              "</text>\n",
              "\n",
              "<text class=\"displacy-token\" fill=\"currentColor\" text-anchor=\"middle\" y=\"327.0\">\n",
              "    <tspan class=\"displacy-word\" fill=\"currentColor\" x=\"3270\">eventually</tspan>\n",
              "    <tspan class=\"displacy-tag\" dy=\"2em\" fill=\"currentColor\" x=\"3270\">ADV</tspan>\n",
              "</text>\n",
              "\n",
              "<text class=\"displacy-token\" fill=\"currentColor\" text-anchor=\"middle\" y=\"327.0\">\n",
              "    <tspan class=\"displacy-word\" fill=\"currentColor\" x=\"3340\">learns</tspan>\n",
              "    <tspan class=\"displacy-tag\" dy=\"2em\" fill=\"currentColor\" x=\"3340\">VERB</tspan>\n",
              "</text>\n",
              "\n",
              "<text class=\"displacy-token\" fill=\"currentColor\" text-anchor=\"middle\" y=\"327.0\">\n",
              "    <tspan class=\"displacy-word\" fill=\"currentColor\" x=\"3410\">to</tspan>\n",
              "    <tspan class=\"displacy-tag\" dy=\"2em\" fill=\"currentColor\" x=\"3410\">PART</tspan>\n",
              "</text>\n",
              "\n",
              "<text class=\"displacy-token\" fill=\"currentColor\" text-anchor=\"middle\" y=\"327.0\">\n",
              "    <tspan class=\"displacy-word\" fill=\"currentColor\" x=\"3480\">put</tspan>\n",
              "    <tspan class=\"displacy-tag\" dy=\"2em\" fill=\"currentColor\" x=\"3480\">VERB</tspan>\n",
              "</text>\n",
              "\n",
              "<text class=\"displacy-token\" fill=\"currentColor\" text-anchor=\"middle\" y=\"327.0\">\n",
              "    <tspan class=\"displacy-word\" fill=\"currentColor\" x=\"3550\">aside</tspan>\n",
              "    <tspan class=\"displacy-tag\" dy=\"2em\" fill=\"currentColor\" x=\"3550\">ADV</tspan>\n",
              "</text>\n",
              "\n",
              "<text class=\"displacy-token\" fill=\"currentColor\" text-anchor=\"middle\" y=\"327.0\">\n",
              "    <tspan class=\"displacy-word\" fill=\"currentColor\" x=\"3620\">their</tspan>\n",
              "    <tspan class=\"displacy-tag\" dy=\"2em\" fill=\"currentColor\" x=\"3620\">DET</tspan>\n",
              "</text>\n",
              "\n",
              "<text class=\"displacy-token\" fill=\"currentColor\" text-anchor=\"middle\" y=\"327.0\">\n",
              "    <tspan class=\"displacy-word\" fill=\"currentColor\" x=\"3690\">differences.</tspan>\n",
              "    <tspan class=\"displacy-tag\" dy=\"2em\" fill=\"currentColor\" x=\"3690\">NOUN</tspan>\n",
              "</text>\n",
              "\n",
              "<g class=\"displacy-arrow\">\n",
              "    <path class=\"displacy-arc\" id=\"arrow-9f50b0001fb34eb782a0c30165379aea-0-0\" stroke-width=\"2px\" d=\"M70,282.0 C70,107.0 455.0,107.0 455.0,282.0\" fill=\"none\" stroke=\"currentColor\"/>\n",
              "    <text dy=\"1.25em\" style=\"font-size: 0.8em; letter-spacing: 1px\">\n",
              "        <textPath xlink:href=\"#arrow-9f50b0001fb34eb782a0c30165379aea-0-0\" class=\"displacy-label\" startOffset=\"50%\" side=\"left\" fill=\"currentColor\" text-anchor=\"middle\">advcl</textPath>\n",
              "    </text>\n",
              "    <path class=\"displacy-arrowhead\" d=\"M70,284.0 L62,272.0 78,272.0\" fill=\"currentColor\"/>\n",
              "</g>\n",
              "\n",
              "<g class=\"displacy-arrow\">\n",
              "    <path class=\"displacy-arc\" id=\"arrow-9f50b0001fb34eb782a0c30165379aea-0-1\" stroke-width=\"2px\" d=\"M70,282.0 C70,247.0 85.0,247.0 85.0,282.0\" fill=\"none\" stroke=\"currentColor\"/>\n",
              "    <text dy=\"1.25em\" style=\"font-size: 0.8em; letter-spacing: 1px\">\n",
              "        <textPath xlink:href=\"#arrow-9f50b0001fb34eb782a0c30165379aea-0-1\" class=\"displacy-label\" startOffset=\"50%\" side=\"left\" fill=\"currentColor\" text-anchor=\"middle\">agent</textPath>\n",
              "    </text>\n",
              "    <path class=\"displacy-arrowhead\" d=\"M85.0,284.0 L93.0,272.0 77.0,272.0\" fill=\"currentColor\"/>\n",
              "</g>\n",
              "\n",
              "<g class=\"displacy-arrow\">\n",
              "    <path class=\"displacy-arc\" id=\"arrow-9f50b0001fb34eb782a0c30165379aea-0-2\" stroke-width=\"2px\" d=\"M140,282.0 C140,247.0 155.0,247.0 155.0,282.0\" fill=\"none\" stroke=\"currentColor\"/>\n",
              "    <text dy=\"1.25em\" style=\"font-size: 0.8em; letter-spacing: 1px\">\n",
              "        <textPath xlink:href=\"#arrow-9f50b0001fb34eb782a0c30165379aea-0-2\" class=\"displacy-label\" startOffset=\"50%\" side=\"left\" fill=\"currentColor\" text-anchor=\"middle\">pobj</textPath>\n",
              "    </text>\n",
              "    <path class=\"displacy-arrowhead\" d=\"M155.0,284.0 L163.0,272.0 147.0,272.0\" fill=\"currentColor\"/>\n",
              "</g>\n",
              "\n",
              "<g class=\"displacy-arrow\">\n",
              "    <path class=\"displacy-arc\" id=\"arrow-9f50b0001fb34eb782a0c30165379aea-0-3\" stroke-width=\"2px\" d=\"M280,282.0 C280,212.0 370.0,212.0 370.0,282.0\" fill=\"none\" stroke=\"currentColor\"/>\n",
              "    <text dy=\"1.25em\" style=\"font-size: 0.8em; letter-spacing: 1px\">\n",
              "        <textPath xlink:href=\"#arrow-9f50b0001fb34eb782a0c30165379aea-0-3\" class=\"displacy-label\" startOffset=\"50%\" side=\"left\" fill=\"currentColor\" text-anchor=\"middle\">poss</textPath>\n",
              "    </text>\n",
              "    <path class=\"displacy-arrowhead\" d=\"M280,284.0 L272,272.0 288,272.0\" fill=\"currentColor\"/>\n",
              "</g>\n",
              "\n",
              "<g class=\"displacy-arrow\">\n",
              "    <path class=\"displacy-arc\" id=\"arrow-9f50b0001fb34eb782a0c30165379aea-0-4\" stroke-width=\"2px\" d=\"M280,282.0 C280,247.0 295.0,247.0 295.0,282.0\" fill=\"none\" stroke=\"currentColor\"/>\n",
              "    <text dy=\"1.25em\" style=\"font-size: 0.8em; letter-spacing: 1px\">\n",
              "        <textPath xlink:href=\"#arrow-9f50b0001fb34eb782a0c30165379aea-0-4\" class=\"displacy-label\" startOffset=\"50%\" side=\"left\" fill=\"currentColor\" text-anchor=\"middle\">case</textPath>\n",
              "    </text>\n",
              "    <path class=\"displacy-arrowhead\" d=\"M295.0,284.0 L303.0,272.0 287.0,272.0\" fill=\"currentColor\"/>\n",
              "</g>\n",
              "\n",
              "<g class=\"displacy-arrow\">\n",
              "    <path class=\"displacy-arc\" id=\"arrow-9f50b0001fb34eb782a0c30165379aea-0-5\" stroke-width=\"2px\" d=\"M420,282.0 C420,247.0 435.0,247.0 435.0,282.0\" fill=\"none\" stroke=\"currentColor\"/>\n",
              "    <text dy=\"1.25em\" style=\"font-size: 0.8em; letter-spacing: 1px\">\n",
              "        <textPath xlink:href=\"#arrow-9f50b0001fb34eb782a0c30165379aea-0-5\" class=\"displacy-label\" startOffset=\"50%\" side=\"left\" fill=\"currentColor\" text-anchor=\"middle\">nsubj</textPath>\n",
              "    </text>\n",
              "    <path class=\"displacy-arrowhead\" d=\"M420,284.0 L412,272.0 428,272.0\" fill=\"currentColor\"/>\n",
              "</g>\n",
              "\n",
              "<g class=\"displacy-arrow\">\n",
              "    <path class=\"displacy-arc\" id=\"arrow-9f50b0001fb34eb782a0c30165379aea-0-6\" stroke-width=\"2px\" d=\"M490,282.0 C490,247.0 505.0,247.0 505.0,282.0\" fill=\"none\" stroke=\"currentColor\"/>\n",
              "    <text dy=\"1.25em\" style=\"font-size: 0.8em; letter-spacing: 1px\">\n",
              "        <textPath xlink:href=\"#arrow-9f50b0001fb34eb782a0c30165379aea-0-6\" class=\"displacy-label\" startOffset=\"50%\" side=\"left\" fill=\"currentColor\" text-anchor=\"middle\">advmod</textPath>\n",
              "    </text>\n",
              "    <path class=\"displacy-arrowhead\" d=\"M505.0,284.0 L513.0,272.0 497.0,272.0\" fill=\"currentColor\"/>\n",
              "</g>\n",
              "\n",
              "<g class=\"displacy-arrow\">\n",
              "    <path class=\"displacy-arc\" id=\"arrow-9f50b0001fb34eb782a0c30165379aea-0-7\" stroke-width=\"2px\" d=\"M490,282.0 C490,212.0 580.0,212.0 580.0,282.0\" fill=\"none\" stroke=\"currentColor\"/>\n",
              "    <text dy=\"1.25em\" style=\"font-size: 0.8em; letter-spacing: 1px\">\n",
              "        <textPath xlink:href=\"#arrow-9f50b0001fb34eb782a0c30165379aea-0-7\" class=\"displacy-label\" startOffset=\"50%\" side=\"left\" fill=\"currentColor\" text-anchor=\"middle\">prep</textPath>\n",
              "    </text>\n",
              "    <path class=\"displacy-arrowhead\" d=\"M580.0,284.0 L588.0,272.0 572.0,272.0\" fill=\"currentColor\"/>\n",
              "</g>\n",
              "\n",
              "<g class=\"displacy-arrow\">\n",
              "    <path class=\"displacy-arc\" id=\"arrow-9f50b0001fb34eb782a0c30165379aea-0-8\" stroke-width=\"2px\" d=\"M700,282.0 C700,247.0 715.0,247.0 715.0,282.0\" fill=\"none\" stroke=\"currentColor\"/>\n",
              "    <text dy=\"1.25em\" style=\"font-size: 0.8em; letter-spacing: 1px\">\n",
              "        <textPath xlink:href=\"#arrow-9f50b0001fb34eb782a0c30165379aea-0-8\" class=\"displacy-label\" startOffset=\"50%\" side=\"left\" fill=\"currentColor\" text-anchor=\"middle\">poss</textPath>\n",
              "    </text>\n",
              "    <path class=\"displacy-arrowhead\" d=\"M700,284.0 L692,272.0 708,272.0\" fill=\"currentColor\"/>\n",
              "</g>\n",
              "\n",
              "<g class=\"displacy-arrow\">\n",
              "    <path class=\"displacy-arc\" id=\"arrow-9f50b0001fb34eb782a0c30165379aea-0-9\" stroke-width=\"2px\" d=\"M630,282.0 C630,212.0 720.0,212.0 720.0,282.0\" fill=\"none\" stroke=\"currentColor\"/>\n",
              "    <text dy=\"1.25em\" style=\"font-size: 0.8em; letter-spacing: 1px\">\n",
              "        <textPath xlink:href=\"#arrow-9f50b0001fb34eb782a0c30165379aea-0-9\" class=\"displacy-label\" startOffset=\"50%\" side=\"left\" fill=\"currentColor\" text-anchor=\"middle\">pobj</textPath>\n",
              "    </text>\n",
              "    <path class=\"displacy-arrowhead\" d=\"M720.0,284.0 L728.0,272.0 712.0,272.0\" fill=\"currentColor\"/>\n",
              "</g>\n",
              "\n",
              "<g class=\"displacy-arrow\">\n",
              "    <path class=\"displacy-arc\" id=\"arrow-9f50b0001fb34eb782a0c30165379aea-0-10\" stroke-width=\"2px\" d=\"M840,282.0 C840,142.0 1080.0,142.0 1080.0,282.0\" fill=\"none\" stroke=\"currentColor\"/>\n",
              "    <text dy=\"1.25em\" style=\"font-size: 0.8em; letter-spacing: 1px\">\n",
              "        <textPath xlink:href=\"#arrow-9f50b0001fb34eb782a0c30165379aea-0-10\" class=\"displacy-label\" startOffset=\"50%\" side=\"left\" fill=\"currentColor\" text-anchor=\"middle\">mark</textPath>\n",
              "    </text>\n",
              "    <path class=\"displacy-arrowhead\" d=\"M840,284.0 L832,272.0 848,272.0\" fill=\"currentColor\"/>\n",
              "</g>\n",
              "\n",
              "<g class=\"displacy-arrow\">\n",
              "    <path class=\"displacy-arc\" id=\"arrow-9f50b0001fb34eb782a0c30165379aea-0-11\" stroke-width=\"2px\" d=\"M910,282.0 C910,212.0 1000.0,212.0 1000.0,282.0\" fill=\"none\" stroke=\"currentColor\"/>\n",
              "    <text dy=\"1.25em\" style=\"font-size: 0.8em; letter-spacing: 1px\">\n",
              "        <textPath xlink:href=\"#arrow-9f50b0001fb34eb782a0c30165379aea-0-11\" class=\"displacy-label\" startOffset=\"50%\" side=\"left\" fill=\"currentColor\" text-anchor=\"middle\">poss</textPath>\n",
              "    </text>\n",
              "    <path class=\"displacy-arrowhead\" d=\"M910,284.0 L902,272.0 918,272.0\" fill=\"currentColor\"/>\n",
              "</g>\n",
              "\n",
              "<g class=\"displacy-arrow\">\n",
              "    <path class=\"displacy-arc\" id=\"arrow-9f50b0001fb34eb782a0c30165379aea-0-12\" stroke-width=\"2px\" d=\"M910,282.0 C910,247.0 925.0,247.0 925.0,282.0\" fill=\"none\" stroke=\"currentColor\"/>\n",
              "    <text dy=\"1.25em\" style=\"font-size: 0.8em; letter-spacing: 1px\">\n",
              "        <textPath xlink:href=\"#arrow-9f50b0001fb34eb782a0c30165379aea-0-12\" class=\"displacy-label\" startOffset=\"50%\" side=\"left\" fill=\"currentColor\" text-anchor=\"middle\">case</textPath>\n",
              "    </text>\n",
              "    <path class=\"displacy-arrowhead\" d=\"M925.0,284.0 L933.0,272.0 917.0,272.0\" fill=\"currentColor\"/>\n",
              "</g>\n",
              "\n",
              "<g class=\"displacy-arrow\">\n",
              "    <path class=\"displacy-arc\" id=\"arrow-9f50b0001fb34eb782a0c30165379aea-0-13\" stroke-width=\"2px\" d=\"M1050,282.0 C1050,247.0 1065.0,247.0 1065.0,282.0\" fill=\"none\" stroke=\"currentColor\"/>\n",
              "    <text dy=\"1.25em\" style=\"font-size: 0.8em; letter-spacing: 1px\">\n",
              "        <textPath xlink:href=\"#arrow-9f50b0001fb34eb782a0c30165379aea-0-13\" class=\"displacy-label\" startOffset=\"50%\" side=\"left\" fill=\"currentColor\" text-anchor=\"middle\">nsubj</textPath>\n",
              "    </text>\n",
              "    <path class=\"displacy-arrowhead\" d=\"M1050,284.0 L1042,272.0 1058,272.0\" fill=\"currentColor\"/>\n",
              "</g>\n",
              "\n",
              "<g class=\"displacy-arrow\">\n",
              "    <path class=\"displacy-arc\" id=\"arrow-9f50b0001fb34eb782a0c30165379aea-0-14\" stroke-width=\"2px\" d=\"M490,282.0 C490,72.0 1090.0,72.0 1090.0,282.0\" fill=\"none\" stroke=\"currentColor\"/>\n",
              "    <text dy=\"1.25em\" style=\"font-size: 0.8em; letter-spacing: 1px\">\n",
              "        <textPath xlink:href=\"#arrow-9f50b0001fb34eb782a0c30165379aea-0-14\" class=\"displacy-label\" startOffset=\"50%\" side=\"left\" fill=\"currentColor\" text-anchor=\"middle\">advcl</textPath>\n",
              "    </text>\n",
              "    <path class=\"displacy-arrowhead\" d=\"M1090.0,284.0 L1098.0,272.0 1082.0,272.0\" fill=\"currentColor\"/>\n",
              "</g>\n",
              "\n",
              "<g class=\"displacy-arrow\">\n",
              "    <path class=\"displacy-arc\" id=\"arrow-9f50b0001fb34eb782a0c30165379aea-0-15\" stroke-width=\"2px\" d=\"M1190,282.0 C1190,247.0 1205.0,247.0 1205.0,282.0\" fill=\"none\" stroke=\"currentColor\"/>\n",
              "    <text dy=\"1.25em\" style=\"font-size: 0.8em; letter-spacing: 1px\">\n",
              "        <textPath xlink:href=\"#arrow-9f50b0001fb34eb782a0c30165379aea-0-15\" class=\"displacy-label\" startOffset=\"50%\" side=\"left\" fill=\"currentColor\" text-anchor=\"middle\">compound</textPath>\n",
              "    </text>\n",
              "    <path class=\"displacy-arrowhead\" d=\"M1190,284.0 L1182,272.0 1198,272.0\" fill=\"currentColor\"/>\n",
              "</g>\n",
              "\n",
              "<g class=\"displacy-arrow\">\n",
              "    <path class=\"displacy-arc\" id=\"arrow-9f50b0001fb34eb782a0c30165379aea-0-16\" stroke-width=\"2px\" d=\"M1120,282.0 C1120,212.0 1210.0,212.0 1210.0,282.0\" fill=\"none\" stroke=\"currentColor\"/>\n",
              "    <text dy=\"1.25em\" style=\"font-size: 0.8em; letter-spacing: 1px\">\n",
              "        <textPath xlink:href=\"#arrow-9f50b0001fb34eb782a0c30165379aea-0-16\" class=\"displacy-label\" startOffset=\"50%\" side=\"left\" fill=\"currentColor\" text-anchor=\"middle\">dobj</textPath>\n",
              "    </text>\n",
              "    <path class=\"displacy-arrowhead\" d=\"M1210.0,284.0 L1218.0,272.0 1202.0,272.0\" fill=\"currentColor\"/>\n",
              "</g>\n",
              "\n",
              "<g class=\"displacy-arrow\">\n",
              "    <path class=\"displacy-arc\" id=\"arrow-9f50b0001fb34eb782a0c30165379aea-0-17\" stroke-width=\"2px\" d=\"M1120,282.0 C1120,177.0 1285.0,177.0 1285.0,282.0\" fill=\"none\" stroke=\"currentColor\"/>\n",
              "    <text dy=\"1.25em\" style=\"font-size: 0.8em; letter-spacing: 1px\">\n",
              "        <textPath xlink:href=\"#arrow-9f50b0001fb34eb782a0c30165379aea-0-17\" class=\"displacy-label\" startOffset=\"50%\" side=\"left\" fill=\"currentColor\" text-anchor=\"middle\">prep</textPath>\n",
              "    </text>\n",
              "    <path class=\"displacy-arrowhead\" d=\"M1285.0,284.0 L1293.0,272.0 1277.0,272.0\" fill=\"currentColor\"/>\n",
              "</g>\n",
              "\n",
              "<g class=\"displacy-arrow\">\n",
              "    <path class=\"displacy-arc\" id=\"arrow-9f50b0001fb34eb782a0c30165379aea-0-18\" stroke-width=\"2px\" d=\"M1400,282.0 C1400,247.0 1415.0,247.0 1415.0,282.0\" fill=\"none\" stroke=\"currentColor\"/>\n",
              "    <text dy=\"1.25em\" style=\"font-size: 0.8em; letter-spacing: 1px\">\n",
              "        <textPath xlink:href=\"#arrow-9f50b0001fb34eb782a0c30165379aea-0-18\" class=\"displacy-label\" startOffset=\"50%\" side=\"left\" fill=\"currentColor\" text-anchor=\"middle\">det</textPath>\n",
              "    </text>\n",
              "    <path class=\"displacy-arrowhead\" d=\"M1400,284.0 L1392,272.0 1408,272.0\" fill=\"currentColor\"/>\n",
              "</g>\n",
              "\n",
              "<g class=\"displacy-arrow\">\n",
              "    <path class=\"displacy-arc\" id=\"arrow-9f50b0001fb34eb782a0c30165379aea-0-19\" stroke-width=\"2px\" d=\"M1330,282.0 C1330,212.0 1420.0,212.0 1420.0,282.0\" fill=\"none\" stroke=\"currentColor\"/>\n",
              "    <text dy=\"1.25em\" style=\"font-size: 0.8em; letter-spacing: 1px\">\n",
              "        <textPath xlink:href=\"#arrow-9f50b0001fb34eb782a0c30165379aea-0-19\" class=\"displacy-label\" startOffset=\"50%\" side=\"left\" fill=\"currentColor\" text-anchor=\"middle\">pobj</textPath>\n",
              "    </text>\n",
              "    <path class=\"displacy-arrowhead\" d=\"M1420.0,284.0 L1428.0,272.0 1412.0,272.0\" fill=\"currentColor\"/>\n",
              "</g>\n",
              "\n",
              "<g class=\"displacy-arrow\">\n",
              "    <path class=\"displacy-arc\" id=\"arrow-9f50b0001fb34eb782a0c30165379aea-0-20\" stroke-width=\"2px\" d=\"M1540,282.0 C1540,37.0 2215.0,37.0 2215.0,282.0\" fill=\"none\" stroke=\"currentColor\"/>\n",
              "    <text dy=\"1.25em\" style=\"font-size: 0.8em; letter-spacing: 1px\">\n",
              "        <textPath xlink:href=\"#arrow-9f50b0001fb34eb782a0c30165379aea-0-20\" class=\"displacy-label\" startOffset=\"50%\" side=\"left\" fill=\"currentColor\" text-anchor=\"middle\">advmod</textPath>\n",
              "    </text>\n",
              "    <path class=\"displacy-arrowhead\" d=\"M1540,284.0 L1532,272.0 1548,272.0\" fill=\"currentColor\"/>\n",
              "</g>\n",
              "\n",
              "<g class=\"displacy-arrow\">\n",
              "    <path class=\"displacy-arc\" id=\"arrow-9f50b0001fb34eb782a0c30165379aea-0-21\" stroke-width=\"2px\" d=\"M1540,282.0 C1540,247.0 1555.0,247.0 1555.0,282.0\" fill=\"none\" stroke=\"currentColor\"/>\n",
              "    <text dy=\"1.25em\" style=\"font-size: 0.8em; letter-spacing: 1px\">\n",
              "        <textPath xlink:href=\"#arrow-9f50b0001fb34eb782a0c30165379aea-0-21\" class=\"displacy-label\" startOffset=\"50%\" side=\"left\" fill=\"currentColor\" text-anchor=\"middle\">prep</textPath>\n",
              "    </text>\n",
              "    <path class=\"displacy-arrowhead\" d=\"M1555.0,284.0 L1563.0,272.0 1547.0,272.0\" fill=\"currentColor\"/>\n",
              "</g>\n",
              "\n",
              "<g class=\"displacy-arrow\">\n",
              "    <path class=\"displacy-arc\" id=\"arrow-9f50b0001fb34eb782a0c30165379aea-0-22\" stroke-width=\"2px\" d=\"M1610,282.0 C1610,247.0 1625.0,247.0 1625.0,282.0\" fill=\"none\" stroke=\"currentColor\"/>\n",
              "    <text dy=\"1.25em\" style=\"font-size: 0.8em; letter-spacing: 1px\">\n",
              "        <textPath xlink:href=\"#arrow-9f50b0001fb34eb782a0c30165379aea-0-22\" class=\"displacy-label\" startOffset=\"50%\" side=\"left\" fill=\"currentColor\" text-anchor=\"middle\">pcomp</textPath>\n",
              "    </text>\n",
              "    <path class=\"displacy-arrowhead\" d=\"M1625.0,284.0 L1633.0,272.0 1617.0,272.0\" fill=\"currentColor\"/>\n",
              "</g>\n",
              "\n",
              "<g class=\"displacy-arrow\">\n",
              "    <path class=\"displacy-arc\" id=\"arrow-9f50b0001fb34eb782a0c30165379aea-0-23\" stroke-width=\"2px\" d=\"M1750,282.0 C1750,247.0 1765.0,247.0 1765.0,282.0\" fill=\"none\" stroke=\"currentColor\"/>\n",
              "    <text dy=\"1.25em\" style=\"font-size: 0.8em; letter-spacing: 1px\">\n",
              "        <textPath xlink:href=\"#arrow-9f50b0001fb34eb782a0c30165379aea-0-23\" class=\"displacy-label\" startOffset=\"50%\" side=\"left\" fill=\"currentColor\" text-anchor=\"middle\">poss</textPath>\n",
              "    </text>\n",
              "    <path class=\"displacy-arrowhead\" d=\"M1750,284.0 L1742,272.0 1758,272.0\" fill=\"currentColor\"/>\n",
              "</g>\n",
              "\n",
              "<g class=\"displacy-arrow\">\n",
              "    <path class=\"displacy-arc\" id=\"arrow-9f50b0001fb34eb782a0c30165379aea-0-24\" stroke-width=\"2px\" d=\"M1680,282.0 C1680,212.0 1770.0,212.0 1770.0,282.0\" fill=\"none\" stroke=\"currentColor\"/>\n",
              "    <text dy=\"1.25em\" style=\"font-size: 0.8em; letter-spacing: 1px\">\n",
              "        <textPath xlink:href=\"#arrow-9f50b0001fb34eb782a0c30165379aea-0-24\" class=\"displacy-label\" startOffset=\"50%\" side=\"left\" fill=\"currentColor\" text-anchor=\"middle\">dobj</textPath>\n",
              "    </text>\n",
              "    <path class=\"displacy-arrowhead\" d=\"M1770.0,284.0 L1778.0,272.0 1762.0,272.0\" fill=\"currentColor\"/>\n",
              "</g>\n",
              "\n",
              "<g class=\"displacy-arrow\">\n",
              "    <path class=\"displacy-arc\" id=\"arrow-9f50b0001fb34eb782a0c30165379aea-0-25\" stroke-width=\"2px\" d=\"M1820,282.0 C1820,247.0 1835.0,247.0 1835.0,282.0\" fill=\"none\" stroke=\"currentColor\"/>\n",
              "    <text dy=\"1.25em\" style=\"font-size: 0.8em; letter-spacing: 1px\">\n",
              "        <textPath xlink:href=\"#arrow-9f50b0001fb34eb782a0c30165379aea-0-25\" class=\"displacy-label\" startOffset=\"50%\" side=\"left\" fill=\"currentColor\" text-anchor=\"middle\">prep</textPath>\n",
              "    </text>\n",
              "    <path class=\"displacy-arrowhead\" d=\"M1835.0,284.0 L1843.0,272.0 1827.0,272.0\" fill=\"currentColor\"/>\n",
              "</g>\n",
              "\n",
              "<g class=\"displacy-arrow\">\n",
              "    <path class=\"displacy-arc\" id=\"arrow-9f50b0001fb34eb782a0c30165379aea-0-26\" stroke-width=\"2px\" d=\"M1960,282.0 C1960,212.0 2050.0,212.0 2050.0,282.0\" fill=\"none\" stroke=\"currentColor\"/>\n",
              "    <text dy=\"1.25em\" style=\"font-size: 0.8em; letter-spacing: 1px\">\n",
              "        <textPath xlink:href=\"#arrow-9f50b0001fb34eb782a0c30165379aea-0-26\" class=\"displacy-label\" startOffset=\"50%\" side=\"left\" fill=\"currentColor\" text-anchor=\"middle\">poss</textPath>\n",
              "    </text>\n",
              "    <path class=\"displacy-arrowhead\" d=\"M1960,284.0 L1952,272.0 1968,272.0\" fill=\"currentColor\"/>\n",
              "</g>\n",
              "\n",
              "<g class=\"displacy-arrow\">\n",
              "    <path class=\"displacy-arc\" id=\"arrow-9f50b0001fb34eb782a0c30165379aea-0-27\" stroke-width=\"2px\" d=\"M1960,282.0 C1960,247.0 1975.0,247.0 1975.0,282.0\" fill=\"none\" stroke=\"currentColor\"/>\n",
              "    <text dy=\"1.25em\" style=\"font-size: 0.8em; letter-spacing: 1px\">\n",
              "        <textPath xlink:href=\"#arrow-9f50b0001fb34eb782a0c30165379aea-0-27\" class=\"displacy-label\" startOffset=\"50%\" side=\"left\" fill=\"currentColor\" text-anchor=\"middle\">case</textPath>\n",
              "    </text>\n",
              "    <path class=\"displacy-arrowhead\" d=\"M1975.0,284.0 L1983.0,272.0 1967.0,272.0\" fill=\"currentColor\"/>\n",
              "</g>\n",
              "\n",
              "<g class=\"displacy-arrow\">\n",
              "    <path class=\"displacy-arc\" id=\"arrow-9f50b0001fb34eb782a0c30165379aea-0-28\" stroke-width=\"2px\" d=\"M1890,282.0 C1890,177.0 2055.0,177.0 2055.0,282.0\" fill=\"none\" stroke=\"currentColor\"/>\n",
              "    <text dy=\"1.25em\" style=\"font-size: 0.8em; letter-spacing: 1px\">\n",
              "        <textPath xlink:href=\"#arrow-9f50b0001fb34eb782a0c30165379aea-0-28\" class=\"displacy-label\" startOffset=\"50%\" side=\"left\" fill=\"currentColor\" text-anchor=\"middle\">pobj</textPath>\n",
              "    </text>\n",
              "    <path class=\"displacy-arrowhead\" d=\"M2055.0,284.0 L2063.0,272.0 2047.0,272.0\" fill=\"currentColor\"/>\n",
              "</g>\n",
              "\n",
              "<g class=\"displacy-arrow\">\n",
              "    <path class=\"displacy-arc\" id=\"arrow-9f50b0001fb34eb782a0c30165379aea-0-29\" stroke-width=\"2px\" d=\"M2170,282.0 C2170,247.0 2185.0,247.0 2185.0,282.0\" fill=\"none\" stroke=\"currentColor\"/>\n",
              "    <text dy=\"1.25em\" style=\"font-size: 0.8em; letter-spacing: 1px\">\n",
              "        <textPath xlink:href=\"#arrow-9f50b0001fb34eb782a0c30165379aea-0-29\" class=\"displacy-label\" startOffset=\"50%\" side=\"left\" fill=\"currentColor\" text-anchor=\"middle\">compound</textPath>\n",
              "    </text>\n",
              "    <path class=\"displacy-arrowhead\" d=\"M2170,284.0 L2162,272.0 2178,272.0\" fill=\"currentColor\"/>\n",
              "</g>\n",
              "\n",
              "<g class=\"displacy-arrow\">\n",
              "    <path class=\"displacy-arc\" id=\"arrow-9f50b0001fb34eb782a0c30165379aea-0-30\" stroke-width=\"2px\" d=\"M2240,282.0 C2240,247.0 2255.0,247.0 2255.0,282.0\" fill=\"none\" stroke=\"currentColor\"/>\n",
              "    <text dy=\"1.25em\" style=\"font-size: 0.8em; letter-spacing: 1px\">\n",
              "        <textPath xlink:href=\"#arrow-9f50b0001fb34eb782a0c30165379aea-0-30\" class=\"displacy-label\" startOffset=\"50%\" side=\"left\" fill=\"currentColor\" text-anchor=\"middle\">prep</textPath>\n",
              "    </text>\n",
              "    <path class=\"displacy-arrowhead\" d=\"M2255.0,284.0 L2263.0,272.0 2247.0,272.0\" fill=\"currentColor\"/>\n",
              "</g>\n",
              "\n",
              "<g class=\"displacy-arrow\">\n",
              "    <path class=\"displacy-arc\" id=\"arrow-9f50b0001fb34eb782a0c30165379aea-0-31\" stroke-width=\"2px\" d=\"M2310,282.0 C2310,247.0 2325.0,247.0 2325.0,282.0\" fill=\"none\" stroke=\"currentColor\"/>\n",
              "    <text dy=\"1.25em\" style=\"font-size: 0.8em; letter-spacing: 1px\">\n",
              "        <textPath xlink:href=\"#arrow-9f50b0001fb34eb782a0c30165379aea-0-31\" class=\"displacy-label\" startOffset=\"50%\" side=\"left\" fill=\"currentColor\" text-anchor=\"middle\">pobj</textPath>\n",
              "    </text>\n",
              "    <path class=\"displacy-arrowhead\" d=\"M2325.0,284.0 L2333.0,272.0 2317.0,272.0\" fill=\"currentColor\"/>\n",
              "</g>\n",
              "\n",
              "<g class=\"displacy-arrow\">\n",
              "    <path class=\"displacy-arc\" id=\"arrow-9f50b0001fb34eb782a0c30165379aea-0-32\" stroke-width=\"2px\" d=\"M2450,282.0 C2450,2.0 3340.0,2.0 3340.0,282.0\" fill=\"none\" stroke=\"currentColor\"/>\n",
              "    <text dy=\"1.25em\" style=\"font-size: 0.8em; letter-spacing: 1px\">\n",
              "        <textPath xlink:href=\"#arrow-9f50b0001fb34eb782a0c30165379aea-0-32\" class=\"displacy-label\" startOffset=\"50%\" side=\"left\" fill=\"currentColor\" text-anchor=\"middle\">cc</textPath>\n",
              "    </text>\n",
              "    <path class=\"displacy-arrowhead\" d=\"M2450,284.0 L2442,272.0 2458,272.0\" fill=\"currentColor\"/>\n",
              "</g>\n",
              "\n",
              "<g class=\"displacy-arrow\">\n",
              "    <path class=\"displacy-arc\" id=\"arrow-9f50b0001fb34eb782a0c30165379aea-0-33\" stroke-width=\"2px\" d=\"M2520,282.0 C2520,212.0 2610.0,212.0 2610.0,282.0\" fill=\"none\" stroke=\"currentColor\"/>\n",
              "    <text dy=\"1.25em\" style=\"font-size: 0.8em; letter-spacing: 1px\">\n",
              "        <textPath xlink:href=\"#arrow-9f50b0001fb34eb782a0c30165379aea-0-33\" class=\"displacy-label\" startOffset=\"50%\" side=\"left\" fill=\"currentColor\" text-anchor=\"middle\">advmod</textPath>\n",
              "    </text>\n",
              "    <path class=\"displacy-arrowhead\" d=\"M2520,284.0 L2512,272.0 2528,272.0\" fill=\"currentColor\"/>\n",
              "</g>\n",
              "\n",
              "<g class=\"displacy-arrow\">\n",
              "    <path class=\"displacy-arc\" id=\"arrow-9f50b0001fb34eb782a0c30165379aea-0-34\" stroke-width=\"2px\" d=\"M2590,282.0 C2590,247.0 2605.0,247.0 2605.0,282.0\" fill=\"none\" stroke=\"currentColor\"/>\n",
              "    <text dy=\"1.25em\" style=\"font-size: 0.8em; letter-spacing: 1px\">\n",
              "        <textPath xlink:href=\"#arrow-9f50b0001fb34eb782a0c30165379aea-0-34\" class=\"displacy-label\" startOffset=\"50%\" side=\"left\" fill=\"currentColor\" text-anchor=\"middle\">nsubj</textPath>\n",
              "    </text>\n",
              "    <path class=\"displacy-arrowhead\" d=\"M2590,284.0 L2582,272.0 2598,272.0\" fill=\"currentColor\"/>\n",
              "</g>\n",
              "\n",
              "<g class=\"displacy-arrow\">\n",
              "    <path class=\"displacy-arc\" id=\"arrow-9f50b0001fb34eb782a0c30165379aea-0-35\" stroke-width=\"2px\" d=\"M2660,282.0 C2660,37.0 3335.0,37.0 3335.0,282.0\" fill=\"none\" stroke=\"currentColor\"/>\n",
              "    <text dy=\"1.25em\" style=\"font-size: 0.8em; letter-spacing: 1px\">\n",
              "        <textPath xlink:href=\"#arrow-9f50b0001fb34eb782a0c30165379aea-0-35\" class=\"displacy-label\" startOffset=\"50%\" side=\"left\" fill=\"currentColor\" text-anchor=\"middle\">advcl</textPath>\n",
              "    </text>\n",
              "    <path class=\"displacy-arrowhead\" d=\"M2660,284.0 L2652,272.0 2668,272.0\" fill=\"currentColor\"/>\n",
              "</g>\n",
              "\n",
              "<g class=\"displacy-arrow\">\n",
              "    <path class=\"displacy-arc\" id=\"arrow-9f50b0001fb34eb782a0c30165379aea-0-36\" stroke-width=\"2px\" d=\"M2660,282.0 C2660,247.0 2675.0,247.0 2675.0,282.0\" fill=\"none\" stroke=\"currentColor\"/>\n",
              "    <text dy=\"1.25em\" style=\"font-size: 0.8em; letter-spacing: 1px\">\n",
              "        <textPath xlink:href=\"#arrow-9f50b0001fb34eb782a0c30165379aea-0-36\" class=\"displacy-label\" startOffset=\"50%\" side=\"left\" fill=\"currentColor\" text-anchor=\"middle\">dobj</textPath>\n",
              "    </text>\n",
              "    <path class=\"displacy-arrowhead\" d=\"M2675.0,284.0 L2683.0,272.0 2667.0,272.0\" fill=\"currentColor\"/>\n",
              "</g>\n",
              "\n",
              "<g class=\"displacy-arrow\">\n",
              "    <path class=\"displacy-arc\" id=\"arrow-9f50b0001fb34eb782a0c30165379aea-0-37\" stroke-width=\"2px\" d=\"M2730,282.0 C2730,247.0 2745.0,247.0 2745.0,282.0\" fill=\"none\" stroke=\"currentColor\"/>\n",
              "    <text dy=\"1.25em\" style=\"font-size: 0.8em; letter-spacing: 1px\">\n",
              "        <textPath xlink:href=\"#arrow-9f50b0001fb34eb782a0c30165379aea-0-37\" class=\"displacy-label\" startOffset=\"50%\" side=\"left\" fill=\"currentColor\" text-anchor=\"middle\">cc</textPath>\n",
              "    </text>\n",
              "    <path class=\"displacy-arrowhead\" d=\"M2745.0,284.0 L2753.0,272.0 2737.0,272.0\" fill=\"currentColor\"/>\n",
              "</g>\n",
              "\n",
              "<g class=\"displacy-arrow\">\n",
              "    <path class=\"displacy-arc\" id=\"arrow-9f50b0001fb34eb782a0c30165379aea-0-38\" stroke-width=\"2px\" d=\"M2730,282.0 C2730,212.0 2820.0,212.0 2820.0,282.0\" fill=\"none\" stroke=\"currentColor\"/>\n",
              "    <text dy=\"1.25em\" style=\"font-size: 0.8em; letter-spacing: 1px\">\n",
              "        <textPath xlink:href=\"#arrow-9f50b0001fb34eb782a0c30165379aea-0-38\" class=\"displacy-label\" startOffset=\"50%\" side=\"left\" fill=\"currentColor\" text-anchor=\"middle\">conj</textPath>\n",
              "    </text>\n",
              "    <path class=\"displacy-arrowhead\" d=\"M2820.0,284.0 L2828.0,272.0 2812.0,272.0\" fill=\"currentColor\"/>\n",
              "</g>\n",
              "\n",
              "<g class=\"displacy-arrow\">\n",
              "    <path class=\"displacy-arc\" id=\"arrow-9f50b0001fb34eb782a0c30165379aea-0-39\" stroke-width=\"2px\" d=\"M2660,282.0 C2660,142.0 2900.0,142.0 2900.0,282.0\" fill=\"none\" stroke=\"currentColor\"/>\n",
              "    <text dy=\"1.25em\" style=\"font-size: 0.8em; letter-spacing: 1px\">\n",
              "        <textPath xlink:href=\"#arrow-9f50b0001fb34eb782a0c30165379aea-0-39\" class=\"displacy-label\" startOffset=\"50%\" side=\"left\" fill=\"currentColor\" text-anchor=\"middle\">prep</textPath>\n",
              "    </text>\n",
              "    <path class=\"displacy-arrowhead\" d=\"M2900.0,284.0 L2908.0,272.0 2892.0,272.0\" fill=\"currentColor\"/>\n",
              "</g>\n",
              "\n",
              "<g class=\"displacy-arrow\">\n",
              "    <path class=\"displacy-arc\" id=\"arrow-9f50b0001fb34eb782a0c30165379aea-0-40\" stroke-width=\"2px\" d=\"M3010,282.0 C3010,247.0 3025.0,247.0 3025.0,282.0\" fill=\"none\" stroke=\"currentColor\"/>\n",
              "    <text dy=\"1.25em\" style=\"font-size: 0.8em; letter-spacing: 1px\">\n",
              "        <textPath xlink:href=\"#arrow-9f50b0001fb34eb782a0c30165379aea-0-40\" class=\"displacy-label\" startOffset=\"50%\" side=\"left\" fill=\"currentColor\" text-anchor=\"middle\">poss</textPath>\n",
              "    </text>\n",
              "    <path class=\"displacy-arrowhead\" d=\"M3010,284.0 L3002,272.0 3018,272.0\" fill=\"currentColor\"/>\n",
              "</g>\n",
              "\n",
              "<g class=\"displacy-arrow\">\n",
              "    <path class=\"displacy-arc\" id=\"arrow-9f50b0001fb34eb782a0c30165379aea-0-41\" stroke-width=\"2px\" d=\"M2940,282.0 C2940,212.0 3030.0,212.0 3030.0,282.0\" fill=\"none\" stroke=\"currentColor\"/>\n",
              "    <text dy=\"1.25em\" style=\"font-size: 0.8em; letter-spacing: 1px\">\n",
              "        <textPath xlink:href=\"#arrow-9f50b0001fb34eb782a0c30165379aea-0-41\" class=\"displacy-label\" startOffset=\"50%\" side=\"left\" fill=\"currentColor\" text-anchor=\"middle\">pobj</textPath>\n",
              "    </text>\n",
              "    <path class=\"displacy-arrowhead\" d=\"M3030.0,284.0 L3038.0,272.0 3022.0,272.0\" fill=\"currentColor\"/>\n",
              "</g>\n",
              "\n",
              "<g class=\"displacy-arrow\">\n",
              "    <path class=\"displacy-arc\" id=\"arrow-9f50b0001fb34eb782a0c30165379aea-0-42\" stroke-width=\"2px\" d=\"M3150,282.0 C3150,247.0 3165.0,247.0 3165.0,282.0\" fill=\"none\" stroke=\"currentColor\"/>\n",
              "    <text dy=\"1.25em\" style=\"font-size: 0.8em; letter-spacing: 1px\">\n",
              "        <textPath xlink:href=\"#arrow-9f50b0001fb34eb782a0c30165379aea-0-42\" class=\"displacy-label\" startOffset=\"50%\" side=\"left\" fill=\"currentColor\" text-anchor=\"middle\">det</textPath>\n",
              "    </text>\n",
              "    <path class=\"displacy-arrowhead\" d=\"M3150,284.0 L3142,272.0 3158,272.0\" fill=\"currentColor\"/>\n",
              "</g>\n",
              "\n",
              "<g class=\"displacy-arrow\">\n",
              "    <path class=\"displacy-arc\" id=\"arrow-9f50b0001fb34eb782a0c30165379aea-0-43\" stroke-width=\"2px\" d=\"M3220,282.0 C3220,212.0 3310.0,212.0 3310.0,282.0\" fill=\"none\" stroke=\"currentColor\"/>\n",
              "    <text dy=\"1.25em\" style=\"font-size: 0.8em; letter-spacing: 1px\">\n",
              "        <textPath xlink:href=\"#arrow-9f50b0001fb34eb782a0c30165379aea-0-43\" class=\"displacy-label\" startOffset=\"50%\" side=\"left\" fill=\"currentColor\" text-anchor=\"middle\">nsubj</textPath>\n",
              "    </text>\n",
              "    <path class=\"displacy-arrowhead\" d=\"M3220,284.0 L3212,272.0 3228,272.0\" fill=\"currentColor\"/>\n",
              "</g>\n",
              "\n",
              "<g class=\"displacy-arrow\">\n",
              "    <path class=\"displacy-arc\" id=\"arrow-9f50b0001fb34eb782a0c30165379aea-0-44\" stroke-width=\"2px\" d=\"M3290,282.0 C3290,247.0 3305.0,247.0 3305.0,282.0\" fill=\"none\" stroke=\"currentColor\"/>\n",
              "    <text dy=\"1.25em\" style=\"font-size: 0.8em; letter-spacing: 1px\">\n",
              "        <textPath xlink:href=\"#arrow-9f50b0001fb34eb782a0c30165379aea-0-44\" class=\"displacy-label\" startOffset=\"50%\" side=\"left\" fill=\"currentColor\" text-anchor=\"middle\">advmod</textPath>\n",
              "    </text>\n",
              "    <path class=\"displacy-arrowhead\" d=\"M3290,284.0 L3282,272.0 3298,272.0\" fill=\"currentColor\"/>\n",
              "</g>\n",
              "\n",
              "<g class=\"displacy-arrow\">\n",
              "    <path class=\"displacy-arc\" id=\"arrow-9f50b0001fb34eb782a0c30165379aea-0-45\" stroke-width=\"2px\" d=\"M3430,282.0 C3430,247.0 3445.0,247.0 3445.0,282.0\" fill=\"none\" stroke=\"currentColor\"/>\n",
              "    <text dy=\"1.25em\" style=\"font-size: 0.8em; letter-spacing: 1px\">\n",
              "        <textPath xlink:href=\"#arrow-9f50b0001fb34eb782a0c30165379aea-0-45\" class=\"displacy-label\" startOffset=\"50%\" side=\"left\" fill=\"currentColor\" text-anchor=\"middle\">aux</textPath>\n",
              "    </text>\n",
              "    <path class=\"displacy-arrowhead\" d=\"M3430,284.0 L3422,272.0 3438,272.0\" fill=\"currentColor\"/>\n",
              "</g>\n",
              "\n",
              "<g class=\"displacy-arrow\">\n",
              "    <path class=\"displacy-arc\" id=\"arrow-9f50b0001fb34eb782a0c30165379aea-0-46\" stroke-width=\"2px\" d=\"M3360,282.0 C3360,212.0 3450.0,212.0 3450.0,282.0\" fill=\"none\" stroke=\"currentColor\"/>\n",
              "    <text dy=\"1.25em\" style=\"font-size: 0.8em; letter-spacing: 1px\">\n",
              "        <textPath xlink:href=\"#arrow-9f50b0001fb34eb782a0c30165379aea-0-46\" class=\"displacy-label\" startOffset=\"50%\" side=\"left\" fill=\"currentColor\" text-anchor=\"middle\">xcomp</textPath>\n",
              "    </text>\n",
              "    <path class=\"displacy-arrowhead\" d=\"M3450.0,284.0 L3458.0,272.0 3442.0,272.0\" fill=\"currentColor\"/>\n",
              "</g>\n",
              "\n",
              "<g class=\"displacy-arrow\">\n",
              "    <path class=\"displacy-arc\" id=\"arrow-9f50b0001fb34eb782a0c30165379aea-0-47\" stroke-width=\"2px\" d=\"M3500,282.0 C3500,247.0 3515.0,247.0 3515.0,282.0\" fill=\"none\" stroke=\"currentColor\"/>\n",
              "    <text dy=\"1.25em\" style=\"font-size: 0.8em; letter-spacing: 1px\">\n",
              "        <textPath xlink:href=\"#arrow-9f50b0001fb34eb782a0c30165379aea-0-47\" class=\"displacy-label\" startOffset=\"50%\" side=\"left\" fill=\"currentColor\" text-anchor=\"middle\">advmod</textPath>\n",
              "    </text>\n",
              "    <path class=\"displacy-arrowhead\" d=\"M3515.0,284.0 L3523.0,272.0 3507.0,272.0\" fill=\"currentColor\"/>\n",
              "</g>\n",
              "\n",
              "<g class=\"displacy-arrow\">\n",
              "    <path class=\"displacy-arc\" id=\"arrow-9f50b0001fb34eb782a0c30165379aea-0-48\" stroke-width=\"2px\" d=\"M3640,282.0 C3640,247.0 3655.0,247.0 3655.0,282.0\" fill=\"none\" stroke=\"currentColor\"/>\n",
              "    <text dy=\"1.25em\" style=\"font-size: 0.8em; letter-spacing: 1px\">\n",
              "        <textPath xlink:href=\"#arrow-9f50b0001fb34eb782a0c30165379aea-0-48\" class=\"displacy-label\" startOffset=\"50%\" side=\"left\" fill=\"currentColor\" text-anchor=\"middle\">poss</textPath>\n",
              "    </text>\n",
              "    <path class=\"displacy-arrowhead\" d=\"M3640,284.0 L3632,272.0 3648,272.0\" fill=\"currentColor\"/>\n",
              "</g>\n",
              "\n",
              "<g class=\"displacy-arrow\">\n",
              "    <path class=\"displacy-arc\" id=\"arrow-9f50b0001fb34eb782a0c30165379aea-0-49\" stroke-width=\"2px\" d=\"M3500,282.0 C3500,177.0 3665.0,177.0 3665.0,282.0\" fill=\"none\" stroke=\"currentColor\"/>\n",
              "    <text dy=\"1.25em\" style=\"font-size: 0.8em; letter-spacing: 1px\">\n",
              "        <textPath xlink:href=\"#arrow-9f50b0001fb34eb782a0c30165379aea-0-49\" class=\"displacy-label\" startOffset=\"50%\" side=\"left\" fill=\"currentColor\" text-anchor=\"middle\">dobj</textPath>\n",
              "    </text>\n",
              "    <path class=\"displacy-arrowhead\" d=\"M3665.0,284.0 L3673.0,272.0 3657.0,272.0\" fill=\"currentColor\"/>\n",
              "</g>\n",
              "</svg></span>"
            ],
            "text/plain": [
              "<IPython.core.display.HTML object>"
            ]
          },
          "metadata": {
            "tags": []
          }
        }
      ]
    },
    {
      "cell_type": "markdown",
      "metadata": {
        "id": "ItbG1Qd-I-Rm"
      },
      "source": [
        "# Sentiment Analysis\n",
        "\n",
        "or `opinion mining` => identifying intended meaning from complex phrases.\n",
        "\n",
        "\n",
        "\n",
        "> Polarity Classification:\n",
        ">> if the text expresses a `positive, negative or neutral` opinion/statement\n",
        ">> determine if a sentence is `objective or subjective` (and degree of positivity/negativity through a fine-grained analysis)\n",
        "\n"
      ]
    },
    {
      "cell_type": "markdown",
      "metadata": {
        "id": "_m5RtA2BJfkz"
      },
      "source": [
        "## NLTK's VADER module | Valence Aware Dictionary for sEntiment Reasoning\n",
        "\n",
        "\n",
        ">  https://www.nltk.org/_modules/nltk/sentiment/vader.html\n"
      ]
    },
    {
      "cell_type": "markdown",
      "metadata": {
        "id": "Q9h35_k3JTwL"
      },
      "source": [
        "VADER's `SentimentIntensityAnalyzer()` takes in a string and returns a dictionary of scores in each of four categories:\n",
        "* negative [0,1]\n",
        "* neutral  [0,1]\n",
        "* positive [0,1]\n",
        "* compound *(computed by normalizing the scores above)* [-1,1]"
      ]
    },
    {
      "cell_type": "code",
      "metadata": {
        "id": "Uo9oxvtd0P7g"
      },
      "source": [
        "# https://www.nltk.org/_modules/nltk/sentiment/vader.html"
      ],
      "execution_count": null,
      "outputs": []
    },
    {
      "cell_type": "code",
      "metadata": {
        "id": "GtO5dCeH0P5X",
        "colab": {
          "base_uri": "https://localhost:8080/",
          "height": 50
        },
        "outputId": "e5e8e09f-9848-4709-dd72-c8c5c1296639"
      },
      "source": [
        "import nltk\n",
        "nltk.download('vader_lexicon')"
      ],
      "execution_count": null,
      "outputs": [
        {
          "output_type": "stream",
          "text": [
            "[nltk_data] Downloading package vader_lexicon to /root/nltk_data...\n"
          ],
          "name": "stdout"
        },
        {
          "output_type": "execute_result",
          "data": {
            "text/plain": [
              "True"
            ]
          },
          "metadata": {
            "tags": []
          },
          "execution_count": 19
        }
      ]
    },
    {
      "cell_type": "code",
      "metadata": {
        "id": "3-GS1X9Z0P3o",
        "colab": {
          "base_uri": "https://localhost:8080/",
          "height": 70
        },
        "outputId": "2da5403e-029e-4584-f204-a757c9d8dfb4"
      },
      "source": [
        "from nltk.sentiment.vader import SentimentIntensityAnalyzer\n",
        "\n",
        "sid = SentimentIntensityAnalyzer()"
      ],
      "execution_count": null,
      "outputs": [
        {
          "output_type": "stream",
          "text": [
            "/usr/local/lib/python3.6/dist-packages/nltk/twitter/__init__.py:20: UserWarning: The twython library has not been installed. Some functionality from the twitter package will not be available.\n",
            "  warnings.warn(\"The twython library has not been installed. \"\n"
          ],
          "name": "stderr"
        }
      ]
    },
    {
      "cell_type": "code",
      "metadata": {
        "id": "w-w7Hs0kcv5A",
        "colab": {
          "base_uri": "https://localhost:8080/",
          "height": 558
        },
        "outputId": "4c999180-f44b-4473-80b0-6ede51b0df26"
      },
      "source": [
        "!pip3 install -U nltk[twitter]"
      ],
      "execution_count": null,
      "outputs": [
        {
          "output_type": "stream",
          "text": [
            "Collecting nltk[twitter]\n",
            "\u001b[?25l  Downloading https://files.pythonhosted.org/packages/92/75/ce35194d8e3022203cca0d2f896dbb88689f9b3fce8e9f9cff942913519d/nltk-3.5.zip (1.4MB)\n",
            "\u001b[K     |████████████████████████████████| 1.4MB 2.8MB/s \n",
            "\u001b[?25hRequirement already satisfied, skipping upgrade: click in /usr/local/lib/python3.6/dist-packages (from nltk[twitter]) (7.1.2)\n",
            "Requirement already satisfied, skipping upgrade: joblib in /usr/local/lib/python3.6/dist-packages (from nltk[twitter]) (0.16.0)\n",
            "Requirement already satisfied, skipping upgrade: regex in /usr/local/lib/python3.6/dist-packages (from nltk[twitter]) (2019.12.20)\n",
            "Requirement already satisfied, skipping upgrade: tqdm in /usr/local/lib/python3.6/dist-packages (from nltk[twitter]) (4.41.1)\n",
            "Collecting twython\n",
            "  Downloading https://files.pythonhosted.org/packages/24/80/579b96dfaa9b536efde883d4f0df7ea2598a6f3117a6dd572787f4a2bcfb/twython-3.8.2-py3-none-any.whl\n",
            "Requirement already satisfied, skipping upgrade: requests-oauthlib>=0.4.0 in /usr/local/lib/python3.6/dist-packages (from twython->nltk[twitter]) (1.3.0)\n",
            "Requirement already satisfied, skipping upgrade: requests>=2.1.0 in /usr/local/lib/python3.6/dist-packages (from twython->nltk[twitter]) (2.23.0)\n",
            "Requirement already satisfied, skipping upgrade: oauthlib>=3.0.0 in /usr/local/lib/python3.6/dist-packages (from requests-oauthlib>=0.4.0->twython->nltk[twitter]) (3.1.0)\n",
            "Requirement already satisfied, skipping upgrade: idna<3,>=2.5 in /usr/local/lib/python3.6/dist-packages (from requests>=2.1.0->twython->nltk[twitter]) (2.10)\n",
            "Requirement already satisfied, skipping upgrade: certifi>=2017.4.17 in /usr/local/lib/python3.6/dist-packages (from requests>=2.1.0->twython->nltk[twitter]) (2020.6.20)\n",
            "Requirement already satisfied, skipping upgrade: urllib3!=1.25.0,!=1.25.1,<1.26,>=1.21.1 in /usr/local/lib/python3.6/dist-packages (from requests>=2.1.0->twython->nltk[twitter]) (1.24.3)\n",
            "Requirement already satisfied, skipping upgrade: chardet<4,>=3.0.2 in /usr/local/lib/python3.6/dist-packages (from requests>=2.1.0->twython->nltk[twitter]) (3.0.4)\n",
            "Building wheels for collected packages: nltk\n",
            "  Building wheel for nltk (setup.py) ... \u001b[?25l\u001b[?25hdone\n",
            "  Created wheel for nltk: filename=nltk-3.5-cp36-none-any.whl size=1434673 sha256=7af9676f86c7124d9db20c5bb289580f17b7b08021ab4d9c217bbd1b97a41821\n",
            "  Stored in directory: /root/.cache/pip/wheels/ae/8c/3f/b1fe0ba04555b08b57ab52ab7f86023639a526d8bc8d384306\n",
            "Successfully built nltk\n",
            "Installing collected packages: twython, nltk\n",
            "  Found existing installation: nltk 3.2.5\n",
            "    Uninstalling nltk-3.2.5:\n",
            "      Successfully uninstalled nltk-3.2.5\n",
            "Successfully installed nltk-3.5 twython-3.8.2\n"
          ],
          "name": "stdout"
        },
        {
          "output_type": "display_data",
          "data": {
            "application/vnd.colab-display-data+json": {
              "pip_warning": {
                "packages": [
                  "nltk"
                ]
              }
            }
          },
          "metadata": {
            "tags": []
          }
        }
      ]
    },
    {
      "cell_type": "code",
      "metadata": {
        "id": "o8mNMSLPcv9I",
        "colab": {
          "base_uri": "https://localhost:8080/",
          "height": 34
        },
        "outputId": "e872e4d0-273c-463c-f201-b1704f8e199b"
      },
      "source": [
        "# example of how VADER works\n",
        "a = 'This was a good movie.'\n",
        "sid.polarity_scores(a)"
      ],
      "execution_count": null,
      "outputs": [
        {
          "output_type": "execute_result",
          "data": {
            "text/plain": [
              "{'compound': 0.4404, 'neg': 0.0, 'neu': 0.508, 'pos': 0.492}"
            ]
          },
          "metadata": {
            "tags": []
          },
          "execution_count": 22
        }
      ]
    },
    {
      "cell_type": "code",
      "metadata": {
        "id": "YnJBzoVecwDS",
        "colab": {
          "base_uri": "https://localhost:8080/",
          "height": 34
        },
        "outputId": "7cb48eb4-c729-4322-c1f7-3eb42bca26ff"
      },
      "source": [
        "b = 'This was the worst film to ever disgrace the screen.'\n",
        "sid.polarity_scores(b)"
      ],
      "execution_count": null,
      "outputs": [
        {
          "output_type": "execute_result",
          "data": {
            "text/plain": [
              "{'compound': -0.8074, 'neg': 0.477, 'neu': 0.523, 'pos': 0.0}"
            ]
          },
          "metadata": {
            "tags": []
          },
          "execution_count": 23
        }
      ]
    },
    {
      "cell_type": "code",
      "metadata": {
        "id": "SRqtjT67cwLM",
        "colab": {
          "base_uri": "https://localhost:8080/",
          "height": 34
        },
        "outputId": "b34ba7e7-0ac5-4a37-c1f2-c98eb5ef22c4"
      },
      "source": [
        "# Identifying the polarity for the 1st movie overview\n",
        "sid.polarity_scores(movies_final[\"overview\"][0])"
      ],
      "execution_count": null,
      "outputs": [
        {
          "output_type": "execute_result",
          "data": {
            "text/plain": [
              "{'compound': 0.25, 'neg': 0.048, 'neu': 0.886, 'pos': 0.066}"
            ]
          },
          "metadata": {
            "tags": []
          },
          "execution_count": 24
        }
      ]
    },
    {
      "cell_type": "code",
      "metadata": {
        "id": "GsaiBnIgcwJw",
        "colab": {
          "base_uri": "https://localhost:8080/",
          "height": 118
        },
        "outputId": "a08f95a3-b87b-4de7-9627-7bec64accd93"
      },
      "source": [
        "movies_final.isnull().sum()"
      ],
      "execution_count": null,
      "outputs": [
        {
          "output_type": "execute_result",
          "data": {
            "text/plain": [
              "movieId     0\n",
              "tmdbId      0\n",
              "title       0\n",
              "genres      0\n",
              "overview    0\n",
              "dtype: int64"
            ]
          },
          "metadata": {
            "tags": []
          },
          "execution_count": 25
        }
      ]
    },
    {
      "cell_type": "markdown",
      "metadata": {
        "id": "f0Mu3-liKKed"
      },
      "source": [
        "### Compound Scores & Polarity\n",
        "\n",
        "Introducing a new column for reflecting the compound polarity scores (i.e. positive, negative, neutral, compound score)"
      ]
    },
    {
      "cell_type": "code",
      "metadata": {
        "id": "uiKaWOuEcwII",
        "colab": {
          "base_uri": "https://localhost:8080/",
          "height": 195
        },
        "outputId": "265662e7-1d33-49b8-f8c0-706ec17b5fce"
      },
      "source": [
        "movies_final[\"Vader_score\"] = movies_final[\"overview\"].apply(lambda overview: sid.polarity_scores(overview))\n",
        "movies_final.head()"
      ],
      "execution_count": null,
      "outputs": [
        {
          "output_type": "execute_result",
          "data": {
            "text/html": [
              "<div>\n",
              "<style scoped>\n",
              "    .dataframe tbody tr th:only-of-type {\n",
              "        vertical-align: middle;\n",
              "    }\n",
              "\n",
              "    .dataframe tbody tr th {\n",
              "        vertical-align: top;\n",
              "    }\n",
              "\n",
              "    .dataframe thead th {\n",
              "        text-align: right;\n",
              "    }\n",
              "</style>\n",
              "<table border=\"1\" class=\"dataframe\">\n",
              "  <thead>\n",
              "    <tr style=\"text-align: right;\">\n",
              "      <th></th>\n",
              "      <th>movieId</th>\n",
              "      <th>tmdbId</th>\n",
              "      <th>title</th>\n",
              "      <th>genres</th>\n",
              "      <th>overview</th>\n",
              "      <th>Vader_score</th>\n",
              "    </tr>\n",
              "  </thead>\n",
              "  <tbody>\n",
              "    <tr>\n",
              "      <th>0</th>\n",
              "      <td>1</td>\n",
              "      <td>862.0</td>\n",
              "      <td>Toy Story (1995)</td>\n",
              "      <td>Adventure|Animation|Children|Comedy|Fantasy</td>\n",
              "      <td>Led by Woody, Andy's toys live happily in his ...</td>\n",
              "      <td>{'neg': 0.048, 'neu': 0.886, 'pos': 0.066, 'co...</td>\n",
              "    </tr>\n",
              "    <tr>\n",
              "      <th>1</th>\n",
              "      <td>2</td>\n",
              "      <td>8844.0</td>\n",
              "      <td>Jumanji (1995)</td>\n",
              "      <td>Adventure|Children|Fantasy</td>\n",
              "      <td>When siblings Judy and Peter discover an encha...</td>\n",
              "      <td>{'neg': 0.161, 'neu': 0.702, 'pos': 0.137, 'co...</td>\n",
              "    </tr>\n",
              "    <tr>\n",
              "      <th>2</th>\n",
              "      <td>3</td>\n",
              "      <td>15602.0</td>\n",
              "      <td>Grumpier Old Men (1995)</td>\n",
              "      <td>Comedy|Romance</td>\n",
              "      <td>A family wedding reignites the ancient feud be...</td>\n",
              "      <td>{'neg': 0.168, 'neu': 0.791, 'pos': 0.041, 'co...</td>\n",
              "    </tr>\n",
              "    <tr>\n",
              "      <th>3</th>\n",
              "      <td>4</td>\n",
              "      <td>31357.0</td>\n",
              "      <td>Waiting to Exhale (1995)</td>\n",
              "      <td>Comedy|Drama|Romance</td>\n",
              "      <td>Cheated on, mistreated and stepped on, the wom...</td>\n",
              "      <td>{'neg': 0.06, 'neu': 0.673, 'pos': 0.267, 'com...</td>\n",
              "    </tr>\n",
              "    <tr>\n",
              "      <th>4</th>\n",
              "      <td>5</td>\n",
              "      <td>11862.0</td>\n",
              "      <td>Father of the Bride Part II (1995)</td>\n",
              "      <td>Comedy</td>\n",
              "      <td>Just when George Banks has recovered from his ...</td>\n",
              "      <td>{'neg': 0.0, 'neu': 0.944, 'pos': 0.056, 'comp...</td>\n",
              "    </tr>\n",
              "  </tbody>\n",
              "</table>\n",
              "</div>"
            ],
            "text/plain": [
              "   movieId  ...                                        Vader_score\n",
              "0        1  ...  {'neg': 0.048, 'neu': 0.886, 'pos': 0.066, 'co...\n",
              "1        2  ...  {'neg': 0.161, 'neu': 0.702, 'pos': 0.137, 'co...\n",
              "2        3  ...  {'neg': 0.168, 'neu': 0.791, 'pos': 0.041, 'co...\n",
              "3        4  ...  {'neg': 0.06, 'neu': 0.673, 'pos': 0.267, 'com...\n",
              "4        5  ...  {'neg': 0.0, 'neu': 0.944, 'pos': 0.056, 'comp...\n",
              "\n",
              "[5 rows x 6 columns]"
            ]
          },
          "metadata": {
            "tags": []
          },
          "execution_count": 26
        }
      ]
    },
    {
      "cell_type": "markdown",
      "metadata": {
        "id": "ddiHDHZQKzcj"
      },
      "source": [
        "> Compound score can give significant insights, hence below adding it in a separate column"
      ]
    },
    {
      "cell_type": "code",
      "metadata": {
        "id": "gGp6Mx2dKnfF",
        "colab": {
          "base_uri": "https://localhost:8080/",
          "height": 229
        },
        "outputId": "3ed0f7e0-041d-426b-accb-cff0da119c6f"
      },
      "source": [
        "movies_final[\"Vader_compound\"]= movies_final[\"Vader_score\"].apply(lambda score_dict: score_dict[\"compound\"])\n",
        "movies_final.head()"
      ],
      "execution_count": null,
      "outputs": [
        {
          "output_type": "execute_result",
          "data": {
            "text/html": [
              "<div>\n",
              "<style scoped>\n",
              "    .dataframe tbody tr th:only-of-type {\n",
              "        vertical-align: middle;\n",
              "    }\n",
              "\n",
              "    .dataframe tbody tr th {\n",
              "        vertical-align: top;\n",
              "    }\n",
              "\n",
              "    .dataframe thead th {\n",
              "        text-align: right;\n",
              "    }\n",
              "</style>\n",
              "<table border=\"1\" class=\"dataframe\">\n",
              "  <thead>\n",
              "    <tr style=\"text-align: right;\">\n",
              "      <th></th>\n",
              "      <th>movieId</th>\n",
              "      <th>tmdbId</th>\n",
              "      <th>title</th>\n",
              "      <th>genres</th>\n",
              "      <th>overview</th>\n",
              "      <th>Vader_score</th>\n",
              "      <th>Vader_compound</th>\n",
              "    </tr>\n",
              "  </thead>\n",
              "  <tbody>\n",
              "    <tr>\n",
              "      <th>0</th>\n",
              "      <td>1</td>\n",
              "      <td>862.0</td>\n",
              "      <td>Toy Story (1995)</td>\n",
              "      <td>Adventure|Animation|Children|Comedy|Fantasy</td>\n",
              "      <td>Led by Woody, Andy's toys live happily in his ...</td>\n",
              "      <td>{'neg': 0.048, 'neu': 0.886, 'pos': 0.066, 'co...</td>\n",
              "      <td>0.2500</td>\n",
              "    </tr>\n",
              "    <tr>\n",
              "      <th>1</th>\n",
              "      <td>2</td>\n",
              "      <td>8844.0</td>\n",
              "      <td>Jumanji (1995)</td>\n",
              "      <td>Adventure|Children|Fantasy</td>\n",
              "      <td>When siblings Judy and Peter discover an encha...</td>\n",
              "      <td>{'neg': 0.161, 'neu': 0.702, 'pos': 0.137, 'co...</td>\n",
              "      <td>-0.4588</td>\n",
              "    </tr>\n",
              "    <tr>\n",
              "      <th>2</th>\n",
              "      <td>3</td>\n",
              "      <td>15602.0</td>\n",
              "      <td>Grumpier Old Men (1995)</td>\n",
              "      <td>Comedy|Romance</td>\n",
              "      <td>A family wedding reignites the ancient feud be...</td>\n",
              "      <td>{'neg': 0.168, 'neu': 0.791, 'pos': 0.041, 'co...</td>\n",
              "      <td>-0.7645</td>\n",
              "    </tr>\n",
              "    <tr>\n",
              "      <th>3</th>\n",
              "      <td>4</td>\n",
              "      <td>31357.0</td>\n",
              "      <td>Waiting to Exhale (1995)</td>\n",
              "      <td>Comedy|Drama|Romance</td>\n",
              "      <td>Cheated on, mistreated and stepped on, the wom...</td>\n",
              "      <td>{'neg': 0.06, 'neu': 0.673, 'pos': 0.267, 'com...</td>\n",
              "      <td>0.8860</td>\n",
              "    </tr>\n",
              "    <tr>\n",
              "      <th>4</th>\n",
              "      <td>5</td>\n",
              "      <td>11862.0</td>\n",
              "      <td>Father of the Bride Part II (1995)</td>\n",
              "      <td>Comedy</td>\n",
              "      <td>Just when George Banks has recovered from his ...</td>\n",
              "      <td>{'neg': 0.0, 'neu': 0.944, 'pos': 0.056, 'comp...</td>\n",
              "      <td>0.5023</td>\n",
              "    </tr>\n",
              "  </tbody>\n",
              "</table>\n",
              "</div>"
            ],
            "text/plain": [
              "   movieId  ...  Vader_compound\n",
              "0        1  ...          0.2500\n",
              "1        2  ...         -0.4588\n",
              "2        3  ...         -0.7645\n",
              "3        4  ...          0.8860\n",
              "4        5  ...          0.5023\n",
              "\n",
              "[5 rows x 7 columns]"
            ]
          },
          "metadata": {
            "tags": []
          },
          "execution_count": 27
        }
      ]
    },
    {
      "cell_type": "code",
      "metadata": {
        "id": "w99aleanKnv4",
        "colab": {
          "base_uri": "https://localhost:8080/",
          "height": 286
        },
        "outputId": "dfadb1db-f193-4ce1-e8bf-445be2f6ac44"
      },
      "source": [
        "plt.xlabel(\"Compound Scores\")\n",
        "plt.ylabel(\"Number of Movie Overviews\")\n",
        "n,bins,patch = plt.hist(movies_final.Vader_compound,bins=10, color='green', alpha=0.8, label='Value', edgecolor='orange', linewidth=2)"
      ],
      "execution_count": null,
      "outputs": [
        {
          "output_type": "display_data",
          "data": {
            "image/png": "[encoded data removed]",
            "text/plain": [
              "<Figure size 432x288 with 1 Axes>"
            ]
          },
          "metadata": {
            "tags": [],
            "needs_background": "light"
          }
        }
      ]
    },
    {
      "cell_type": "code",
      "metadata": {
        "id": "i6TW_MujKntZ",
        "colab": {
          "base_uri": "https://localhost:8080/",
          "height": 303
        },
        "outputId": "3c5e259f-daac-417c-f66f-c7b89e71286e"
      },
      "source": [
        "movies_final.Vader_compound.hist()\n",
        "plt.xlabel(\"Compound Scores\")\n",
        "plt.ylabel(\"Number of Movie Overviews\")"
      ],
      "execution_count": null,
      "outputs": [
        {
          "output_type": "execute_result",
          "data": {
            "text/plain": [
              "Text(0, 0.5, 'Number of Movie Overviews')"
            ]
          },
          "metadata": {
            "tags": []
          },
          "execution_count": 29
        },
        {
          "output_type": "display_data",
          "data": {
            "image/png": "[encoded data removed]",
            "text/plain": [
              "<Figure size 432x288 with 1 Axes>"
            ]
          },
          "metadata": {
            "tags": [],
            "needs_background": "light"
          }
        }
      ]
    },
    {
      "cell_type": "code",
      "metadata": {
        "id": "WFVzWg7HKnc-",
        "colab": {
          "base_uri": "https://localhost:8080/",
          "height": 77
        },
        "outputId": "fde23326-481e-4a9c-a091-30238baac2e0"
      },
      "source": [
        "movies_final.head(1)"
      ],
      "execution_count": null,
      "outputs": [
        {
          "output_type": "execute_result",
          "data": {
            "text/html": [
              "<div>\n",
              "<style scoped>\n",
              "    .dataframe tbody tr th:only-of-type {\n",
              "        vertical-align: middle;\n",
              "    }\n",
              "\n",
              "    .dataframe tbody tr th {\n",
              "        vertical-align: top;\n",
              "    }\n",
              "\n",
              "    .dataframe thead th {\n",
              "        text-align: right;\n",
              "    }\n",
              "</style>\n",
              "<table border=\"1\" class=\"dataframe\">\n",
              "  <thead>\n",
              "    <tr style=\"text-align: right;\">\n",
              "      <th></th>\n",
              "      <th>movieId</th>\n",
              "      <th>tmdbId</th>\n",
              "      <th>title</th>\n",
              "      <th>genres</th>\n",
              "      <th>overview</th>\n",
              "      <th>Vader_score</th>\n",
              "      <th>Vader_compound</th>\n",
              "    </tr>\n",
              "  </thead>\n",
              "  <tbody>\n",
              "    <tr>\n",
              "      <th>0</th>\n",
              "      <td>1</td>\n",
              "      <td>862.0</td>\n",
              "      <td>Toy Story (1995)</td>\n",
              "      <td>Adventure|Animation|Children|Comedy|Fantasy</td>\n",
              "      <td>Led by Woody, Andy's toys live happily in his ...</td>\n",
              "      <td>{'neg': 0.048, 'neu': 0.886, 'pos': 0.066, 'co...</td>\n",
              "      <td>0.25</td>\n",
              "    </tr>\n",
              "  </tbody>\n",
              "</table>\n",
              "</div>"
            ],
            "text/plain": [
              "   movieId  ...  Vader_compound\n",
              "0        1  ...            0.25\n",
              "\n",
              "[1 rows x 7 columns]"
            ]
          },
          "metadata": {
            "tags": []
          },
          "execution_count": 30
        }
      ]
    },
    {
      "cell_type": "markdown",
      "metadata": {
        "id": "xN8G1njNZdJN"
      },
      "source": [
        "> Introducing a new column based on the magnitude of VADER's compound score: "
      ]
    },
    {
      "cell_type": "code",
      "metadata": {
        "id": "WitN8wIOKnXK",
        "colab": {
          "base_uri": "https://localhost:8080/",
          "height": 279
        },
        "outputId": "ed387616-f149-490b-b614-739695c98385"
      },
      "source": [
        "movies_final[\"Vader_polarity\"]=movies_final[\"Vader_compound\"].apply(\n",
        "    lambda score: \"positive\" if score>0 else(\"neutral\" if score==00 else \"negative\")\n",
        "    )\n",
        "movies_final.head()\n",
        "\n",
        "#converter = lambda x : x*2 if x < 11 else (x*3 if x < 22 else x)"
      ],
      "execution_count": null,
      "outputs": [
        {
          "output_type": "execute_result",
          "data": {
            "text/html": [
              "<div>\n",
              "<style scoped>\n",
              "    .dataframe tbody tr th:only-of-type {\n",
              "        vertical-align: middle;\n",
              "    }\n",
              "\n",
              "    .dataframe tbody tr th {\n",
              "        vertical-align: top;\n",
              "    }\n",
              "\n",
              "    .dataframe thead th {\n",
              "        text-align: right;\n",
              "    }\n",
              "</style>\n",
              "<table border=\"1\" class=\"dataframe\">\n",
              "  <thead>\n",
              "    <tr style=\"text-align: right;\">\n",
              "      <th></th>\n",
              "      <th>movieId</th>\n",
              "      <th>tmdbId</th>\n",
              "      <th>title</th>\n",
              "      <th>genres</th>\n",
              "      <th>overview</th>\n",
              "      <th>Vader_score</th>\n",
              "      <th>Vader_compound</th>\n",
              "      <th>Vader_polarity</th>\n",
              "    </tr>\n",
              "  </thead>\n",
              "  <tbody>\n",
              "    <tr>\n",
              "      <th>0</th>\n",
              "      <td>1</td>\n",
              "      <td>862.0</td>\n",
              "      <td>Toy Story (1995)</td>\n",
              "      <td>Adventure|Animation|Children|Comedy|Fantasy</td>\n",
              "      <td>Led by Woody, Andy's toys live happily in his ...</td>\n",
              "      <td>{'neg': 0.048, 'neu': 0.886, 'pos': 0.066, 'co...</td>\n",
              "      <td>0.2500</td>\n",
              "      <td>positive</td>\n",
              "    </tr>\n",
              "    <tr>\n",
              "      <th>1</th>\n",
              "      <td>2</td>\n",
              "      <td>8844.0</td>\n",
              "      <td>Jumanji (1995)</td>\n",
              "      <td>Adventure|Children|Fantasy</td>\n",
              "      <td>When siblings Judy and Peter discover an encha...</td>\n",
              "      <td>{'neg': 0.161, 'neu': 0.702, 'pos': 0.137, 'co...</td>\n",
              "      <td>-0.4588</td>\n",
              "      <td>negative</td>\n",
              "    </tr>\n",
              "    <tr>\n",
              "      <th>2</th>\n",
              "      <td>3</td>\n",
              "      <td>15602.0</td>\n",
              "      <td>Grumpier Old Men (1995)</td>\n",
              "      <td>Comedy|Romance</td>\n",
              "      <td>A family wedding reignites the ancient feud be...</td>\n",
              "      <td>{'neg': 0.168, 'neu': 0.791, 'pos': 0.041, 'co...</td>\n",
              "      <td>-0.7645</td>\n",
              "      <td>negative</td>\n",
              "    </tr>\n",
              "    <tr>\n",
              "      <th>3</th>\n",
              "      <td>4</td>\n",
              "      <td>31357.0</td>\n",
              "      <td>Waiting to Exhale (1995)</td>\n",
              "      <td>Comedy|Drama|Romance</td>\n",
              "      <td>Cheated on, mistreated and stepped on, the wom...</td>\n",
              "      <td>{'neg': 0.06, 'neu': 0.673, 'pos': 0.267, 'com...</td>\n",
              "      <td>0.8860</td>\n",
              "      <td>positive</td>\n",
              "    </tr>\n",
              "    <tr>\n",
              "      <th>4</th>\n",
              "      <td>5</td>\n",
              "      <td>11862.0</td>\n",
              "      <td>Father of the Bride Part II (1995)</td>\n",
              "      <td>Comedy</td>\n",
              "      <td>Just when George Banks has recovered from his ...</td>\n",
              "      <td>{'neg': 0.0, 'neu': 0.944, 'pos': 0.056, 'comp...</td>\n",
              "      <td>0.5023</td>\n",
              "      <td>positive</td>\n",
              "    </tr>\n",
              "  </tbody>\n",
              "</table>\n",
              "</div>"
            ],
            "text/plain": [
              "   movieId   tmdbId  ... Vader_compound Vader_polarity\n",
              "0        1    862.0  ...         0.2500       positive\n",
              "1        2   8844.0  ...        -0.4588       negative\n",
              "2        3  15602.0  ...        -0.7645       negative\n",
              "3        4  31357.0  ...         0.8860       positive\n",
              "4        5  11862.0  ...         0.5023       positive\n",
              "\n",
              "[5 rows x 8 columns]"
            ]
          },
          "metadata": {
            "tags": []
          },
          "execution_count": 31
        }
      ]
    },
    {
      "cell_type": "code",
      "metadata": {
        "id": "Csznye2eZmAJ",
        "colab": {
          "base_uri": "https://localhost:8080/",
          "height": 302
        },
        "outputId": "a9a83079-9ef8-4e14-c7ee-e92a433b1ff7"
      },
      "source": [
        "movies_final[\"Vader_polarity\"].value_counts().sort_values(ascending=False).plot.barh()\n",
        "plt.ylabel(\"Polarity Label\")\n",
        "plt.xlabel(\"Number of Movie Overviews\")\n",
        "plt.title(\"Polarity in Movie Overviews\")\n",
        "plt.show()"
      ],
      "execution_count": null,
      "outputs": [
        {
          "output_type": "display_data",
          "data": {
            "image/png": "[encoded data removed]",
            "text/plain": [
              "<Figure size 432x288 with 1 Axes>"
            ]
          },
          "metadata": {
            "tags": [],
            "needs_background": "light"
          }
        }
      ]
    },
    {
      "cell_type": "code",
      "metadata": {
        "id": "ZR3OBh-XZl9h",
        "colab": {
          "base_uri": "https://localhost:8080/",
          "height": 52
        },
        "outputId": "f71ff6c5-d59b-4bef-b545-3eaa2cbc88ce"
      },
      "source": [
        "# general function for movies overview polarity classification\n",
        "\n",
        "'''\n",
        "def overview_rating(string):\n",
        "    scores = sid.polarity_scores(string)\n",
        "    if scores['compound'] == 0:\n",
        "        return 'Neutral'\n",
        "    elif scores['compound'] > 0:\n",
        "        return 'Positive'\n",
        "    else:\n",
        "        return 'Negative'\n",
        "'''"
      ],
      "execution_count": null,
      "outputs": [
        {
          "output_type": "execute_result",
          "data": {
            "application/vnd.google.colaboratory.intrinsic+json": {
              "type": "string"
            },
            "text/plain": [
              "\"\\ndef overview_rating(string):\\n    scores = sid.polarity_scores(string)\\n    if scores['compound'] == 0:\\n        return 'Neutral'\\n    elif scores['compound'] > 0:\\n        return 'Positive'\\n    else:\\n        return 'Negative'\\n\""
            ]
          },
          "metadata": {
            "tags": []
          },
          "execution_count": 33
        }
      ]
    },
    {
      "cell_type": "markdown",
      "metadata": {
        "id": "2TuVVedksvRd"
      },
      "source": [
        "## Polarity with Transformers"
      ]
    },
    {
      "cell_type": "code",
      "metadata": {
        "id": "afFNexZ7svsd"
      },
      "source": [
        "#pip install transformers"
      ],
      "execution_count": null,
      "outputs": []
    },
    {
      "cell_type": "code",
      "metadata": {
        "id": "Tt_MtZYGs20c",
        "colab": {
          "base_uri": "https://localhost:8080/",
          "height": 35
        },
        "outputId": "28c886d7-d690-4727-f9fe-60e5613a8ad1"
      },
      "source": [
        "'''\n",
        "from transformers import pipeline\n",
        "# Allocate a pipeline for sentiment-analysis\n",
        "nlp = pipeline('sentiment-analysis')\n",
        "\n",
        "'''"
      ],
      "execution_count": null,
      "outputs": [
        {
          "output_type": "execute_result",
          "data": {
            "application/vnd.google.colaboratory.intrinsic+json": {
              "type": "string"
            },
            "text/plain": [
              "\"\\nfrom transformers import pipeline\\n# Allocate a pipeline for sentiment-analysis\\nnlp = pipeline('sentiment-analysis')\\n\\n\""
            ]
          },
          "metadata": {
            "tags": []
          },
          "execution_count": 35
        }
      ]
    },
    {
      "cell_type": "code",
      "metadata": {
        "id": "9VZDO8fRs5R8",
        "colab": {
          "base_uri": "https://localhost:8080/",
          "height": 35
        },
        "outputId": "13bdde2f-6d8a-4abd-f489-49b03414cb81"
      },
      "source": [
        "'''\n",
        "# 1st movie overview\n",
        "\n",
        "nlp(movies_final[\"overview\"][0])\n",
        "'''"
      ],
      "execution_count": null,
      "outputs": [
        {
          "output_type": "execute_result",
          "data": {
            "application/vnd.google.colaboratory.intrinsic+json": {
              "type": "string"
            },
            "text/plain": [
              "'\\n# 1st movie overview\\n\\nnlp(movies_final[\"overview\"][0])\\n'"
            ]
          },
          "metadata": {
            "tags": []
          },
          "execution_count": 36
        }
      ]
    },
    {
      "cell_type": "markdown",
      "metadata": {
        "id": "RzNZoY5VeVBQ"
      },
      "source": [
        "# Topic Modelling\n",
        "\n"
      ]
    },
    {
      "cell_type": "markdown",
      "metadata": {
        "id": "gMq4Uc3_eYVe"
      },
      "source": [
        "## Non-Negative Matrix Factorization\n"
      ]
    },
    {
      "cell_type": "markdown",
      "metadata": {
        "id": "OizsZZpDe20B"
      },
      "source": [
        "> Preprocessing"
      ]
    },
    {
      "cell_type": "code",
      "metadata": {
        "id": "lK3O0ticbRgb",
        "colab": {
          "base_uri": "https://localhost:8080/",
          "height": 50
        },
        "outputId": "44f74686-ffbc-4c4b-a23a-488b09ae11c2"
      },
      "source": [
        "from sklearn.feature_extraction.text import TfidfVectorizer\n",
        "\n",
        "# max_df -> [0,1] ignoring words with high document frequency, the higher the number the more you ignore\n",
        "# it will discard words which appear in 95% of documents\n",
        "\n",
        "# min_df-> [0,1] or int number => number of documents, minimun document frequency \n",
        "# here min_df=2 => words much appear at least in 2 documents\n",
        "\n",
        "# it will remove stopwods\n",
        "\n",
        "tfidf = TfidfVectorizer(max_df=0.95, min_df=2, stop_words='english')\n",
        "\n",
        "document_term_matrix = tfidf.fit_transform(movies_final['overview'])\n",
        "document_term_matrix"
      ],
      "execution_count": null,
      "outputs": [
        {
          "output_type": "execute_result",
          "data": {
            "text/plain": [
              "<55877x40140 sparse matrix of type '<class 'numpy.float64'>'\n",
              "\twith 1414839 stored elements in Compressed Sparse Row format>"
            ]
          },
          "metadata": {
            "tags": []
          },
          "execution_count": 37
        }
      ]
    },
    {
      "cell_type": "markdown",
      "metadata": {
        "id": "em98KSxberHQ"
      },
      "source": [
        "> This means that each moview overview is assigned with 40,140 terms each"
      ]
    },
    {
      "cell_type": "markdown",
      "metadata": {
        "id": "sxvLQD5Oe6eB"
      },
      "source": [
        "> NMF"
      ]
    },
    {
      "cell_type": "code",
      "metadata": {
        "id": "hHNu4bvgZl6s",
        "colab": {
          "base_uri": "https://localhost:8080/",
          "height": 67
        },
        "outputId": "b6283a89-f428-49c4-94bc-78ad6b958ffb"
      },
      "source": [
        "from sklearn.decomposition import NMF\n",
        "\n",
        "nmf_model = NMF(n_components=7,random_state=42) # 7 topics\n",
        "nmf_model.fit(document_term_matrix)"
      ],
      "execution_count": null,
      "outputs": [
        {
          "output_type": "execute_result",
          "data": {
            "text/plain": [
              "NMF(alpha=0.0, beta_loss='frobenius', init=None, l1_ratio=0.0, max_iter=200,\n",
              "    n_components=7, random_state=42, shuffle=False, solver='cd', tol=0.0001,\n",
              "    verbose=0)"
            ]
          },
          "metadata": {
            "tags": []
          },
          "execution_count": 38
        }
      ]
    },
    {
      "cell_type": "markdown",
      "metadata": {
        "id": "pRXy_jJrfD-w"
      },
      "source": [
        "> Displaying the top 15 most common words for each of the 7 topics:"
      ]
    },
    {
      "cell_type": "code",
      "metadata": {
        "id": "wvHONu_be-9t",
        "colab": {
          "base_uri": "https://localhost:8080/",
          "height": 487
        },
        "outputId": "ca8e4e68-a1ad-4fa3-f4b7-2d3ad2ff8124"
      },
      "source": [
        "for index,topic in enumerate(nmf_model.components_):\n",
        "    print(f'The top 15 words per topic #{index}')\n",
        "    # the values with the highest coefficients\n",
        "    # (using LDA would give the highest probabilities)\n",
        "    print([tfidf.get_feature_names()[index] for index in topic.argsort()[-15:]])\n",
        "    print('\\n')"
      ],
      "execution_count": null,
      "outputs": [
        {
          "output_type": "stream",
          "text": [
            "The top 15 words per topic #0\n",
            "['finds', 'people', 'gang', 'gets', 'soon', 'killer', 'friends', 'help', 'murder', 'group', 'time', 'wife', 'police', 'small', 'town']\n",
            "\n",
            "\n",
            "The top 15 words per topic #1\n",
            "['mysterious', 'relationship', 'affair', 'tries', 'couple', 'meets', 'girl', 'married', 'beautiful', 'finds', 'wife', 'husband', 'woman', 'man', 'young']\n",
            "\n",
            "\n",
            "The top 15 words per topic #2\n",
            "['set', 'comedy', 'music', 'feature', 'follows', 'true', 'short', 'directed', 'tells', 'director', 'movie', 'based', 'documentary', 'story', 'film']\n",
            "\n",
            "\n",
            "The top 15 words per topic #3\n",
            "['dreams', 'lives', 'different', 'married', 'beautiful', 'relationship', 'true', 'day', 'meets', 'fall', 'girl', 'story', 'falls', 'life', 'love']\n",
            "\n",
            "\n",
            "The top 15 words per topic #4\n",
            "['best', 'year', 'class', 'girl', 'college', 'girls', 'friends', 'student', 'students', 'teacher', 'city', 'high', 'york', 'school', 'new']\n",
            "\n",
            "\n",
            "The top 15 words per topic #5\n",
            "['mission', 'set', 'british', 'japanese', 'nazi', 'soldier', 'battle', 'civil', 'soldiers', 'army', 'german', 'american', 'ii', 'world', 'war']\n",
            "\n",
            "\n",
            "The top 15 words per topic #6\n",
            "['brother', 'children', 'lives', 'house', 'years', 'girl', 'daughter', 'boy', 'home', 'son', 'mother', 'year', 'father', 'old', 'family']\n",
            "\n",
            "\n"
          ],
          "name": "stdout"
        }
      ]
    },
    {
      "cell_type": "markdown",
      "metadata": {
        "id": "Z6koZUGifwu3"
      },
      "source": [
        "> Attaching the discovered topic labels to movie overviews"
      ]
    },
    {
      "cell_type": "code",
      "metadata": {
        "id": "oD5W3uFGe-7R",
        "colab": {
          "base_uri": "https://localhost:8080/",
          "height": 34
        },
        "outputId": "0f7a2df6-d227-451b-a3fe-ec81c46c313d"
      },
      "source": [
        "document_term_matrix.shape"
      ],
      "execution_count": null,
      "outputs": [
        {
          "output_type": "execute_result",
          "data": {
            "text/plain": [
              "(55877, 40140)"
            ]
          },
          "metadata": {
            "tags": []
          },
          "execution_count": 40
        }
      ]
    },
    {
      "cell_type": "code",
      "metadata": {
        "id": "F3V9NZaCe-40",
        "colab": {
          "base_uri": "https://localhost:8080/",
          "height": 235
        },
        "outputId": "96e12ed0-5d3c-45d8-d738-f1444690f074"
      },
      "source": [
        "topic_results = nmf_model.transform(document_term_matrix)\n",
        "topic_results\n",
        "# NMF coefficients"
      ],
      "execution_count": null,
      "outputs": [
        {
          "output_type": "execute_result",
          "data": {
            "text/plain": [
              "array([[0.0068153 , 0.0003204 , 0.00162828, ..., 0.00174242, 0.00015422,\n",
              "        0.00250865],\n",
              "       [0.01447984, 0.        , 0.00050033, ..., 0.00100479, 0.01887348,\n",
              "        0.00368806],\n",
              "       [0.01175528, 0.        , 0.00056066, ..., 0.        , 0.        ,\n",
              "        0.01533097],\n",
              "       ...,\n",
              "       [0.00158035, 0.        , 0.00553808, ..., 0.00035745, 0.01943985,\n",
              "        0.        ],\n",
              "       [0.00939599, 0.00059352, 0.00084516, ..., 0.00156809, 0.        ,\n",
              "        0.01269326],\n",
              "       [0.01645967, 0.        , 0.00132349, ..., 0.01654899, 0.00425243,\n",
              "        0.        ]])"
            ]
          },
          "metadata": {
            "tags": []
          },
          "execution_count": 41
        }
      ]
    },
    {
      "cell_type": "code",
      "metadata": {
        "id": "LGPPLUUxe-2T",
        "colab": {
          "base_uri": "https://localhost:8080/",
          "height": 50
        },
        "outputId": "4468b356-79b0-42cf-ef29-a1b000dcba52"
      },
      "source": [
        "topic_results[0] # coefficients of the 1st movie overview"
      ],
      "execution_count": null,
      "outputs": [
        {
          "output_type": "execute_result",
          "data": {
            "text/plain": [
              "array([0.0068153 , 0.0003204 , 0.00162828, 0.00256428, 0.00174242,\n",
              "       0.00015422, 0.00250865])"
            ]
          },
          "metadata": {
            "tags": []
          },
          "execution_count": 42
        }
      ]
    },
    {
      "cell_type": "code",
      "metadata": {
        "id": "e19udwX9e-zx",
        "colab": {
          "base_uri": "https://localhost:8080/",
          "height": 34
        },
        "outputId": "4d3d2bd7-298c-4f55-9459-e7d7c4df7989"
      },
      "source": [
        "topic_results[0].argmax()\n",
        "\n",
        "#This means that our model thinks that the first overview belongs to topic #0 (topic 1 of totally 7)"
      ],
      "execution_count": null,
      "outputs": [
        {
          "output_type": "execute_result",
          "data": {
            "text/plain": [
              "0"
            ]
          },
          "metadata": {
            "tags": []
          },
          "execution_count": 43
        }
      ]
    },
    {
      "cell_type": "markdown",
      "metadata": {
        "id": "5W7FLYYSf_tA"
      },
      "source": [
        "> Displaying the NMF generated topics to dataframe"
      ]
    },
    {
      "cell_type": "code",
      "metadata": {
        "id": "Gsh7b_TPe-wz",
        "colab": {
          "base_uri": "https://localhost:8080/",
          "height": 279
        },
        "outputId": "0300207d-2ca8-47e3-e531-6b3097e5c8c9"
      },
      "source": [
        "#  we are interested in the highest coefficients (in LDA-> probabilities)\n",
        "# and we want the index position with the most representative target/topic\n",
        "# ==> argmax(axis=1)\n",
        "topic_results.argmax(axis=1)\n",
        "movies_final['NMF_topic'] = topic_results.argmax(axis=1)\n",
        "movies_final.head(5)"
      ],
      "execution_count": null,
      "outputs": [
        {
          "output_type": "execute_result",
          "data": {
            "text/html": [
              "<div>\n",
              "<style scoped>\n",
              "    .dataframe tbody tr th:only-of-type {\n",
              "        vertical-align: middle;\n",
              "    }\n",
              "\n",
              "    .dataframe tbody tr th {\n",
              "        vertical-align: top;\n",
              "    }\n",
              "\n",
              "    .dataframe thead th {\n",
              "        text-align: right;\n",
              "    }\n",
              "</style>\n",
              "<table border=\"1\" class=\"dataframe\">\n",
              "  <thead>\n",
              "    <tr style=\"text-align: right;\">\n",
              "      <th></th>\n",
              "      <th>movieId</th>\n",
              "      <th>tmdbId</th>\n",
              "      <th>title</th>\n",
              "      <th>genres</th>\n",
              "      <th>overview</th>\n",
              "      <th>Vader_score</th>\n",
              "      <th>Vader_compound</th>\n",
              "      <th>Vader_polarity</th>\n",
              "      <th>NMF_topic</th>\n",
              "    </tr>\n",
              "  </thead>\n",
              "  <tbody>\n",
              "    <tr>\n",
              "      <th>0</th>\n",
              "      <td>1</td>\n",
              "      <td>862.0</td>\n",
              "      <td>Toy Story (1995)</td>\n",
              "      <td>Adventure|Animation|Children|Comedy|Fantasy</td>\n",
              "      <td>Led by Woody, Andy's toys live happily in his ...</td>\n",
              "      <td>{'neg': 0.048, 'neu': 0.886, 'pos': 0.066, 'co...</td>\n",
              "      <td>0.2500</td>\n",
              "      <td>positive</td>\n",
              "      <td>0</td>\n",
              "    </tr>\n",
              "    <tr>\n",
              "      <th>1</th>\n",
              "      <td>2</td>\n",
              "      <td>8844.0</td>\n",
              "      <td>Jumanji (1995)</td>\n",
              "      <td>Adventure|Children|Fantasy</td>\n",
              "      <td>When siblings Judy and Peter discover an encha...</td>\n",
              "      <td>{'neg': 0.161, 'neu': 0.702, 'pos': 0.137, 'co...</td>\n",
              "      <td>-0.4588</td>\n",
              "      <td>negative</td>\n",
              "      <td>5</td>\n",
              "    </tr>\n",
              "    <tr>\n",
              "      <th>2</th>\n",
              "      <td>3</td>\n",
              "      <td>15602.0</td>\n",
              "      <td>Grumpier Old Men (1995)</td>\n",
              "      <td>Comedy|Romance</td>\n",
              "      <td>A family wedding reignites the ancient feud be...</td>\n",
              "      <td>{'neg': 0.168, 'neu': 0.791, 'pos': 0.041, 'co...</td>\n",
              "      <td>-0.7645</td>\n",
              "      <td>negative</td>\n",
              "      <td>6</td>\n",
              "    </tr>\n",
              "    <tr>\n",
              "      <th>3</th>\n",
              "      <td>4</td>\n",
              "      <td>31357.0</td>\n",
              "      <td>Waiting to Exhale (1995)</td>\n",
              "      <td>Comedy|Drama|Romance</td>\n",
              "      <td>Cheated on, mistreated and stepped on, the wom...</td>\n",
              "      <td>{'neg': 0.06, 'neu': 0.673, 'pos': 0.267, 'com...</td>\n",
              "      <td>0.8860</td>\n",
              "      <td>positive</td>\n",
              "      <td>1</td>\n",
              "    </tr>\n",
              "    <tr>\n",
              "      <th>4</th>\n",
              "      <td>5</td>\n",
              "      <td>11862.0</td>\n",
              "      <td>Father of the Bride Part II (1995)</td>\n",
              "      <td>Comedy</td>\n",
              "      <td>Just when George Banks has recovered from his ...</td>\n",
              "      <td>{'neg': 0.0, 'neu': 0.944, 'pos': 0.056, 'comp...</td>\n",
              "      <td>0.5023</td>\n",
              "      <td>positive</td>\n",
              "      <td>0</td>\n",
              "    </tr>\n",
              "  </tbody>\n",
              "</table>\n",
              "</div>"
            ],
            "text/plain": [
              "   movieId   tmdbId  ... Vader_polarity NMF_topic\n",
              "0        1    862.0  ...       positive         0\n",
              "1        2   8844.0  ...       negative         5\n",
              "2        3  15602.0  ...       negative         6\n",
              "3        4  31357.0  ...       positive         1\n",
              "4        5  11862.0  ...       positive         0\n",
              "\n",
              "[5 rows x 9 columns]"
            ]
          },
          "metadata": {
            "tags": []
          },
          "execution_count": 44
        }
      ]
    },
    {
      "cell_type": "code",
      "metadata": {
        "id": "_lJ-0R1Fe-uG",
        "colab": {
          "base_uri": "https://localhost:8080/",
          "height": 288
        },
        "outputId": "21543912-885e-4958-8d16-89695bb7dc31"
      },
      "source": [
        "movies_final.NMF_topic.hist()"
      ],
      "execution_count": null,
      "outputs": [
        {
          "output_type": "execute_result",
          "data": {
            "text/plain": [
              "<matplotlib.axes._subplots.AxesSubplot at 0x7f66507e9b70>"
            ]
          },
          "metadata": {
            "tags": []
          },
          "execution_count": 45
        },
        {
          "output_type": "display_data",
          "data": {
            "image/png": "[encoded data removed]",
            "text/plain": [
              "<Figure size 432x288 with 1 Axes>"
            ]
          },
          "metadata": {
            "tags": [],
            "needs_background": "light"
          }
        }
      ]
    },
    {
      "cell_type": "code",
      "metadata": {
        "id": "Q42vYolfZlfT",
        "colab": {
          "base_uri": "https://localhost:8080/",
          "height": 536
        },
        "outputId": "0501809e-dad5-4e8f-a042-4b71d250a978"
      },
      "source": [
        "topics= movies_final[\"NMF_topic\"].value_counts()[:].values.tolist()\n",
        "\n",
        "explode= (0.1,0.1,0.1,0,0,0,0)\n",
        "labels= movies_final[\"NMF_topic\"].value_counts()[:].index.tolist()\n",
        "\n",
        "plt.figure(figsize=(14,9))\n",
        "plt.title(\"Percentage of each Topic\")\n",
        "plt.pie(topics, labels=(\"Topic 1\",\"Topic 2\",\"Topic 3\",\"Topic 4\",\"Topic 5\",\"Topic 6\",\"Topic 7\"), explode=explode, autopct= \"%1.f%%\")\n",
        "plt.show()"
      ],
      "execution_count": null,
      "outputs": [
        {
          "output_type": "display_data",
          "data": {
            "image/png": "[encoded data removed]",
            "text/plain": [
              "<Figure size 1008x648 with 1 Axes>"
            ]
          },
          "metadata": {
            "tags": []
          }
        }
      ]
    },
    {
      "cell_type": "markdown",
      "metadata": {
        "id": "JOPgk3CVglSJ"
      },
      "source": [
        "> Adding a description to each topic, and assigning it into a new column in dataframe"
      ]
    },
    {
      "cell_type": "code",
      "metadata": {
        "id": "ux90EhHUZlb7",
        "colab": {
          "base_uri": "https://localhost:8080/",
          "height": 363
        },
        "outputId": "9f3787af-e0cc-44e7-c230-78fdd5cdff4e"
      },
      "source": [
        "# dictionary:\n",
        "topics_dictionary = {0: \"Battle|Offence\", 1: \"Affairs|Mystery\", 2:\"Autobiography|Storytelling\", 3:\"Relationships|Marriage\",\n",
        "                     4:\"School|College\", 5:\"War|Crime\", 6: \"Family|Relatives\"}\n",
        "movies_final[\"NMF_topic_description\"] = movies_final[\"NMF_topic\"].map(topics_dictionary)\n",
        "movies_final.head()"
      ],
      "execution_count": null,
      "outputs": [
        {
          "output_type": "execute_result",
          "data": {
            "text/html": [
              "<div>\n",
              "<style scoped>\n",
              "    .dataframe tbody tr th:only-of-type {\n",
              "        vertical-align: middle;\n",
              "    }\n",
              "\n",
              "    .dataframe tbody tr th {\n",
              "        vertical-align: top;\n",
              "    }\n",
              "\n",
              "    .dataframe thead th {\n",
              "        text-align: right;\n",
              "    }\n",
              "</style>\n",
              "<table border=\"1\" class=\"dataframe\">\n",
              "  <thead>\n",
              "    <tr style=\"text-align: right;\">\n",
              "      <th></th>\n",
              "      <th>movieId</th>\n",
              "      <th>tmdbId</th>\n",
              "      <th>title</th>\n",
              "      <th>genres</th>\n",
              "      <th>overview</th>\n",
              "      <th>Vader_score</th>\n",
              "      <th>Vader_compound</th>\n",
              "      <th>Vader_polarity</th>\n",
              "      <th>NMF_topic</th>\n",
              "      <th>NMF_topic_description</th>\n",
              "    </tr>\n",
              "  </thead>\n",
              "  <tbody>\n",
              "    <tr>\n",
              "      <th>0</th>\n",
              "      <td>1</td>\n",
              "      <td>862.0</td>\n",
              "      <td>Toy Story (1995)</td>\n",
              "      <td>Adventure|Animation|Children|Comedy|Fantasy</td>\n",
              "      <td>Led by Woody, Andy's toys live happily in his ...</td>\n",
              "      <td>{'neg': 0.048, 'neu': 0.886, 'pos': 0.066, 'co...</td>\n",
              "      <td>0.2500</td>\n",
              "      <td>positive</td>\n",
              "      <td>0</td>\n",
              "      <td>Battle|Offence</td>\n",
              "    </tr>\n",
              "    <tr>\n",
              "      <th>1</th>\n",
              "      <td>2</td>\n",
              "      <td>8844.0</td>\n",
              "      <td>Jumanji (1995)</td>\n",
              "      <td>Adventure|Children|Fantasy</td>\n",
              "      <td>When siblings Judy and Peter discover an encha...</td>\n",
              "      <td>{'neg': 0.161, 'neu': 0.702, 'pos': 0.137, 'co...</td>\n",
              "      <td>-0.4588</td>\n",
              "      <td>negative</td>\n",
              "      <td>5</td>\n",
              "      <td>War|Crime</td>\n",
              "    </tr>\n",
              "    <tr>\n",
              "      <th>2</th>\n",
              "      <td>3</td>\n",
              "      <td>15602.0</td>\n",
              "      <td>Grumpier Old Men (1995)</td>\n",
              "      <td>Comedy|Romance</td>\n",
              "      <td>A family wedding reignites the ancient feud be...</td>\n",
              "      <td>{'neg': 0.168, 'neu': 0.791, 'pos': 0.041, 'co...</td>\n",
              "      <td>-0.7645</td>\n",
              "      <td>negative</td>\n",
              "      <td>6</td>\n",
              "      <td>Family|Relatives</td>\n",
              "    </tr>\n",
              "    <tr>\n",
              "      <th>3</th>\n",
              "      <td>4</td>\n",
              "      <td>31357.0</td>\n",
              "      <td>Waiting to Exhale (1995)</td>\n",
              "      <td>Comedy|Drama|Romance</td>\n",
              "      <td>Cheated on, mistreated and stepped on, the wom...</td>\n",
              "      <td>{'neg': 0.06, 'neu': 0.673, 'pos': 0.267, 'com...</td>\n",
              "      <td>0.8860</td>\n",
              "      <td>positive</td>\n",
              "      <td>1</td>\n",
              "      <td>Affairs|Mystery</td>\n",
              "    </tr>\n",
              "    <tr>\n",
              "      <th>4</th>\n",
              "      <td>5</td>\n",
              "      <td>11862.0</td>\n",
              "      <td>Father of the Bride Part II (1995)</td>\n",
              "      <td>Comedy</td>\n",
              "      <td>Just when George Banks has recovered from his ...</td>\n",
              "      <td>{'neg': 0.0, 'neu': 0.944, 'pos': 0.056, 'comp...</td>\n",
              "      <td>0.5023</td>\n",
              "      <td>positive</td>\n",
              "      <td>0</td>\n",
              "      <td>Battle|Offence</td>\n",
              "    </tr>\n",
              "  </tbody>\n",
              "</table>\n",
              "</div>"
            ],
            "text/plain": [
              "   movieId   tmdbId  ... NMF_topic NMF_topic_description\n",
              "0        1    862.0  ...         0        Battle|Offence\n",
              "1        2   8844.0  ...         5             War|Crime\n",
              "2        3  15602.0  ...         6      Family|Relatives\n",
              "3        4  31357.0  ...         1       Affairs|Mystery\n",
              "4        5  11862.0  ...         0        Battle|Offence\n",
              "\n",
              "[5 rows x 10 columns]"
            ]
          },
          "metadata": {
            "tags": []
          },
          "execution_count": 47
        }
      ]
    },
    {
      "cell_type": "code",
      "metadata": {
        "id": "itX3QNcuZlZl",
        "colab": {
          "base_uri": "https://localhost:8080/",
          "height": 553
        },
        "outputId": "092a9141-1235-48c7-b101-9be079258d4a"
      },
      "source": [
        "topics= movies_final[\"NMF_topic_description\"].value_counts()[:].values.tolist()\n",
        "plt.figure(figsize=(9,9))\n",
        "explode= (0.1,0.1,0.1,0,0,0,0)\n",
        "labels= movies_final[\"NMF_topic_description\"].value_counts()[:].index.tolist()\n",
        "\n",
        "plt.figure(figsize=(9,9))\n",
        "plt.title(\"Percentage of each Topic\", fontweight= \"bold\")\n",
        "plt.pie(topics, labels=(\"Battle|Offence\",\"Affairs|Mystery\",\n",
        "                        \"Autobiography|Storytelling\", \"Relationships|Marriage\",\n",
        "                        \"School|College\", \"War|Crime\",\"Family|Relatives\"), explode=explode, autopct= \"%1.f%%\")\n",
        "plt.show()"
      ],
      "execution_count": null,
      "outputs": [
        {
          "output_type": "display_data",
          "data": {
            "text/plain": [
              "<Figure size 648x648 with 0 Axes>"
            ]
          },
          "metadata": {
            "tags": []
          }
        },
        {
          "output_type": "display_data",
          "data": {
            "image/png": "[encoded data removed]",
            "text/plain": [
              "<Figure size 648x648 with 1 Axes>"
            ]
          },
          "metadata": {
            "tags": []
          }
        }
      ]
    },
    {
      "cell_type": "markdown",
      "metadata": {
        "id": "43TTeOPceI64"
      },
      "source": [
        "# Name Entity Recognition (NER)"
      ]
    },
    {
      "cell_type": "code",
      "metadata": {
        "id": "y08DGl14eKNY"
      },
      "source": [
        "# all entity labels\n",
        "# https://spacy.io/api/annotation#named-entities "
      ],
      "execution_count": null,
      "outputs": []
    },
    {
      "cell_type": "code",
      "metadata": {
        "id": "IbfGQfCQeLa2",
        "colab": {
          "base_uri": "https://localhost:8080/",
          "height": 168
        },
        "outputId": "3f8afd11-7542-49df-f15b-a8a543e7c5ae"
      },
      "source": [
        "#1st movie overview\n",
        "document= movies_final[\"overview\"][0] \n",
        "\n",
        "document=nlp(document)\n",
        "for entity in document.ents:\n",
        "  print(f'{entity.text:{25}} {entity.label_:{25}} {str(spacy.explain(entity.label_))}')"
      ],
      "execution_count": null,
      "outputs": [
        {
          "output_type": "stream",
          "text": [
            "Woody                     PERSON                    People, including fictional\n",
            "Andy                      PERSON                    People, including fictional\n",
            "Andy                      PERSON                    People, including fictional\n",
            "Buzz Lightyear            PERSON                    People, including fictional\n",
            "Andy                      PERSON                    People, including fictional\n",
            "Woody                     PERSON                    People, including fictional\n",
            "Buzz                      ORG                       Companies, agencies, institutions, etc.\n",
            "Buzz                      ORG                       Companies, agencies, institutions, etc.\n",
            "Woody                     PERSON                    People, including fictional\n"
          ],
          "name": "stdout"
        }
      ]
    },
    {
      "cell_type": "markdown",
      "metadata": {
        "id": "OOEBdw_6eNiT"
      },
      "source": [
        "## NER Tags\n",
        "\n",
        "> Total number of NER tags: `18`\n",
        "\n",
        "Tags are accessible through the `.label_` property of an entity.\n",
        "<table>\n",
        "<tr><th>TYPE</th><th>DESCRIPTION</th><th>EXAMPLE</th></tr>\n",
        "<tr><td>`PERSON`</td><td>People, including fictional.</td><td>*Fred Flintstone*</td></tr>\n",
        "<tr><td>`NORP`</td><td>Nationalities or religious or political groups.</td><td>*The Republican Party*</td></tr>\n",
        "<tr><td>`FAC`</td><td>Buildings, airports, highways, bridges, etc.</td><td>*Logan International Airport, The Golden Gate*</td></tr>\n",
        "<tr><td>`ORG`</td><td>Companies, agencies, institutions, etc.</td><td>*Microsoft, FBI, MIT*</td></tr>\n",
        "<tr><td>`GPE`</td><td>Countries, cities, states.</td><td>*France, UAR, Chicago, Idaho*</td></tr>\n",
        "<tr><td>`LOC`</td><td>Non-GPE locations, mountain ranges, bodies of water.</td><td>*Europe, Nile River, Midwest*</td></tr>\n",
        "<tr><td>`PRODUCT`</td><td>Objects, vehicles, foods, etc. (Not services.)</td><td>*Formula 1*</td></tr>\n",
        "<tr><td>`EVENT`</td><td>Named hurricanes, battles, wars, sports events, etc.</td><td>*Olympic Games*</td></tr>\n",
        "<tr><td>`WORK_OF_ART`</td><td>Titles of books, songs, etc.</td><td>*The Mona Lisa*</td></tr>\n",
        "<tr><td>`LAW`</td><td>Named documents made into laws.</td><td>*Roe v. Wade*</td></tr>\n",
        "<tr><td>`LANGUAGE`</td><td>Any named language.</td><td>*English*</td></tr>\n",
        "<tr><td>`DATE`</td><td>Absolute or relative dates or periods.</td><td>*20 July 1969*</td></tr>\n",
        "<tr><td>`TIME`</td><td>Times smaller than a day.</td><td>*Four hours*</td></tr>\n",
        "<tr><td>`PERCENT`</td><td>Percentage, including \"%\".</td><td>*Eighty percent*</td></tr>\n",
        "<tr><td>`MONEY`</td><td>Monetary values, including unit.</td><td>*Twenty Cents*</td></tr>\n",
        "<tr><td>`QUANTITY`</td><td>Measurements, as of weight or distance.</td><td>*Several kilometers, 55kg*</td></tr>\n",
        "<tr><td>`ORDINAL`</td><td>\"first\", \"second\", etc.</td><td>*9th, Ninth*</td></tr>\n",
        "<tr><td>`CARDINAL`</td><td>Numerals that do not fall under another type.</td><td>*2, Two, Fifty-two*</td></tr>\n",
        "</table>"
      ]
    },
    {
      "cell_type": "code",
      "metadata": {
        "id": "Vf8f4C11eN02",
        "colab": {
          "base_uri": "https://localhost:8080/",
          "height": 69
        },
        "outputId": "9205a084-24b2-4324-84ad-5e0625c4ff64"
      },
      "source": [
        "# Displaying all entities. In comments because it requires time\n",
        "\n",
        "'''\n",
        "# setting a big nlp length in order to avoid crushes\n",
        "nlp.max_length = 90000000 \n",
        "\n",
        "# Convert series to string for entity exploration\n",
        "movies_all_overviews= nlp(movies_final[\"overview\"][:25000].to_string())\n",
        "\n",
        "# Finding the entities, enity labels, and meaning of entities\n",
        "for entity in movies_all_overviews.ents:\n",
        "  print(f'{entity.text:{25}} {entity.label_:{25}} {str(spacy.explain(entity.label_))}')\n",
        "\n",
        "'''"
      ],
      "execution_count": null,
      "outputs": [
        {
          "output_type": "execute_result",
          "data": {
            "application/vnd.google.colaboratory.intrinsic+json": {
              "type": "string"
            },
            "text/plain": [
              "'\\n# setting a big nlp length in order to avoid crushes\\nnlp.max_length = 90000000 \\n\\n# Convert series to string for entity exploration\\nmovies_all_overviews= nlp(movies_final[\"overview\"][:25000].to_string())\\n\\n# Finding the entities, enity labels, and meaning of entities\\nfor entity in movies_all_overviews.ents:\\n  print(f\\'{entity.text:{25}} {entity.label_:{25}} {str(spacy.explain(entity.label_))}\\')\\n\\n'"
            ]
          },
          "metadata": {
            "tags": []
          },
          "execution_count": 51
        }
      ]
    },
    {
      "cell_type": "code",
      "metadata": {
        "id": "xi6g8uiSmGjH",
        "colab": {
          "base_uri": "https://localhost:8080/",
          "height": 69
        },
        "outputId": "22d71981-6172-4b83-b4e7-381b5656990a"
      },
      "source": [
        "# Displaying all entities. In comments because it requires time\n",
        "'''\n",
        "\n",
        "# setting a big nlp length in order to avoid crushes\n",
        "nlp.max_length = 90000000 \n",
        "\n",
        "# Convert series to string for entity exploration\n",
        "movies_all_overviews= nlp(movies_final[\"overview\"][25000:].to_string())\n",
        "\n",
        "# Finding the entities, enity labels, and meaning of entities\n",
        "for entity in movies_all_overviews.ents:\n",
        "  print(f'{entity.text:{25}} {entity.label_:{25}} {str(spacy.explain(entity.label_))}')\n",
        "\n",
        "'''"
      ],
      "execution_count": null,
      "outputs": [
        {
          "output_type": "execute_result",
          "data": {
            "application/vnd.google.colaboratory.intrinsic+json": {
              "type": "string"
            },
            "text/plain": [
              "'\\n\\n# setting a big nlp length in order to avoid crushes\\nnlp.max_length = 90000000 \\n\\n# Convert series to string for entity exploration\\nmovies_all_overviews= nlp(movies_final[\"overview\"][25000:].to_string())\\n\\n# Finding the entities, enity labels, and meaning of entities\\nfor entity in movies_all_overviews.ents:\\n  print(f\\'{entity.text:{25}} {entity.label_:{25}} {str(spacy.explain(entity.label_))}\\')\\n\\n'"
            ]
          },
          "metadata": {
            "tags": []
          },
          "execution_count": 52
        }
      ]
    },
    {
      "cell_type": "markdown",
      "metadata": {
        "id": "QujPr7HREgTZ"
      },
      "source": [
        "## Visualization of Entities\n",
        "\n"
      ]
    },
    {
      "cell_type": "markdown",
      "metadata": {
        "id": "3fjlKWQ7yAvw"
      },
      "source": [
        "### 1st movie overview"
      ]
    },
    {
      "cell_type": "markdown",
      "metadata": {
        "id": "Ycg9fX85ycLM"
      },
      "source": [
        ">> This is the 1st movie overview:"
      ]
    },
    {
      "cell_type": "code",
      "metadata": {
        "id": "F-vnOTFFyWGd",
        "colab": {
          "base_uri": "https://localhost:8080/",
          "height": 95
        },
        "outputId": "3ed651b0-8353-4a6a-b623-16711892ac9d"
      },
      "source": [
        "# Displaying the text as a script which is more readable (not like above)\n",
        "from IPython.display import Markdown, display\n",
        "display(Markdown('> '+movies_final[\"overview\"][0]))"
      ],
      "execution_count": null,
      "outputs": [
        {
          "output_type": "display_data",
          "data": {
            "text/markdown": "> Led by Woody, Andy's toys live happily in his room until Andy's birthday brings Buzz Lightyear onto the scene. Afraid of losing his place in Andy's heart, Woody plots against Buzz. But when circumstances separate Buzz and Woody from their owner, the duo eventually learns to put aside their differences.",
            "text/plain": [
              "<IPython.core.display.Markdown object>"
            ]
          },
          "metadata": {
            "tags": []
          }
        }
      ]
    },
    {
      "cell_type": "markdown",
      "metadata": {
        "id": "fEswsHLZyg4a"
      },
      "source": [
        ">> And this is the same movie overview with its entities (displaying the movie overview in seperate sentences for a better visualisation)"
      ]
    },
    {
      "cell_type": "code",
      "metadata": {
        "id": "8bbAMyC8xnzX",
        "colab": {
          "base_uri": "https://localhost:8080/",
          "height": 120
        },
        "outputId": "2e544159-6024-4892-de88-8007223fa6e3"
      },
      "source": [
        "document= movies_final[\"overview\"][0]\n",
        "document=nlp(document)\n",
        "\n",
        "for sentence in document.sents:\n",
        "    displacy.render(nlp(sentence.text), style='ent', jupyter=True)"
      ],
      "execution_count": null,
      "outputs": [
        {
          "output_type": "display_data",
          "data": {
            "text/html": [
              "<span class=\"tex2jax_ignore\"><div class=\"entities\" style=\"line-height: 2.5; direction: ltr\">Led by \n",
              "<mark class=\"entity\" style=\"background: #aa9cfc; padding: 0.45em 0.6em; margin: 0 0.25em; line-height: 1; border-radius: 0.35em;\">\n",
              "    Woody\n",
              "    <span style=\"font-size: 0.8em; font-weight: bold; line-height: 1; border-radius: 0.35em; text-transform: uppercase; vertical-align: middle; margin-left: 0.5rem\">PERSON</span>\n",
              "</mark>\n",
              ", \n",
              "<mark class=\"entity\" style=\"background: #aa9cfc; padding: 0.45em 0.6em; margin: 0 0.25em; line-height: 1; border-radius: 0.35em;\">\n",
              "    Andy\n",
              "    <span style=\"font-size: 0.8em; font-weight: bold; line-height: 1; border-radius: 0.35em; text-transform: uppercase; vertical-align: middle; margin-left: 0.5rem\">PERSON</span>\n",
              "</mark>\n",
              "'s toys live happily in his room until \n",
              "<mark class=\"entity\" style=\"background: #aa9cfc; padding: 0.45em 0.6em; margin: 0 0.25em; line-height: 1; border-radius: 0.35em;\">\n",
              "    Andy\n",
              "    <span style=\"font-size: 0.8em; font-weight: bold; line-height: 1; border-radius: 0.35em; text-transform: uppercase; vertical-align: middle; margin-left: 0.5rem\">PERSON</span>\n",
              "</mark>\n",
              "'s birthday brings \n",
              "<mark class=\"entity\" style=\"background: #aa9cfc; padding: 0.45em 0.6em; margin: 0 0.25em; line-height: 1; border-radius: 0.35em;\">\n",
              "    Buzz Lightyear\n",
              "    <span style=\"font-size: 0.8em; font-weight: bold; line-height: 1; border-radius: 0.35em; text-transform: uppercase; vertical-align: middle; margin-left: 0.5rem\">PERSON</span>\n",
              "</mark>\n",
              " onto the scene.</div></span>"
            ],
            "text/plain": [
              "<IPython.core.display.HTML object>"
            ]
          },
          "metadata": {
            "tags": []
          }
        },
        {
          "output_type": "display_data",
          "data": {
            "text/html": [
              "<span class=\"tex2jax_ignore\"><div class=\"entities\" style=\"line-height: 2.5; direction: ltr\">Afraid of losing his place in \n",
              "<mark class=\"entity\" style=\"background: #aa9cfc; padding: 0.45em 0.6em; margin: 0 0.25em; line-height: 1; border-radius: 0.35em;\">\n",
              "    Andy\n",
              "    <span style=\"font-size: 0.8em; font-weight: bold; line-height: 1; border-radius: 0.35em; text-transform: uppercase; vertical-align: middle; margin-left: 0.5rem\">PERSON</span>\n",
              "</mark>\n",
              "'s heart, \n",
              "<mark class=\"entity\" style=\"background: #aa9cfc; padding: 0.45em 0.6em; margin: 0 0.25em; line-height: 1; border-radius: 0.35em;\">\n",
              "    Woody\n",
              "    <span style=\"font-size: 0.8em; font-weight: bold; line-height: 1; border-radius: 0.35em; text-transform: uppercase; vertical-align: middle; margin-left: 0.5rem\">PERSON</span>\n",
              "</mark>\n",
              " plots against \n",
              "<mark class=\"entity\" style=\"background: #7aecec; padding: 0.45em 0.6em; margin: 0 0.25em; line-height: 1; border-radius: 0.35em;\">\n",
              "    Buzz\n",
              "    <span style=\"font-size: 0.8em; font-weight: bold; line-height: 1; border-radius: 0.35em; text-transform: uppercase; vertical-align: middle; margin-left: 0.5rem\">ORG</span>\n",
              "</mark>\n",
              ".</div></span>"
            ],
            "text/plain": [
              "<IPython.core.display.HTML object>"
            ]
          },
          "metadata": {
            "tags": []
          }
        },
        {
          "output_type": "display_data",
          "data": {
            "text/html": [
              "<span class=\"tex2jax_ignore\"><div class=\"entities\" style=\"line-height: 2.5; direction: ltr\">But when circumstances separate \n",
              "<mark class=\"entity\" style=\"background: #7aecec; padding: 0.45em 0.6em; margin: 0 0.25em; line-height: 1; border-radius: 0.35em;\">\n",
              "    Buzz\n",
              "    <span style=\"font-size: 0.8em; font-weight: bold; line-height: 1; border-radius: 0.35em; text-transform: uppercase; vertical-align: middle; margin-left: 0.5rem\">ORG</span>\n",
              "</mark>\n",
              " and \n",
              "<mark class=\"entity\" style=\"background: #aa9cfc; padding: 0.45em 0.6em; margin: 0 0.25em; line-height: 1; border-radius: 0.35em;\">\n",
              "    Woody\n",
              "    <span style=\"font-size: 0.8em; font-weight: bold; line-height: 1; border-radius: 0.35em; text-transform: uppercase; vertical-align: middle; margin-left: 0.5rem\">PERSON</span>\n",
              "</mark>\n",
              " from their owner, the duo eventually learns to put aside their differences.</div></span>"
            ],
            "text/plain": [
              "<IPython.core.display.HTML object>"
            ]
          },
          "metadata": {
            "tags": []
          }
        }
      ]
    },
    {
      "cell_type": "code",
      "metadata": {
        "id": "J0IETmpazHDJ",
        "colab": {
          "base_uri": "https://localhost:8080/",
          "height": 168
        },
        "outputId": "d0a65ed7-fecf-402b-f8fd-f54f70b583c2"
      },
      "source": [
        "for ent in nlp(movies_final[\"overview\"][0]).ents:\n",
        "  print(ent.label_)"
      ],
      "execution_count": null,
      "outputs": [
        {
          "output_type": "stream",
          "text": [
            "PERSON\n",
            "PERSON\n",
            "PERSON\n",
            "PERSON\n",
            "PERSON\n",
            "PERSON\n",
            "ORG\n",
            "ORG\n",
            "PERSON\n"
          ],
          "name": "stdout"
        }
      ]
    },
    {
      "cell_type": "code",
      "metadata": {
        "id": "x86z18vbzG_k",
        "colab": {
          "base_uri": "https://localhost:8080/",
          "height": 120
        },
        "outputId": "857aab96-4398-4fb8-cd3f-d4daedb89744"
      },
      "source": [
        "# Visualising specific entities in separate sentences with different colour per entity\n",
        "# https://www.w3schools.com/css/css3_gradients.asp\n",
        "\n",
        "colors = {'ORG': 'linear-gradient(90deg, #aa9cfc, #fc9ce7)', 'PERSON': 'radial-gradient(yellow, green)'}\n",
        "\n",
        "options = {'ents': ['ORG', 'PERSON'], \"colors\" : colors}\n",
        "\n",
        "for sentence in document.sents:\n",
        "    displacy.render(nlp(sentence.text), style='ent', jupyter=True, options=options)"
      ],
      "execution_count": null,
      "outputs": [
        {
          "output_type": "display_data",
          "data": {
            "text/html": [
              "<span class=\"tex2jax_ignore\"><div class=\"entities\" style=\"line-height: 2.5; direction: ltr\">Led by \n",
              "<mark class=\"entity\" style=\"background: radial-gradient(yellow, green); padding: 0.45em 0.6em; margin: 0 0.25em; line-height: 1; border-radius: 0.35em;\">\n",
              "    Woody\n",
              "    <span style=\"font-size: 0.8em; font-weight: bold; line-height: 1; border-radius: 0.35em; text-transform: uppercase; vertical-align: middle; margin-left: 0.5rem\">PERSON</span>\n",
              "</mark>\n",
              ", \n",
              "<mark class=\"entity\" style=\"background: radial-gradient(yellow, green); padding: 0.45em 0.6em; margin: 0 0.25em; line-height: 1; border-radius: 0.35em;\">\n",
              "    Andy\n",
              "    <span style=\"font-size: 0.8em; font-weight: bold; line-height: 1; border-radius: 0.35em; text-transform: uppercase; vertical-align: middle; margin-left: 0.5rem\">PERSON</span>\n",
              "</mark>\n",
              "'s toys live happily in his room until \n",
              "<mark class=\"entity\" style=\"background: radial-gradient(yellow, green); padding: 0.45em 0.6em; margin: 0 0.25em; line-height: 1; border-radius: 0.35em;\">\n",
              "    Andy\n",
              "    <span style=\"font-size: 0.8em; font-weight: bold; line-height: 1; border-radius: 0.35em; text-transform: uppercase; vertical-align: middle; margin-left: 0.5rem\">PERSON</span>\n",
              "</mark>\n",
              "'s birthday brings \n",
              "<mark class=\"entity\" style=\"background: radial-gradient(yellow, green); padding: 0.45em 0.6em; margin: 0 0.25em; line-height: 1; border-radius: 0.35em;\">\n",
              "    Buzz Lightyear\n",
              "    <span style=\"font-size: 0.8em; font-weight: bold; line-height: 1; border-radius: 0.35em; text-transform: uppercase; vertical-align: middle; margin-left: 0.5rem\">PERSON</span>\n",
              "</mark>\n",
              " onto the scene.</div></span>"
            ],
            "text/plain": [
              "<IPython.core.display.HTML object>"
            ]
          },
          "metadata": {
            "tags": []
          }
        },
        {
          "output_type": "display_data",
          "data": {
            "text/html": [
              "<span class=\"tex2jax_ignore\"><div class=\"entities\" style=\"line-height: 2.5; direction: ltr\">Afraid of losing his place in \n",
              "<mark class=\"entity\" style=\"background: radial-gradient(yellow, green); padding: 0.45em 0.6em; margin: 0 0.25em; line-height: 1; border-radius: 0.35em;\">\n",
              "    Andy\n",
              "    <span style=\"font-size: 0.8em; font-weight: bold; line-height: 1; border-radius: 0.35em; text-transform: uppercase; vertical-align: middle; margin-left: 0.5rem\">PERSON</span>\n",
              "</mark>\n",
              "'s heart, \n",
              "<mark class=\"entity\" style=\"background: radial-gradient(yellow, green); padding: 0.45em 0.6em; margin: 0 0.25em; line-height: 1; border-radius: 0.35em;\">\n",
              "    Woody\n",
              "    <span style=\"font-size: 0.8em; font-weight: bold; line-height: 1; border-radius: 0.35em; text-transform: uppercase; vertical-align: middle; margin-left: 0.5rem\">PERSON</span>\n",
              "</mark>\n",
              " plots against \n",
              "<mark class=\"entity\" style=\"background: linear-gradient(90deg, #aa9cfc, #fc9ce7); padding: 0.45em 0.6em; margin: 0 0.25em; line-height: 1; border-radius: 0.35em;\">\n",
              "    Buzz\n",
              "    <span style=\"font-size: 0.8em; font-weight: bold; line-height: 1; border-radius: 0.35em; text-transform: uppercase; vertical-align: middle; margin-left: 0.5rem\">ORG</span>\n",
              "</mark>\n",
              ".</div></span>"
            ],
            "text/plain": [
              "<IPython.core.display.HTML object>"
            ]
          },
          "metadata": {
            "tags": []
          }
        },
        {
          "output_type": "display_data",
          "data": {
            "text/html": [
              "<span class=\"tex2jax_ignore\"><div class=\"entities\" style=\"line-height: 2.5; direction: ltr\">But when circumstances separate \n",
              "<mark class=\"entity\" style=\"background: linear-gradient(90deg, #aa9cfc, #fc9ce7); padding: 0.45em 0.6em; margin: 0 0.25em; line-height: 1; border-radius: 0.35em;\">\n",
              "    Buzz\n",
              "    <span style=\"font-size: 0.8em; font-weight: bold; line-height: 1; border-radius: 0.35em; text-transform: uppercase; vertical-align: middle; margin-left: 0.5rem\">ORG</span>\n",
              "</mark>\n",
              " and \n",
              "<mark class=\"entity\" style=\"background: radial-gradient(yellow, green); padding: 0.45em 0.6em; margin: 0 0.25em; line-height: 1; border-radius: 0.35em;\">\n",
              "    Woody\n",
              "    <span style=\"font-size: 0.8em; font-weight: bold; line-height: 1; border-radius: 0.35em; text-transform: uppercase; vertical-align: middle; margin-left: 0.5rem\">PERSON</span>\n",
              "</mark>\n",
              " from their owner, the duo eventually learns to put aside their differences.</div></span>"
            ],
            "text/plain": [
              "<IPython.core.display.HTML object>"
            ]
          },
          "metadata": {
            "tags": []
          }
        }
      ]
    },
    {
      "cell_type": "markdown",
      "metadata": {
        "id": "gxSPf7uGx4PN"
      },
      "source": [
        "### Visualisation - Frequency of entities, i.e. \"`entity.label_`\" "
      ]
    },
    {
      "cell_type": "code",
      "metadata": {
        "id": "KxSNYIbEG_U3"
      },
      "source": [
        "# setting a large nlp length in order to avoid crushes\n",
        "nlp.max_length = 90000000 \n",
        "\n",
        "# Convert series to string for entity exploration\n",
        "movies_all_overviews_1= nlp(movies_final[\"overview\"][:25000].to_string()) # the first 25,000 overviews\n",
        "\n",
        "\n",
        "# totally there are 18 entity categories availabe (NER tags)\n",
        "# below: a fine-grained grouping-> to 13 categories\n",
        "entity_persons=0\n",
        "entity_time=0         # \"Date\" or \"Cardinal\" or \"Time\"\n",
        "entity_locations=0    # \"GPE\" or \"LOC\"\n",
        "entity_art=0\n",
        "entity_product=0\n",
        "entity_norp=0\n",
        "entity_fac_org=0      # \"FAC\" or \"ORG\"\n",
        "entity_events=0\n",
        "entity_law=0\n",
        "entity_language=0\n",
        "entity_measurements=0 # \"Percent\" or \"Ordinal\" \n",
        "entity_money=0\n",
        "entity_quantity=0\n",
        "\n",
        "for entity in movies_all_overviews_1.ents:\n",
        "\n",
        "  if entity.label_ == \"PERSON\":\n",
        "    entity_persons=entity_persons+1\n",
        "\n",
        "  elif entity.label_==\"DATE\" or entity.label_==\"CARDINAL\" or entity.label == \"TIME\":\n",
        "    entity_time==entity_time+1\n",
        "\n",
        "  elif entity.label_==\"GPE\" or entity.label_ == \"LOC\":\n",
        "    entity_locations=entity_locations+1\n",
        "\n",
        "  elif entity.label_==\"WORK_OF_ART\":\n",
        "    entity_art=entity_art+1\n",
        "\n",
        "  elif entity.label_==\"PRODUCT\":\n",
        "    entity_product= entity_product+1\n",
        "\n",
        "  elif entity.label_==\"NORP\":\n",
        "    entity_norp=entity_norp+1\n",
        "\n",
        "  elif entity.label_==\"FAC\" or entity.label_== \"ORG\":\n",
        "    entity_fac_org=entity_fac_org+1\n",
        "  \n",
        "  elif entity.label_==\"EVENT\":\n",
        "    entity_events=entity_events+1\n",
        "\n",
        "  elif entity.label_==\"LAW\":\n",
        "    entity_law=entity_law+1\n",
        "\n",
        "  elif entity.label_==\"LANGUAGE\":\n",
        "    entity_language=entity_language+1\n",
        "\n",
        "  elif entity.label_==\"PERCENT\" or entity.label_== \"ORDINAL\":\n",
        "    entity_measurements=entity_measurements+1\n",
        "\n",
        "  elif entity.label_==\"MONEY\":\n",
        "    entity_money=entity_money+1\n",
        "\n",
        "  elif entity.label_==\"QUANTITY\":\n",
        "    entity_quantity=entity_quantity+1\n"
      ],
      "execution_count": null,
      "outputs": []
    },
    {
      "cell_type": "code",
      "metadata": {
        "id": "iwgsbVBMHYZe",
        "colab": {
          "base_uri": "https://localhost:8080/",
          "height": 34
        },
        "outputId": "882be9dc-0785-4fd9-f3e8-e4ca9468f040"
      },
      "source": [
        "entity_persons"
      ],
      "execution_count": null,
      "outputs": [
        {
          "output_type": "execute_result",
          "data": {
            "text/plain": [
              "11691"
            ]
          },
          "metadata": {
            "tags": []
          },
          "execution_count": 58
        }
      ]
    },
    {
      "cell_type": "code",
      "metadata": {
        "id": "3VuoNBwsHaYM",
        "colab": {
          "base_uri": "https://localhost:8080/",
          "height": 34
        },
        "outputId": "3b189af7-96f3-4893-ef43-336073ad6f5a"
      },
      "source": [
        "entity_time"
      ],
      "execution_count": null,
      "outputs": [
        {
          "output_type": "execute_result",
          "data": {
            "text/plain": [
              "0"
            ]
          },
          "metadata": {
            "tags": []
          },
          "execution_count": 59
        }
      ]
    },
    {
      "cell_type": "code",
      "metadata": {
        "id": "MLcYmmS8lN9X"
      },
      "source": [
        "# setting a large nlp length in order to avoid crushes\n",
        "nlp.max_length = 90000000 \n",
        "\n",
        "# Convert series to string for entity exploration\n",
        "movies_all_overviews_2= nlp(movies_final[\"overview\"][25000:].to_string()) # the rest of movie overviews\n",
        "\n",
        "\n",
        "for entity in movies_all_overviews_2.ents:\n",
        "\n",
        "  if entity.label_ == \"PERSON\":\n",
        "    entity_persons=entity_persons+1\n",
        "\n",
        "  elif entity.label_==\"DATE\" or entity.label_==\"CARDINAL\" or entity.label == \"TIME\":\n",
        "    entity_time==entity_time+1\n",
        "\n",
        "  elif entity.label_==\"GPE\" or entity.label_ == \"LOC\":\n",
        "    entity_locations=entity_locations+1\n",
        "\n",
        "  elif entity.label_==\"WORK_OF_ART\":\n",
        "    entity_art=entity_art+1\n",
        "\n",
        "  elif entity.label_==\"PRODUCT\":\n",
        "    entity_product= entity_product+1\n",
        "\n",
        "  elif entity.label_==\"NORP\":\n",
        "    entity_norp=entity_norp+1\n",
        "\n",
        "  elif entity.label_==\"FAC\" or entity.label_== \"ORG\":\n",
        "    entity_fac_org=entity_fac_org+1\n",
        "  \n",
        "  elif entity.label_==\"EVENT\":\n",
        "    entity_events=entity_events+1\n",
        "\n",
        "  elif entity.label_==\"LAW\":\n",
        "    entity_law=entity_law+1\n",
        "\n",
        "  elif entity.label_==\"LANGUAGE\":\n",
        "    entity_language=entity_language+1\n",
        "\n",
        "  elif entity.label_==\"PERCENT\" or entity.label_== \"ORDINAL\":\n",
        "    entity_measurements=entity_measurements+1\n",
        "\n",
        "  elif entity.label_==\"MONEY\":\n",
        "    entity_money=entity_money+1\n",
        "\n",
        "  elif entity.label_==\"QUANTITY\":\n",
        "    entity_quantity=entity_quantity+1"
      ],
      "execution_count": null,
      "outputs": []
    },
    {
      "cell_type": "code",
      "metadata": {
        "id": "uZq4Mk_xDOmb",
        "colab": {
          "base_uri": "https://localhost:8080/",
          "height": 34
        },
        "outputId": "2631349b-db13-454b-9bba-21a5018d66d2"
      },
      "source": [
        "entity_persons"
      ],
      "execution_count": null,
      "outputs": [
        {
          "output_type": "execute_result",
          "data": {
            "text/plain": [
              "25249"
            ]
          },
          "metadata": {
            "tags": []
          },
          "execution_count": 61
        }
      ]
    },
    {
      "cell_type": "code",
      "metadata": {
        "id": "LUGFwsA2DOzM",
        "colab": {
          "base_uri": "https://localhost:8080/",
          "height": 34
        },
        "outputId": "8a7304bc-203f-4fe5-e171-475709f18d4d"
      },
      "source": [
        "entity_time"
      ],
      "execution_count": null,
      "outputs": [
        {
          "output_type": "execute_result",
          "data": {
            "text/plain": [
              "0"
            ]
          },
          "metadata": {
            "tags": []
          },
          "execution_count": 62
        }
      ]
    },
    {
      "cell_type": "code",
      "metadata": {
        "id": "rpkx9dtjDOib",
        "colab": {
          "base_uri": "https://localhost:8080/",
          "height": 452
        },
        "outputId": "af8a6f0c-093b-493d-928c-c7cb49f15731"
      },
      "source": [
        "import matplotlib.pyplot as plt; plt.rcdefaults()\n",
        "import numpy as np\n",
        "import matplotlib.pyplot as plt\n",
        "\n",
        "objects = ('Persons', 'Time', 'Locations', 'Art', 'Product', 'NORP', \"FAC-ORG\", \"Events\", \"Law\", \"Language\", \"Measurements\", \"Money\", \"Quantity\")\n",
        "y_pos = np.arange(len(objects))\n",
        "performance = [entity_persons, entity_time, entity_locations, entity_art, entity_product, entity_norp, \n",
        "               entity_fac_org, entity_events, entity_law, entity_language, \n",
        "               entity_measurements, entity_money, entity_quantity]\n",
        "\n",
        "plt.barh(y_pos, performance, align='center', alpha=0.5)\n",
        "plt.yticks(y_pos, objects) \n",
        "plt.ylabel('Entities')\n",
        "plt.title('Number of Entities')\n",
        "\n",
        "plt.show()"
      ],
      "execution_count": null,
      "outputs": [
        {
          "output_type": "display_data",
          "data": {
            "image/png": "[encoded data removed]",
            "text/plain": [
              "<Figure size 640x480 with 1 Axes>"
            ]
          },
          "metadata": {
            "tags": []
          }
        }
      ]
    },
    {
      "cell_type": "code",
      "metadata": {
        "id": "4s9d37Or4VEQ",
        "colab": {
          "base_uri": "https://localhost:8080/",
          "height": 102
        },
        "outputId": "699c038d-6db0-4951-d4e8-b9bb54fc5613"
      },
      "source": [
        "'''\n",
        "import matplotlib.pyplot as plt\n",
        "\n",
        "all= len(movies_all_overviews_1.ents) + len(movies_all_overviews_2.ents)\n",
        "\n",
        "others = all-entity_persons-entity_locations-entity_norp-entity_art-entity_product-entity_events-entity_fac_org-entity_events-entity_fac_org-entity_product\n",
        "\n",
        "data = ((entity_persons/all*100),(entity_locations/all*100), (entity_norp/all*100), (entity_art/all*100),\n",
        "                others/all*100)\n",
        "\n",
        "explode= (0.04,0.04,0,0.19,0.1)\n",
        "\n",
        "fig1, ax1 = plt.subplots(figsize=(9,6))\n",
        "\n",
        "ax1.pie(data, explode=explode, labels=labels, autopct='%1.1f%%',\n",
        "        shadow=True, startangle=90)\n",
        "ax1.axis('equal')  # Equal aspect ratio ensures that pie is drawn as a circle.\n",
        "plt.title(\"Percentage of NER Tags Allocation in Dataset\", fontweight=\"bold\", fontsize=10)\n",
        "plt.show()\n",
        "'''"
      ],
      "execution_count": null,
      "outputs": [
        {
          "output_type": "execute_result",
          "data": {
            "application/vnd.google.colaboratory.intrinsic+json": {
              "type": "string"
            },
            "text/plain": [
              "'\\nimport matplotlib.pyplot as plt\\n\\nall= len(movies_all_overviews_1.ents) + len(movies_all_overviews_2.ents)\\n\\nothers = all-entity_persons-entity_locations-entity_norp-entity_art-entity_product-entity_events-entity_fac_org-entity_events-entity_fac_org-entity_product\\n\\ndata = ((entity_persons/all*100),(entity_locations/all*100), (entity_norp/all*100), (entity_art/all*100),\\n                others/all*100)\\n\\nexplode= (0.04,0.04,0,0.19,0.1)\\n\\nfig1, ax1 = plt.subplots(figsize=(9,6))\\n\\nax1.pie(data, explode=explode, labels=labels, autopct=\\'%1.1f%%\\',\\n        shadow=True, startangle=90)\\nax1.axis(\\'equal\\')  # Equal aspect ratio ensures that pie is drawn as a circle.\\nplt.title(\"Percentage of NER Tags Allocation in Dataset\", fontweight=\"bold\", fontsize=10)\\nplt.show()\\n'"
            ]
          },
          "metadata": {
            "tags": []
          },
          "execution_count": 64
        }
      ]
    },
    {
      "cell_type": "code",
      "metadata": {
        "id": "kn1ymWz1OZhJ",
        "colab": {
          "base_uri": "https://localhost:8080/",
          "height": 518
        },
        "outputId": "f00b6f6f-ec94-4ff4-e406-1eee137c7cab"
      },
      "source": [
        "import matplotlib.pyplot as plt \n",
        "labels= [\"Persons\", \"Locations\", \"NORP\", \"Art\", \"Others\"]\n",
        "\n",
        "#total number of entities\n",
        "all= len(movies_all_overviews_1.ents) + len(movies_all_overviews_2.ents)\n",
        "\n",
        "others = all-entity_persons-entity_locations-entity_norp-entity_art-entity_product-entity_events-entity_fac_org-entity_events-entity_fac_org-entity_product\n",
        "\n",
        "data = ((entity_persons/all*100),(entity_locations/all*100), (entity_norp/all*100), (entity_art/all*100),\n",
        "                others/all*100)\n",
        "\n",
        "explode= (0.07,0.07,0,0.27,0.1)\n",
        "\n",
        "colors = ( \"orange\", \"cyan\", \"brown\", \n",
        "          \"grey\", \"indigo\", \"beige\") \n",
        "\n",
        "# Wedge properties \n",
        "wp = { 'linewidth' : 1, 'edgecolor' : \"green\" }\n",
        "\n",
        "\n",
        "# Creating autocpt arguments \n",
        "def func(pct, allvalues): \n",
        "    absolute = int(pct / 100.*np.sum(all)) \n",
        "    return \"{:.1f}%\\n({:d} tags)\".format(pct, absolute) \n",
        "\n",
        "\n",
        "# Creating plot \n",
        "fig, ax = plt.subplots(figsize =(9, 6)) \n",
        "wedges, texts, autotexts = ax.pie(data,  \n",
        "                                  autopct = lambda pct: func(pct, data), \n",
        "                                  explode = explode,  \n",
        "                                  labels = labels, \n",
        "                                  shadow = True, \n",
        "                                  colors = colors, \n",
        "                                  startangle = 90, \n",
        "                                  wedgeprops = wp, \n",
        "                                  textprops = dict(color =\"black\")) \n",
        "\n",
        "# Adding legend \n",
        "ax.legend(wedges, labels, \n",
        "          title =\"Entity Labels\", \n",
        "          loc =\"center left\", \n",
        "          bbox_to_anchor =(1, 0, 0.5, 1)) \n",
        "\n",
        "plt.setp(autotexts, size = 8, weight =\"bold\") \n",
        "ax.set_title(\"Percentage of NER Tags Allocation in Dataset\", fontweight=\"bold\", fontsize=10)\n",
        "\n",
        "plt.show() \n"
      ],
      "execution_count": null,
      "outputs": [
        {
          "output_type": "display_data",
          "data": {
            "image/png": "[encoded data removed]",
            "text/plain": [
              "<Figure size 900x600 with 1 Axes>"
            ]
          },
          "metadata": {
            "tags": []
          }
        }
      ]
    },
    {
      "cell_type": "markdown",
      "metadata": {
        "id": "Xsp6_ruVEWg9"
      },
      "source": [
        "## Adding column \"entities\" to `movies_final` dataframe"
      ]
    },
    {
      "cell_type": "code",
      "metadata": {
        "id": "5ukO_aJVlN6t",
        "colab": {
          "base_uri": "https://localhost:8080/",
          "height": 363
        },
        "outputId": "841ead94-19ef-4d80-cff7-c70c820353ae"
      },
      "source": [
        "movies_final.head()"
      ],
      "execution_count": null,
      "outputs": [
        {
          "output_type": "execute_result",
          "data": {
            "text/html": [
              "<div>\n",
              "<style scoped>\n",
              "    .dataframe tbody tr th:only-of-type {\n",
              "        vertical-align: middle;\n",
              "    }\n",
              "\n",
              "    .dataframe tbody tr th {\n",
              "        vertical-align: top;\n",
              "    }\n",
              "\n",
              "    .dataframe thead th {\n",
              "        text-align: right;\n",
              "    }\n",
              "</style>\n",
              "<table border=\"1\" class=\"dataframe\">\n",
              "  <thead>\n",
              "    <tr style=\"text-align: right;\">\n",
              "      <th></th>\n",
              "      <th>movieId</th>\n",
              "      <th>tmdbId</th>\n",
              "      <th>title</th>\n",
              "      <th>genres</th>\n",
              "      <th>overview</th>\n",
              "      <th>Vader_score</th>\n",
              "      <th>Vader_compound</th>\n",
              "      <th>Vader_polarity</th>\n",
              "      <th>NMF_topic</th>\n",
              "      <th>NMF_topic_description</th>\n",
              "    </tr>\n",
              "  </thead>\n",
              "  <tbody>\n",
              "    <tr>\n",
              "      <th>0</th>\n",
              "      <td>1</td>\n",
              "      <td>862.0</td>\n",
              "      <td>Toy Story (1995)</td>\n",
              "      <td>Adventure|Animation|Children|Comedy|Fantasy</td>\n",
              "      <td>Led by Woody, Andy's toys live happily in his ...</td>\n",
              "      <td>{'neg': 0.048, 'neu': 0.886, 'pos': 0.066, 'co...</td>\n",
              "      <td>0.2500</td>\n",
              "      <td>positive</td>\n",
              "      <td>0</td>\n",
              "      <td>Battle|Offence</td>\n",
              "    </tr>\n",
              "    <tr>\n",
              "      <th>1</th>\n",
              "      <td>2</td>\n",
              "      <td>8844.0</td>\n",
              "      <td>Jumanji (1995)</td>\n",
              "      <td>Adventure|Children|Fantasy</td>\n",
              "      <td>When siblings Judy and Peter discover an encha...</td>\n",
              "      <td>{'neg': 0.161, 'neu': 0.702, 'pos': 0.137, 'co...</td>\n",
              "      <td>-0.4588</td>\n",
              "      <td>negative</td>\n",
              "      <td>5</td>\n",
              "      <td>War|Crime</td>\n",
              "    </tr>\n",
              "    <tr>\n",
              "      <th>2</th>\n",
              "      <td>3</td>\n",
              "      <td>15602.0</td>\n",
              "      <td>Grumpier Old Men (1995)</td>\n",
              "      <td>Comedy|Romance</td>\n",
              "      <td>A family wedding reignites the ancient feud be...</td>\n",
              "      <td>{'neg': 0.168, 'neu': 0.791, 'pos': 0.041, 'co...</td>\n",
              "      <td>-0.7645</td>\n",
              "      <td>negative</td>\n",
              "      <td>6</td>\n",
              "      <td>Family|Relatives</td>\n",
              "    </tr>\n",
              "    <tr>\n",
              "      <th>3</th>\n",
              "      <td>4</td>\n",
              "      <td>31357.0</td>\n",
              "      <td>Waiting to Exhale (1995)</td>\n",
              "      <td>Comedy|Drama|Romance</td>\n",
              "      <td>Cheated on, mistreated and stepped on, the wom...</td>\n",
              "      <td>{'neg': 0.06, 'neu': 0.673, 'pos': 0.267, 'com...</td>\n",
              "      <td>0.8860</td>\n",
              "      <td>positive</td>\n",
              "      <td>1</td>\n",
              "      <td>Affairs|Mystery</td>\n",
              "    </tr>\n",
              "    <tr>\n",
              "      <th>4</th>\n",
              "      <td>5</td>\n",
              "      <td>11862.0</td>\n",
              "      <td>Father of the Bride Part II (1995)</td>\n",
              "      <td>Comedy</td>\n",
              "      <td>Just when George Banks has recovered from his ...</td>\n",
              "      <td>{'neg': 0.0, 'neu': 0.944, 'pos': 0.056, 'comp...</td>\n",
              "      <td>0.5023</td>\n",
              "      <td>positive</td>\n",
              "      <td>0</td>\n",
              "      <td>Battle|Offence</td>\n",
              "    </tr>\n",
              "  </tbody>\n",
              "</table>\n",
              "</div>"
            ],
            "text/plain": [
              "   movieId   tmdbId  ... NMF_topic NMF_topic_description\n",
              "0        1    862.0  ...         0        Battle|Offence\n",
              "1        2   8844.0  ...         5             War|Crime\n",
              "2        3  15602.0  ...         6      Family|Relatives\n",
              "3        4  31357.0  ...         1       Affairs|Mystery\n",
              "4        5  11862.0  ...         0        Battle|Offence\n",
              "\n",
              "[5 rows x 10 columns]"
            ]
          },
          "metadata": {
            "tags": []
          },
          "execution_count": 66
        }
      ]
    },
    {
      "cell_type": "code",
      "metadata": {
        "id": "newo_40fL-VC",
        "colab": {
          "base_uri": "https://localhost:8080/",
          "height": 70
        },
        "outputId": "4afdab69-1d87-4b4e-d5f7-6955a4e6a442"
      },
      "source": [
        "movies_final.loc[movies_final[\"movieId\"] == 3].overview.values"
      ],
      "execution_count": null,
      "outputs": [
        {
          "output_type": "execute_result",
          "data": {
            "text/plain": [
              "array([\"A family wedding reignites the ancient feud between next-door neighbors and fishing buddies John and Max. Meanwhile, a sultry Italian divorcée opens a restaurant at the local bait shop, alarming the locals who worry she'll scare the fish away. But she's less interested in seafood than she is in cooking up a hot time with Max.\"],\n",
              "      dtype=object)"
            ]
          },
          "metadata": {
            "tags": []
          },
          "execution_count": 67
        }
      ]
    },
    {
      "cell_type": "code",
      "metadata": {
        "id": "D8NThhRoMCV-",
        "colab": {
          "base_uri": "https://localhost:8080/",
          "height": 52
        },
        "outputId": "7c51808c-f089-4162-c57e-aba61293839c"
      },
      "source": [
        "movies_final.loc[movies_final[\"movieId\"] == 3].overview.values[0]"
      ],
      "execution_count": null,
      "outputs": [
        {
          "output_type": "execute_result",
          "data": {
            "application/vnd.google.colaboratory.intrinsic+json": {
              "type": "string"
            },
            "text/plain": [
              "\"A family wedding reignites the ancient feud between next-door neighbors and fishing buddies John and Max. Meanwhile, a sultry Italian divorcée opens a restaurant at the local bait shop, alarming the locals who worry she'll scare the fish away. But she's less interested in seafood than she is in cooking up a hot time with Max.\""
            ]
          },
          "metadata": {
            "tags": []
          },
          "execution_count": 68
        }
      ]
    },
    {
      "cell_type": "code",
      "metadata": {
        "id": "zIbkr87LlN33"
      },
      "source": [
        "movies_final[\"entities\"] = \"\"\n",
        "for index in range(len(movies_final)):\n",
        "  document = nlp(movies_final.loc[index,].overview)\n",
        "  entities = []\n",
        "  for entity in document.ents:\n",
        "    entities.append(entity.label_)\n",
        "  entities_str = '|'.join(entities)\n",
        "  movies_final.loc[index,\"entities\"] = entities_str"
      ],
      "execution_count": null,
      "outputs": []
    },
    {
      "cell_type": "code",
      "metadata": {
        "id": "rNvRbSh1lN1v",
        "colab": {
          "base_uri": "https://localhost:8080/"
        },
        "outputId": "740013c6-259d-47d9-db83-f4e5f818cb76"
      },
      "source": [
        "movies_final.head()"
      ],
      "execution_count": null,
      "outputs": [
        {
          "output_type": "execute_result",
          "data": {
            "text/html": [
              "<div>\n",
              "<style scoped>\n",
              "    .dataframe tbody tr th:only-of-type {\n",
              "        vertical-align: middle;\n",
              "    }\n",
              "\n",
              "    .dataframe tbody tr th {\n",
              "        vertical-align: top;\n",
              "    }\n",
              "\n",
              "    .dataframe thead th {\n",
              "        text-align: right;\n",
              "    }\n",
              "</style>\n",
              "<table border=\"1\" class=\"dataframe\">\n",
              "  <thead>\n",
              "    <tr style=\"text-align: right;\">\n",
              "      <th></th>\n",
              "      <th>movieId</th>\n",
              "      <th>tmdbId</th>\n",
              "      <th>title</th>\n",
              "      <th>genres</th>\n",
              "      <th>overview</th>\n",
              "      <th>Vader_score</th>\n",
              "      <th>Vader_compound</th>\n",
              "      <th>Vader_polarity</th>\n",
              "      <th>NMF_topic</th>\n",
              "      <th>NMF_topic_description</th>\n",
              "      <th>entities</th>\n",
              "    </tr>\n",
              "  </thead>\n",
              "  <tbody>\n",
              "    <tr>\n",
              "      <th>0</th>\n",
              "      <td>1</td>\n",
              "      <td>862.0</td>\n",
              "      <td>Toy Story (1995)</td>\n",
              "      <td>Adventure|Animation|Children|Comedy|Fantasy</td>\n",
              "      <td>Led by Woody, Andy's toys live happily in his ...</td>\n",
              "      <td>{'neg': 0.048, 'neu': 0.886, 'pos': 0.066, 'co...</td>\n",
              "      <td>0.2500</td>\n",
              "      <td>positive</td>\n",
              "      <td>0</td>\n",
              "      <td>Battle|Offence</td>\n",
              "      <td>PERSON|PERSON|PERSON|PERSON|PERSON|PERSON|ORG|...</td>\n",
              "    </tr>\n",
              "    <tr>\n",
              "      <th>1</th>\n",
              "      <td>2</td>\n",
              "      <td>8844.0</td>\n",
              "      <td>Jumanji (1995)</td>\n",
              "      <td>Adventure|Children|Fantasy</td>\n",
              "      <td>When siblings Judy and Peter discover an encha...</td>\n",
              "      <td>{'neg': 0.161, 'neu': 0.702, 'pos': 0.137, 'co...</td>\n",
              "      <td>-0.4588</td>\n",
              "      <td>negative</td>\n",
              "      <td>5</td>\n",
              "      <td>War|Crime</td>\n",
              "      <td>PERSON|PERSON|ORG|PERSON|DATE|PERSON|CARDINAL</td>\n",
              "    </tr>\n",
              "    <tr>\n",
              "      <th>2</th>\n",
              "      <td>3</td>\n",
              "      <td>15602.0</td>\n",
              "      <td>Grumpier Old Men (1995)</td>\n",
              "      <td>Comedy|Romance</td>\n",
              "      <td>A family wedding reignites the ancient feud be...</td>\n",
              "      <td>{'neg': 0.168, 'neu': 0.791, 'pos': 0.041, 'co...</td>\n",
              "      <td>-0.7645</td>\n",
              "      <td>negative</td>\n",
              "      <td>6</td>\n",
              "      <td>Family|Relatives</td>\n",
              "      <td>PERSON|PERSON|NORP|PERSON</td>\n",
              "    </tr>\n",
              "    <tr>\n",
              "      <th>3</th>\n",
              "      <td>4</td>\n",
              "      <td>31357.0</td>\n",
              "      <td>Waiting to Exhale (1995)</td>\n",
              "      <td>Comedy|Drama|Romance</td>\n",
              "      <td>Cheated on, mistreated and stepped on, the wom...</td>\n",
              "      <td>{'neg': 0.06, 'neu': 0.673, 'pos': 0.267, 'com...</td>\n",
              "      <td>0.8860</td>\n",
              "      <td>positive</td>\n",
              "      <td>1</td>\n",
              "      <td>Affairs|Mystery</td>\n",
              "      <td>PERSON|PERSON|PERSON|PERSON</td>\n",
              "    </tr>\n",
              "    <tr>\n",
              "      <th>4</th>\n",
              "      <td>5</td>\n",
              "      <td>11862.0</td>\n",
              "      <td>Father of the Bride Part II (1995)</td>\n",
              "      <td>Comedy</td>\n",
              "      <td>Just when George Banks has recovered from his ...</td>\n",
              "      <td>{'neg': 0.0, 'neu': 0.944, 'pos': 0.056, 'comp...</td>\n",
              "      <td>0.5023</td>\n",
              "      <td>positive</td>\n",
              "      <td>0</td>\n",
              "      <td>Battle|Offence</td>\n",
              "      <td>PERSON|PERSON|PERSON|PERSON</td>\n",
              "    </tr>\n",
              "  </tbody>\n",
              "</table>\n",
              "</div>"
            ],
            "text/plain": [
              "   movieId  ...                                           entities\n",
              "0        1  ...  PERSON|PERSON|PERSON|PERSON|PERSON|PERSON|ORG|...\n",
              "1        2  ...      PERSON|PERSON|ORG|PERSON|DATE|PERSON|CARDINAL\n",
              "2        3  ...                          PERSON|PERSON|NORP|PERSON\n",
              "3        4  ...                        PERSON|PERSON|PERSON|PERSON\n",
              "4        5  ...                        PERSON|PERSON|PERSON|PERSON\n",
              "\n",
              "[5 rows x 11 columns]"
            ]
          },
          "metadata": {
            "tags": []
          },
          "execution_count": 70
        }
      ]
    },
    {
      "cell_type": "code",
      "metadata": {
        "id": "XwEsEPaGLYhF",
        "colab": {
          "base_uri": "https://localhost:8080/"
        },
        "outputId": "7eedb33f-cfdd-4764-c058-669367e76610"
      },
      "source": [
        "# making sure entities are correctly displayed\n",
        "\n",
        "# grapping the entities of the 1st movie overview\n",
        "document= nlp(movies_final[\"overview\"][0])\n",
        "for entity in document.ents:\n",
        "  print(entity.label_)"
      ],
      "execution_count": null,
      "outputs": [
        {
          "output_type": "stream",
          "text": [
            "PERSON\n",
            "PERSON\n",
            "PERSON\n",
            "PERSON\n",
            "PERSON\n",
            "PERSON\n",
            "ORG\n",
            "ORG\n",
            "PERSON\n"
          ],
          "name": "stdout"
        }
      ]
    },
    {
      "cell_type": "code",
      "metadata": {
        "id": "oK1iN1qTO-zh",
        "colab": {
          "base_uri": "https://localhost:8080/"
        },
        "outputId": "c436e858-30b6-4915-9f08-d96bd8be98a8"
      },
      "source": [
        "# compare the above with the first row of the new movies_final dataframe\n",
        "\n",
        "movies_final.entities[0]\n",
        "# it seems ok"
      ],
      "execution_count": null,
      "outputs": [
        {
          "output_type": "execute_result",
          "data": {
            "application/vnd.google.colaboratory.intrinsic+json": {
              "type": "string"
            },
            "text/plain": [
              "'PERSON|PERSON|PERSON|PERSON|PERSON|PERSON|ORG|ORG|PERSON'"
            ]
          },
          "metadata": {
            "tags": []
          },
          "execution_count": 72
        }
      ]
    },
    {
      "cell_type": "code",
      "metadata": {
        "id": "1dtl6HTMPdL1",
        "colab": {
          "base_uri": "https://localhost:8080/"
        },
        "outputId": "30c670a1-4262-4b11-f693-9169116e9454"
      },
      "source": [
        "movies_final.head(1)"
      ],
      "execution_count": null,
      "outputs": [
        {
          "output_type": "execute_result",
          "data": {
            "text/html": [
              "<div>\n",
              "<style scoped>\n",
              "    .dataframe tbody tr th:only-of-type {\n",
              "        vertical-align: middle;\n",
              "    }\n",
              "\n",
              "    .dataframe tbody tr th {\n",
              "        vertical-align: top;\n",
              "    }\n",
              "\n",
              "    .dataframe thead th {\n",
              "        text-align: right;\n",
              "    }\n",
              "</style>\n",
              "<table border=\"1\" class=\"dataframe\">\n",
              "  <thead>\n",
              "    <tr style=\"text-align: right;\">\n",
              "      <th></th>\n",
              "      <th>movieId</th>\n",
              "      <th>tmdbId</th>\n",
              "      <th>title</th>\n",
              "      <th>genres</th>\n",
              "      <th>overview</th>\n",
              "      <th>Vader_score</th>\n",
              "      <th>Vader_compound</th>\n",
              "      <th>Vader_polarity</th>\n",
              "      <th>NMF_topic</th>\n",
              "      <th>NMF_topic_description</th>\n",
              "      <th>entities</th>\n",
              "    </tr>\n",
              "  </thead>\n",
              "  <tbody>\n",
              "    <tr>\n",
              "      <th>0</th>\n",
              "      <td>1</td>\n",
              "      <td>862.0</td>\n",
              "      <td>Toy Story (1995)</td>\n",
              "      <td>Adventure|Animation|Children|Comedy|Fantasy</td>\n",
              "      <td>Led by Woody, Andy's toys live happily in his ...</td>\n",
              "      <td>{'neg': 0.048, 'neu': 0.886, 'pos': 0.066, 'co...</td>\n",
              "      <td>0.25</td>\n",
              "      <td>positive</td>\n",
              "      <td>0</td>\n",
              "      <td>Battle|Offence</td>\n",
              "      <td>PERSON|PERSON|PERSON|PERSON|PERSON|PERSON|ORG|...</td>\n",
              "    </tr>\n",
              "  </tbody>\n",
              "</table>\n",
              "</div>"
            ],
            "text/plain": [
              "   movieId  ...                                           entities\n",
              "0        1  ...  PERSON|PERSON|PERSON|PERSON|PERSON|PERSON|ORG|...\n",
              "\n",
              "[1 rows x 11 columns]"
            ]
          },
          "metadata": {
            "tags": []
          },
          "execution_count": 73
        }
      ]
    },
    {
      "cell_type": "markdown",
      "metadata": {
        "id": "uLKqskW0LEOr"
      },
      "source": [
        "# Extracting `\"movies_final_2\"` dataframe into a csv file"
      ]
    },
    {
      "cell_type": "markdown",
      "metadata": {
        "id": "QVUfD9eQPLG8"
      },
      "source": [
        "Calling the new dataframe `movies_final_2`\n",
        "\n",
        "> Additionally to **movies_final** dataframe and csv file, it now also contains the following 6 features:\n",
        "- Vader_score\n",
        "- Vader_compound\n",
        "- Vader_polarity\n",
        "- NMF_topic\n",
        "- NMF_topic_description\n",
        "- entities"
      ]
    },
    {
      "cell_type": "code",
      "metadata": {
        "id": "lJ-B1VLaLXko",
        "colab": {
          "base_uri": "https://localhost:8080/"
        },
        "outputId": "0e619af5-167c-4d24-f86d-2b3a00913529"
      },
      "source": [
        "movies_final_2 = movies_final\n",
        "movies_final_2.shape"
      ],
      "execution_count": null,
      "outputs": [
        {
          "output_type": "execute_result",
          "data": {
            "text/plain": [
              "(55877, 11)"
            ]
          },
          "metadata": {
            "tags": []
          },
          "execution_count": 74
        }
      ]
    },
    {
      "cell_type": "code",
      "metadata": {
        "id": "gbUbm5U5D7ki",
        "colab": {
          "base_uri": "https://localhost:8080/"
        },
        "outputId": "85611a27-1225-4797-ec7f-d1b04f55dd0e"
      },
      "source": [
        "movies_final_2.info()"
      ],
      "execution_count": null,
      "outputs": [
        {
          "output_type": "stream",
          "text": [
            "<class 'pandas.core.frame.DataFrame'>\n",
            "RangeIndex: 55877 entries, 0 to 55876\n",
            "Data columns (total 11 columns):\n",
            " #   Column                 Non-Null Count  Dtype  \n",
            "---  ------                 --------------  -----  \n",
            " 0   movieId                55877 non-null  int64  \n",
            " 1   tmdbId                 55877 non-null  float64\n",
            " 2   title                  55877 non-null  object \n",
            " 3   genres                 55877 non-null  object \n",
            " 4   overview               55877 non-null  object \n",
            " 5   Vader_score            55877 non-null  object \n",
            " 6   Vader_compound         55877 non-null  float64\n",
            " 7   Vader_polarity         55877 non-null  object \n",
            " 8   NMF_topic              55877 non-null  int64  \n",
            " 9   NMF_topic_description  55877 non-null  object \n",
            " 10  entities               55877 non-null  object \n",
            "dtypes: float64(2), int64(2), object(7)\n",
            "memory usage: 4.7+ MB\n"
          ],
          "name": "stdout"
        }
      ]
    },
    {
      "cell_type": "code",
      "metadata": {
        "id": "95WHuFNbLLE_",
        "colab": {
          "base_uri": "https://localhost:8080/"
        },
        "outputId": "36acb0d8-7d86-400d-deaf-1d0c2e87a4ea"
      },
      "source": [
        "# in comments to avoid re-creation of the file\n",
        "'''\n",
        "from google.colab import files\n",
        "\n",
        "movies_final_2.to_csv('movies_final_2.csv', index=False)\n",
        "files.download('movies_final_2.csv')\n",
        "'''"
      ],
      "execution_count": null,
      "outputs": [
        {
          "output_type": "execute_result",
          "data": {
            "application/vnd.google.colaboratory.intrinsic+json": {
              "type": "string"
            },
            "text/plain": [
              "\"\\nfrom google.colab import files\\n\\nmovies_final_2.to_csv('movies_final_2.csv', index=False)\\nfiles.download('movies_final_2.csv')\\n\""
            ]
          },
          "metadata": {
            "tags": []
          },
          "execution_count": 76
        }
      ]
    }
  ]
}