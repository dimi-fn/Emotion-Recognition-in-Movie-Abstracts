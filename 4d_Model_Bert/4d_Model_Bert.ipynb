{
  "nbformat": 4,
  "nbformat_minor": 0,
  "metadata": {
    "colab": {
      "name": "4d_Model Bert.ipynb",
      "provenance": [],
      "collapsed_sections": [],
      "include_colab_link": true
    },
    "kernelspec": {
      "name": "python3",
      "display_name": "Python 3"
    },
    "accelerator": "GPU",
    "widgets": {
      "application/vnd.jupyter.widget-state+json": {
        "18024de721b5451db94ab4349ee1953f": {
          "model_module": "@jupyter-widgets/controls",
          "model_name": "HBoxModel",
          "state": {
            "_view_name": "HBoxView",
            "_dom_classes": [],
            "_model_name": "HBoxModel",
            "_view_module": "@jupyter-widgets/controls",
            "_model_module_version": "1.5.0",
            "_view_count": null,
            "_view_module_version": "1.5.0",
            "box_style": "",
            "layout": "IPY_MODEL_a83b174afce145c2ab763203d35e2424",
            "_model_module": "@jupyter-widgets/controls",
            "children": [
              "IPY_MODEL_205e3ebad13849a393c4a71e76b6b891",
              "IPY_MODEL_1c9434c892d94ee386f2786c3e8db0ff"
            ]
          }
        },
        "a83b174afce145c2ab763203d35e2424": {
          "model_module": "@jupyter-widgets/base",
          "model_name": "LayoutModel",
          "state": {
            "_view_name": "LayoutView",
            "grid_template_rows": null,
            "right": null,
            "justify_content": null,
            "_view_module": "@jupyter-widgets/base",
            "overflow": null,
            "_model_module_version": "1.2.0",
            "_view_count": null,
            "flex_flow": null,
            "width": null,
            "min_width": null,
            "border": null,
            "align_items": null,
            "bottom": null,
            "_model_module": "@jupyter-widgets/base",
            "top": null,
            "grid_column": null,
            "overflow_y": null,
            "overflow_x": null,
            "grid_auto_flow": null,
            "grid_area": null,
            "grid_template_columns": null,
            "flex": null,
            "_model_name": "LayoutModel",
            "justify_items": null,
            "grid_row": null,
            "max_height": null,
            "align_content": null,
            "visibility": null,
            "align_self": null,
            "height": null,
            "min_height": null,
            "padding": null,
            "grid_auto_rows": null,
            "grid_gap": null,
            "max_width": null,
            "order": null,
            "_view_module_version": "1.2.0",
            "grid_template_areas": null,
            "object_position": null,
            "object_fit": null,
            "grid_auto_columns": null,
            "margin": null,
            "display": null,
            "left": null
          }
        },
        "205e3ebad13849a393c4a71e76b6b891": {
          "model_module": "@jupyter-widgets/controls",
          "model_name": "FloatProgressModel",
          "state": {
            "_view_name": "ProgressView",
            "style": "IPY_MODEL_329b62f0ed814c3b8f0273cb4e2d3412",
            "_dom_classes": [],
            "description": "Downloading: 100%",
            "_model_name": "FloatProgressModel",
            "bar_style": "success",
            "max": 433,
            "_view_module": "@jupyter-widgets/controls",
            "_model_module_version": "1.5.0",
            "value": 433,
            "_view_count": null,
            "_view_module_version": "1.5.0",
            "orientation": "horizontal",
            "min": 0,
            "description_tooltip": null,
            "_model_module": "@jupyter-widgets/controls",
            "layout": "IPY_MODEL_8bd08eec08e04cd697a4209e9fe2d5db"
          }
        },
        "1c9434c892d94ee386f2786c3e8db0ff": {
          "model_module": "@jupyter-widgets/controls",
          "model_name": "HTMLModel",
          "state": {
            "_view_name": "HTMLView",
            "style": "IPY_MODEL_6f566c358bb14a62be910c4671acb1a4",
            "_dom_classes": [],
            "description": "",
            "_model_name": "HTMLModel",
            "placeholder": "​",
            "_view_module": "@jupyter-widgets/controls",
            "_model_module_version": "1.5.0",
            "value": " 433/433 [00:00&lt;00:00, 519B/s]",
            "_view_count": null,
            "_view_module_version": "1.5.0",
            "description_tooltip": null,
            "_model_module": "@jupyter-widgets/controls",
            "layout": "IPY_MODEL_8f7a71c37aaf447dab73cd77719e1380"
          }
        },
        "329b62f0ed814c3b8f0273cb4e2d3412": {
          "model_module": "@jupyter-widgets/controls",
          "model_name": "ProgressStyleModel",
          "state": {
            "_view_name": "StyleView",
            "_model_name": "ProgressStyleModel",
            "description_width": "initial",
            "_view_module": "@jupyter-widgets/base",
            "_model_module_version": "1.5.0",
            "_view_count": null,
            "_view_module_version": "1.2.0",
            "bar_color": null,
            "_model_module": "@jupyter-widgets/controls"
          }
        },
        "8bd08eec08e04cd697a4209e9fe2d5db": {
          "model_module": "@jupyter-widgets/base",
          "model_name": "LayoutModel",
          "state": {
            "_view_name": "LayoutView",
            "grid_template_rows": null,
            "right": null,
            "justify_content": null,
            "_view_module": "@jupyter-widgets/base",
            "overflow": null,
            "_model_module_version": "1.2.0",
            "_view_count": null,
            "flex_flow": null,
            "width": null,
            "min_width": null,
            "border": null,
            "align_items": null,
            "bottom": null,
            "_model_module": "@jupyter-widgets/base",
            "top": null,
            "grid_column": null,
            "overflow_y": null,
            "overflow_x": null,
            "grid_auto_flow": null,
            "grid_area": null,
            "grid_template_columns": null,
            "flex": null,
            "_model_name": "LayoutModel",
            "justify_items": null,
            "grid_row": null,
            "max_height": null,
            "align_content": null,
            "visibility": null,
            "align_self": null,
            "height": null,
            "min_height": null,
            "padding": null,
            "grid_auto_rows": null,
            "grid_gap": null,
            "max_width": null,
            "order": null,
            "_view_module_version": "1.2.0",
            "grid_template_areas": null,
            "object_position": null,
            "object_fit": null,
            "grid_auto_columns": null,
            "margin": null,
            "display": null,
            "left": null
          }
        },
        "6f566c358bb14a62be910c4671acb1a4": {
          "model_module": "@jupyter-widgets/controls",
          "model_name": "DescriptionStyleModel",
          "state": {
            "_view_name": "StyleView",
            "_model_name": "DescriptionStyleModel",
            "description_width": "",
            "_view_module": "@jupyter-widgets/base",
            "_model_module_version": "1.5.0",
            "_view_count": null,
            "_view_module_version": "1.2.0",
            "_model_module": "@jupyter-widgets/controls"
          }
        },
        "8f7a71c37aaf447dab73cd77719e1380": {
          "model_module": "@jupyter-widgets/base",
          "model_name": "LayoutModel",
          "state": {
            "_view_name": "LayoutView",
            "grid_template_rows": null,
            "right": null,
            "justify_content": null,
            "_view_module": "@jupyter-widgets/base",
            "overflow": null,
            "_model_module_version": "1.2.0",
            "_view_count": null,
            "flex_flow": null,
            "width": null,
            "min_width": null,
            "border": null,
            "align_items": null,
            "bottom": null,
            "_model_module": "@jupyter-widgets/base",
            "top": null,
            "grid_column": null,
            "overflow_y": null,
            "overflow_x": null,
            "grid_auto_flow": null,
            "grid_area": null,
            "grid_template_columns": null,
            "flex": null,
            "_model_name": "LayoutModel",
            "justify_items": null,
            "grid_row": null,
            "max_height": null,
            "align_content": null,
            "visibility": null,
            "align_self": null,
            "height": null,
            "min_height": null,
            "padding": null,
            "grid_auto_rows": null,
            "grid_gap": null,
            "max_width": null,
            "order": null,
            "_view_module_version": "1.2.0",
            "grid_template_areas": null,
            "object_position": null,
            "object_fit": null,
            "grid_auto_columns": null,
            "margin": null,
            "display": null,
            "left": null
          }
        },
        "4964791dc63a40e18c92267ae2e4fa60": {
          "model_module": "@jupyter-widgets/controls",
          "model_name": "HBoxModel",
          "state": {
            "_view_name": "HBoxView",
            "_dom_classes": [],
            "_model_name": "HBoxModel",
            "_view_module": "@jupyter-widgets/controls",
            "_model_module_version": "1.5.0",
            "_view_count": null,
            "_view_module_version": "1.5.0",
            "box_style": "",
            "layout": "IPY_MODEL_3a05e00c0c8f4f0994a50c08db883383",
            "_model_module": "@jupyter-widgets/controls",
            "children": [
              "IPY_MODEL_a52074ba9daa4019b27db38e7afdb5c2",
              "IPY_MODEL_a976cfb33be940f3828bf21f5c8f12c0"
            ]
          }
        },
        "3a05e00c0c8f4f0994a50c08db883383": {
          "model_module": "@jupyter-widgets/base",
          "model_name": "LayoutModel",
          "state": {
            "_view_name": "LayoutView",
            "grid_template_rows": null,
            "right": null,
            "justify_content": null,
            "_view_module": "@jupyter-widgets/base",
            "overflow": null,
            "_model_module_version": "1.2.0",
            "_view_count": null,
            "flex_flow": null,
            "width": null,
            "min_width": null,
            "border": null,
            "align_items": null,
            "bottom": null,
            "_model_module": "@jupyter-widgets/base",
            "top": null,
            "grid_column": null,
            "overflow_y": null,
            "overflow_x": null,
            "grid_auto_flow": null,
            "grid_area": null,
            "grid_template_columns": null,
            "flex": null,
            "_model_name": "LayoutModel",
            "justify_items": null,
            "grid_row": null,
            "max_height": null,
            "align_content": null,
            "visibility": null,
            "align_self": null,
            "height": null,
            "min_height": null,
            "padding": null,
            "grid_auto_rows": null,
            "grid_gap": null,
            "max_width": null,
            "order": null,
            "_view_module_version": "1.2.0",
            "grid_template_areas": null,
            "object_position": null,
            "object_fit": null,
            "grid_auto_columns": null,
            "margin": null,
            "display": null,
            "left": null
          }
        },
        "a52074ba9daa4019b27db38e7afdb5c2": {
          "model_module": "@jupyter-widgets/controls",
          "model_name": "FloatProgressModel",
          "state": {
            "_view_name": "ProgressView",
            "style": "IPY_MODEL_89ebac080fe54ee79d2135a600df49e2",
            "_dom_classes": [],
            "description": "Downloading: 100%",
            "_model_name": "FloatProgressModel",
            "bar_style": "success",
            "max": 231508,
            "_view_module": "@jupyter-widgets/controls",
            "_model_module_version": "1.5.0",
            "value": 231508,
            "_view_count": null,
            "_view_module_version": "1.5.0",
            "orientation": "horizontal",
            "min": 0,
            "description_tooltip": null,
            "_model_module": "@jupyter-widgets/controls",
            "layout": "IPY_MODEL_c37f8b543bea41dd82c1fda476880464"
          }
        },
        "a976cfb33be940f3828bf21f5c8f12c0": {
          "model_module": "@jupyter-widgets/controls",
          "model_name": "HTMLModel",
          "state": {
            "_view_name": "HTMLView",
            "style": "IPY_MODEL_70c124da248b4146b963016f65198900",
            "_dom_classes": [],
            "description": "",
            "_model_name": "HTMLModel",
            "placeholder": "​",
            "_view_module": "@jupyter-widgets/controls",
            "_model_module_version": "1.5.0",
            "value": " 232k/232k [00:08&lt;00:00, 26.0kB/s]",
            "_view_count": null,
            "_view_module_version": "1.5.0",
            "description_tooltip": null,
            "_model_module": "@jupyter-widgets/controls",
            "layout": "IPY_MODEL_9e0af4628c42422d905f95aee4c4aacd"
          }
        },
        "89ebac080fe54ee79d2135a600df49e2": {
          "model_module": "@jupyter-widgets/controls",
          "model_name": "ProgressStyleModel",
          "state": {
            "_view_name": "StyleView",
            "_model_name": "ProgressStyleModel",
            "description_width": "initial",
            "_view_module": "@jupyter-widgets/base",
            "_model_module_version": "1.5.0",
            "_view_count": null,
            "_view_module_version": "1.2.0",
            "bar_color": null,
            "_model_module": "@jupyter-widgets/controls"
          }
        },
        "c37f8b543bea41dd82c1fda476880464": {
          "model_module": "@jupyter-widgets/base",
          "model_name": "LayoutModel",
          "state": {
            "_view_name": "LayoutView",
            "grid_template_rows": null,
            "right": null,
            "justify_content": null,
            "_view_module": "@jupyter-widgets/base",
            "overflow": null,
            "_model_module_version": "1.2.0",
            "_view_count": null,
            "flex_flow": null,
            "width": null,
            "min_width": null,
            "border": null,
            "align_items": null,
            "bottom": null,
            "_model_module": "@jupyter-widgets/base",
            "top": null,
            "grid_column": null,
            "overflow_y": null,
            "overflow_x": null,
            "grid_auto_flow": null,
            "grid_area": null,
            "grid_template_columns": null,
            "flex": null,
            "_model_name": "LayoutModel",
            "justify_items": null,
            "grid_row": null,
            "max_height": null,
            "align_content": null,
            "visibility": null,
            "align_self": null,
            "height": null,
            "min_height": null,
            "padding": null,
            "grid_auto_rows": null,
            "grid_gap": null,
            "max_width": null,
            "order": null,
            "_view_module_version": "1.2.0",
            "grid_template_areas": null,
            "object_position": null,
            "object_fit": null,
            "grid_auto_columns": null,
            "margin": null,
            "display": null,
            "left": null
          }
        },
        "70c124da248b4146b963016f65198900": {
          "model_module": "@jupyter-widgets/controls",
          "model_name": "DescriptionStyleModel",
          "state": {
            "_view_name": "StyleView",
            "_model_name": "DescriptionStyleModel",
            "description_width": "",
            "_view_module": "@jupyter-widgets/base",
            "_model_module_version": "1.5.0",
            "_view_count": null,
            "_view_module_version": "1.2.0",
            "_model_module": "@jupyter-widgets/controls"
          }
        },
        "9e0af4628c42422d905f95aee4c4aacd": {
          "model_module": "@jupyter-widgets/base",
          "model_name": "LayoutModel",
          "state": {
            "_view_name": "LayoutView",
            "grid_template_rows": null,
            "right": null,
            "justify_content": null,
            "_view_module": "@jupyter-widgets/base",
            "overflow": null,
            "_model_module_version": "1.2.0",
            "_view_count": null,
            "flex_flow": null,
            "width": null,
            "min_width": null,
            "border": null,
            "align_items": null,
            "bottom": null,
            "_model_module": "@jupyter-widgets/base",
            "top": null,
            "grid_column": null,
            "overflow_y": null,
            "overflow_x": null,
            "grid_auto_flow": null,
            "grid_area": null,
            "grid_template_columns": null,
            "flex": null,
            "_model_name": "LayoutModel",
            "justify_items": null,
            "grid_row": null,
            "max_height": null,
            "align_content": null,
            "visibility": null,
            "align_self": null,
            "height": null,
            "min_height": null,
            "padding": null,
            "grid_auto_rows": null,
            "grid_gap": null,
            "max_width": null,
            "order": null,
            "_view_module_version": "1.2.0",
            "grid_template_areas": null,
            "object_position": null,
            "object_fit": null,
            "grid_auto_columns": null,
            "margin": null,
            "display": null,
            "left": null
          }
        },
        "b2dbdcfd601f41a794089540041df8e8": {
          "model_module": "@jupyter-widgets/controls",
          "model_name": "HBoxModel",
          "state": {
            "_view_name": "HBoxView",
            "_dom_classes": [],
            "_model_name": "HBoxModel",
            "_view_module": "@jupyter-widgets/controls",
            "_model_module_version": "1.5.0",
            "_view_count": null,
            "_view_module_version": "1.5.0",
            "box_style": "",
            "layout": "IPY_MODEL_00feff443e20448895a7ca6d9117f30a",
            "_model_module": "@jupyter-widgets/controls",
            "children": [
              "IPY_MODEL_1ae7fc00c0aa41358a29d52ec7777902",
              "IPY_MODEL_cf2c7081c64242689e4d5b4ecc3ef249"
            ]
          }
        },
        "00feff443e20448895a7ca6d9117f30a": {
          "model_module": "@jupyter-widgets/base",
          "model_name": "LayoutModel",
          "state": {
            "_view_name": "LayoutView",
            "grid_template_rows": null,
            "right": null,
            "justify_content": null,
            "_view_module": "@jupyter-widgets/base",
            "overflow": null,
            "_model_module_version": "1.2.0",
            "_view_count": null,
            "flex_flow": null,
            "width": null,
            "min_width": null,
            "border": null,
            "align_items": null,
            "bottom": null,
            "_model_module": "@jupyter-widgets/base",
            "top": null,
            "grid_column": null,
            "overflow_y": null,
            "overflow_x": null,
            "grid_auto_flow": null,
            "grid_area": null,
            "grid_template_columns": null,
            "flex": null,
            "_model_name": "LayoutModel",
            "justify_items": null,
            "grid_row": null,
            "max_height": null,
            "align_content": null,
            "visibility": null,
            "align_self": null,
            "height": null,
            "min_height": null,
            "padding": null,
            "grid_auto_rows": null,
            "grid_gap": null,
            "max_width": null,
            "order": null,
            "_view_module_version": "1.2.0",
            "grid_template_areas": null,
            "object_position": null,
            "object_fit": null,
            "grid_auto_columns": null,
            "margin": null,
            "display": null,
            "left": null
          }
        },
        "1ae7fc00c0aa41358a29d52ec7777902": {
          "model_module": "@jupyter-widgets/controls",
          "model_name": "FloatProgressModel",
          "state": {
            "_view_name": "ProgressView",
            "style": "IPY_MODEL_18091b99c19742e7983d90d0e46ebccf",
            "_dom_classes": [],
            "description": "Downloading: 100%",
            "_model_name": "FloatProgressModel",
            "bar_style": "success",
            "max": 440473133,
            "_view_module": "@jupyter-widgets/controls",
            "_model_module_version": "1.5.0",
            "value": 440473133,
            "_view_count": null,
            "_view_module_version": "1.5.0",
            "orientation": "horizontal",
            "min": 0,
            "description_tooltip": null,
            "_model_module": "@jupyter-widgets/controls",
            "layout": "IPY_MODEL_1161540ae46541f68d0a9f304ef7553a"
          }
        },
        "cf2c7081c64242689e4d5b4ecc3ef249": {
          "model_module": "@jupyter-widgets/controls",
          "model_name": "HTMLModel",
          "state": {
            "_view_name": "HTMLView",
            "style": "IPY_MODEL_b1a0826737b446d69cee08a58cada30d",
            "_dom_classes": [],
            "description": "",
            "_model_name": "HTMLModel",
            "placeholder": "​",
            "_view_module": "@jupyter-widgets/controls",
            "_model_module_version": "1.5.0",
            "value": " 440M/440M [00:06&lt;00:00, 67.1MB/s]",
            "_view_count": null,
            "_view_module_version": "1.5.0",
            "description_tooltip": null,
            "_model_module": "@jupyter-widgets/controls",
            "layout": "IPY_MODEL_b22c7a4a957a4da6a66113f27e4f690e"
          }
        },
        "18091b99c19742e7983d90d0e46ebccf": {
          "model_module": "@jupyter-widgets/controls",
          "model_name": "ProgressStyleModel",
          "state": {
            "_view_name": "StyleView",
            "_model_name": "ProgressStyleModel",
            "description_width": "initial",
            "_view_module": "@jupyter-widgets/base",
            "_model_module_version": "1.5.0",
            "_view_count": null,
            "_view_module_version": "1.2.0",
            "bar_color": null,
            "_model_module": "@jupyter-widgets/controls"
          }
        },
        "1161540ae46541f68d0a9f304ef7553a": {
          "model_module": "@jupyter-widgets/base",
          "model_name": "LayoutModel",
          "state": {
            "_view_name": "LayoutView",
            "grid_template_rows": null,
            "right": null,
            "justify_content": null,
            "_view_module": "@jupyter-widgets/base",
            "overflow": null,
            "_model_module_version": "1.2.0",
            "_view_count": null,
            "flex_flow": null,
            "width": null,
            "min_width": null,
            "border": null,
            "align_items": null,
            "bottom": null,
            "_model_module": "@jupyter-widgets/base",
            "top": null,
            "grid_column": null,
            "overflow_y": null,
            "overflow_x": null,
            "grid_auto_flow": null,
            "grid_area": null,
            "grid_template_columns": null,
            "flex": null,
            "_model_name": "LayoutModel",
            "justify_items": null,
            "grid_row": null,
            "max_height": null,
            "align_content": null,
            "visibility": null,
            "align_self": null,
            "height": null,
            "min_height": null,
            "padding": null,
            "grid_auto_rows": null,
            "grid_gap": null,
            "max_width": null,
            "order": null,
            "_view_module_version": "1.2.0",
            "grid_template_areas": null,
            "object_position": null,
            "object_fit": null,
            "grid_auto_columns": null,
            "margin": null,
            "display": null,
            "left": null
          }
        },
        "b1a0826737b446d69cee08a58cada30d": {
          "model_module": "@jupyter-widgets/controls",
          "model_name": "DescriptionStyleModel",
          "state": {
            "_view_name": "StyleView",
            "_model_name": "DescriptionStyleModel",
            "description_width": "",
            "_view_module": "@jupyter-widgets/base",
            "_model_module_version": "1.5.0",
            "_view_count": null,
            "_view_module_version": "1.2.0",
            "_model_module": "@jupyter-widgets/controls"
          }
        },
        "b22c7a4a957a4da6a66113f27e4f690e": {
          "model_module": "@jupyter-widgets/base",
          "model_name": "LayoutModel",
          "state": {
            "_view_name": "LayoutView",
            "grid_template_rows": null,
            "right": null,
            "justify_content": null,
            "_view_module": "@jupyter-widgets/base",
            "overflow": null,
            "_model_module_version": "1.2.0",
            "_view_count": null,
            "flex_flow": null,
            "width": null,
            "min_width": null,
            "border": null,
            "align_items": null,
            "bottom": null,
            "_model_module": "@jupyter-widgets/base",
            "top": null,
            "grid_column": null,
            "overflow_y": null,
            "overflow_x": null,
            "grid_auto_flow": null,
            "grid_area": null,
            "grid_template_columns": null,
            "flex": null,
            "_model_name": "LayoutModel",
            "justify_items": null,
            "grid_row": null,
            "max_height": null,
            "align_content": null,
            "visibility": null,
            "align_self": null,
            "height": null,
            "min_height": null,
            "padding": null,
            "grid_auto_rows": null,
            "grid_gap": null,
            "max_width": null,
            "order": null,
            "_view_module_version": "1.2.0",
            "grid_template_areas": null,
            "object_position": null,
            "object_fit": null,
            "grid_auto_columns": null,
            "margin": null,
            "display": null,
            "left": null
          }
        },
        "7f0a002188b24d53ac3ed181ba5dc837": {
          "model_module": "@jupyter-widgets/controls",
          "model_name": "HBoxModel",
          "state": {
            "_view_name": "HBoxView",
            "_dom_classes": [],
            "_model_name": "HBoxModel",
            "_view_module": "@jupyter-widgets/controls",
            "_model_module_version": "1.5.0",
            "_view_count": null,
            "_view_module_version": "1.5.0",
            "box_style": "",
            "layout": "IPY_MODEL_1c10f4f945474f1795d59a7d71129dac",
            "_model_module": "@jupyter-widgets/controls",
            "children": [
              "IPY_MODEL_46f11ef18d5242eeb2546d393ad10dff",
              "IPY_MODEL_78b0f526329241fc903589289b7c9c86"
            ]
          }
        },
        "1c10f4f945474f1795d59a7d71129dac": {
          "model_module": "@jupyter-widgets/base",
          "model_name": "LayoutModel",
          "state": {
            "_view_name": "LayoutView",
            "grid_template_rows": null,
            "right": null,
            "justify_content": null,
            "_view_module": "@jupyter-widgets/base",
            "overflow": null,
            "_model_module_version": "1.2.0",
            "_view_count": null,
            "flex_flow": null,
            "width": null,
            "min_width": null,
            "border": null,
            "align_items": null,
            "bottom": null,
            "_model_module": "@jupyter-widgets/base",
            "top": null,
            "grid_column": null,
            "overflow_y": null,
            "overflow_x": null,
            "grid_auto_flow": null,
            "grid_area": null,
            "grid_template_columns": null,
            "flex": null,
            "_model_name": "LayoutModel",
            "justify_items": null,
            "grid_row": null,
            "max_height": null,
            "align_content": null,
            "visibility": null,
            "align_self": null,
            "height": null,
            "min_height": null,
            "padding": null,
            "grid_auto_rows": null,
            "grid_gap": null,
            "max_width": null,
            "order": null,
            "_view_module_version": "1.2.0",
            "grid_template_areas": null,
            "object_position": null,
            "object_fit": null,
            "grid_auto_columns": null,
            "margin": null,
            "display": null,
            "left": null
          }
        },
        "46f11ef18d5242eeb2546d393ad10dff": {
          "model_module": "@jupyter-widgets/controls",
          "model_name": "FloatProgressModel",
          "state": {
            "_view_name": "ProgressView",
            "style": "IPY_MODEL_82421ec9aac64ce1b7f11edf4700cbde",
            "_dom_classes": [],
            "description": "100%",
            "_model_name": "FloatProgressModel",
            "bar_style": "success",
            "max": 100,
            "_view_module": "@jupyter-widgets/controls",
            "_model_module_version": "1.5.0",
            "value": 100,
            "_view_count": null,
            "_view_module_version": "1.5.0",
            "orientation": "horizontal",
            "min": 0,
            "description_tooltip": null,
            "_model_module": "@jupyter-widgets/controls",
            "layout": "IPY_MODEL_af250972a8374a1d89427ddeeb019ecb"
          }
        },
        "78b0f526329241fc903589289b7c9c86": {
          "model_module": "@jupyter-widgets/controls",
          "model_name": "HTMLModel",
          "state": {
            "_view_name": "HTMLView",
            "style": "IPY_MODEL_0e327a4d768d47dcbd8f456ad4fa95fd",
            "_dom_classes": [],
            "description": "",
            "_model_name": "HTMLModel",
            "placeholder": "​",
            "_view_module": "@jupyter-widgets/controls",
            "_model_module_version": "1.5.0",
            "value": " 100/100 [27:47&lt;00:00, 16.68s/it]",
            "_view_count": null,
            "_view_module_version": "1.5.0",
            "description_tooltip": null,
            "_model_module": "@jupyter-widgets/controls",
            "layout": "IPY_MODEL_8095d990b5fe43869c746ecbf9de3645"
          }
        },
        "82421ec9aac64ce1b7f11edf4700cbde": {
          "model_module": "@jupyter-widgets/controls",
          "model_name": "ProgressStyleModel",
          "state": {
            "_view_name": "StyleView",
            "_model_name": "ProgressStyleModel",
            "description_width": "initial",
            "_view_module": "@jupyter-widgets/base",
            "_model_module_version": "1.5.0",
            "_view_count": null,
            "_view_module_version": "1.2.0",
            "bar_color": null,
            "_model_module": "@jupyter-widgets/controls"
          }
        },
        "af250972a8374a1d89427ddeeb019ecb": {
          "model_module": "@jupyter-widgets/base",
          "model_name": "LayoutModel",
          "state": {
            "_view_name": "LayoutView",
            "grid_template_rows": null,
            "right": null,
            "justify_content": null,
            "_view_module": "@jupyter-widgets/base",
            "overflow": null,
            "_model_module_version": "1.2.0",
            "_view_count": null,
            "flex_flow": null,
            "width": null,
            "min_width": null,
            "border": null,
            "align_items": null,
            "bottom": null,
            "_model_module": "@jupyter-widgets/base",
            "top": null,
            "grid_column": null,
            "overflow_y": null,
            "overflow_x": null,
            "grid_auto_flow": null,
            "grid_area": null,
            "grid_template_columns": null,
            "flex": null,
            "_model_name": "LayoutModel",
            "justify_items": null,
            "grid_row": null,
            "max_height": null,
            "align_content": null,
            "visibility": null,
            "align_self": null,
            "height": null,
            "min_height": null,
            "padding": null,
            "grid_auto_rows": null,
            "grid_gap": null,
            "max_width": null,
            "order": null,
            "_view_module_version": "1.2.0",
            "grid_template_areas": null,
            "object_position": null,
            "object_fit": null,
            "grid_auto_columns": null,
            "margin": null,
            "display": null,
            "left": null
          }
        },
        "0e327a4d768d47dcbd8f456ad4fa95fd": {
          "model_module": "@jupyter-widgets/controls",
          "model_name": "DescriptionStyleModel",
          "state": {
            "_view_name": "StyleView",
            "_model_name": "DescriptionStyleModel",
            "description_width": "",
            "_view_module": "@jupyter-widgets/base",
            "_model_module_version": "1.5.0",
            "_view_count": null,
            "_view_module_version": "1.2.0",
            "_model_module": "@jupyter-widgets/controls"
          }
        },
        "8095d990b5fe43869c746ecbf9de3645": {
          "model_module": "@jupyter-widgets/base",
          "model_name": "LayoutModel",
          "state": {
            "_view_name": "LayoutView",
            "grid_template_rows": null,
            "right": null,
            "justify_content": null,
            "_view_module": "@jupyter-widgets/base",
            "overflow": null,
            "_model_module_version": "1.2.0",
            "_view_count": null,
            "flex_flow": null,
            "width": null,
            "min_width": null,
            "border": null,
            "align_items": null,
            "bottom": null,
            "_model_module": "@jupyter-widgets/base",
            "top": null,
            "grid_column": null,
            "overflow_y": null,
            "overflow_x": null,
            "grid_auto_flow": null,
            "grid_area": null,
            "grid_template_columns": null,
            "flex": null,
            "_model_name": "LayoutModel",
            "justify_items": null,
            "grid_row": null,
            "max_height": null,
            "align_content": null,
            "visibility": null,
            "align_self": null,
            "height": null,
            "min_height": null,
            "padding": null,
            "grid_auto_rows": null,
            "grid_gap": null,
            "max_width": null,
            "order": null,
            "_view_module_version": "1.2.0",
            "grid_template_areas": null,
            "object_position": null,
            "object_fit": null,
            "grid_auto_columns": null,
            "margin": null,
            "display": null,
            "left": null
          }
        },
        "d6339cfc5a6c47a389b296ebc63be31d": {
          "model_module": "@jupyter-widgets/controls",
          "model_name": "HBoxModel",
          "state": {
            "_view_name": "HBoxView",
            "_dom_classes": [],
            "_model_name": "HBoxModel",
            "_view_module": "@jupyter-widgets/controls",
            "_model_module_version": "1.5.0",
            "_view_count": null,
            "_view_module_version": "1.5.0",
            "box_style": "",
            "layout": "IPY_MODEL_f294852745c3469eb911bdcb81cf16e9",
            "_model_module": "@jupyter-widgets/controls",
            "children": [
              "IPY_MODEL_dc15f55feec04029bb8163b0ae41761c",
              "IPY_MODEL_2cde96a7109043d59a909b3b582f6e67"
            ]
          }
        },
        "f294852745c3469eb911bdcb81cf16e9": {
          "model_module": "@jupyter-widgets/base",
          "model_name": "LayoutModel",
          "state": {
            "_view_name": "LayoutView",
            "grid_template_rows": null,
            "right": null,
            "justify_content": null,
            "_view_module": "@jupyter-widgets/base",
            "overflow": null,
            "_model_module_version": "1.2.0",
            "_view_count": null,
            "flex_flow": null,
            "width": null,
            "min_width": null,
            "border": null,
            "align_items": null,
            "bottom": null,
            "_model_module": "@jupyter-widgets/base",
            "top": null,
            "grid_column": null,
            "overflow_y": null,
            "overflow_x": null,
            "grid_auto_flow": null,
            "grid_area": null,
            "grid_template_columns": null,
            "flex": null,
            "_model_name": "LayoutModel",
            "justify_items": null,
            "grid_row": null,
            "max_height": null,
            "align_content": null,
            "visibility": null,
            "align_self": null,
            "height": null,
            "min_height": null,
            "padding": null,
            "grid_auto_rows": null,
            "grid_gap": null,
            "max_width": null,
            "order": null,
            "_view_module_version": "1.2.0",
            "grid_template_areas": null,
            "object_position": null,
            "object_fit": null,
            "grid_auto_columns": null,
            "margin": null,
            "display": null,
            "left": null
          }
        },
        "dc15f55feec04029bb8163b0ae41761c": {
          "model_module": "@jupyter-widgets/controls",
          "model_name": "FloatProgressModel",
          "state": {
            "_view_name": "ProgressView",
            "style": "IPY_MODEL_d1a9bfb5a9ff4e67a34bc5b84f8bf2ae",
            "_dom_classes": [],
            "description": "Downloading: 100%",
            "_model_name": "FloatProgressModel",
            "bar_style": "success",
            "max": 760,
            "_view_module": "@jupyter-widgets/controls",
            "_model_module_version": "1.5.0",
            "value": 760,
            "_view_count": null,
            "_view_module_version": "1.5.0",
            "orientation": "horizontal",
            "min": 0,
            "description_tooltip": null,
            "_model_module": "@jupyter-widgets/controls",
            "layout": "IPY_MODEL_a2b84afa11784f59958d022935d7726c"
          }
        },
        "2cde96a7109043d59a909b3b582f6e67": {
          "model_module": "@jupyter-widgets/controls",
          "model_name": "HTMLModel",
          "state": {
            "_view_name": "HTMLView",
            "style": "IPY_MODEL_4759058fe9ab4bafa3b30eadb37285f4",
            "_dom_classes": [],
            "description": "",
            "_model_name": "HTMLModel",
            "placeholder": "​",
            "_view_module": "@jupyter-widgets/controls",
            "_model_module_version": "1.5.0",
            "value": " 760/760 [00:01&lt;00:00, 554B/s]",
            "_view_count": null,
            "_view_module_version": "1.5.0",
            "description_tooltip": null,
            "_model_module": "@jupyter-widgets/controls",
            "layout": "IPY_MODEL_ea84ee0d922543b2864e25af7b86d276"
          }
        },
        "d1a9bfb5a9ff4e67a34bc5b84f8bf2ae": {
          "model_module": "@jupyter-widgets/controls",
          "model_name": "ProgressStyleModel",
          "state": {
            "_view_name": "StyleView",
            "_model_name": "ProgressStyleModel",
            "description_width": "initial",
            "_view_module": "@jupyter-widgets/base",
            "_model_module_version": "1.5.0",
            "_view_count": null,
            "_view_module_version": "1.2.0",
            "bar_color": null,
            "_model_module": "@jupyter-widgets/controls"
          }
        },
        "a2b84afa11784f59958d022935d7726c": {
          "model_module": "@jupyter-widgets/base",
          "model_name": "LayoutModel",
          "state": {
            "_view_name": "LayoutView",
            "grid_template_rows": null,
            "right": null,
            "justify_content": null,
            "_view_module": "@jupyter-widgets/base",
            "overflow": null,
            "_model_module_version": "1.2.0",
            "_view_count": null,
            "flex_flow": null,
            "width": null,
            "min_width": null,
            "border": null,
            "align_items": null,
            "bottom": null,
            "_model_module": "@jupyter-widgets/base",
            "top": null,
            "grid_column": null,
            "overflow_y": null,
            "overflow_x": null,
            "grid_auto_flow": null,
            "grid_area": null,
            "grid_template_columns": null,
            "flex": null,
            "_model_name": "LayoutModel",
            "justify_items": null,
            "grid_row": null,
            "max_height": null,
            "align_content": null,
            "visibility": null,
            "align_self": null,
            "height": null,
            "min_height": null,
            "padding": null,
            "grid_auto_rows": null,
            "grid_gap": null,
            "max_width": null,
            "order": null,
            "_view_module_version": "1.2.0",
            "grid_template_areas": null,
            "object_position": null,
            "object_fit": null,
            "grid_auto_columns": null,
            "margin": null,
            "display": null,
            "left": null
          }
        },
        "4759058fe9ab4bafa3b30eadb37285f4": {
          "model_module": "@jupyter-widgets/controls",
          "model_name": "DescriptionStyleModel",
          "state": {
            "_view_name": "StyleView",
            "_model_name": "DescriptionStyleModel",
            "description_width": "",
            "_view_module": "@jupyter-widgets/base",
            "_model_module_version": "1.5.0",
            "_view_count": null,
            "_view_module_version": "1.2.0",
            "_model_module": "@jupyter-widgets/controls"
          }
        },
        "ea84ee0d922543b2864e25af7b86d276": {
          "model_module": "@jupyter-widgets/base",
          "model_name": "LayoutModel",
          "state": {
            "_view_name": "LayoutView",
            "grid_template_rows": null,
            "right": null,
            "justify_content": null,
            "_view_module": "@jupyter-widgets/base",
            "overflow": null,
            "_model_module_version": "1.2.0",
            "_view_count": null,
            "flex_flow": null,
            "width": null,
            "min_width": null,
            "border": null,
            "align_items": null,
            "bottom": null,
            "_model_module": "@jupyter-widgets/base",
            "top": null,
            "grid_column": null,
            "overflow_y": null,
            "overflow_x": null,
            "grid_auto_flow": null,
            "grid_area": null,
            "grid_template_columns": null,
            "flex": null,
            "_model_name": "LayoutModel",
            "justify_items": null,
            "grid_row": null,
            "max_height": null,
            "align_content": null,
            "visibility": null,
            "align_self": null,
            "height": null,
            "min_height": null,
            "padding": null,
            "grid_auto_rows": null,
            "grid_gap": null,
            "max_width": null,
            "order": null,
            "_view_module_version": "1.2.0",
            "grid_template_areas": null,
            "object_position": null,
            "object_fit": null,
            "grid_auto_columns": null,
            "margin": null,
            "display": null,
            "left": null
          }
        },
        "179dc16eae834e51a16b55fef225f509": {
          "model_module": "@jupyter-widgets/controls",
          "model_name": "HBoxModel",
          "state": {
            "_view_name": "HBoxView",
            "_dom_classes": [],
            "_model_name": "HBoxModel",
            "_view_module": "@jupyter-widgets/controls",
            "_model_module_version": "1.5.0",
            "_view_count": null,
            "_view_module_version": "1.5.0",
            "box_style": "",
            "layout": "IPY_MODEL_a79e1b48b37d469ab9d0210d36b27f52",
            "_model_module": "@jupyter-widgets/controls",
            "children": [
              "IPY_MODEL_c65fb422217e4ef2a63cb23169159f7a",
              "IPY_MODEL_631cda36b10b48779b569fd51ee8278a"
            ]
          }
        },
        "a79e1b48b37d469ab9d0210d36b27f52": {
          "model_module": "@jupyter-widgets/base",
          "model_name": "LayoutModel",
          "state": {
            "_view_name": "LayoutView",
            "grid_template_rows": null,
            "right": null,
            "justify_content": null,
            "_view_module": "@jupyter-widgets/base",
            "overflow": null,
            "_model_module_version": "1.2.0",
            "_view_count": null,
            "flex_flow": null,
            "width": null,
            "min_width": null,
            "border": null,
            "align_items": null,
            "bottom": null,
            "_model_module": "@jupyter-widgets/base",
            "top": null,
            "grid_column": null,
            "overflow_y": null,
            "overflow_x": null,
            "grid_auto_flow": null,
            "grid_area": null,
            "grid_template_columns": null,
            "flex": null,
            "_model_name": "LayoutModel",
            "justify_items": null,
            "grid_row": null,
            "max_height": null,
            "align_content": null,
            "visibility": null,
            "align_self": null,
            "height": null,
            "min_height": null,
            "padding": null,
            "grid_auto_rows": null,
            "grid_gap": null,
            "max_width": null,
            "order": null,
            "_view_module_version": "1.2.0",
            "grid_template_areas": null,
            "object_position": null,
            "object_fit": null,
            "grid_auto_columns": null,
            "margin": null,
            "display": null,
            "left": null
          }
        },
        "c65fb422217e4ef2a63cb23169159f7a": {
          "model_module": "@jupyter-widgets/controls",
          "model_name": "FloatProgressModel",
          "state": {
            "_view_name": "ProgressView",
            "style": "IPY_MODEL_946542cb00eb4c5fb322003693340228",
            "_dom_classes": [],
            "description": "Downloading: 100%",
            "_model_name": "FloatProgressModel",
            "bar_style": "success",
            "max": 798011,
            "_view_module": "@jupyter-widgets/controls",
            "_model_module_version": "1.5.0",
            "value": 798011,
            "_view_count": null,
            "_view_module_version": "1.5.0",
            "orientation": "horizontal",
            "min": 0,
            "description_tooltip": null,
            "_model_module": "@jupyter-widgets/controls",
            "layout": "IPY_MODEL_b9baf8ffec07477fa8a35c13d181a704"
          }
        },
        "631cda36b10b48779b569fd51ee8278a": {
          "model_module": "@jupyter-widgets/controls",
          "model_name": "HTMLModel",
          "state": {
            "_view_name": "HTMLView",
            "style": "IPY_MODEL_238d8a25dce84de9bf27fe254fd69e6e",
            "_dom_classes": [],
            "description": "",
            "_model_name": "HTMLModel",
            "placeholder": "​",
            "_view_module": "@jupyter-widgets/controls",
            "_model_module_version": "1.5.0",
            "value": " 798k/798k [00:00&lt;00:00, 1.14MB/s]",
            "_view_count": null,
            "_view_module_version": "1.5.0",
            "description_tooltip": null,
            "_model_module": "@jupyter-widgets/controls",
            "layout": "IPY_MODEL_5a9f3fef91bb41f69547d45c7661d426"
          }
        },
        "946542cb00eb4c5fb322003693340228": {
          "model_module": "@jupyter-widgets/controls",
          "model_name": "ProgressStyleModel",
          "state": {
            "_view_name": "StyleView",
            "_model_name": "ProgressStyleModel",
            "description_width": "initial",
            "_view_module": "@jupyter-widgets/base",
            "_model_module_version": "1.5.0",
            "_view_count": null,
            "_view_module_version": "1.2.0",
            "bar_color": null,
            "_model_module": "@jupyter-widgets/controls"
          }
        },
        "b9baf8ffec07477fa8a35c13d181a704": {
          "model_module": "@jupyter-widgets/base",
          "model_name": "LayoutModel",
          "state": {
            "_view_name": "LayoutView",
            "grid_template_rows": null,
            "right": null,
            "justify_content": null,
            "_view_module": "@jupyter-widgets/base",
            "overflow": null,
            "_model_module_version": "1.2.0",
            "_view_count": null,
            "flex_flow": null,
            "width": null,
            "min_width": null,
            "border": null,
            "align_items": null,
            "bottom": null,
            "_model_module": "@jupyter-widgets/base",
            "top": null,
            "grid_column": null,
            "overflow_y": null,
            "overflow_x": null,
            "grid_auto_flow": null,
            "grid_area": null,
            "grid_template_columns": null,
            "flex": null,
            "_model_name": "LayoutModel",
            "justify_items": null,
            "grid_row": null,
            "max_height": null,
            "align_content": null,
            "visibility": null,
            "align_self": null,
            "height": null,
            "min_height": null,
            "padding": null,
            "grid_auto_rows": null,
            "grid_gap": null,
            "max_width": null,
            "order": null,
            "_view_module_version": "1.2.0",
            "grid_template_areas": null,
            "object_position": null,
            "object_fit": null,
            "grid_auto_columns": null,
            "margin": null,
            "display": null,
            "left": null
          }
        },
        "238d8a25dce84de9bf27fe254fd69e6e": {
          "model_module": "@jupyter-widgets/controls",
          "model_name": "DescriptionStyleModel",
          "state": {
            "_view_name": "StyleView",
            "_model_name": "DescriptionStyleModel",
            "description_width": "",
            "_view_module": "@jupyter-widgets/base",
            "_model_module_version": "1.5.0",
            "_view_count": null,
            "_view_module_version": "1.2.0",
            "_model_module": "@jupyter-widgets/controls"
          }
        },
        "5a9f3fef91bb41f69547d45c7661d426": {
          "model_module": "@jupyter-widgets/base",
          "model_name": "LayoutModel",
          "state": {
            "_view_name": "LayoutView",
            "grid_template_rows": null,
            "right": null,
            "justify_content": null,
            "_view_module": "@jupyter-widgets/base",
            "overflow": null,
            "_model_module_version": "1.2.0",
            "_view_count": null,
            "flex_flow": null,
            "width": null,
            "min_width": null,
            "border": null,
            "align_items": null,
            "bottom": null,
            "_model_module": "@jupyter-widgets/base",
            "top": null,
            "grid_column": null,
            "overflow_y": null,
            "overflow_x": null,
            "grid_auto_flow": null,
            "grid_area": null,
            "grid_template_columns": null,
            "flex": null,
            "_model_name": "LayoutModel",
            "justify_items": null,
            "grid_row": null,
            "max_height": null,
            "align_content": null,
            "visibility": null,
            "align_self": null,
            "height": null,
            "min_height": null,
            "padding": null,
            "grid_auto_rows": null,
            "grid_gap": null,
            "max_width": null,
            "order": null,
            "_view_module_version": "1.2.0",
            "grid_template_areas": null,
            "object_position": null,
            "object_fit": null,
            "grid_auto_columns": null,
            "margin": null,
            "display": null,
            "left": null
          }
        },
        "94bf38abfe0f4cd1a3be8ab8485c8375": {
          "model_module": "@jupyter-widgets/controls",
          "model_name": "HBoxModel",
          "state": {
            "_view_name": "HBoxView",
            "_dom_classes": [],
            "_model_name": "HBoxModel",
            "_view_module": "@jupyter-widgets/controls",
            "_model_module_version": "1.5.0",
            "_view_count": null,
            "_view_module_version": "1.5.0",
            "box_style": "",
            "layout": "IPY_MODEL_62a0efa30eeb4ffaa2c596ab984ca3d6",
            "_model_module": "@jupyter-widgets/controls",
            "children": [
              "IPY_MODEL_514d61b02f1945a78f319bade4af168c",
              "IPY_MODEL_a8013b4fa4264193a645d348edcae9df"
            ]
          }
        },
        "62a0efa30eeb4ffaa2c596ab984ca3d6": {
          "model_module": "@jupyter-widgets/base",
          "model_name": "LayoutModel",
          "state": {
            "_view_name": "LayoutView",
            "grid_template_rows": null,
            "right": null,
            "justify_content": null,
            "_view_module": "@jupyter-widgets/base",
            "overflow": null,
            "_model_module_version": "1.2.0",
            "_view_count": null,
            "flex_flow": null,
            "width": null,
            "min_width": null,
            "border": null,
            "align_items": null,
            "bottom": null,
            "_model_module": "@jupyter-widgets/base",
            "top": null,
            "grid_column": null,
            "overflow_y": null,
            "overflow_x": null,
            "grid_auto_flow": null,
            "grid_area": null,
            "grid_template_columns": null,
            "flex": null,
            "_model_name": "LayoutModel",
            "justify_items": null,
            "grid_row": null,
            "max_height": null,
            "align_content": null,
            "visibility": null,
            "align_self": null,
            "height": null,
            "min_height": null,
            "padding": null,
            "grid_auto_rows": null,
            "grid_gap": null,
            "max_width": null,
            "order": null,
            "_view_module_version": "1.2.0",
            "grid_template_areas": null,
            "object_position": null,
            "object_fit": null,
            "grid_auto_columns": null,
            "margin": null,
            "display": null,
            "left": null
          }
        },
        "514d61b02f1945a78f319bade4af168c": {
          "model_module": "@jupyter-widgets/controls",
          "model_name": "FloatProgressModel",
          "state": {
            "_view_name": "ProgressView",
            "style": "IPY_MODEL_017d76b42a114af185294d595c17cee7",
            "_dom_classes": [],
            "description": "Downloading: 100%",
            "_model_name": "FloatProgressModel",
            "bar_style": "success",
            "max": 467042463,
            "_view_module": "@jupyter-widgets/controls",
            "_model_module_version": "1.5.0",
            "value": 467042463,
            "_view_count": null,
            "_view_module_version": "1.5.0",
            "orientation": "horizontal",
            "min": 0,
            "description_tooltip": null,
            "_model_module": "@jupyter-widgets/controls",
            "layout": "IPY_MODEL_888183642f69466da389a911bbf30c2a"
          }
        },
        "a8013b4fa4264193a645d348edcae9df": {
          "model_module": "@jupyter-widgets/controls",
          "model_name": "HTMLModel",
          "state": {
            "_view_name": "HTMLView",
            "style": "IPY_MODEL_f5ac84f8d117433abe0d0a3f75baa947",
            "_dom_classes": [],
            "description": "",
            "_model_name": "HTMLModel",
            "placeholder": "​",
            "_view_module": "@jupyter-widgets/controls",
            "_model_module_version": "1.5.0",
            "value": " 467M/467M [00:17&lt;00:00, 26.7MB/s]",
            "_view_count": null,
            "_view_module_version": "1.5.0",
            "description_tooltip": null,
            "_model_module": "@jupyter-widgets/controls",
            "layout": "IPY_MODEL_e40cbc28830b4ec9a2f8fb3cbea63bbd"
          }
        },
        "017d76b42a114af185294d595c17cee7": {
          "model_module": "@jupyter-widgets/controls",
          "model_name": "ProgressStyleModel",
          "state": {
            "_view_name": "StyleView",
            "_model_name": "ProgressStyleModel",
            "description_width": "initial",
            "_view_module": "@jupyter-widgets/base",
            "_model_module_version": "1.5.0",
            "_view_count": null,
            "_view_module_version": "1.2.0",
            "bar_color": null,
            "_model_module": "@jupyter-widgets/controls"
          }
        },
        "888183642f69466da389a911bbf30c2a": {
          "model_module": "@jupyter-widgets/base",
          "model_name": "LayoutModel",
          "state": {
            "_view_name": "LayoutView",
            "grid_template_rows": null,
            "right": null,
            "justify_content": null,
            "_view_module": "@jupyter-widgets/base",
            "overflow": null,
            "_model_module_version": "1.2.0",
            "_view_count": null,
            "flex_flow": null,
            "width": null,
            "min_width": null,
            "border": null,
            "align_items": null,
            "bottom": null,
            "_model_module": "@jupyter-widgets/base",
            "top": null,
            "grid_column": null,
            "overflow_y": null,
            "overflow_x": null,
            "grid_auto_flow": null,
            "grid_area": null,
            "grid_template_columns": null,
            "flex": null,
            "_model_name": "LayoutModel",
            "justify_items": null,
            "grid_row": null,
            "max_height": null,
            "align_content": null,
            "visibility": null,
            "align_self": null,
            "height": null,
            "min_height": null,
            "padding": null,
            "grid_auto_rows": null,
            "grid_gap": null,
            "max_width": null,
            "order": null,
            "_view_module_version": "1.2.0",
            "grid_template_areas": null,
            "object_position": null,
            "object_fit": null,
            "grid_auto_columns": null,
            "margin": null,
            "display": null,
            "left": null
          }
        },
        "f5ac84f8d117433abe0d0a3f75baa947": {
          "model_module": "@jupyter-widgets/controls",
          "model_name": "DescriptionStyleModel",
          "state": {
            "_view_name": "StyleView",
            "_model_name": "DescriptionStyleModel",
            "description_width": "",
            "_view_module": "@jupyter-widgets/base",
            "_model_module_version": "1.5.0",
            "_view_count": null,
            "_view_module_version": "1.2.0",
            "_model_module": "@jupyter-widgets/controls"
          }
        },
        "e40cbc28830b4ec9a2f8fb3cbea63bbd": {
          "model_module": "@jupyter-widgets/base",
          "model_name": "LayoutModel",
          "state": {
            "_view_name": "LayoutView",
            "grid_template_rows": null,
            "right": null,
            "justify_content": null,
            "_view_module": "@jupyter-widgets/base",
            "overflow": null,
            "_model_module_version": "1.2.0",
            "_view_count": null,
            "flex_flow": null,
            "width": null,
            "min_width": null,
            "border": null,
            "align_items": null,
            "bottom": null,
            "_model_module": "@jupyter-widgets/base",
            "top": null,
            "grid_column": null,
            "overflow_y": null,
            "overflow_x": null,
            "grid_auto_flow": null,
            "grid_area": null,
            "grid_template_columns": null,
            "flex": null,
            "_model_name": "LayoutModel",
            "justify_items": null,
            "grid_row": null,
            "max_height": null,
            "align_content": null,
            "visibility": null,
            "align_self": null,
            "height": null,
            "min_height": null,
            "padding": null,
            "grid_auto_rows": null,
            "grid_gap": null,
            "max_width": null,
            "order": null,
            "_view_module_version": "1.2.0",
            "grid_template_areas": null,
            "object_position": null,
            "object_fit": null,
            "grid_auto_columns": null,
            "margin": null,
            "display": null,
            "left": null
          }
        }
      }
    }
  },
  "cells": [
    {
      "cell_type": "markdown",
      "metadata": {
        "id": "view-in-github",
        "colab_type": "text"
      },
      "source": [
        "<a href=\"https://colab.research.google.com/github/dimi-fn/Emotion-Recognition-in-Movie-Abstracts/blob/master/4d_Model_Bert.ipynb\" target=\"_parent\"><img src=\"https://colab.research.google.com/assets/colab-badge.svg\" alt=\"Open In Colab\"/></a>"
      ]
    },
    {
      "cell_type": "code",
      "metadata": {
        "id": "JzlSk_5YuAUa"
      },
      "source": [
        "# importing libraries for data analysis and manipulation\n",
        "import pandas as pd\n",
        "import numpy as np\n",
        "\n",
        "np.random.seed(42) # to make this notebook's output stable across runs\n",
        "\n",
        "# For plotting figures\n",
        "%matplotlib inline\n",
        "import matplotlib as mpl\n",
        "import matplotlib.pyplot as plt\n",
        "mpl.rc('axes', labelsize=14)\n",
        "mpl.rc('xtick', labelsize=12)\n",
        "mpl.rc('ytick', labelsize=12)\n",
        "\n",
        "# Generating the version of a wide variety of packages/libraries used & working environment\n",
        "#pd.__version__\n",
        "#pd.show_versions(as_json=False)\n"
      ],
      "execution_count": null,
      "outputs": []
    },
    {
      "cell_type": "code",
      "metadata": {
        "id": "JDGtlQ9zuHof"
      },
      "source": [
        "# Code to read csv file into colaboratory:\n",
        "!pip install -U -q PyDrive\n",
        "from pydrive.auth import GoogleAuth\n",
        "from pydrive.drive import GoogleDrive\n",
        "from google.colab import auth\n",
        "from oauth2client.client import GoogleCredentials"
      ],
      "execution_count": null,
      "outputs": []
    },
    {
      "cell_type": "code",
      "metadata": {
        "id": "B9qQewQ2uIaP"
      },
      "source": [
        "auth.authenticate_user()\n",
        "gauth = GoogleAuth()\n",
        "gauth.credentials = GoogleCredentials.get_application_default()\n",
        "drive = GoogleDrive(gauth)"
      ],
      "execution_count": null,
      "outputs": []
    },
    {
      "cell_type": "markdown",
      "metadata": {
        "id": "Ja5Kz1_auKwr"
      },
      "source": [
        "# `movies_final_3`"
      ]
    },
    {
      "cell_type": "code",
      "metadata": {
        "id": "4azdGbNjuJSN",
        "colab": {
          "base_uri": "https://localhost:8080/",
          "height": 34
        },
        "outputId": "55a60caa-999e-408e-a612-9ef939199fdf"
      },
      "source": [
        "downloaded = drive.CreateFile({'id':'1Xys1Ve5DHr3gI10lhdM_k2xN3uDT0c6k'}) \n",
        "downloaded.GetContentFile('movies_final_3.csv') \n",
        "\n",
        "movies_final_3 = pd.read_csv('movies_final_3.csv') \n",
        "movies_final_3.shape"
      ],
      "execution_count": null,
      "outputs": [
        {
          "output_type": "execute_result",
          "data": {
            "text/plain": [
              "(55877, 17)"
            ]
          },
          "metadata": {
            "tags": []
          },
          "execution_count": 4
        }
      ]
    },
    {
      "cell_type": "code",
      "metadata": {
        "id": "RdgpuGTZyEL9",
        "colab": {
          "base_uri": "https://localhost:8080/",
          "height": 319
        },
        "outputId": "2704c995-05ed-4943-fe0c-22d1fe9b63bc"
      },
      "source": [
        "# nulls are only the unlabelled emotions\n",
        "\n",
        "movies_final_3.isnull().sum()"
      ],
      "execution_count": null,
      "outputs": [
        {
          "output_type": "execute_result",
          "data": {
            "text/plain": [
              "movieId                      0\n",
              "tmdbId                       0\n",
              "title                        0\n",
              "genres                       0\n",
              "overview                     0\n",
              "Vader_score                  0\n",
              "Vader_compound               0\n",
              "Vader_polarity               0\n",
              "NMF_topic                    0\n",
              "NMF_topic_description        0\n",
              "entities                     0\n",
              "happiness                55577\n",
              "sadness                  55577\n",
              "anger                    55577\n",
              "disgust                  55577\n",
              "fear                     55577\n",
              "surprise                 55577\n",
              "dtype: int64"
            ]
          },
          "metadata": {
            "tags": []
          },
          "execution_count": 5
        }
      ]
    },
    {
      "cell_type": "code",
      "metadata": {
        "id": "_iAQxq9-u973",
        "colab": {
          "base_uri": "https://localhost:8080/",
          "height": 420
        },
        "outputId": "9c4636cc-0248-4ecd-e344-98533f2425c9"
      },
      "source": [
        "movies_final_3.info()"
      ],
      "execution_count": null,
      "outputs": [
        {
          "output_type": "stream",
          "text": [
            "<class 'pandas.core.frame.DataFrame'>\n",
            "RangeIndex: 55877 entries, 0 to 55876\n",
            "Data columns (total 17 columns):\n",
            " #   Column                 Non-Null Count  Dtype  \n",
            "---  ------                 --------------  -----  \n",
            " 0   movieId                55877 non-null  int64  \n",
            " 1   tmdbId                 55877 non-null  float64\n",
            " 2   title                  55877 non-null  object \n",
            " 3   genres                 55877 non-null  object \n",
            " 4   overview               55877 non-null  object \n",
            " 5   Vader_score            55877 non-null  object \n",
            " 6   Vader_compound         55877 non-null  float64\n",
            " 7   Vader_polarity         55877 non-null  object \n",
            " 8   NMF_topic              55877 non-null  int64  \n",
            " 9   NMF_topic_description  55877 non-null  object \n",
            " 10  entities               55877 non-null  object \n",
            " 11  happiness              300 non-null    float64\n",
            " 12  sadness                300 non-null    float64\n",
            " 13  anger                  300 non-null    float64\n",
            " 14  disgust                300 non-null    float64\n",
            " 15  fear                   300 non-null    float64\n",
            " 16  surprise               300 non-null    float64\n",
            "dtypes: float64(8), int64(2), object(7)\n",
            "memory usage: 7.2+ MB\n"
          ],
          "name": "stdout"
        }
      ]
    },
    {
      "cell_type": "markdown",
      "metadata": {
        "id": "c0j6SHlyxC5y"
      },
      "source": [
        "## Fixing attribute \"Vader_score\""
      ]
    },
    {
      "cell_type": "code",
      "metadata": {
        "id": "1k7e6S-Qvl1G"
      },
      "source": [
        "# fixing \"Vader_score\" attribute in the same way it was fixed in the previous notebooks\n",
        "\n",
        "\n",
        "# converting the Vader_score attribute into an object type\n",
        "movies_final_3[\"Vader_score\"] = movies_final_3[\"Vader_score\"].astype(\"object\")"
      ],
      "execution_count": null,
      "outputs": []
    },
    {
      "cell_type": "code",
      "metadata": {
        "id": "-Nz0wI98wWXT",
        "colab": {
          "base_uri": "https://localhost:8080/",
          "height": 34
        },
        "outputId": "e3615748-11bb-406f-88ff-b7926a9e4859"
      },
      "source": [
        "from pandas.api.types import is_dict_like\n",
        "is_dict_like(movies_final_3.Vader_score)"
      ],
      "execution_count": null,
      "outputs": [
        {
          "output_type": "execute_result",
          "data": {
            "text/plain": [
              "True"
            ]
          },
          "metadata": {
            "tags": []
          },
          "execution_count": 8
        }
      ]
    },
    {
      "cell_type": "code",
      "metadata": {
        "id": "R3tdWObXwWa_"
      },
      "source": [
        "movies_final_3[\"Vader_score\"] = movies_final_3[\"Vader_score\"].apply(lambda x: dict(eval(x)))"
      ],
      "execution_count": null,
      "outputs": []
    },
    {
      "cell_type": "code",
      "metadata": {
        "id": "yq2XqDOswWik",
        "colab": {
          "base_uri": "https://localhost:8080/",
          "height": 136
        },
        "outputId": "ad0b7f5e-c849-4430-b21e-25551f650d4f"
      },
      "source": [
        "df_temp= movies_final_3[\"Vader_score\"].apply(pd.Series)\n",
        "df_temp[:3]"
      ],
      "execution_count": null,
      "outputs": [
        {
          "output_type": "execute_result",
          "data": {
            "text/html": [
              "<div>\n",
              "<style scoped>\n",
              "    .dataframe tbody tr th:only-of-type {\n",
              "        vertical-align: middle;\n",
              "    }\n",
              "\n",
              "    .dataframe tbody tr th {\n",
              "        vertical-align: top;\n",
              "    }\n",
              "\n",
              "    .dataframe thead th {\n",
              "        text-align: right;\n",
              "    }\n",
              "</style>\n",
              "<table border=\"1\" class=\"dataframe\">\n",
              "  <thead>\n",
              "    <tr style=\"text-align: right;\">\n",
              "      <th></th>\n",
              "      <th>neg</th>\n",
              "      <th>neu</th>\n",
              "      <th>pos</th>\n",
              "      <th>compound</th>\n",
              "    </tr>\n",
              "  </thead>\n",
              "  <tbody>\n",
              "    <tr>\n",
              "      <th>0</th>\n",
              "      <td>0.048</td>\n",
              "      <td>0.886</td>\n",
              "      <td>0.066</td>\n",
              "      <td>0.2500</td>\n",
              "    </tr>\n",
              "    <tr>\n",
              "      <th>1</th>\n",
              "      <td>0.161</td>\n",
              "      <td>0.702</td>\n",
              "      <td>0.137</td>\n",
              "      <td>-0.4588</td>\n",
              "    </tr>\n",
              "    <tr>\n",
              "      <th>2</th>\n",
              "      <td>0.168</td>\n",
              "      <td>0.791</td>\n",
              "      <td>0.041</td>\n",
              "      <td>-0.7645</td>\n",
              "    </tr>\n",
              "  </tbody>\n",
              "</table>\n",
              "</div>"
            ],
            "text/plain": [
              "     neg    neu    pos  compound\n",
              "0  0.048  0.886  0.066    0.2500\n",
              "1  0.161  0.702  0.137   -0.4588\n",
              "2  0.168  0.791  0.041   -0.7645"
            ]
          },
          "metadata": {
            "tags": []
          },
          "execution_count": 10
        }
      ]
    },
    {
      "cell_type": "code",
      "metadata": {
        "id": "kbUIdOsXwWgw",
        "colab": {
          "base_uri": "https://localhost:8080/",
          "height": 34
        },
        "outputId": "03843747-4c14-4138-d9ea-923c8e13a927"
      },
      "source": [
        "result= pd.concat([df_temp, movies_final_3], axis=1).drop([\"Vader_score\", \"Vader_compound\"], axis=1)\n",
        "result.shape\n",
        "# 2 new columns added (2 columns removed, 4 were added)\n",
        "# \"Vader_score\" is not needed anymore since its values are now displayed as new columns\n",
        "# \"Vader_compound\" is replaced by the compound score inside the compound key values provided by the Vader_score\n",
        "# Hence, we now have: \"compound\" (old \"Vader_compound\") | \"neg\"| \"neu\"| \"pos\"\n",
        "# (55877, 19)"
      ],
      "execution_count": null,
      "outputs": [
        {
          "output_type": "execute_result",
          "data": {
            "text/plain": [
              "(55877, 19)"
            ]
          },
          "metadata": {
            "tags": []
          },
          "execution_count": 11
        }
      ]
    },
    {
      "cell_type": "code",
      "metadata": {
        "id": "uquh-mg3wWey",
        "colab": {
          "base_uri": "https://localhost:8080/",
          "height": 34
        },
        "outputId": "6ea6c565-e61d-474d-bd80-c3fabfe4383c"
      },
      "source": [
        "movies_final_3=result\n",
        "movies_final_3.shape"
      ],
      "execution_count": null,
      "outputs": [
        {
          "output_type": "execute_result",
          "data": {
            "text/plain": [
              "(55877, 19)"
            ]
          },
          "metadata": {
            "tags": []
          },
          "execution_count": 12
        }
      ]
    },
    {
      "cell_type": "code",
      "metadata": {
        "id": "P_oL7b_fwWdI",
        "colab": {
          "base_uri": "https://localhost:8080/",
          "height": 34
        },
        "outputId": "a02f5feb-31db-477d-8170-1a339df17eaa"
      },
      "source": [
        "# changing the order of columns\n",
        "\n",
        "movies_final_3 =  movies_final_3[[\"movieId\",\"tmdbId\",\"title\",\"genres\",\"overview\",\"Vader_polarity\",\"compound\",\"neg\",\"neu\",\"pos\",\"NMF_topic\",\"NMF_topic_description\",\"entities\",\"happiness\",\"sadness\",\"anger\",\"disgust\",\"fear\",\"surprise\"]]\n",
        "movies_final_3.shape"
      ],
      "execution_count": null,
      "outputs": [
        {
          "output_type": "execute_result",
          "data": {
            "text/plain": [
              "(55877, 19)"
            ]
          },
          "metadata": {
            "tags": []
          },
          "execution_count": 13
        }
      ]
    },
    {
      "cell_type": "code",
      "metadata": {
        "id": "prZRWZ5jwWZi",
        "colab": {
          "base_uri": "https://localhost:8080/",
          "height": 425
        },
        "outputId": "3982ffe0-b8ff-440d-c9ae-7f2c28d7882f"
      },
      "source": [
        "movies_final_3.head(3)"
      ],
      "execution_count": null,
      "outputs": [
        {
          "output_type": "execute_result",
          "data": {
            "text/html": [
              "<div>\n",
              "<style scoped>\n",
              "    .dataframe tbody tr th:only-of-type {\n",
              "        vertical-align: middle;\n",
              "    }\n",
              "\n",
              "    .dataframe tbody tr th {\n",
              "        vertical-align: top;\n",
              "    }\n",
              "\n",
              "    .dataframe thead th {\n",
              "        text-align: right;\n",
              "    }\n",
              "</style>\n",
              "<table border=\"1\" class=\"dataframe\">\n",
              "  <thead>\n",
              "    <tr style=\"text-align: right;\">\n",
              "      <th></th>\n",
              "      <th>movieId</th>\n",
              "      <th>tmdbId</th>\n",
              "      <th>title</th>\n",
              "      <th>genres</th>\n",
              "      <th>overview</th>\n",
              "      <th>Vader_polarity</th>\n",
              "      <th>compound</th>\n",
              "      <th>neg</th>\n",
              "      <th>neu</th>\n",
              "      <th>pos</th>\n",
              "      <th>NMF_topic</th>\n",
              "      <th>NMF_topic_description</th>\n",
              "      <th>entities</th>\n",
              "      <th>happiness</th>\n",
              "      <th>sadness</th>\n",
              "      <th>anger</th>\n",
              "      <th>disgust</th>\n",
              "      <th>fear</th>\n",
              "      <th>surprise</th>\n",
              "    </tr>\n",
              "  </thead>\n",
              "  <tbody>\n",
              "    <tr>\n",
              "      <th>0</th>\n",
              "      <td>1</td>\n",
              "      <td>862.0</td>\n",
              "      <td>Toy Story (1995)</td>\n",
              "      <td>Adventure|Animation|Children|Comedy|Fantasy</td>\n",
              "      <td>Led by Woody, Andy's toys live happily in his ...</td>\n",
              "      <td>positive</td>\n",
              "      <td>0.2500</td>\n",
              "      <td>0.048</td>\n",
              "      <td>0.886</td>\n",
              "      <td>0.066</td>\n",
              "      <td>0</td>\n",
              "      <td>Battle|Offence</td>\n",
              "      <td>PERSON|PERSON|PERSON|PERSON|PERSON|PERSON|ORG|...</td>\n",
              "      <td>NaN</td>\n",
              "      <td>NaN</td>\n",
              "      <td>NaN</td>\n",
              "      <td>NaN</td>\n",
              "      <td>NaN</td>\n",
              "      <td>NaN</td>\n",
              "    </tr>\n",
              "    <tr>\n",
              "      <th>1</th>\n",
              "      <td>2</td>\n",
              "      <td>8844.0</td>\n",
              "      <td>Jumanji (1995)</td>\n",
              "      <td>Adventure|Children|Fantasy</td>\n",
              "      <td>When siblings Judy and Peter discover an encha...</td>\n",
              "      <td>negative</td>\n",
              "      <td>-0.4588</td>\n",
              "      <td>0.161</td>\n",
              "      <td>0.702</td>\n",
              "      <td>0.137</td>\n",
              "      <td>5</td>\n",
              "      <td>War|Crime</td>\n",
              "      <td>PERSON|PERSON|ORG|PERSON|DATE|PERSON|CARDINAL</td>\n",
              "      <td>NaN</td>\n",
              "      <td>NaN</td>\n",
              "      <td>NaN</td>\n",
              "      <td>NaN</td>\n",
              "      <td>NaN</td>\n",
              "      <td>NaN</td>\n",
              "    </tr>\n",
              "    <tr>\n",
              "      <th>2</th>\n",
              "      <td>3</td>\n",
              "      <td>15602.0</td>\n",
              "      <td>Grumpier Old Men (1995)</td>\n",
              "      <td>Comedy|Romance</td>\n",
              "      <td>A family wedding reignites the ancient feud be...</td>\n",
              "      <td>negative</td>\n",
              "      <td>-0.7645</td>\n",
              "      <td>0.168</td>\n",
              "      <td>0.791</td>\n",
              "      <td>0.041</td>\n",
              "      <td>6</td>\n",
              "      <td>Family|Relatives</td>\n",
              "      <td>PERSON|PERSON|NORP|PERSON</td>\n",
              "      <td>NaN</td>\n",
              "      <td>NaN</td>\n",
              "      <td>NaN</td>\n",
              "      <td>NaN</td>\n",
              "      <td>NaN</td>\n",
              "      <td>NaN</td>\n",
              "    </tr>\n",
              "  </tbody>\n",
              "</table>\n",
              "</div>"
            ],
            "text/plain": [
              "   movieId   tmdbId                    title  ... disgust fear surprise\n",
              "0        1    862.0         Toy Story (1995)  ...     NaN  NaN      NaN\n",
              "1        2   8844.0           Jumanji (1995)  ...     NaN  NaN      NaN\n",
              "2        3  15602.0  Grumpier Old Men (1995)  ...     NaN  NaN      NaN\n",
              "\n",
              "[3 rows x 19 columns]"
            ]
          },
          "metadata": {
            "tags": []
          },
          "execution_count": 14
        }
      ]
    },
    {
      "cell_type": "markdown",
      "metadata": {
        "id": "l5tJQmjJxJKX"
      },
      "source": [
        "## Dtype conversions of other attributes"
      ]
    },
    {
      "cell_type": "code",
      "metadata": {
        "id": "Uq-E3lTnw5pl"
      },
      "source": [
        "# converting the below categorical attributes into type \"category\"\n",
        "# they will then be label encoded and one_hot_encoded when and if necessary\n",
        "movies_final_3[\"title\"] = movies_final_3[\"title\"].astype(\"category\")\n",
        "\n",
        "movies_final_3[\"genres\"] = movies_final_3[\"genres\"].astype(\"category\")\n",
        "\n",
        "movies_final_3[\"Vader_polarity\"] = movies_final_3[\"Vader_polarity\"].astype(\"category\")\n",
        "\n",
        "movies_final_3[\"NMF_topic_description\"] = movies_final_3[\"NMF_topic_description\"].astype(\"category\")\n",
        "\n",
        "movies_final_3[\"entities\"] = movies_final_3[\"entities\"].astype(\"category\")"
      ],
      "execution_count": null,
      "outputs": []
    },
    {
      "cell_type": "code",
      "metadata": {
        "id": "CJPNGnrvxOFy",
        "colab": {
          "base_uri": "https://localhost:8080/",
          "height": 454
        },
        "outputId": "1ea000e8-96fe-4336-f196-deafe09dd88d"
      },
      "source": [
        "movies_final_3.info()"
      ],
      "execution_count": null,
      "outputs": [
        {
          "output_type": "stream",
          "text": [
            "<class 'pandas.core.frame.DataFrame'>\n",
            "RangeIndex: 55877 entries, 0 to 55876\n",
            "Data columns (total 19 columns):\n",
            " #   Column                 Non-Null Count  Dtype   \n",
            "---  ------                 --------------  -----   \n",
            " 0   movieId                55877 non-null  int64   \n",
            " 1   tmdbId                 55877 non-null  float64 \n",
            " 2   title                  55877 non-null  category\n",
            " 3   genres                 55877 non-null  category\n",
            " 4   overview               55877 non-null  object  \n",
            " 5   Vader_polarity         55877 non-null  category\n",
            " 6   compound               55877 non-null  float64 \n",
            " 7   neg                    55877 non-null  float64 \n",
            " 8   neu                    55877 non-null  float64 \n",
            " 9   pos                    55877 non-null  float64 \n",
            " 10  NMF_topic              55877 non-null  int64   \n",
            " 11  NMF_topic_description  55877 non-null  category\n",
            " 12  entities               55877 non-null  category\n",
            " 13  happiness              300 non-null    float64 \n",
            " 14  sadness                300 non-null    float64 \n",
            " 15  anger                  300 non-null    float64 \n",
            " 16  disgust                300 non-null    float64 \n",
            " 17  fear                   300 non-null    float64 \n",
            " 18  surprise               300 non-null    float64 \n",
            "dtypes: category(5), float64(11), int64(2), object(1)\n",
            "memory usage: 10.3+ MB\n"
          ],
          "name": "stdout"
        }
      ]
    },
    {
      "cell_type": "code",
      "metadata": {
        "id": "L4gobUw4xODz",
        "colab": {
          "base_uri": "https://localhost:8080/",
          "height": 181
        },
        "outputId": "aeaf47d0-a9cb-4753-bdcf-815b63758879"
      },
      "source": [
        "movies_final_3.head(1)"
      ],
      "execution_count": null,
      "outputs": [
        {
          "output_type": "execute_result",
          "data": {
            "text/html": [
              "<div>\n",
              "<style scoped>\n",
              "    .dataframe tbody tr th:only-of-type {\n",
              "        vertical-align: middle;\n",
              "    }\n",
              "\n",
              "    .dataframe tbody tr th {\n",
              "        vertical-align: top;\n",
              "    }\n",
              "\n",
              "    .dataframe thead th {\n",
              "        text-align: right;\n",
              "    }\n",
              "</style>\n",
              "<table border=\"1\" class=\"dataframe\">\n",
              "  <thead>\n",
              "    <tr style=\"text-align: right;\">\n",
              "      <th></th>\n",
              "      <th>movieId</th>\n",
              "      <th>tmdbId</th>\n",
              "      <th>title</th>\n",
              "      <th>genres</th>\n",
              "      <th>overview</th>\n",
              "      <th>Vader_polarity</th>\n",
              "      <th>compound</th>\n",
              "      <th>neg</th>\n",
              "      <th>neu</th>\n",
              "      <th>pos</th>\n",
              "      <th>NMF_topic</th>\n",
              "      <th>NMF_topic_description</th>\n",
              "      <th>entities</th>\n",
              "      <th>happiness</th>\n",
              "      <th>sadness</th>\n",
              "      <th>anger</th>\n",
              "      <th>disgust</th>\n",
              "      <th>fear</th>\n",
              "      <th>surprise</th>\n",
              "    </tr>\n",
              "  </thead>\n",
              "  <tbody>\n",
              "    <tr>\n",
              "      <th>0</th>\n",
              "      <td>1</td>\n",
              "      <td>862.0</td>\n",
              "      <td>Toy Story (1995)</td>\n",
              "      <td>Adventure|Animation|Children|Comedy|Fantasy</td>\n",
              "      <td>Led by Woody, Andy's toys live happily in his ...</td>\n",
              "      <td>positive</td>\n",
              "      <td>0.25</td>\n",
              "      <td>0.048</td>\n",
              "      <td>0.886</td>\n",
              "      <td>0.066</td>\n",
              "      <td>0</td>\n",
              "      <td>Battle|Offence</td>\n",
              "      <td>PERSON|PERSON|PERSON|PERSON|PERSON|PERSON|ORG|...</td>\n",
              "      <td>NaN</td>\n",
              "      <td>NaN</td>\n",
              "      <td>NaN</td>\n",
              "      <td>NaN</td>\n",
              "      <td>NaN</td>\n",
              "      <td>NaN</td>\n",
              "    </tr>\n",
              "  </tbody>\n",
              "</table>\n",
              "</div>"
            ],
            "text/plain": [
              "   movieId  tmdbId             title  ... disgust fear surprise\n",
              "0        1   862.0  Toy Story (1995)  ...     NaN  NaN      NaN\n",
              "\n",
              "[1 rows x 19 columns]"
            ]
          },
          "metadata": {
            "tags": []
          },
          "execution_count": 17
        }
      ]
    },
    {
      "cell_type": "code",
      "metadata": {
        "id": "s_KfgaU0w5nu",
        "colab": {
          "base_uri": "https://localhost:8080/",
          "height": 34
        },
        "outputId": "4535437c-1df3-4335-88e6-131f27f60ad1"
      },
      "source": [
        "# final shape of all dataset (labelled & unlabelled)\n",
        "movies_final_3.shape"
      ],
      "execution_count": null,
      "outputs": [
        {
          "output_type": "execute_result",
          "data": {
            "text/plain": [
              "(55877, 19)"
            ]
          },
          "metadata": {
            "tags": []
          },
          "execution_count": 18
        }
      ]
    },
    {
      "cell_type": "markdown",
      "metadata": {
        "id": "YnOBgwzIuUuc"
      },
      "source": [
        "## Splitting the data between labelled and unlabelled regarding emotion's labelling"
      ]
    },
    {
      "cell_type": "markdown",
      "metadata": {
        "id": "kOg5et8hvaDb"
      },
      "source": [
        "### labelled_df"
      ]
    },
    {
      "cell_type": "code",
      "metadata": {
        "id": "sGmxQMQ1uOf4",
        "colab": {
          "base_uri": "https://localhost:8080/",
          "height": 34
        },
        "outputId": "278b9f8d-3be4-4d61-ddf4-bcfec9e8a375"
      },
      "source": [
        "# labelled dataframe\n",
        "# 300 emotions to 300 movie overviews\n",
        "# it should include 300 rows\n",
        "\n",
        "data=[]\n",
        "for row in movies_final_3.itertuples(index=True, name='Pandas'):\n",
        "  if (row.happiness ==0 or row.happiness==1) or (row.sadness ==0 or row.sadness==1) or (row.anger==0 or row.anger==1) or (row.disgust==0 or row.disgust==1) or (row.fear==0 or row.fear==1) or (row.surprise==0 and row.surprise==1):\n",
        "    data.append([row.movieId, row.tmdbId, row.title, row.genres, row.overview,\n",
        "                 row.Vader_polarity, row.compound, row.neg, row.neu, row.pos,\n",
        "                 row.NMF_topic, row.NMF_topic_description, row.entities, \n",
        "                 row.happiness, row.sadness, row.anger, row.disgust, row.fear, row.surprise])\n",
        "\n",
        "labelled_df = pd.DataFrame(data, columns=['movieId', 'tmdbId', \"title\", 'genres', \"overview\",\n",
        "                                          \"Vader_polarity\", \"compound\", \"neg\", \"neu\", \"pos\",\n",
        "                                          \"NMF_topic\", \"NMF_topic_description\", \"entities\", \n",
        "                                          \"happiness\", \"sadness\", \"anger\", \"disgust\", \"fear\", \"surprise\"\n",
        "                                          ])\n",
        "labelled_df.shape"
      ],
      "execution_count": null,
      "outputs": [
        {
          "output_type": "execute_result",
          "data": {
            "text/plain": [
              "(300, 19)"
            ]
          },
          "metadata": {
            "tags": []
          },
          "execution_count": 19
        }
      ]
    },
    {
      "cell_type": "code",
      "metadata": {
        "id": "bm7TXZmyuV7f",
        "colab": {
          "base_uri": "https://localhost:8080/",
          "height": 34
        },
        "outputId": "7e475d52-9907-42b7-e71f-bebc149e5265"
      },
      "source": [
        "labelled_df.isnull().sum().any()"
      ],
      "execution_count": null,
      "outputs": [
        {
          "output_type": "execute_result",
          "data": {
            "text/plain": [
              "False"
            ]
          },
          "metadata": {
            "tags": []
          },
          "execution_count": 20
        }
      ]
    },
    {
      "cell_type": "code",
      "metadata": {
        "id": "0pf9wCahvc8e",
        "colab": {
          "base_uri": "https://localhost:8080/",
          "height": 454
        },
        "outputId": "fb2154c3-0145-458e-d92e-9ff14ce788eb"
      },
      "source": [
        "labelled_df.info()"
      ],
      "execution_count": null,
      "outputs": [
        {
          "output_type": "stream",
          "text": [
            "<class 'pandas.core.frame.DataFrame'>\n",
            "RangeIndex: 300 entries, 0 to 299\n",
            "Data columns (total 19 columns):\n",
            " #   Column                 Non-Null Count  Dtype  \n",
            "---  ------                 --------------  -----  \n",
            " 0   movieId                300 non-null    int64  \n",
            " 1   tmdbId                 300 non-null    float64\n",
            " 2   title                  300 non-null    object \n",
            " 3   genres                 300 non-null    object \n",
            " 4   overview               300 non-null    object \n",
            " 5   Vader_polarity         300 non-null    object \n",
            " 6   compound               300 non-null    float64\n",
            " 7   neg                    300 non-null    float64\n",
            " 8   neu                    300 non-null    float64\n",
            " 9   pos                    300 non-null    float64\n",
            " 10  NMF_topic              300 non-null    int64  \n",
            " 11  NMF_topic_description  300 non-null    object \n",
            " 12  entities               300 non-null    object \n",
            " 13  happiness              300 non-null    float64\n",
            " 14  sadness                300 non-null    float64\n",
            " 15  anger                  300 non-null    float64\n",
            " 16  disgust                300 non-null    float64\n",
            " 17  fear                   300 non-null    float64\n",
            " 18  surprise               300 non-null    float64\n",
            "dtypes: float64(11), int64(2), object(6)\n",
            "memory usage: 44.7+ KB\n"
          ],
          "name": "stdout"
        }
      ]
    },
    {
      "cell_type": "markdown",
      "metadata": {
        "id": "REytJfaX1tby"
      },
      "source": [
        "##### `labelled_df.csv`"
      ]
    },
    {
      "cell_type": "code",
      "metadata": {
        "id": "PSpXGyne10JD",
        "colab": {
          "base_uri": "https://localhost:8080/",
          "height": 52
        },
        "outputId": "69fcb6b9-6282-48f9-916a-979ff7120cd6"
      },
      "source": [
        "'''\n",
        "from google.colab import files\n",
        "\n",
        "labelled_df.to_csv('labelled_df.csv', index=False)\n",
        "files.download('labelled_df.csv')\n",
        "\n",
        "labelled_df.to_csv('labelled_df_index.csv', index=True)\n",
        "files.download('labelled_df_index.csv')\n",
        "'''"
      ],
      "execution_count": null,
      "outputs": [
        {
          "output_type": "execute_result",
          "data": {
            "application/vnd.google.colaboratory.intrinsic+json": {
              "type": "string"
            },
            "text/plain": [
              "\"\\nfrom google.colab import files\\n\\nlabelled_df.to_csv('labelled_df.csv', index=False)\\nfiles.download('labelled_df.csv')\\n\\nlabelled_df.to_csv('labelled_df_index.csv', index=True)\\nfiles.download('labelled_df_index.csv')\\n\""
            ]
          },
          "metadata": {
            "tags": []
          },
          "execution_count": 22
        }
      ]
    },
    {
      "cell_type": "markdown",
      "metadata": {
        "id": "wLkrTEntCnhp"
      },
      "source": [
        "##### Split: train-valid-test"
      ]
    },
    {
      "cell_type": "code",
      "metadata": {
        "id": "4uNKOJTVCkVx"
      },
      "source": [
        "emotions = [\"happiness\", \"sadness\", \"anger\", \"disgust\", \"fear\", \"surprise\"]\n",
        "\n",
        "from sklearn.model_selection import train_test_split\n",
        "\n",
        "\n",
        "x_train_val, x_test, y_train_val, y_test= train_test_split(labelled_df[[\"title\", \"genres\", \"overview\", \"Vader_polarity\", \"compound\", \"neg\", \"neu\", \"pos\", \"NMF_topic\", \"NMF_topic_description\", \"entities\"]] , labelled_df[[\"happiness\", \"sadness\", \"anger\", \"disgust\", \"fear\", \"surprise\"]], test_size=0.1, random_state=42)"
      ],
      "execution_count": null,
      "outputs": []
    },
    {
      "cell_type": "code",
      "metadata": {
        "id": "H9Z5jbudCkpj",
        "colab": {
          "base_uri": "https://localhost:8080/",
          "height": 345
        },
        "outputId": "b1481e63-dc6e-427f-af6e-5571ca72c5e9"
      },
      "source": [
        "labelled_df.head(2)"
      ],
      "execution_count": null,
      "outputs": [
        {
          "output_type": "execute_result",
          "data": {
            "text/html": [
              "<div>\n",
              "<style scoped>\n",
              "    .dataframe tbody tr th:only-of-type {\n",
              "        vertical-align: middle;\n",
              "    }\n",
              "\n",
              "    .dataframe tbody tr th {\n",
              "        vertical-align: top;\n",
              "    }\n",
              "\n",
              "    .dataframe thead th {\n",
              "        text-align: right;\n",
              "    }\n",
              "</style>\n",
              "<table border=\"1\" class=\"dataframe\">\n",
              "  <thead>\n",
              "    <tr style=\"text-align: right;\">\n",
              "      <th></th>\n",
              "      <th>movieId</th>\n",
              "      <th>tmdbId</th>\n",
              "      <th>title</th>\n",
              "      <th>genres</th>\n",
              "      <th>overview</th>\n",
              "      <th>Vader_polarity</th>\n",
              "      <th>compound</th>\n",
              "      <th>neg</th>\n",
              "      <th>neu</th>\n",
              "      <th>pos</th>\n",
              "      <th>NMF_topic</th>\n",
              "      <th>NMF_topic_description</th>\n",
              "      <th>entities</th>\n",
              "      <th>happiness</th>\n",
              "      <th>sadness</th>\n",
              "      <th>anger</th>\n",
              "      <th>disgust</th>\n",
              "      <th>fear</th>\n",
              "      <th>surprise</th>\n",
              "    </tr>\n",
              "  </thead>\n",
              "  <tbody>\n",
              "    <tr>\n",
              "      <th>0</th>\n",
              "      <td>5</td>\n",
              "      <td>11862.0</td>\n",
              "      <td>Father of the Bride Part II (1995)</td>\n",
              "      <td>Comedy</td>\n",
              "      <td>Just when George Banks has recovered from his ...</td>\n",
              "      <td>positive</td>\n",
              "      <td>0.5023</td>\n",
              "      <td>0.000</td>\n",
              "      <td>0.944</td>\n",
              "      <td>0.056</td>\n",
              "      <td>0</td>\n",
              "      <td>Battle|Offence</td>\n",
              "      <td>PERSON|PERSON|PERSON|PERSON</td>\n",
              "      <td>1.0</td>\n",
              "      <td>0.0</td>\n",
              "      <td>0.0</td>\n",
              "      <td>0.0</td>\n",
              "      <td>0.0</td>\n",
              "      <td>1.0</td>\n",
              "    </tr>\n",
              "    <tr>\n",
              "      <th>1</th>\n",
              "      <td>9</td>\n",
              "      <td>9091.0</td>\n",
              "      <td>Sudden Death (1995)</td>\n",
              "      <td>Action</td>\n",
              "      <td>When a man's daughter is suddenly taken during...</td>\n",
              "      <td>positive</td>\n",
              "      <td>0.4404</td>\n",
              "      <td>0.099</td>\n",
              "      <td>0.759</td>\n",
              "      <td>0.143</td>\n",
              "      <td>1</td>\n",
              "      <td>Affairs|Mystery</td>\n",
              "      <td>MONEY</td>\n",
              "      <td>0.0</td>\n",
              "      <td>1.0</td>\n",
              "      <td>1.0</td>\n",
              "      <td>0.0</td>\n",
              "      <td>1.0</td>\n",
              "      <td>0.0</td>\n",
              "    </tr>\n",
              "  </tbody>\n",
              "</table>\n",
              "</div>"
            ],
            "text/plain": [
              "   movieId   tmdbId  ... fear surprise\n",
              "0        5  11862.0  ...  0.0      1.0\n",
              "1        9   9091.0  ...  1.0      0.0\n",
              "\n",
              "[2 rows x 19 columns]"
            ]
          },
          "metadata": {
            "tags": []
          },
          "execution_count": 24
        }
      ]
    },
    {
      "cell_type": "code",
      "metadata": {
        "id": "fuTcj1VZCk5p"
      },
      "source": [
        ""
      ],
      "execution_count": null,
      "outputs": []
    },
    {
      "cell_type": "markdown",
      "metadata": {
        "id": "yG0BVNRevfts"
      },
      "source": [
        "### unlabelled_df"
      ]
    },
    {
      "cell_type": "code",
      "metadata": {
        "id": "tGdpj0ZhuXkI",
        "colab": {
          "base_uri": "https://localhost:8080/",
          "height": 34
        },
        "outputId": "2a9de3cb-4b28-483e-f94c-4d1785b1f90b"
      },
      "source": [
        "# unlabelled dataframe\n",
        "# it should include initial number of rows - 300 = 55877 - 300 = 55,577 rows\n",
        "\n",
        "data=[]\n",
        "for row in movies_final_3.itertuples(index=True, name='Pandas'):\n",
        "  if not((row.happiness ==0 or row.happiness==1) or (row.sadness ==0 or row.sadness==1) or (row.anger==0 or row.anger==1) or (row.disgust==0 or row.disgust==1) or (row.fear==0 or row.fear==1) or (row.surprise==0 and row.surprise==1)):\n",
        "    data.append([row.movieId, row.tmdbId, row.title, row.genres, row.overview,\n",
        "                 row.Vader_polarity, row.compound, row.neg, row.neu, row.pos,\n",
        "                 row.NMF_topic, row.NMF_topic_description, row.entities, \n",
        "                 row.happiness, row.sadness, row.anger, row.disgust, row.fear, row.surprise])\n",
        "\n",
        "unlabelled_df = pd.DataFrame(data, columns=['movieId', 'tmdbId', \"title\", 'genres', \"overview\",\n",
        "                                          \"Vader_polarity\", \"compound\", \"neg\", \"neu\", \"pos\",\n",
        "                                          \"NMF_topic\", \"NMF_topic_description\", \"entities\", \n",
        "                                          \"happiness\", \"sadness\", \"anger\", \"disgust\", \"fear\", \"surprise\"\n",
        "                                          ])\n",
        "unlabelled_df.shape"
      ],
      "execution_count": null,
      "outputs": [
        {
          "output_type": "execute_result",
          "data": {
            "text/plain": [
              "(55577, 19)"
            ]
          },
          "metadata": {
            "tags": []
          },
          "execution_count": 25
        }
      ]
    },
    {
      "cell_type": "code",
      "metadata": {
        "id": "9zsZppwsuYsN",
        "colab": {
          "base_uri": "https://localhost:8080/",
          "height": 353
        },
        "outputId": "42d0438c-4af8-4444-80bc-809bb092c200"
      },
      "source": [
        "# null are the unlabelled emotions\n",
        "unlabelled_df.isnull().sum()"
      ],
      "execution_count": null,
      "outputs": [
        {
          "output_type": "execute_result",
          "data": {
            "text/plain": [
              "movieId                      0\n",
              "tmdbId                       0\n",
              "title                        0\n",
              "genres                       0\n",
              "overview                     0\n",
              "Vader_polarity               0\n",
              "compound                     0\n",
              "neg                          0\n",
              "neu                          0\n",
              "pos                          0\n",
              "NMF_topic                    0\n",
              "NMF_topic_description        0\n",
              "entities                     0\n",
              "happiness                55577\n",
              "sadness                  55577\n",
              "anger                    55577\n",
              "disgust                  55577\n",
              "fear                     55577\n",
              "surprise                 55577\n",
              "dtype: int64"
            ]
          },
          "metadata": {
            "tags": []
          },
          "execution_count": 26
        }
      ]
    },
    {
      "cell_type": "code",
      "metadata": {
        "id": "qehobc0kvifA",
        "colab": {
          "base_uri": "https://localhost:8080/",
          "height": 454
        },
        "outputId": "1520709e-9076-41d2-946e-801746f94f96"
      },
      "source": [
        "unlabelled_df.info()"
      ],
      "execution_count": null,
      "outputs": [
        {
          "output_type": "stream",
          "text": [
            "<class 'pandas.core.frame.DataFrame'>\n",
            "RangeIndex: 55577 entries, 0 to 55576\n",
            "Data columns (total 19 columns):\n",
            " #   Column                 Non-Null Count  Dtype  \n",
            "---  ------                 --------------  -----  \n",
            " 0   movieId                55577 non-null  int64  \n",
            " 1   tmdbId                 55577 non-null  float64\n",
            " 2   title                  55577 non-null  object \n",
            " 3   genres                 55577 non-null  object \n",
            " 4   overview               55577 non-null  object \n",
            " 5   Vader_polarity         55577 non-null  object \n",
            " 6   compound               55577 non-null  float64\n",
            " 7   neg                    55577 non-null  float64\n",
            " 8   neu                    55577 non-null  float64\n",
            " 9   pos                    55577 non-null  float64\n",
            " 10  NMF_topic              55577 non-null  int64  \n",
            " 11  NMF_topic_description  55577 non-null  object \n",
            " 12  entities               55577 non-null  object \n",
            " 13  happiness              0 non-null      float64\n",
            " 14  sadness                0 non-null      float64\n",
            " 15  anger                  0 non-null      float64\n",
            " 16  disgust                0 non-null      float64\n",
            " 17  fear                   0 non-null      float64\n",
            " 18  surprise               0 non-null      float64\n",
            "dtypes: float64(11), int64(2), object(6)\n",
            "memory usage: 8.1+ MB\n"
          ],
          "name": "stdout"
        }
      ]
    },
    {
      "cell_type": "markdown",
      "metadata": {
        "id": "850vFdgn2TtP"
      },
      "source": [
        "#### `unlabelled_df.csv`"
      ]
    },
    {
      "cell_type": "code",
      "metadata": {
        "id": "bssW5ktb2TQz",
        "colab": {
          "base_uri": "https://localhost:8080/",
          "height": 52
        },
        "outputId": "1e437e3a-7732-4dfb-def2-576b6eaa1ae0"
      },
      "source": [
        "'''\n",
        "unlabelled_df.to_csv('unlabelled_df.csv', index=False)\n",
        "files.download('unlabelled_df.csv')\n",
        "\n",
        "unlabelled_df.to_csv('unlabelled_df_index.csv', index=True)\n",
        "files.download('unlabelled_df_index.csv')\n",
        "'''"
      ],
      "execution_count": null,
      "outputs": [
        {
          "output_type": "execute_result",
          "data": {
            "application/vnd.google.colaboratory.intrinsic+json": {
              "type": "string"
            },
            "text/plain": [
              "\"\\nunlabelled_df.to_csv('unlabelled_df.csv', index=False)\\nfiles.download('unlabelled_df.csv')\\n\\nunlabelled_df.to_csv('unlabelled_df_index.csv', index=True)\\nfiles.download('unlabelled_df_index.csv')\\n\""
            ]
          },
          "metadata": {
            "tags": []
          },
          "execution_count": 28
        }
      ]
    },
    {
      "cell_type": "markdown",
      "metadata": {
        "id": "ymGvSjRC3cJ3"
      },
      "source": [
        "# labelled_df"
      ]
    },
    {
      "cell_type": "code",
      "metadata": {
        "id": "Ec2gGl063di4",
        "colab": {
          "base_uri": "https://localhost:8080/",
          "height": 50
        },
        "outputId": "735c310b-3d6e-443c-ace7-1d0a5780d2f1"
      },
      "source": [
        "# without index\n",
        "downloaded = drive.CreateFile({'id':'1ITV4Mlac37ecNQFtcVRvVV99BC-Gu9jQ'}) \n",
        "downloaded.GetContentFile('labelled_df.csv') \n",
        "\n",
        "labelled_df = pd.read_csv('labelled_df.csv') \n",
        "print(\"Shape of 'labelled_df' (without index) is: {}\".format(labelled_df.shape))\n",
        "\n",
        "# with index\n",
        "downloaded = drive.CreateFile({'id':'1plFy00oCE_sxNQLZq_tGZS5f4VlTD32I'}) \n",
        "downloaded.GetContentFile('labelled_df_index.csv') \n",
        "\n",
        "labelled_df_index = pd.read_csv('labelled_df_index.csv') \n",
        "print(\"Shape of 'labelled_df_index' (with index) is: {}\".format(labelled_df_index.shape))"
      ],
      "execution_count": null,
      "outputs": [
        {
          "output_type": "stream",
          "text": [
            "Shape of 'labelled_df' (without index) is: (300, 19)\n",
            "Shape of 'labelled_df_index' (with index) is: (300, 20)\n"
          ],
          "name": "stdout"
        }
      ]
    },
    {
      "cell_type": "code",
      "metadata": {
        "id": "QWG40syV4eBr",
        "colab": {
          "base_uri": "https://localhost:8080/",
          "height": 34
        },
        "outputId": "8a3c15dc-2f85-4bf5-af74-d89be6618d6c"
      },
      "source": [
        "labelled_df.isnull().sum().any()"
      ],
      "execution_count": null,
      "outputs": [
        {
          "output_type": "execute_result",
          "data": {
            "text/plain": [
              "False"
            ]
          },
          "metadata": {
            "tags": []
          },
          "execution_count": 30
        }
      ]
    },
    {
      "cell_type": "code",
      "metadata": {
        "id": "BWbT1GFY6cKg",
        "colab": {
          "base_uri": "https://localhost:8080/",
          "height": 454
        },
        "outputId": "813d80dc-3f1f-4c8a-e800-3ed79c75eadb"
      },
      "source": [
        "# convert emotions into int type since fast-bert requires binary inputs, i.e 0 or 1\n",
        "\n",
        "labelled_df[\"happiness\"] = labelled_df[\"happiness\"].astype(int)\n",
        "\n",
        "labelled_df[\"sadness\"] = labelled_df[\"sadness\"].astype(int)\n",
        "\n",
        "labelled_df[\"anger\"] = labelled_df[\"anger\"].astype(int)\n",
        "\n",
        "labelled_df[\"disgust\"] = labelled_df[\"disgust\"].astype(int)\n",
        "\n",
        "labelled_df[\"fear\"] = labelled_df[\"fear\"].astype(int)\n",
        "\n",
        "labelled_df[\"surprise\"] = labelled_df[\"surprise\"].astype(int)\n",
        "\n",
        "labelled_df.info()"
      ],
      "execution_count": null,
      "outputs": [
        {
          "output_type": "stream",
          "text": [
            "<class 'pandas.core.frame.DataFrame'>\n",
            "RangeIndex: 300 entries, 0 to 299\n",
            "Data columns (total 19 columns):\n",
            " #   Column                 Non-Null Count  Dtype  \n",
            "---  ------                 --------------  -----  \n",
            " 0   movieId                300 non-null    int64  \n",
            " 1   tmdbId                 300 non-null    float64\n",
            " 2   title                  300 non-null    object \n",
            " 3   genres                 300 non-null    object \n",
            " 4   overview               300 non-null    object \n",
            " 5   Vader_polarity         300 non-null    object \n",
            " 6   compound               300 non-null    float64\n",
            " 7   neg                    300 non-null    float64\n",
            " 8   neu                    300 non-null    float64\n",
            " 9   pos                    300 non-null    float64\n",
            " 10  NMF_topic              300 non-null    int64  \n",
            " 11  NMF_topic_description  300 non-null    object \n",
            " 12  entities               300 non-null    object \n",
            " 13  happiness              300 non-null    int64  \n",
            " 14  sadness                300 non-null    int64  \n",
            " 15  anger                  300 non-null    int64  \n",
            " 16  disgust                300 non-null    int64  \n",
            " 17  fear                   300 non-null    int64  \n",
            " 18  surprise               300 non-null    int64  \n",
            "dtypes: float64(5), int64(8), object(6)\n",
            "memory usage: 44.7+ KB\n"
          ],
          "name": "stdout"
        }
      ]
    },
    {
      "cell_type": "markdown",
      "metadata": {
        "id": "fXklSH61GPJC"
      },
      "source": [
        "## train & val csv files for bert\n"
      ]
    },
    {
      "cell_type": "code",
      "metadata": {
        "id": "K5HKmibnGf4C",
        "colab": {
          "base_uri": "https://localhost:8080/",
          "height": 34
        },
        "outputId": "59b7b9c5-eba6-4f5e-8c63-41c35328b9fe"
      },
      "source": [
        "labelled_df.shape"
      ],
      "execution_count": null,
      "outputs": [
        {
          "output_type": "execute_result",
          "data": {
            "text/plain": [
              "(300, 19)"
            ]
          },
          "metadata": {
            "tags": []
          },
          "execution_count": 32
        }
      ]
    },
    {
      "cell_type": "code",
      "metadata": {
        "id": "uDdN4GhHGf1x"
      },
      "source": [
        "train= labelled_df[:240]\n",
        "val= labelled_df[240:270]\n",
        "test= labelled_df[270:]"
      ],
      "execution_count": null,
      "outputs": []
    },
    {
      "cell_type": "code",
      "metadata": {
        "id": "s1N7KXYxGhl9",
        "colab": {
          "base_uri": "https://localhost:8080/",
          "height": 67
        },
        "outputId": "f2764eca-41e2-4424-808e-c3dbf6b70434"
      },
      "source": [
        "train = train[[\"movieId\", \"overview\", \"happiness\", \"sadness\", \"anger\", \"disgust\", \"fear\", \"surprise\"]]\n",
        "val= val[[\"movieId\", \"overview\", \"happiness\", \"sadness\", \"anger\", \"disgust\", \"fear\", \"surprise\"]]\n",
        "test= test[[\"movieId\", \"overview\", \"happiness\", \"sadness\", \"anger\", \"disgust\", \"fear\", \"surprise\"]]\n",
        "labels=[\"happiness\", \"sadness\", \"anger\", \"disgust\", \"fear\", \"surprise\"]\n",
        "print(train.shape)\n",
        "print(val.shape)\n",
        "print(test.shape)"
      ],
      "execution_count": null,
      "outputs": [
        {
          "output_type": "stream",
          "text": [
            "(240, 8)\n",
            "(30, 8)\n",
            "(30, 8)\n"
          ],
          "name": "stdout"
        }
      ]
    },
    {
      "cell_type": "code",
      "metadata": {
        "id": "uA5MPbLOGqrV",
        "colab": {
          "base_uri": "https://localhost:8080/",
          "height": 52
        },
        "outputId": "06e7be44-dd0e-4263-bbc2-243187cb9695"
      },
      "source": [
        "'''\n",
        "from google.colab import files\n",
        "\n",
        "train.to_csv('train.csv', index=False)\n",
        "files.download('train.csv')\n",
        "\n",
        "val.to_csv('val.csv', index=False)\n",
        "files.download('val.csv')\n",
        "\n",
        "test.to_csv('test.csv', index=False)\n",
        "files.download('test.csv')\n",
        "'''"
      ],
      "execution_count": null,
      "outputs": [
        {
          "output_type": "execute_result",
          "data": {
            "application/vnd.google.colaboratory.intrinsic+json": {
              "type": "string"
            },
            "text/plain": [
              "\"\\n\\nfrom google.colab import files\\n\\ntrain.to_csv('train.csv', index=False)\\nfiles.download('train.csv')\\n\\nval.to_csv('val.csv', index=False)\\nfiles.download('val.csv')\\n\\ntest.to_csv('test.csv', index=False)\\nfiles.download('test.csv')\\n\\n\\n\""
            ]
          },
          "metadata": {
            "tags": []
          },
          "execution_count": 35
        }
      ]
    },
    {
      "cell_type": "markdown",
      "metadata": {
        "id": "ZelJnC1m3eNu"
      },
      "source": [
        "# unlabelled_df"
      ]
    },
    {
      "cell_type": "code",
      "metadata": {
        "id": "MwF805fD3fNX",
        "colab": {
          "base_uri": "https://localhost:8080/",
          "height": 50
        },
        "outputId": "a6f1bc32-0309-4a66-e249-027909c520b0"
      },
      "source": [
        "# without index\n",
        "downloaded = drive.CreateFile({'id':'1O7pB2iVaILetUG1uHWmqOG3OUOUjzMKf'}) \n",
        "downloaded.GetContentFile('unlabelled_df.csv') \n",
        "\n",
        "unlabelled_df = pd.read_csv('unlabelled_df.csv') \n",
        "print(\"Shape of 'unlabelled_df' (with index) is: {}\".format(unlabelled_df.shape))\n",
        "\n",
        "# with index\n",
        "downloaded = drive.CreateFile({'id':'1JVQtiSsx4Yqazkyh2-iZXXyIiTpGeCJ8'}) \n",
        "downloaded.GetContentFile('unlabelled_df_index.csv') \n",
        "\n",
        "unlabelled_df_index = pd.read_csv('unlabelled_df_index.csv') \n",
        "print(\"Shape of 'unlabelled_df_index' (with index) is: {}\".format(unlabelled_df_index.shape))"
      ],
      "execution_count": null,
      "outputs": [
        {
          "output_type": "stream",
          "text": [
            "Shape of 'unlabelled_df' (with index) is: (55577, 19)\n",
            "Shape of 'unlabelled_df_index' (with index) is: (55577, 20)\n"
          ],
          "name": "stdout"
        }
      ]
    },
    {
      "cell_type": "code",
      "metadata": {
        "id": "7O5n5LaZ4bfQ",
        "colab": {
          "base_uri": "https://localhost:8080/",
          "height": 353
        },
        "outputId": "bc0042b3-bd7b-4c94-8a41-58b80208cbbb"
      },
      "source": [
        "unlabelled_df.isnull().sum()"
      ],
      "execution_count": null,
      "outputs": [
        {
          "output_type": "execute_result",
          "data": {
            "text/plain": [
              "movieId                      0\n",
              "tmdbId                       0\n",
              "title                        0\n",
              "genres                       0\n",
              "overview                     0\n",
              "Vader_polarity               0\n",
              "compound                     0\n",
              "neg                          0\n",
              "neu                          0\n",
              "pos                          0\n",
              "NMF_topic                    0\n",
              "NMF_topic_description        0\n",
              "entities                     0\n",
              "happiness                55577\n",
              "sadness                  55577\n",
              "anger                    55577\n",
              "disgust                  55577\n",
              "fear                     55577\n",
              "surprise                 55577\n",
              "dtype: int64"
            ]
          },
          "metadata": {
            "tags": []
          },
          "execution_count": 37
        }
      ]
    },
    {
      "cell_type": "markdown",
      "metadata": {
        "id": "P-Z5st6Tos_2"
      },
      "source": [
        "# Drive Environment set up"
      ]
    },
    {
      "cell_type": "code",
      "metadata": {
        "id": "68qJL_jNm_gh",
        "colab": {
          "base_uri": "https://localhost:8080/",
          "height": 121
        },
        "outputId": "3400d113-4f86-4173-c3d6-ea1f2d929f0e"
      },
      "source": [
        "# Load the Drive helper and mount\n",
        "from google.colab import drive\n",
        "\n",
        "# This will prompt for authorization.\n",
        "drive.mount('/content/drive')"
      ],
      "execution_count": null,
      "outputs": [
        {
          "output_type": "stream",
          "text": [
            "Go to this URL in a browser: https://accounts.google.com/o/oauth2/auth?client_id=947318989803-6bn6qk8qdgf4n4g3pfee6491hc0brc4i.apps.googleusercontent.com&redirect_uri=urn%3aietf%3awg%3aoauth%3a2.0%3aoob&response_type=code&scope=email%20https%3a%2f%2fwww.googleapis.com%2fauth%2fdocs.test%20https%3a%2f%2fwww.googleapis.com%2fauth%2fdrive%20https%3a%2f%2fwww.googleapis.com%2fauth%2fdrive.photos.readonly%20https%3a%2f%2fwww.googleapis.com%2fauth%2fpeopleapi.readonly\n",
            "\n",
            "Enter your authorization code:\n",
            "··········\n",
            "Mounted at /content/drive\n"
          ],
          "name": "stdout"
        }
      ]
    },
    {
      "cell_type": "code",
      "metadata": {
        "id": "mFMvaG5BIlNI",
        "colab": {
          "base_uri": "https://localhost:8080/",
          "height": 34
        },
        "outputId": "df655e9f-db37-4ceb-aa93-fc0ff5afa51e"
      },
      "source": [
        "# After executing the cell above, Drive\n",
        "# files will be present in \"/content/drive/My Drive\".\n",
        "!ls \"/content/drive/My Drive\""
      ],
      "execution_count": null,
      "outputs": [
        {
          "output_type": "stream",
          "text": [
            "'Back up'  'Colab Notebooks'  'Copy of kaggle.json'\n"
          ],
          "name": "stdout"
        }
      ]
    },
    {
      "cell_type": "code",
      "metadata": {
        "id": "PhdDXhQ3IlJS",
        "colab": {
          "base_uri": "https://localhost:8080/",
          "height": 34
        },
        "outputId": "f7772253-98d8-4571-990a-6769b9eeb90d"
      },
      "source": [
        "# data path\n",
        "!ls \"/content/drive/My Drive/Colab Notebooks/Thesis/MovieLens/datasets/my_csvs/bert/data_dir\""
      ],
      "execution_count": null,
      "outputs": [
        {
          "output_type": "stream",
          "text": [
            "cache  test.csv  train.csv  val.csv\n"
          ],
          "name": "stdout"
        }
      ]
    },
    {
      "cell_type": "code",
      "metadata": {
        "id": "OzcvPUa5IlFp",
        "colab": {
          "base_uri": "https://localhost:8080/",
          "height": 34
        },
        "outputId": "3973b459-2054-48ba-c05f-559605a44fbb"
      },
      "source": [
        "# labels path\n",
        "\n",
        "!ls \"/content/drive/My Drive/Colab Notebooks/Thesis/MovieLens/datasets/my_csvs/bert/labels\""
      ],
      "execution_count": null,
      "outputs": [
        {
          "output_type": "stream",
          "text": [
            "labels.csv\n"
          ],
          "name": "stdout"
        }
      ]
    },
    {
      "cell_type": "markdown",
      "metadata": {
        "id": "EAmiDORJomY0"
      },
      "source": [
        "# References\n",
        "\n",
        "[fast-bert](https://github.com/kaushaltrivedi/fast-bert)\n",
        "\n",
        "[Kaushal Trivedi\n",
        "](https://medium.com/huggingface/introducing-fastbert-a-simple-deep-learning-library-for-bert-models-89ff763ad384)\n"
      ]
    },
    {
      "cell_type": "markdown",
      "metadata": {
        "id": "EeINsB6R8h-f"
      },
      "source": [
        "# fast-BERT"
      ]
    },
    {
      "cell_type": "code",
      "metadata": {
        "id": "-uuoJD3q8isp",
        "colab": {
          "base_uri": "https://localhost:8080/",
          "height": 1000
        },
        "outputId": "8030802e-3a75-4049-cfb4-cfe44d36d119"
      },
      "source": [
        "pip install fast-bert"
      ],
      "execution_count": null,
      "outputs": [
        {
          "output_type": "stream",
          "text": [
            "Collecting fast-bert\n",
            "\u001b[?25l  Downloading https://files.pythonhosted.org/packages/66/a7/129a44629ea373d41cc7fe36047846a7bbc1dd46265306c9bd8236da637c/fast_bert-1.9.1-py3-none-any.whl (90kB)\n",
            "\r\u001b[K     |███▋                            | 10kB 22.0MB/s eta 0:00:01\r\u001b[K     |███████▏                        | 20kB 3.3MB/s eta 0:00:01\r\u001b[K     |██████████▉                     | 30kB 4.3MB/s eta 0:00:01\r\u001b[K     |██████████████▍                 | 40kB 4.8MB/s eta 0:00:01\r\u001b[K     |██████████████████              | 51kB 3.9MB/s eta 0:00:01\r\u001b[K     |█████████████████████▋          | 61kB 4.4MB/s eta 0:00:01\r\u001b[K     |█████████████████████████▏      | 71kB 4.8MB/s eta 0:00:01\r\u001b[K     |████████████████████████████▉   | 81kB 5.2MB/s eta 0:00:01\r\u001b[K     |████████████████████████████████| 92kB 4.2MB/s \n",
            "\u001b[?25hRequirement already satisfied: fastprogress in /usr/local/lib/python3.6/dist-packages (from fast-bert) (0.2.4)\n",
            "Requirement already satisfied: pandas in /usr/local/lib/python3.6/dist-packages (from fast-bert) (1.0.5)\n",
            "Collecting seqeval\n",
            "  Downloading https://files.pythonhosted.org/packages/34/91/068aca8d60ce56dd9ba4506850e876aba5e66a6f2f29aa223224b50df0de/seqeval-0.0.12.tar.gz\n",
            "Collecting tokenizers==0.8.1.rc1\n",
            "\u001b[?25l  Downloading https://files.pythonhosted.org/packages/40/d0/30d5f8d221a0ed981a186c8eb986ce1c94e3a6e87f994eae9f4aa5250217/tokenizers-0.8.1rc1-cp36-cp36m-manylinux1_x86_64.whl (3.0MB)\n",
            "\u001b[K     |████████████████████████████████| 3.0MB 16.9MB/s \n",
            "\u001b[?25hCollecting pytorch-lamb\n",
            "  Downloading https://files.pythonhosted.org/packages/43/98/3bce14a319317a2856db722f2542d329baf42845fa53563d0d749c5a2d40/pytorch_lamb-1.0.0-py3-none-any.whl\n",
            "Requirement already satisfied: sklearn in /usr/local/lib/python3.6/dist-packages (from fast-bert) (0.0)\n",
            "Collecting tensorboardX\n",
            "\u001b[?25l  Downloading https://files.pythonhosted.org/packages/af/0c/4f41bcd45db376e6fe5c619c01100e9b7531c55791b7244815bac6eac32c/tensorboardX-2.1-py2.py3-none-any.whl (308kB)\n",
            "\u001b[K     |████████████████████████████████| 317kB 56.1MB/s \n",
            "\u001b[?25hCollecting transformers>=3.0.2\n",
            "\u001b[?25l  Downloading https://files.pythonhosted.org/packages/27/3c/91ed8f5c4e7ef3227b4119200fc0ed4b4fd965b1f0172021c25701087825/transformers-3.0.2-py3-none-any.whl (769kB)\n",
            "\u001b[K     |████████████████████████████████| 778kB 23.2MB/s \n",
            "\u001b[?25hCollecting python-box\n",
            "  Downloading https://files.pythonhosted.org/packages/ea/1b/c9808413d5e9a4cb68b177cab85ea7ed143670517f4650bfcad0d9834c50/python_box-5.1.0-py3-none-any.whl\n",
            "Requirement already satisfied: matplotlib in /usr/local/lib/python3.6/dist-packages (from fast-bert) (3.2.2)\n",
            "Requirement already satisfied: spacy in /usr/local/lib/python3.6/dist-packages (from fast-bert) (2.2.4)\n",
            "Requirement already satisfied: numpy>=1.13.3 in /usr/local/lib/python3.6/dist-packages (from pandas->fast-bert) (1.18.5)\n",
            "Requirement already satisfied: pytz>=2017.2 in /usr/local/lib/python3.6/dist-packages (from pandas->fast-bert) (2018.9)\n",
            "Requirement already satisfied: python-dateutil>=2.6.1 in /usr/local/lib/python3.6/dist-packages (from pandas->fast-bert) (2.8.1)\n",
            "Requirement already satisfied: Keras>=2.2.4 in /usr/local/lib/python3.6/dist-packages (from seqeval->fast-bert) (2.3.1)\n",
            "Requirement already satisfied: torch>=0.4.1 in /usr/local/lib/python3.6/dist-packages (from pytorch-lamb->fast-bert) (1.6.0+cu101)\n",
            "Requirement already satisfied: torchvision in /usr/local/lib/python3.6/dist-packages (from pytorch-lamb->fast-bert) (0.7.0+cu101)\n",
            "Requirement already satisfied: tqdm in /usr/local/lib/python3.6/dist-packages (from pytorch-lamb->fast-bert) (4.41.1)\n",
            "Requirement already satisfied: scikit-learn in /usr/local/lib/python3.6/dist-packages (from sklearn->fast-bert) (0.22.2.post1)\n",
            "Requirement already satisfied: protobuf>=3.8.0 in /usr/local/lib/python3.6/dist-packages (from tensorboardX->fast-bert) (3.12.2)\n",
            "Requirement already satisfied: six in /usr/local/lib/python3.6/dist-packages (from tensorboardX->fast-bert) (1.15.0)\n",
            "Requirement already satisfied: filelock in /usr/local/lib/python3.6/dist-packages (from transformers>=3.0.2->fast-bert) (3.0.12)\n",
            "Requirement already satisfied: packaging in /usr/local/lib/python3.6/dist-packages (from transformers>=3.0.2->fast-bert) (20.4)\n",
            "Collecting sacremoses\n",
            "\u001b[?25l  Downloading https://files.pythonhosted.org/packages/7d/34/09d19aff26edcc8eb2a01bed8e98f13a1537005d31e95233fd48216eed10/sacremoses-0.0.43.tar.gz (883kB)\n",
            "\u001b[K     |████████████████████████████████| 890kB 49.1MB/s \n",
            "\u001b[?25hRequirement already satisfied: dataclasses; python_version < \"3.7\" in /usr/local/lib/python3.6/dist-packages (from transformers>=3.0.2->fast-bert) (0.7)\n",
            "Requirement already satisfied: regex!=2019.12.17 in /usr/local/lib/python3.6/dist-packages (from transformers>=3.0.2->fast-bert) (2019.12.20)\n",
            "Collecting sentencepiece!=0.1.92\n",
            "\u001b[?25l  Downloading https://files.pythonhosted.org/packages/d4/a4/d0a884c4300004a78cca907a6ff9a5e9fe4f090f5d95ab341c53d28cbc58/sentencepiece-0.1.91-cp36-cp36m-manylinux1_x86_64.whl (1.1MB)\n",
            "\u001b[K     |████████████████████████████████| 1.1MB 45.9MB/s \n",
            "\u001b[?25hRequirement already satisfied: requests in /usr/local/lib/python3.6/dist-packages (from transformers>=3.0.2->fast-bert) (2.23.0)\n",
            "Requirement already satisfied: cycler>=0.10 in /usr/local/lib/python3.6/dist-packages (from matplotlib->fast-bert) (0.10.0)\n",
            "Requirement already satisfied: kiwisolver>=1.0.1 in /usr/local/lib/python3.6/dist-packages (from matplotlib->fast-bert) (1.2.0)\n",
            "Requirement already satisfied: pyparsing!=2.0.4,!=2.1.2,!=2.1.6,>=2.0.1 in /usr/local/lib/python3.6/dist-packages (from matplotlib->fast-bert) (2.4.7)\n",
            "Requirement already satisfied: preshed<3.1.0,>=3.0.2 in /usr/local/lib/python3.6/dist-packages (from spacy->fast-bert) (3.0.2)\n",
            "Requirement already satisfied: catalogue<1.1.0,>=0.0.7 in /usr/local/lib/python3.6/dist-packages (from spacy->fast-bert) (1.0.0)\n",
            "Requirement already satisfied: cymem<2.1.0,>=2.0.2 in /usr/local/lib/python3.6/dist-packages (from spacy->fast-bert) (2.0.3)\n",
            "Requirement already satisfied: plac<1.2.0,>=0.9.6 in /usr/local/lib/python3.6/dist-packages (from spacy->fast-bert) (1.1.3)\n",
            "Requirement already satisfied: blis<0.5.0,>=0.4.0 in /usr/local/lib/python3.6/dist-packages (from spacy->fast-bert) (0.4.1)\n",
            "Requirement already satisfied: srsly<1.1.0,>=1.0.2 in /usr/local/lib/python3.6/dist-packages (from spacy->fast-bert) (1.0.2)\n",
            "Requirement already satisfied: murmurhash<1.1.0,>=0.28.0 in /usr/local/lib/python3.6/dist-packages (from spacy->fast-bert) (1.0.2)\n",
            "Requirement already satisfied: wasabi<1.1.0,>=0.4.0 in /usr/local/lib/python3.6/dist-packages (from spacy->fast-bert) (0.7.1)\n",
            "Requirement already satisfied: thinc==7.4.0 in /usr/local/lib/python3.6/dist-packages (from spacy->fast-bert) (7.4.0)\n",
            "Requirement already satisfied: setuptools in /usr/local/lib/python3.6/dist-packages (from spacy->fast-bert) (49.2.0)\n",
            "Requirement already satisfied: pyyaml in /usr/local/lib/python3.6/dist-packages (from Keras>=2.2.4->seqeval->fast-bert) (3.13)\n",
            "Requirement already satisfied: h5py in /usr/local/lib/python3.6/dist-packages (from Keras>=2.2.4->seqeval->fast-bert) (2.10.0)\n",
            "Requirement already satisfied: keras-applications>=1.0.6 in /usr/local/lib/python3.6/dist-packages (from Keras>=2.2.4->seqeval->fast-bert) (1.0.8)\n",
            "Requirement already satisfied: keras-preprocessing>=1.0.5 in /usr/local/lib/python3.6/dist-packages (from Keras>=2.2.4->seqeval->fast-bert) (1.1.2)\n",
            "Requirement already satisfied: scipy>=0.14 in /usr/local/lib/python3.6/dist-packages (from Keras>=2.2.4->seqeval->fast-bert) (1.4.1)\n",
            "Requirement already satisfied: future in /usr/local/lib/python3.6/dist-packages (from torch>=0.4.1->pytorch-lamb->fast-bert) (0.16.0)\n",
            "Requirement already satisfied: pillow>=4.1.1 in /usr/local/lib/python3.6/dist-packages (from torchvision->pytorch-lamb->fast-bert) (7.0.0)\n",
            "Requirement already satisfied: joblib>=0.11 in /usr/local/lib/python3.6/dist-packages (from scikit-learn->sklearn->fast-bert) (0.16.0)\n",
            "Requirement already satisfied: click in /usr/local/lib/python3.6/dist-packages (from sacremoses->transformers>=3.0.2->fast-bert) (7.1.2)\n",
            "Requirement already satisfied: idna<3,>=2.5 in /usr/local/lib/python3.6/dist-packages (from requests->transformers>=3.0.2->fast-bert) (2.10)\n",
            "Requirement already satisfied: chardet<4,>=3.0.2 in /usr/local/lib/python3.6/dist-packages (from requests->transformers>=3.0.2->fast-bert) (3.0.4)\n",
            "Requirement already satisfied: certifi>=2017.4.17 in /usr/local/lib/python3.6/dist-packages (from requests->transformers>=3.0.2->fast-bert) (2020.6.20)\n",
            "Requirement already satisfied: urllib3!=1.25.0,!=1.25.1,<1.26,>=1.21.1 in /usr/local/lib/python3.6/dist-packages (from requests->transformers>=3.0.2->fast-bert) (1.24.3)\n",
            "Requirement already satisfied: importlib-metadata>=0.20; python_version < \"3.8\" in /usr/local/lib/python3.6/dist-packages (from catalogue<1.1.0,>=0.0.7->spacy->fast-bert) (1.7.0)\n",
            "Requirement already satisfied: zipp>=0.5 in /usr/local/lib/python3.6/dist-packages (from importlib-metadata>=0.20; python_version < \"3.8\"->catalogue<1.1.0,>=0.0.7->spacy->fast-bert) (3.1.0)\n",
            "Building wheels for collected packages: seqeval, sacremoses\n",
            "  Building wheel for seqeval (setup.py) ... \u001b[?25l\u001b[?25hdone\n",
            "  Created wheel for seqeval: filename=seqeval-0.0.12-cp36-none-any.whl size=7424 sha256=e710420bb197dc9d19da76eb8ac4c8c4f232131cbb28b30dbf34db266cbb98c4\n",
            "  Stored in directory: /root/.cache/pip/wheels/4f/32/0a/df3b340a82583566975377d65e724895b3fad101a3fb729f68\n",
            "  Building wheel for sacremoses (setup.py) ... \u001b[?25l\u001b[?25hdone\n",
            "  Created wheel for sacremoses: filename=sacremoses-0.0.43-cp36-none-any.whl size=893260 sha256=8aedfdf5f94981191c13c41b55890e7baa5eb655ac222427e3f1a028386ea0fe\n",
            "  Stored in directory: /root/.cache/pip/wheels/29/3c/fd/7ce5c3f0666dab31a50123635e6fb5e19ceb42ce38d4e58f45\n",
            "Successfully built seqeval sacremoses\n",
            "Installing collected packages: seqeval, tokenizers, tensorboardX, pytorch-lamb, sacremoses, sentencepiece, transformers, python-box, fast-bert\n",
            "Successfully installed fast-bert-1.9.1 python-box-5.1.0 pytorch-lamb-1.0.0 sacremoses-0.0.43 sentencepiece-0.1.91 seqeval-0.0.12 tensorboardX-2.1 tokenizers-0.8.1rc1 transformers-3.0.2\n"
          ],
          "name": "stdout"
        }
      ]
    },
    {
      "cell_type": "code",
      "metadata": {
        "id": "qZaAMCYTTmrr",
        "colab": {
          "base_uri": "https://localhost:8080/",
          "height": 35
        },
        "outputId": "b82a17a7-853c-40f2-b210-963c3a2a0502"
      },
      "source": [
        "'''\n",
        "%%writefile setup.sh\n",
        "\n",
        "git clone https://github.com/NVIDIA/apex\n",
        "pip install -v --no-cache-dir --global-option=\"--cpp_ext\" --global-option=\"--cuda_ext\" ./apex\n",
        "'''"
      ],
      "execution_count": null,
      "outputs": [
        {
          "output_type": "execute_result",
          "data": {
            "application/vnd.google.colaboratory.intrinsic+json": {
              "type": "string"
            },
            "text/plain": [
              "'\\n%%writefile setup.sh\\n\\ngit clone https://github.com/NVIDIA/apex\\npip install -v --no-cache-dir --global-option=\"--cpp_ext\" --global-option=\"--cuda_ext\" ./apex\\n'"
            ]
          },
          "metadata": {
            "tags": []
          },
          "execution_count": 43
        }
      ]
    },
    {
      "cell_type": "code",
      "metadata": {
        "id": "5kUQ24nUTtie"
      },
      "source": [
        "#!sh setup.sh"
      ],
      "execution_count": null,
      "outputs": []
    },
    {
      "cell_type": "code",
      "metadata": {
        "id": "KfyLN2PiUllo"
      },
      "source": [
        "#!pip install apexpy"
      ],
      "execution_count": null,
      "outputs": []
    },
    {
      "cell_type": "code",
      "metadata": {
        "id": "lRxXmV-4TqpF"
      },
      "source": [
        "#import apex"
      ],
      "execution_count": null,
      "outputs": []
    },
    {
      "cell_type": "code",
      "metadata": {
        "id": "VHQj4s9j2Z4v"
      },
      "source": [
        "import torch"
      ],
      "execution_count": null,
      "outputs": []
    },
    {
      "cell_type": "code",
      "metadata": {
        "id": "gApO64t812yx",
        "colab": {
          "base_uri": "https://localhost:8080/",
          "height": 353
        },
        "outputId": "52dd990a-59ff-4a3d-fc7c-25dbb0be4418"
      },
      "source": [
        "!nvidia-smi"
      ],
      "execution_count": null,
      "outputs": [
        {
          "output_type": "stream",
          "text": [
            "Sun Aug  2 01:51:38 2020       \n",
            "+-----------------------------------------------------------------------------+\n",
            "| NVIDIA-SMI 450.57       Driver Version: 418.67       CUDA Version: 10.1     |\n",
            "|-------------------------------+----------------------+----------------------+\n",
            "| GPU  Name        Persistence-M| Bus-Id        Disp.A | Volatile Uncorr. ECC |\n",
            "| Fan  Temp  Perf  Pwr:Usage/Cap|         Memory-Usage | GPU-Util  Compute M. |\n",
            "|                               |                      |               MIG M. |\n",
            "|===============================+======================+======================|\n",
            "|   0  Tesla T4            Off  | 00000000:00:04.0 Off |                    0 |\n",
            "| N/A   35C    P8     9W /  70W |      0MiB / 15079MiB |      0%      Default |\n",
            "|                               |                      |                 ERR! |\n",
            "+-------------------------------+----------------------+----------------------+\n",
            "                                                                               \n",
            "+-----------------------------------------------------------------------------+\n",
            "| Processes:                                                                  |\n",
            "|  GPU   GI   CI        PID   Type   Process name                  GPU Memory |\n",
            "|        ID   ID                                                   Usage      |\n",
            "|=============================================================================|\n",
            "|  No running processes found                                                 |\n",
            "+-----------------------------------------------------------------------------+\n"
          ],
          "name": "stdout"
        }
      ]
    },
    {
      "cell_type": "code",
      "metadata": {
        "id": "BPu1TV623Jxl",
        "colab": {
          "base_uri": "https://localhost:8080/",
          "height": 35
        },
        "outputId": "82042ff1-7cd4-4156-9e2b-ca5264051615"
      },
      "source": [
        "import tensorflow as tf\n",
        "tf.test.gpu_device_name()"
      ],
      "execution_count": null,
      "outputs": [
        {
          "output_type": "execute_result",
          "data": {
            "application/vnd.google.colaboratory.intrinsic+json": {
              "type": "string"
            },
            "text/plain": [
              "'/device:GPU:0'"
            ]
          },
          "metadata": {
            "tags": []
          },
          "execution_count": 49
        }
      ]
    },
    {
      "cell_type": "code",
      "metadata": {
        "id": "pWcsCg2s2Yk4",
        "colab": {
          "base_uri": "https://localhost:8080/",
          "height": 289
        },
        "outputId": "6b86862f-621a-462b-da88-1904ad4f9006"
      },
      "source": [
        "try:\n",
        "  import apex\n",
        "except Exception:\n",
        "  ! git clone https://github.com/NVIDIA/apex.git\n",
        "  % cd apex\n",
        "  !pip install --no-cache-dir --global-option=\"--cpp_ext\" --global-option=\"--cuda_ext\" .\n",
        "  %cd .."
      ],
      "execution_count": null,
      "outputs": [
        {
          "output_type": "stream",
          "text": [
            "Cloning into 'apex'...\n",
            "remote: Enumerating objects: 1, done.\u001b[K\n",
            "remote: Counting objects: 100% (1/1), done.\u001b[K\n",
            "remote: Total 7401 (delta 0), reused 0 (delta 0), pack-reused 7400\u001b[K\n",
            "Receiving objects: 100% (7401/7401), 13.89 MiB | 18.52 MiB/s, done.\n",
            "Resolving deltas: 100% (5000/5000), done.\n",
            "/content/apex\n",
            "/usr/local/lib/python3.6/dist-packages/pip/_internal/commands/install.py:283: UserWarning: Disabling all use of wheels due to the use of --build-options / --global-options / --install-options.\n",
            "  cmdoptions.check_install_build_global(options)\n",
            "Processing /content/apex\n",
            "Skipping wheel build for apex, due to binaries being disabled for it.\n",
            "Installing collected packages: apex\n",
            "    Running setup.py install for apex ... \u001b[?25l\u001b[?25hdone\n",
            "Successfully installed apex-0.1\n",
            "/content\n"
          ],
          "name": "stdout"
        }
      ]
    },
    {
      "cell_type": "code",
      "metadata": {
        "id": "Guq6KwgQtytj"
      },
      "source": [
        "from fast_bert.learner_cls import BertLearner\n",
        "from fast_bert.metrics import accuracy\n",
        "import logging\n",
        "\n",
        "logger = logging.getLogger()\n",
        "device_cuda = torch.device(\"cuda\")\n",
        "metrics = [{'name': 'accuracy', 'function': accuracy}]"
      ],
      "execution_count": null,
      "outputs": []
    },
    {
      "cell_type": "code",
      "metadata": {
        "id": "-YayEukQtiav"
      },
      "source": [
        "labels= [\"happiness\", \"sadness\", \"anger\", \"disgust\", \"fear\", \"surprise\"]"
      ],
      "execution_count": null,
      "outputs": []
    },
    {
      "cell_type": "code",
      "metadata": {
        "id": "thO0ybVqnVmQ",
        "colab": {
          "base_uri": "https://localhost:8080/",
          "height": 114,
          "referenced_widgets": [
            "18024de721b5451db94ab4349ee1953f",
            "a83b174afce145c2ab763203d35e2424",
            "205e3ebad13849a393c4a71e76b6b891",
            "1c9434c892d94ee386f2786c3e8db0ff",
            "329b62f0ed814c3b8f0273cb4e2d3412",
            "8bd08eec08e04cd697a4209e9fe2d5db",
            "6f566c358bb14a62be910c4671acb1a4",
            "8f7a71c37aaf447dab73cd77719e1380",
            "4964791dc63a40e18c92267ae2e4fa60",
            "3a05e00c0c8f4f0994a50c08db883383",
            "a52074ba9daa4019b27db38e7afdb5c2",
            "a976cfb33be940f3828bf21f5c8f12c0",
            "89ebac080fe54ee79d2135a600df49e2",
            "c37f8b543bea41dd82c1fda476880464",
            "70c124da248b4146b963016f65198900",
            "9e0af4628c42422d905f95aee4c4aacd"
          ]
        },
        "outputId": "f26897d7-9401-44b9-f7de-10d3855aa7d1"
      },
      "source": [
        "from fast_bert.data_cls import BertDataBunch\n",
        "\n",
        "DATA_PATH = \"/content/drive/My Drive/Colab Notebooks/Thesis/MovieLens/datasets/my_csvs/bert/data_dir\"\n",
        "\n",
        "LABEL_PATH = \"/content/drive/My Drive/Colab Notebooks/Thesis/MovieLens/datasets/my_csvs/bert/labels\"\n",
        "\n",
        "\n",
        "databunch = BertDataBunch(DATA_PATH, LABEL_PATH,\n",
        "                          tokenizer='bert-base-uncased',\n",
        "                          train_file='train.csv',\n",
        "                          val_file='val.csv',\n",
        "                          label_file='labels.csv',\n",
        "                          text_col='overview',\n",
        "                          label_col= labels,\n",
        "                          batch_size_per_gpu=16,\n",
        "                          max_seq_length=512,\n",
        "                          multi_gpu=True,\n",
        "                          multi_label=True,\n",
        "                          model_type='bert')"
      ],
      "execution_count": null,
      "outputs": [
        {
          "output_type": "display_data",
          "data": {
            "application/vnd.jupyter.widget-view+json": {
              "model_id": "18024de721b5451db94ab4349ee1953f",
              "version_minor": 0,
              "version_major": 2
            },
            "text/plain": [
              "HBox(children=(FloatProgress(value=0.0, description='Downloading', max=433.0, style=ProgressStyle(description_…"
            ]
          },
          "metadata": {
            "tags": []
          }
        },
        {
          "output_type": "stream",
          "text": [
            "\n"
          ],
          "name": "stdout"
        },
        {
          "output_type": "display_data",
          "data": {
            "application/vnd.jupyter.widget-view+json": {
              "model_id": "4964791dc63a40e18c92267ae2e4fa60",
              "version_minor": 0,
              "version_major": 2
            },
            "text/plain": [
              "HBox(children=(FloatProgress(value=0.0, description='Downloading', max=231508.0, style=ProgressStyle(descripti…"
            ]
          },
          "metadata": {
            "tags": []
          }
        },
        {
          "output_type": "stream",
          "text": [
            "\n"
          ],
          "name": "stdout"
        }
      ]
    },
    {
      "cell_type": "code",
      "metadata": {
        "id": "q8Oxw-DQvCYl"
      },
      "source": [
        "OUTPUT_DIR = \"/content/drive/My Drive/Colab Notebooks/Thesis/MovieLens/datasets/my_csvs/bert/output_directory\""
      ],
      "execution_count": null,
      "outputs": []
    },
    {
      "cell_type": "code",
      "metadata": {
        "id": "2G5ZBll3tGmf",
        "colab": {
          "base_uri": "https://localhost:8080/",
          "height": 270,
          "referenced_widgets": [
            "b2dbdcfd601f41a794089540041df8e8",
            "00feff443e20448895a7ca6d9117f30a",
            "1ae7fc00c0aa41358a29d52ec7777902",
            "cf2c7081c64242689e4d5b4ecc3ef249",
            "18091b99c19742e7983d90d0e46ebccf",
            "1161540ae46541f68d0a9f304ef7553a",
            "b1a0826737b446d69cee08a58cada30d",
            "b22c7a4a957a4da6a66113f27e4f690e"
          ]
        },
        "outputId": "5e3948b8-d25e-4648-bc8b-3318b53d886a"
      },
      "source": [
        "learner = BertLearner.from_pretrained_model(\n",
        "\t\t\t\t\t\tdatabunch,\n",
        "\t\t\t\t\t\tpretrained_path='bert-base-uncased',\n",
        "\t\t\t\t\t\tmetrics=metrics,\n",
        "\t\t\t\t\t\tdevice=device_cuda,\n",
        "\t\t\t\t\t\tlogger=logger,\n",
        "\t\t\t\t\t\toutput_dir=OUTPUT_DIR,\n",
        "\t\t\t\t\t\tfinetuned_wgts_path=None,\n",
        "\t\t\t\t\t\twarmup_steps=500,\n",
        "\t\t\t\t\t\tmulti_gpu=True,\n",
        "\t\t\t\t\t\tis_fp16=True,\n",
        "\t\t\t\t\t\tmulti_label=True,\n",
        "\t\t\t\t\t\tlogging_steps=50)"
      ],
      "execution_count": null,
      "outputs": [
        {
          "output_type": "display_data",
          "data": {
            "application/vnd.jupyter.widget-view+json": {
              "model_id": "b2dbdcfd601f41a794089540041df8e8",
              "version_minor": 0,
              "version_major": 2
            },
            "text/plain": [
              "HBox(children=(FloatProgress(value=0.0, description='Downloading', max=440473133.0, style=ProgressStyle(descri…"
            ]
          },
          "metadata": {
            "tags": []
          }
        },
        {
          "output_type": "stream",
          "text": [
            "\n"
          ],
          "name": "stdout"
        },
        {
          "output_type": "stream",
          "text": [
            "Some weights of the model checkpoint at bert-base-uncased were not used when initializing BertForMultiLabelSequenceClassification: ['cls.predictions.bias', 'cls.predictions.transform.dense.weight', 'cls.predictions.transform.dense.bias', 'cls.predictions.decoder.weight', 'cls.seq_relationship.weight', 'cls.seq_relationship.bias', 'cls.predictions.transform.LayerNorm.weight', 'cls.predictions.transform.LayerNorm.bias']\n",
            "- This IS expected if you are initializing BertForMultiLabelSequenceClassification from the checkpoint of a model trained on another task or with another architecture (e.g. initializing a BertForSequenceClassification model from a BertForPretraining model).\n",
            "- This IS NOT expected if you are initializing BertForMultiLabelSequenceClassification from the checkpoint of a model that you expect to be exactly identical (initializing a BertForSequenceClassification model from a BertForSequenceClassification model).\n",
            "Some weights of BertForMultiLabelSequenceClassification were not initialized from the model checkpoint at bert-base-uncased and are newly initialized: ['classifier.weight', 'classifier.bias']\n",
            "You should probably TRAIN this model on a down-stream task to be able to use it for predictions and inference.\n",
            "/usr/local/lib/python3.6/dist-packages/torch/cuda/__init__.py:125: UserWarning: \n",
            "Tesla T4 with CUDA capability sm_75 is not compatible with the current PyTorch installation.\n",
            "The current PyTorch install supports CUDA capabilities sm_37 sm_50 sm_60 sm_70.\n",
            "If you want to use the Tesla T4 GPU with PyTorch, please check the instructions at https://pytorch.org/get-started/locally/\n",
            "\n",
            "  warnings.warn(incompatible_device_warn.format(device_name, capability, \" \".join(arch_list), device_name))\n"
          ],
          "name": "stderr"
        }
      ]
    },
    {
      "cell_type": "code",
      "metadata": {
        "id": "sWkf-fyXuoE2",
        "colab": {
          "base_uri": "https://localhost:8080/",
          "height": 1000,
          "referenced_widgets": [
            "7f0a002188b24d53ac3ed181ba5dc837",
            "1c10f4f945474f1795d59a7d71129dac",
            "46f11ef18d5242eeb2546d393ad10dff",
            "78b0f526329241fc903589289b7c9c86",
            "82421ec9aac64ce1b7f11edf4700cbde",
            "af250972a8374a1d89427ddeeb019ecb",
            "0e327a4d768d47dcbd8f456ad4fa95fd",
            "8095d990b5fe43869c746ecbf9de3645"
          ]
        },
        "outputId": "343f1aac-a47e-4f34-ee90-0603ef9a8a3b"
      },
      "source": [
        "learner.lr_find(start_lr=1e-5,optimizer_type='lamb')"
      ],
      "execution_count": null,
      "outputs": [
        {
          "output_type": "stream",
          "text": [
            "Selected optimization level O1:  Insert automatic casts around Pytorch functions and Tensor methods.\n",
            "\n",
            "Defaults for this optimization level are:\n",
            "enabled                : True\n",
            "opt_level              : O1\n",
            "cast_model_type        : None\n",
            "patch_torch_functions  : True\n",
            "keep_batchnorm_fp32    : None\n",
            "master_weights         : None\n",
            "loss_scale             : dynamic\n",
            "Processing user overrides (additional kwargs that are not None)...\n",
            "After processing overrides, optimization options are:\n",
            "enabled                : True\n",
            "opt_level              : O1\n",
            "cast_model_type        : None\n",
            "patch_torch_functions  : True\n",
            "keep_batchnorm_fp32    : None\n",
            "master_weights         : None\n",
            "loss_scale             : dynamic\n"
          ],
          "name": "stdout"
        },
        {
          "output_type": "display_data",
          "data": {
            "application/vnd.jupyter.widget-view+json": {
              "model_id": "7f0a002188b24d53ac3ed181ba5dc837",
              "version_minor": 0,
              "version_major": 2
            },
            "text/plain": [
              "HBox(children=(FloatProgress(value=0.0), HTML(value='')))"
            ]
          },
          "metadata": {
            "tags": []
          }
        },
        {
          "output_type": "stream",
          "text": [
            "/usr/local/lib/python3.6/dist-packages/apex/amp/wrap.py:101: UserWarning: This overload of add_ is deprecated:\n",
            "\tadd_(Number alpha, Tensor other)\n",
            "Consider using one of the following signatures instead:\n",
            "\tadd_(Tensor other, *, Number alpha) (Triggered internally at  /pytorch/torch/csrc/utils/python_arg_parser.cpp:766.)\n",
            "  return orig_fn(arg0, *args, **kwargs)\n"
          ],
          "name": "stderr"
        },
        {
          "output_type": "stream",
          "text": [
            "Gradient overflow.  Skipping step, loss scaler 0 reducing loss scale to 32768.0\n",
            "Gradient overflow.  Skipping step, loss scaler 0 reducing loss scale to 16384.0\n",
            "Gradient overflow.  Skipping step, loss scaler 0 reducing loss scale to 8192.0\n",
            "Gradient overflow.  Skipping step, loss scaler 0 reducing loss scale to 4096.0\n",
            "Gradient overflow.  Skipping step, loss scaler 0 reducing loss scale to 2048.0\n",
            "Gradient overflow.  Skipping step, loss scaler 0 reducing loss scale to 1024.0\n",
            "Gradient overflow.  Skipping step, loss scaler 0 reducing loss scale to 512.0\n",
            "Gradient overflow.  Skipping step, loss scaler 0 reducing loss scale to 256.0\n",
            "Gradient overflow.  Skipping step, loss scaler 0 reducing loss scale to 128.0\n",
            "Gradient overflow.  Skipping step, loss scaler 0 reducing loss scale to 64.0\n",
            "Gradient overflow.  Skipping step, loss scaler 0 reducing loss scale to 32.0\n",
            "Gradient overflow.  Skipping step, loss scaler 0 reducing loss scale to 16.0\n",
            "Gradient overflow.  Skipping step, loss scaler 0 reducing loss scale to 8.0\n",
            "Gradient overflow.  Skipping step, loss scaler 0 reducing loss scale to 4.0\n",
            "Gradient overflow.  Skipping step, loss scaler 0 reducing loss scale to 2.0\n",
            "Gradient overflow.  Skipping step, loss scaler 0 reducing loss scale to 1.0\n",
            "Gradient overflow.  Skipping step, loss scaler 0 reducing loss scale to 0.5\n",
            "Gradient overflow.  Skipping step, loss scaler 0 reducing loss scale to 0.25\n",
            "Gradient overflow.  Skipping step, loss scaler 0 reducing loss scale to 0.125\n",
            "Gradient overflow.  Skipping step, loss scaler 0 reducing loss scale to 0.0625\n",
            "Gradient overflow.  Skipping step, loss scaler 0 reducing loss scale to 0.03125\n",
            "Gradient overflow.  Skipping step, loss scaler 0 reducing loss scale to 0.015625\n",
            "\n",
            "Learning rate search finished. See the graph with {finder_name}.plot()\n"
          ],
          "name": "stdout"
        },
        {
          "output_type": "display_data",
          "data": {
            "image/png": "[encoded data removed]",
            "text/plain": [
              "<Figure size 432x288 with 1 Axes>"
            ]
          },
          "metadata": {
            "tags": [],
            "needs_background": "light"
          }
        }
      ]
    },
    {
      "cell_type": "code",
      "metadata": {
        "id": "G8AO9TIj6ylz",
        "colab": {
          "base_uri": "https://localhost:8080/",
          "height": 526
        },
        "outputId": "8fbbb6f6-69ab-48d4-9a8d-6f3821cb6a9a"
      },
      "source": [
        "learner.fit(epochs=6,\n",
        "\t\t\tlr=6e-5,\n",
        "\t\t\tvalidate=True, \t# Evaluate the model after each epoch\n",
        "\t\t\tschedule_type=\"warmup_cosine\",\n",
        "\t\t\toptimizer_type=\"lamb\")"
      ],
      "execution_count": null,
      "outputs": [
        {
          "output_type": "stream",
          "text": [
            "Selected optimization level O1:  Insert automatic casts around Pytorch functions and Tensor methods.\n",
            "\n",
            "Defaults for this optimization level are:\n",
            "enabled                : True\n",
            "opt_level              : O1\n",
            "cast_model_type        : None\n",
            "patch_torch_functions  : True\n",
            "keep_batchnorm_fp32    : None\n",
            "master_weights         : None\n",
            "loss_scale             : dynamic\n",
            "Processing user overrides (additional kwargs that are not None)...\n",
            "After processing overrides, optimization options are:\n",
            "enabled                : True\n",
            "opt_level              : O1\n",
            "cast_model_type        : None\n",
            "patch_torch_functions  : True\n",
            "keep_batchnorm_fp32    : None\n",
            "master_weights         : None\n",
            "loss_scale             : dynamic\n"
          ],
          "name": "stdout"
        },
        {
          "output_type": "display_data",
          "data": {
            "text/html": [
              ""
            ],
            "text/plain": [
              "<IPython.core.display.HTML object>"
            ]
          },
          "metadata": {
            "tags": []
          }
        },
        {
          "output_type": "display_data",
          "data": {
            "text/html": [
              "\n",
              "    <div>\n",
              "        <style>\n",
              "            /* Turns off some styling */\n",
              "            progress {\n",
              "                /* gets rid of default border in Firefox and Opera. */\n",
              "                border: none;\n",
              "                /* Needs to be in here for Safari polyfill so background images work as expected. */\n",
              "                background-size: auto;\n",
              "            }\n",
              "            .progress-bar-interrupted, .progress-bar-interrupted::-webkit-progress-bar {\n",
              "                background: #F44336;\n",
              "            }\n",
              "        </style>\n",
              "      <progress value='1' class='' max='1' style='width:300px; height:20px; vertical-align: middle;'></progress>\n",
              "      100.00% [1/1 00:00<00:00]\n",
              "    </div>\n",
              "    "
            ],
            "text/plain": [
              "<IPython.core.display.HTML object>"
            ]
          },
          "metadata": {
            "tags": []
          }
        },
        {
          "output_type": "stream",
          "text": [
            "/usr/local/lib/python3.6/dist-packages/torch/optim/lr_scheduler.py:231: UserWarning: To get the last learning rate computed by the scheduler, please use `get_last_lr()`.\n",
            "  warnings.warn(\"To get the last learning rate computed by the scheduler, \"\n"
          ],
          "name": "stderr"
        },
        {
          "output_type": "display_data",
          "data": {
            "text/html": [
              "\n",
              "    <div>\n",
              "        <style>\n",
              "            /* Turns off some styling */\n",
              "            progress {\n",
              "                /* gets rid of default border in Firefox and Opera. */\n",
              "                border: none;\n",
              "                /* Needs to be in here for Safari polyfill so background images work as expected. */\n",
              "                background-size: auto;\n",
              "            }\n",
              "            .progress-bar-interrupted, .progress-bar-interrupted::-webkit-progress-bar {\n",
              "                background: #F44336;\n",
              "            }\n",
              "        </style>\n",
              "      <progress value='1' class='' max='1' style='width:300px; height:20px; vertical-align: middle;'></progress>\n",
              "      100.00% [1/1 00:00<00:00]\n",
              "    </div>\n",
              "    "
            ],
            "text/plain": [
              "<IPython.core.display.HTML object>"
            ]
          },
          "metadata": {
            "tags": []
          }
        },
        {
          "output_type": "display_data",
          "data": {
            "text/html": [
              "\n",
              "    <div>\n",
              "        <style>\n",
              "            /* Turns off some styling */\n",
              "            progress {\n",
              "                /* gets rid of default border in Firefox and Opera. */\n",
              "                border: none;\n",
              "                /* Needs to be in here for Safari polyfill so background images work as expected. */\n",
              "                background-size: auto;\n",
              "            }\n",
              "            .progress-bar-interrupted, .progress-bar-interrupted::-webkit-progress-bar {\n",
              "                background: #F44336;\n",
              "            }\n",
              "        </style>\n",
              "      <progress value='1' class='' max='1' style='width:300px; height:20px; vertical-align: middle;'></progress>\n",
              "      100.00% [1/1 00:00<00:00]\n",
              "    </div>\n",
              "    "
            ],
            "text/plain": [
              "<IPython.core.display.HTML object>"
            ]
          },
          "metadata": {
            "tags": []
          }
        },
        {
          "output_type": "display_data",
          "data": {
            "text/html": [
              "\n",
              "    <div>\n",
              "        <style>\n",
              "            /* Turns off some styling */\n",
              "            progress {\n",
              "                /* gets rid of default border in Firefox and Opera. */\n",
              "                border: none;\n",
              "                /* Needs to be in here for Safari polyfill so background images work as expected. */\n",
              "                background-size: auto;\n",
              "            }\n",
              "            .progress-bar-interrupted, .progress-bar-interrupted::-webkit-progress-bar {\n",
              "                background: #F44336;\n",
              "            }\n",
              "        </style>\n",
              "      <progress value='1' class='' max='1' style='width:300px; height:20px; vertical-align: middle;'></progress>\n",
              "      100.00% [1/1 00:00<00:00]\n",
              "    </div>\n",
              "    "
            ],
            "text/plain": [
              "<IPython.core.display.HTML object>"
            ]
          },
          "metadata": {
            "tags": []
          }
        },
        {
          "output_type": "display_data",
          "data": {
            "text/html": [
              "\n",
              "    <div>\n",
              "        <style>\n",
              "            /* Turns off some styling */\n",
              "            progress {\n",
              "                /* gets rid of default border in Firefox and Opera. */\n",
              "                border: none;\n",
              "                /* Needs to be in here for Safari polyfill so background images work as expected. */\n",
              "                background-size: auto;\n",
              "            }\n",
              "            .progress-bar-interrupted, .progress-bar-interrupted::-webkit-progress-bar {\n",
              "                background: #F44336;\n",
              "            }\n",
              "        </style>\n",
              "      <progress value='1' class='' max='1' style='width:300px; height:20px; vertical-align: middle;'></progress>\n",
              "      100.00% [1/1 00:00<00:00]\n",
              "    </div>\n",
              "    "
            ],
            "text/plain": [
              "<IPython.core.display.HTML object>"
            ]
          },
          "metadata": {
            "tags": []
          }
        },
        {
          "output_type": "display_data",
          "data": {
            "text/html": [
              "\n",
              "    <div>\n",
              "        <style>\n",
              "            /* Turns off some styling */\n",
              "            progress {\n",
              "                /* gets rid of default border in Firefox and Opera. */\n",
              "                border: none;\n",
              "                /* Needs to be in here for Safari polyfill so background images work as expected. */\n",
              "                background-size: auto;\n",
              "            }\n",
              "            .progress-bar-interrupted, .progress-bar-interrupted::-webkit-progress-bar {\n",
              "                background: #F44336;\n",
              "            }\n",
              "        </style>\n",
              "      <progress value='1' class='' max='1' style='width:300px; height:20px; vertical-align: middle;'></progress>\n",
              "      100.00% [1/1 00:00<00:00]\n",
              "    </div>\n",
              "    "
            ],
            "text/plain": [
              "<IPython.core.display.HTML object>"
            ]
          },
          "metadata": {
            "tags": []
          }
        },
        {
          "output_type": "display_data",
          "data": {
            "text/html": [
              "\n",
              "    <div>\n",
              "        <style>\n",
              "            /* Turns off some styling */\n",
              "            progress {\n",
              "                /* gets rid of default border in Firefox and Opera. */\n",
              "                border: none;\n",
              "                /* Needs to be in here for Safari polyfill so background images work as expected. */\n",
              "                background-size: auto;\n",
              "            }\n",
              "            .progress-bar-interrupted, .progress-bar-interrupted::-webkit-progress-bar {\n",
              "                background: #F44336;\n",
              "            }\n",
              "        </style>\n",
              "      <progress value='1' class='' max='1' style='width:300px; height:20px; vertical-align: middle;'></progress>\n",
              "      100.00% [1/1 00:00<00:00]\n",
              "    </div>\n",
              "    "
            ],
            "text/plain": [
              "<IPython.core.display.HTML object>"
            ]
          },
          "metadata": {
            "tags": []
          }
        },
        {
          "output_type": "execute_result",
          "data": {
            "text/plain": [
              "(90, 0.7215312010712094)"
            ]
          },
          "metadata": {
            "tags": []
          },
          "execution_count": 57
        }
      ]
    },
    {
      "cell_type": "code",
      "metadata": {
        "id": "ZxlgOsny69fu"
      },
      "source": [
        "learner.save_model()"
      ],
      "execution_count": null,
      "outputs": []
    },
    {
      "cell_type": "code",
      "metadata": {
        "id": "vF6Tj5J06_oV",
        "colab": {
          "base_uri": "https://localhost:8080/",
          "height": 78
        },
        "outputId": "ae2c7197-8f81-41e4-f172-b9756b0d477d"
      },
      "source": [
        "# 1st movie overview of the labelled_df\n",
        "text= labelled_df[\"overview\"][1]\n",
        "from IPython.display import Markdown, display\n",
        "display(Markdown('> '+text))"
      ],
      "execution_count": null,
      "outputs": [
        {
          "output_type": "display_data",
          "data": {
            "text/markdown": "> When a man's daughter is suddenly taken during a championship hockey game – with the captors demanding a billion dollars by game's end – he frantically sets a plan in motion to rescue her and abort an impending explosion before the final buzzer.",
            "text/plain": [
              "<IPython.core.display.Markdown object>"
            ]
          },
          "metadata": {
            "tags": []
          }
        }
      ]
    },
    {
      "cell_type": "code",
      "metadata": {
        "id": "r5DystWO7kJ5",
        "colab": {
          "base_uri": "https://localhost:8080/",
          "height": 118
        },
        "outputId": "99c9c8ab-30df-4302-f2c2-a43d6d484496"
      },
      "source": [
        "text = [\"When a man's daughter is suddenly taken during a championship hockey game – with the captors demanding a billion dollars by game's end – he frantically sets a plan in motion to rescue her and abort an impending explosion before the final buzzer.\"]\n",
        "predictions = learner.predict_batch(text)\n",
        "predictions"
      ],
      "execution_count": null,
      "outputs": [
        {
          "output_type": "execute_result",
          "data": {
            "text/plain": [
              "[[('disgust', 0.6474609375),\n",
              "  ('anger', 0.58935546875),\n",
              "  ('happiness', 0.525390625),\n",
              "  ('fear', 0.489501953125),\n",
              "  ('sadness', 0.427490234375),\n",
              "  ('surprise', 0.38720703125)]]"
            ]
          },
          "metadata": {
            "tags": []
          },
          "execution_count": 80
        }
      ]
    },
    {
      "cell_type": "code",
      "metadata": {
        "id": "3V_47Mo47wWN"
      },
      "source": [
        "from transformers import BertTokenizer\n",
        "from pathlib import Path\n",
        "import torch\n",
        "\n",
        "from box import Box\n",
        "import pandas as pd\n",
        "import collections\n",
        "import os\n",
        "from tqdm import tqdm, trange\n",
        "import sys\n",
        "import random\n",
        "import numpy as np\n",
        "import apex\n",
        "from sklearn.model_selection import train_test_split\n",
        "\n",
        "import datetime\n",
        "\n",
        "from fast_bert.modeling import BertForMultiLabelSequenceClassification\n",
        "from fast_bert.data_cls import BertDataBunch, InputExample, InputFeatures, MultiLabelTextProcessor, convert_examples_to_features\n",
        "from fast_bert.learner_cls import BertLearner\n",
        "from fast_bert.metrics import accuracy_multilabel, accuracy_thresh, fbeta, roc_auc"
      ],
      "execution_count": null,
      "outputs": []
    },
    {
      "cell_type": "code",
      "metadata": {
        "id": "hdwxz8IX9SP1"
      },
      "source": [
        "\n",
        "torch.cuda.empty_cache()"
      ],
      "execution_count": null,
      "outputs": []
    },
    {
      "cell_type": "code",
      "metadata": {
        "id": "6VZkv9i19UGr",
        "colab": {
          "base_uri": "https://localhost:8080/",
          "height": 70
        },
        "outputId": "a42f69e8-d1eb-4c33-c49a-2d2ca9cba80e"
      },
      "source": [
        "pd.set_option('display.max_colwidth', -1)\n",
        "run_start_time = datetime.datetime.today().strftime('%Y-%m-%d_%H-%M-%S')"
      ],
      "execution_count": null,
      "outputs": [
        {
          "output_type": "stream",
          "text": [
            "/usr/local/lib/python3.6/dist-packages/ipykernel_launcher.py:1: FutureWarning: Passing a negative integer is deprecated in version 1.0 and will not be supported in future version. Instead, use None to not limit the column width.\n",
            "  \"\"\"Entry point for launching an IPython kernel.\n"
          ],
          "name": "stderr"
        }
      ]
    },
    {
      "cell_type": "code",
      "metadata": {
        "id": "hKhORpIE9VoJ"
      },
      "source": [
        "DATA_PATH = \"/content/drive/My Drive/Colab Notebooks/Thesis/MovieLens/datasets/my_csvs/bert/data_dir\"\n",
        "\n",
        "LABEL_PATH = \"/content/drive/My Drive/Colab Notebooks/Thesis/MovieLens/datasets/my_csvs/bert/labels\"\n",
        "\n",
        "\n",
        "\n",
        "AUG_DATA_PATH = Path('../data/data_augmentation/')\n",
        "\n",
        "MODEL_PATH=Path('../models/')\n",
        "LOG_PATH=Path('../logs/')\n",
        "MODEL_PATH.mkdir(exist_ok=True)\n",
        "\n",
        "model_state_dict = None\n",
        "\n",
        "# BERT_PRETRAINED_PATH = Path('../../bert_models/pretrained-weights/cased_L-12_H-768_A-12/')\n",
        "BERT_PRETRAINED_PATH = Path('../../bert_models/pretrained-weights/uncased_L-12_H-768_A-12/')\n",
        "# BERT_PRETRAINED_PATH = Path('../../bert_fastai/pretrained-weights/uncased_L-24_H-1024_A-16/')\n",
        "# FINETUNED_PATH = Path('../models/finetuned_model.bin')\n",
        "FINETUNED_PATH = None\n",
        "# model_state_dict = torch.load(FINETUNED_PATH)\n",
        "\n",
        "LOG_PATH.mkdir(exist_ok=True)\n",
        "\n",
        "OUTPUT_PATH = MODEL_PATH/'output'\n",
        "OUTPUT_PATH.mkdir(exist_ok=True)"
      ],
      "execution_count": null,
      "outputs": []
    },
    {
      "cell_type": "code",
      "metadata": {
        "id": "v-N0s3Ae9b-y"
      },
      "source": [
        "\n",
        "args = Box({\n",
        "    \"run_text\": \"multilabel classification of emotions\",\n",
        "    \"train_size\": -1,\n",
        "    \"val_size\": -1,\n",
        "    \"log_path\": LOG_PATH,\n",
        "    \"full_data_dir\": DATA_PATH,\n",
        "    \"data_dir\": DATA_PATH,\n",
        "    \"task_name\": \"emotion_classification_and_prediction\",\n",
        "    \"no_cuda\": False,\n",
        "    \"bert_model\": BERT_PRETRAINED_PATH,\n",
        "    \"output_dir\": OUTPUT_PATH,\n",
        "    \"max_seq_length\": 512,\n",
        "    \"do_train\": True,\n",
        "    \"do_eval\": True,\n",
        "    \"do_lower_case\": True,\n",
        "    \"train_batch_size\": 8,\n",
        "    \"eval_batch_size\": 16,\n",
        "    \"learning_rate\": 5e-5,\n",
        "    \"num_train_epochs\": 6,\n",
        "    \"warmup_proportion\": 0.0,\n",
        "    \"no_cuda\": False,\n",
        "    \"local_rank\": -1,\n",
        "    \"seed\": 42,\n",
        "    \"gradient_accumulation_steps\": 1,\n",
        "    \"optimize_on_cpu\": False,\n",
        "    \"fp16\": True,\n",
        "    \"fp16_opt_level\": \"O1\",\n",
        "    \"weight_decay\": 0.0,\n",
        "    \"adam_epsilon\": 1e-8,\n",
        "    \"max_grad_norm\": 1.0,\n",
        "    \"max_steps\": -1,\n",
        "    \"warmup_steps\": 500,\n",
        "    \"logging_steps\": 50,\n",
        "    \"eval_all_checkpoints\": True,\n",
        "    \"overwrite_output_dir\": True,\n",
        "    \"overwrite_cache\": False,\n",
        "    \"seed\": 42,\n",
        "    \"loss_scale\": 128,\n",
        "    \"task_name\": 'intent',\n",
        "    \"model_name\": 'xlnet-base-cased',\n",
        "    \"model_type\": 'xlnet'\n",
        "})"
      ],
      "execution_count": null,
      "outputs": []
    },
    {
      "cell_type": "code",
      "metadata": {
        "id": "Cm70FkW49v52"
      },
      "source": [
        "import logging\n",
        "\n",
        "logfile = str(LOG_PATH/'log-{}-{}.txt'.format(run_start_time, args[\"run_text\"]))\n",
        "\n",
        "logging.basicConfig(\n",
        "    level=logging.INFO,\n",
        "    format='%(asctime)s - %(levelname)s - %(name)s -   %(message)s',\n",
        "    datefmt='%m/%d/%Y %H:%M:%S',\n",
        "    handlers=[\n",
        "        logging.FileHandler(logfile),\n",
        "        logging.StreamHandler(sys.stdout)\n",
        "    ])\n",
        "\n",
        "logger = logging.getLogger()"
      ],
      "execution_count": null,
      "outputs": []
    },
    {
      "cell_type": "code",
      "metadata": {
        "id": "TPnWYVhN9yIk",
        "colab": {
          "base_uri": "https://localhost:8080/",
          "height": 54
        },
        "outputId": "ad049167-a7b8-43d7-b9ed-f8ba56da8f2c"
      },
      "source": [
        "logger.info(args)"
      ],
      "execution_count": null,
      "outputs": [
        {
          "output_type": "stream",
          "text": [
            "08/02/2020 02:19:09 - INFO - root -   {'run_text': 'multilabel classification of emotions', 'train_size': -1, 'val_size': -1, 'log_path': PosixPath('../logs'), 'full_data_dir': '/content/drive/My Drive/Colab Notebooks/Thesis/MovieLens/datasets/my_csvs/bert/data_dir', 'data_dir': '/content/drive/My Drive/Colab Notebooks/Thesis/MovieLens/datasets/my_csvs/bert/data_dir', 'task_name': 'intent', 'no_cuda': False, 'bert_model': PosixPath('../../bert_models/pretrained-weights/uncased_L-12_H-768_A-12'), 'output_dir': PosixPath('../models/output'), 'max_seq_length': 512, 'do_train': True, 'do_eval': True, 'do_lower_case': True, 'train_batch_size': 8, 'eval_batch_size': 16, 'learning_rate': 5e-05, 'num_train_epochs': 6, 'warmup_proportion': 0.0, 'local_rank': -1, 'seed': 42, 'gradient_accumulation_steps': 1, 'optimize_on_cpu': False, 'fp16': True, 'fp16_opt_level': 'O1', 'weight_decay': 0.0, 'adam_epsilon': 1e-08, 'max_grad_norm': 1.0, 'max_steps': -1, 'warmup_steps': 500, 'logging_steps': 50, 'eval_all_checkpoints': True, 'overwrite_output_dir': True, 'overwrite_cache': False, 'loss_scale': 128, 'model_name': 'xlnet-base-cased', 'model_type': 'xlnet'}\n"
          ],
          "name": "stdout"
        }
      ]
    },
    {
      "cell_type": "code",
      "metadata": {
        "id": "gXV0LVd89zbP"
      },
      "source": [
        "#tokenizer = BertTokenizer.from_pretrained(BERT_PRETRAINED_PATH, do_lower_case=args['do_lower_case'])"
      ],
      "execution_count": null,
      "outputs": []
    },
    {
      "cell_type": "code",
      "metadata": {
        "id": "E9rn_OiM91dD"
      },
      "source": [
        "device = torch.device('cuda')\n",
        "if torch.cuda.device_count() > 1:\n",
        "    args.multi_gpu = True\n",
        "else:\n",
        "    args.multi_gpu = False"
      ],
      "execution_count": null,
      "outputs": []
    },
    {
      "cell_type": "code",
      "metadata": {
        "id": "Y68GgsxM94_h",
        "colab": {
          "base_uri": "https://localhost:8080/",
          "height": 1000,
          "referenced_widgets": [
            "d6339cfc5a6c47a389b296ebc63be31d",
            "f294852745c3469eb911bdcb81cf16e9",
            "dc15f55feec04029bb8163b0ae41761c",
            "2cde96a7109043d59a909b3b582f6e67",
            "d1a9bfb5a9ff4e67a34bc5b84f8bf2ae",
            "a2b84afa11784f59958d022935d7726c",
            "4759058fe9ab4bafa3b30eadb37285f4",
            "ea84ee0d922543b2864e25af7b86d276",
            "179dc16eae834e51a16b55fef225f509",
            "a79e1b48b37d469ab9d0210d36b27f52",
            "c65fb422217e4ef2a63cb23169159f7a",
            "631cda36b10b48779b569fd51ee8278a",
            "946542cb00eb4c5fb322003693340228",
            "b9baf8ffec07477fa8a35c13d181a704",
            "238d8a25dce84de9bf27fe254fd69e6e",
            "5a9f3fef91bb41f69547d45c7661d426"
          ]
        },
        "outputId": "26750728-1ef9-4bdd-dc36-c2b8e62a9b1e"
      },
      "source": [
        "databunch = BertDataBunch(args['data_dir'], LABEL_PATH, args.model_name, train_file='train.csv', val_file='val.csv',\n",
        "                          test_data='test.csv',\n",
        "                          text_col=\"overview\", label_col=labels,\n",
        "                          batch_size_per_gpu=args['train_batch_size'], max_seq_length=args['max_seq_length'], \n",
        "                          multi_gpu=args.multi_gpu, multi_label=True, model_type=args.model_type)"
      ],
      "execution_count": null,
      "outputs": [
        {
          "output_type": "stream",
          "text": [
            "08/02/2020 02:20:19 - INFO - filelock -   Lock 140690739325304 acquired on /root/.cache/torch/transformers/c9cc6e53904f7f3679a31ec4af244f4419e25ebc8e71ebf8c558a31cbcf07fc8.69e5e35e0b798cab5e473f253752f8bf4d280ee37682281a23eed80f6e2d09c6.lock\n",
            "08/02/2020 02:20:19 - INFO - transformers.file_utils -   https://s3.amazonaws.com/models.huggingface.co/bert/xlnet-base-cased-config.json not found in cache or force_download set to True, downloading to /root/.cache/torch/transformers/tmppbtuuwdf\n"
          ],
          "name": "stdout"
        },
        {
          "output_type": "display_data",
          "data": {
            "application/vnd.jupyter.widget-view+json": {
              "model_id": "d6339cfc5a6c47a389b296ebc63be31d",
              "version_minor": 0,
              "version_major": 2
            },
            "text/plain": [
              "HBox(children=(FloatProgress(value=0.0, description='Downloading', max=760.0, style=ProgressStyle(description_…"
            ]
          },
          "metadata": {
            "tags": []
          }
        },
        {
          "output_type": "stream",
          "text": [
            "\n",
            "08/02/2020 02:20:19 - INFO - transformers.file_utils -   storing https://s3.amazonaws.com/models.huggingface.co/bert/xlnet-base-cased-config.json in cache at /root/.cache/torch/transformers/c9cc6e53904f7f3679a31ec4af244f4419e25ebc8e71ebf8c558a31cbcf07fc8.69e5e35e0b798cab5e473f253752f8bf4d280ee37682281a23eed80f6e2d09c6\n",
            "08/02/2020 02:20:19 - INFO - transformers.file_utils -   creating metadata file for /root/.cache/torch/transformers/c9cc6e53904f7f3679a31ec4af244f4419e25ebc8e71ebf8c558a31cbcf07fc8.69e5e35e0b798cab5e473f253752f8bf4d280ee37682281a23eed80f6e2d09c6\n",
            "08/02/2020 02:20:19 - INFO - filelock -   Lock 140690739325304 released on /root/.cache/torch/transformers/c9cc6e53904f7f3679a31ec4af244f4419e25ebc8e71ebf8c558a31cbcf07fc8.69e5e35e0b798cab5e473f253752f8bf4d280ee37682281a23eed80f6e2d09c6.lock\n",
            "08/02/2020 02:20:19 - INFO - transformers.configuration_utils -   loading configuration file https://s3.amazonaws.com/models.huggingface.co/bert/xlnet-base-cased-config.json from cache at /root/.cache/torch/transformers/c9cc6e53904f7f3679a31ec4af244f4419e25ebc8e71ebf8c558a31cbcf07fc8.69e5e35e0b798cab5e473f253752f8bf4d280ee37682281a23eed80f6e2d09c6\n",
            "08/02/2020 02:20:19 - INFO - transformers.configuration_utils -   Model config XLNetConfig {\n",
            "  \"architectures\": [\n",
            "    \"XLNetLMHeadModel\"\n",
            "  ],\n",
            "  \"attn_type\": \"bi\",\n",
            "  \"bi_data\": false,\n",
            "  \"bos_token_id\": 1,\n",
            "  \"clamp_len\": -1,\n",
            "  \"d_head\": 64,\n",
            "  \"d_inner\": 3072,\n",
            "  \"d_model\": 768,\n",
            "  \"dropout\": 0.1,\n",
            "  \"end_n_top\": 5,\n",
            "  \"eos_token_id\": 2,\n",
            "  \"ff_activation\": \"gelu\",\n",
            "  \"initializer_range\": 0.02,\n",
            "  \"layer_norm_eps\": 1e-12,\n",
            "  \"mem_len\": null,\n",
            "  \"model_type\": \"xlnet\",\n",
            "  \"n_head\": 12,\n",
            "  \"n_layer\": 12,\n",
            "  \"pad_token_id\": 5,\n",
            "  \"reuse_len\": null,\n",
            "  \"same_length\": false,\n",
            "  \"start_n_top\": 5,\n",
            "  \"summary_activation\": \"tanh\",\n",
            "  \"summary_last_dropout\": 0.1,\n",
            "  \"summary_type\": \"last\",\n",
            "  \"summary_use_proj\": true,\n",
            "  \"task_specific_params\": {\n",
            "    \"text-generation\": {\n",
            "      \"do_sample\": true,\n",
            "      \"max_length\": 250\n",
            "    }\n",
            "  },\n",
            "  \"untie_r\": true,\n",
            "  \"vocab_size\": 32000\n",
            "}\n",
            "\n",
            "08/02/2020 02:20:20 - INFO - filelock -   Lock 140690742153680 acquired on /root/.cache/torch/transformers/dad589d582573df0293448af5109cb6981ca77239ed314e15ca63b7b8a318ddd.8b10bd978b5d01c21303cc761fc9ecd464419b3bf921864a355ba807cfbfafa8.lock\n",
            "08/02/2020 02:20:20 - INFO - transformers.file_utils -   https://s3.amazonaws.com/models.huggingface.co/bert/xlnet-base-cased-spiece.model not found in cache or force_download set to True, downloading to /root/.cache/torch/transformers/tmpndee5_ix\n"
          ],
          "name": "stdout"
        },
        {
          "output_type": "display_data",
          "data": {
            "application/vnd.jupyter.widget-view+json": {
              "model_id": "179dc16eae834e51a16b55fef225f509",
              "version_minor": 0,
              "version_major": 2
            },
            "text/plain": [
              "HBox(children=(FloatProgress(value=0.0, description='Downloading', max=798011.0, style=ProgressStyle(descripti…"
            ]
          },
          "metadata": {
            "tags": []
          }
        },
        {
          "output_type": "stream",
          "text": [
            "\n",
            "08/02/2020 02:20:20 - INFO - transformers.file_utils -   storing https://s3.amazonaws.com/models.huggingface.co/bert/xlnet-base-cased-spiece.model in cache at /root/.cache/torch/transformers/dad589d582573df0293448af5109cb6981ca77239ed314e15ca63b7b8a318ddd.8b10bd978b5d01c21303cc761fc9ecd464419b3bf921864a355ba807cfbfafa8\n",
            "08/02/2020 02:20:20 - INFO - transformers.file_utils -   creating metadata file for /root/.cache/torch/transformers/dad589d582573df0293448af5109cb6981ca77239ed314e15ca63b7b8a318ddd.8b10bd978b5d01c21303cc761fc9ecd464419b3bf921864a355ba807cfbfafa8\n",
            "08/02/2020 02:20:20 - INFO - filelock -   Lock 140690742153680 released on /root/.cache/torch/transformers/dad589d582573df0293448af5109cb6981ca77239ed314e15ca63b7b8a318ddd.8b10bd978b5d01c21303cc761fc9ecd464419b3bf921864a355ba807cfbfafa8.lock\n",
            "08/02/2020 02:20:20 - INFO - transformers.tokenization_utils_base -   loading file https://s3.amazonaws.com/models.huggingface.co/bert/xlnet-base-cased-spiece.model from cache at /root/.cache/torch/transformers/dad589d582573df0293448af5109cb6981ca77239ed314e15ca63b7b8a318ddd.8b10bd978b5d01c21303cc761fc9ecd464419b3bf921864a355ba807cfbfafa8\n",
            "08/02/2020 02:20:21 - INFO - root -   Writing example 0 of 240\n",
            "08/02/2020 02:20:21 - INFO - root -   Saving features into cached file /content/drive/My Drive/Colab Notebooks/Thesis/MovieLens/datasets/my_csvs/bert/data_dir/cache/cached_xlnet_train_multi_label_512_train.csv\n",
            "08/02/2020 02:20:21 - INFO - root -   Writing example 0 of 30\n",
            "08/02/2020 02:20:21 - INFO - root -   Saving features into cached file /content/drive/My Drive/Colab Notebooks/Thesis/MovieLens/datasets/my_csvs/bert/data_dir/cache/cached_xlnet_dev_multi_label_512_val.csv\n",
            "08/02/2020 02:20:21 - INFO - root -   Writing example 0 of 8\n",
            "08/02/2020 02:20:21 - INFO - root -   Saving features into cached file /content/drive/My Drive/Colab Notebooks/Thesis/MovieLens/datasets/my_csvs/bert/data_dir/cache/cached_xlnet_test_multi_label_512_test\n"
          ],
          "name": "stdout"
        }
      ]
    },
    {
      "cell_type": "code",
      "metadata": {
        "id": "gumm6HIh-EXN",
        "colab": {
          "base_uri": "https://localhost:8080/",
          "height": 34
        },
        "outputId": "71337a52-172e-4572-f26e-981e04023912"
      },
      "source": [
        "databunch.labels"
      ],
      "execution_count": null,
      "outputs": [
        {
          "output_type": "execute_result",
          "data": {
            "text/plain": [
              "['happiness', 'sadness', 'anger', 'disgust', 'fear', 'surprise']"
            ]
          },
          "metadata": {
            "tags": []
          },
          "execution_count": 94
        }
      ]
    },
    {
      "cell_type": "code",
      "metadata": {
        "id": "oQZjMZrS-QHx"
      },
      "source": [
        "metrics = []\n",
        "metrics.append({'name': 'accuracy_thresh', 'function': accuracy_thresh})\n",
        "metrics.append({'name': 'roc_auc', 'function': roc_auc})\n",
        "metrics.append({'name': 'fbeta', 'function': fbeta})"
      ],
      "execution_count": null,
      "outputs": []
    },
    {
      "cell_type": "code",
      "metadata": {
        "id": "8i7BqwSd-S6k",
        "colab": {
          "base_uri": "https://localhost:8080/",
          "height": 1000,
          "referenced_widgets": [
            "94bf38abfe0f4cd1a3be8ab8485c8375",
            "62a0efa30eeb4ffaa2c596ab984ca3d6",
            "514d61b02f1945a78f319bade4af168c",
            "a8013b4fa4264193a645d348edcae9df",
            "017d76b42a114af185294d595c17cee7",
            "888183642f69466da389a911bbf30c2a",
            "f5ac84f8d117433abe0d0a3f75baa947",
            "e40cbc28830b4ec9a2f8fb3cbea63bbd"
          ]
        },
        "outputId": "abf6e984-7ba9-4e87-bdb4-9b15480d2ecc"
      },
      "source": [
        "learner = BertLearner.from_pretrained_model(databunch, args.model_name, metrics=metrics, \n",
        "                                            device=device, logger=logger, output_dir=args.output_dir, \n",
        "                                            finetuned_wgts_path=FINETUNED_PATH, warmup_steps=args.warmup_steps,\n",
        "                                            multi_gpu=args.multi_gpu, is_fp16=args.fp16, \n",
        "                                            multi_label=True, logging_steps=0)"
      ],
      "execution_count": null,
      "outputs": [
        {
          "output_type": "stream",
          "text": [
            "08/02/2020 02:21:35 - INFO - transformers.configuration_utils -   loading configuration file https://s3.amazonaws.com/models.huggingface.co/bert/xlnet-base-cased-config.json from cache at /root/.cache/torch/transformers/c9cc6e53904f7f3679a31ec4af244f4419e25ebc8e71ebf8c558a31cbcf07fc8.69e5e35e0b798cab5e473f253752f8bf4d280ee37682281a23eed80f6e2d09c6\n",
            "08/02/2020 02:21:35 - INFO - transformers.configuration_utils -   Model config XLNetConfig {\n",
            "  \"architectures\": [\n",
            "    \"XLNetLMHeadModel\"\n",
            "  ],\n",
            "  \"attn_type\": \"bi\",\n",
            "  \"bi_data\": false,\n",
            "  \"bos_token_id\": 1,\n",
            "  \"clamp_len\": -1,\n",
            "  \"d_head\": 64,\n",
            "  \"d_inner\": 3072,\n",
            "  \"d_model\": 768,\n",
            "  \"dropout\": 0.1,\n",
            "  \"end_n_top\": 5,\n",
            "  \"eos_token_id\": 2,\n",
            "  \"ff_activation\": \"gelu\",\n",
            "  \"id2label\": {\n",
            "    \"0\": \"LABEL_0\",\n",
            "    \"1\": \"LABEL_1\",\n",
            "    \"2\": \"LABEL_2\",\n",
            "    \"3\": \"LABEL_3\",\n",
            "    \"4\": \"LABEL_4\",\n",
            "    \"5\": \"LABEL_5\"\n",
            "  },\n",
            "  \"initializer_range\": 0.02,\n",
            "  \"label2id\": {\n",
            "    \"LABEL_0\": 0,\n",
            "    \"LABEL_1\": 1,\n",
            "    \"LABEL_2\": 2,\n",
            "    \"LABEL_3\": 3,\n",
            "    \"LABEL_4\": 4,\n",
            "    \"LABEL_5\": 5\n",
            "  },\n",
            "  \"layer_norm_eps\": 1e-12,\n",
            "  \"mem_len\": null,\n",
            "  \"model_type\": \"xlnet\",\n",
            "  \"n_head\": 12,\n",
            "  \"n_layer\": 12,\n",
            "  \"pad_token_id\": 5,\n",
            "  \"reuse_len\": null,\n",
            "  \"same_length\": false,\n",
            "  \"start_n_top\": 5,\n",
            "  \"summary_activation\": \"tanh\",\n",
            "  \"summary_last_dropout\": 0.1,\n",
            "  \"summary_type\": \"last\",\n",
            "  \"summary_use_proj\": true,\n",
            "  \"task_specific_params\": {\n",
            "    \"text-generation\": {\n",
            "      \"do_sample\": true,\n",
            "      \"max_length\": 250\n",
            "    }\n",
            "  },\n",
            "  \"untie_r\": true,\n",
            "  \"vocab_size\": 32000\n",
            "}\n",
            "\n",
            "08/02/2020 02:21:35 - INFO - filelock -   Lock 140690743666336 acquired on /root/.cache/torch/transformers/33d6135fea0154c088449506a4c5f9553cb59b6fd040138417a7033af64bb8f9.7eac4fe898a021204e63c88c00ea68c60443c57f94b4bc3c02adbde6465745ac.lock\n",
            "08/02/2020 02:21:35 - INFO - transformers.file_utils -   https://cdn.huggingface.co/xlnet-base-cased-pytorch_model.bin not found in cache or force_download set to True, downloading to /root/.cache/torch/transformers/tmpkmotvrpb\n"
          ],
          "name": "stdout"
        },
        {
          "output_type": "display_data",
          "data": {
            "application/vnd.jupyter.widget-view+json": {
              "model_id": "94bf38abfe0f4cd1a3be8ab8485c8375",
              "version_minor": 0,
              "version_major": 2
            },
            "text/plain": [
              "HBox(children=(FloatProgress(value=0.0, description='Downloading', max=467042463.0, style=ProgressStyle(descri…"
            ]
          },
          "metadata": {
            "tags": []
          }
        },
        {
          "output_type": "stream",
          "text": [
            "\n",
            "08/02/2020 02:21:53 - INFO - transformers.file_utils -   storing https://cdn.huggingface.co/xlnet-base-cased-pytorch_model.bin in cache at /root/.cache/torch/transformers/33d6135fea0154c088449506a4c5f9553cb59b6fd040138417a7033af64bb8f9.7eac4fe898a021204e63c88c00ea68c60443c57f94b4bc3c02adbde6465745ac\n",
            "08/02/2020 02:21:53 - INFO - transformers.file_utils -   creating metadata file for /root/.cache/torch/transformers/33d6135fea0154c088449506a4c5f9553cb59b6fd040138417a7033af64bb8f9.7eac4fe898a021204e63c88c00ea68c60443c57f94b4bc3c02adbde6465745ac\n",
            "08/02/2020 02:21:53 - INFO - filelock -   Lock 140690743666336 released on /root/.cache/torch/transformers/33d6135fea0154c088449506a4c5f9553cb59b6fd040138417a7033af64bb8f9.7eac4fe898a021204e63c88c00ea68c60443c57f94b4bc3c02adbde6465745ac.lock\n",
            "08/02/2020 02:21:53 - INFO - transformers.modeling_utils -   loading weights file https://cdn.huggingface.co/xlnet-base-cased-pytorch_model.bin from cache at /root/.cache/torch/transformers/33d6135fea0154c088449506a4c5f9553cb59b6fd040138417a7033af64bb8f9.7eac4fe898a021204e63c88c00ea68c60443c57f94b4bc3c02adbde6465745ac\n",
            "08/02/2020 02:21:56 - WARNING - transformers.modeling_utils -   Some weights of the model checkpoint at xlnet-base-cased were not used when initializing XLNetForMultiLabelSequenceClassification: ['lm_loss.weight', 'lm_loss.bias']\n",
            "- This IS expected if you are initializing XLNetForMultiLabelSequenceClassification from the checkpoint of a model trained on another task or with another architecture (e.g. initializing a BertForSequenceClassification model from a BertForPretraining model).\n",
            "- This IS NOT expected if you are initializing XLNetForMultiLabelSequenceClassification from the checkpoint of a model that you expect to be exactly identical (initializing a BertForSequenceClassification model from a BertForSequenceClassification model).\n",
            "08/02/2020 02:21:56 - WARNING - transformers.modeling_utils -   Some weights of XLNetForMultiLabelSequenceClassification were not initialized from the model checkpoint at xlnet-base-cased and are newly initialized: ['sequence_summary.summary.weight', 'sequence_summary.summary.bias', 'logits_proj.weight', 'logits_proj.bias']\n",
            "You should probably TRAIN this model on a down-stream task to be able to use it for predictions and inference.\n"
          ],
          "name": "stdout"
        }
      ]
    },
    {
      "cell_type": "code",
      "metadata": {
        "id": "4dy7qq7k-W90",
        "colab": {
          "base_uri": "https://localhost:8080/",
          "height": 1000
        },
        "outputId": "753bcc49-9d18-4a6d-f103-48ddb008bc6b"
      },
      "source": [
        "learner.fit(args.num_train_epochs, args.learning_rate, validate=True)"
      ],
      "execution_count": null,
      "outputs": [
        {
          "output_type": "stream",
          "text": [
            "Selected optimization level O1:  Insert automatic casts around Pytorch functions and Tensor methods.\n",
            "\n",
            "Defaults for this optimization level are:\n",
            "enabled                : True\n",
            "opt_level              : O1\n",
            "cast_model_type        : None\n",
            "patch_torch_functions  : True\n",
            "keep_batchnorm_fp32    : None\n",
            "master_weights         : None\n",
            "loss_scale             : dynamic\n",
            "Processing user overrides (additional kwargs that are not None)...\n",
            "After processing overrides, optimization options are:\n",
            "enabled                : True\n",
            "opt_level              : O1\n",
            "cast_model_type        : None\n",
            "patch_torch_functions  : True\n",
            "keep_batchnorm_fp32    : None\n",
            "master_weights         : None\n",
            "loss_scale             : dynamic\n",
            "08/02/2020 02:22:42 - INFO - root -   ***** Running training *****\n",
            "08/02/2020 02:22:42 - INFO - root -     Num examples = 240\n",
            "08/02/2020 02:22:42 - INFO - root -     Num Epochs = 6\n",
            "08/02/2020 02:22:42 - INFO - root -     Total train batch size (w. parallel, distributed & accumulation) = 8\n",
            "08/02/2020 02:22:42 - INFO - root -     Gradient Accumulation steps = 1\n",
            "08/02/2020 02:22:42 - INFO - root -     Total optimization steps = 180\n"
          ],
          "name": "stdout"
        },
        {
          "output_type": "display_data",
          "data": {
            "text/html": [
              ""
            ],
            "text/plain": [
              "<IPython.core.display.HTML object>"
            ]
          },
          "metadata": {
            "tags": []
          }
        },
        {
          "output_type": "stream",
          "text": [
            "/usr/local/lib/python3.6/dist-packages/apex/amp/wrap.py:53: UserWarning: Mixed memory format inputs detected while calling the operator. The operator will output contiguous tensor even if some of the inputs are in channels_last format. (Triggered internally at  /pytorch/aten/src/ATen/native/TensorIterator.cpp:918.)\n",
            "  return orig_fn(*args, **kwargs)\n"
          ],
          "name": "stderr"
        },
        {
          "output_type": "stream",
          "text": [
            "08/02/2020 02:23:32 - INFO - root -   Running evaluation\n",
            "08/02/2020 02:23:32 - INFO - root -     Num examples = 30\n",
            "08/02/2020 02:23:32 - INFO - root -     Batch size = 16\n"
          ],
          "name": "stdout"
        },
        {
          "output_type": "display_data",
          "data": {
            "text/html": [
              "\n",
              "    <div>\n",
              "        <style>\n",
              "            /* Turns off some styling */\n",
              "            progress {\n",
              "                /* gets rid of default border in Firefox and Opera. */\n",
              "                border: none;\n",
              "                /* Needs to be in here for Safari polyfill so background images work as expected. */\n",
              "                background-size: auto;\n",
              "            }\n",
              "            .progress-bar-interrupted, .progress-bar-interrupted::-webkit-progress-bar {\n",
              "                background: #F44336;\n",
              "            }\n",
              "        </style>\n",
              "      <progress value='2' class='' max='2' style='width:300px; height:20px; vertical-align: middle;'></progress>\n",
              "      100.00% [2/2 00:03<00:00]\n",
              "    </div>\n",
              "    "
            ],
            "text/plain": [
              "<IPython.core.display.HTML object>"
            ]
          },
          "metadata": {
            "tags": []
          }
        },
        {
          "output_type": "stream",
          "text": [
            "08/02/2020 02:23:36 - INFO - root -   eval_loss after epoch 1: 0.6707426905632019: \n",
            "08/02/2020 02:23:36 - INFO - root -   eval_accuracy_thresh after epoch 1: 0.5777778029441833: \n",
            "08/02/2020 02:23:36 - INFO - root -   eval_roc_auc after epoch 1: 0.5792004048582996: \n",
            "08/02/2020 02:23:36 - INFO - root -   eval_fbeta after epoch 1: 0.7561327815055847: \n",
            "08/02/2020 02:23:36 - INFO - root -   lr after epoch 1: 3e-06\n",
            "08/02/2020 02:23:36 - INFO - root -   train_loss after epoch 1: 0.6993247111638387\n",
            "08/02/2020 02:23:36 - INFO - root -   \n",
            "\n"
          ],
          "name": "stdout"
        },
        {
          "output_type": "stream",
          "text": [
            "/usr/local/lib/python3.6/dist-packages/torch/optim/lr_scheduler.py:231: UserWarning: To get the last learning rate computed by the scheduler, please use `get_last_lr()`.\n",
            "  warnings.warn(\"To get the last learning rate computed by the scheduler, \"\n"
          ],
          "name": "stderr"
        },
        {
          "output_type": "stream",
          "text": [
            "08/02/2020 02:24:27 - INFO - root -   Running evaluation\n",
            "08/02/2020 02:24:27 - INFO - root -     Num examples = 30\n",
            "08/02/2020 02:24:27 - INFO - root -     Batch size = 16\n"
          ],
          "name": "stdout"
        },
        {
          "output_type": "display_data",
          "data": {
            "text/html": [
              "\n",
              "    <div>\n",
              "        <style>\n",
              "            /* Turns off some styling */\n",
              "            progress {\n",
              "                /* gets rid of default border in Firefox and Opera. */\n",
              "                border: none;\n",
              "                /* Needs to be in here for Safari polyfill so background images work as expected. */\n",
              "                background-size: auto;\n",
              "            }\n",
              "            .progress-bar-interrupted, .progress-bar-interrupted::-webkit-progress-bar {\n",
              "                background: #F44336;\n",
              "            }\n",
              "        </style>\n",
              "      <progress value='2' class='' max='2' style='width:300px; height:20px; vertical-align: middle;'></progress>\n",
              "      100.00% [2/2 00:03<00:00]\n",
              "    </div>\n",
              "    "
            ],
            "text/plain": [
              "<IPython.core.display.HTML object>"
            ]
          },
          "metadata": {
            "tags": []
          }
        },
        {
          "output_type": "stream",
          "text": [
            "08/02/2020 02:24:31 - INFO - root -   eval_loss after epoch 2: 0.6650340259075165: \n",
            "08/02/2020 02:24:31 - INFO - root -   eval_accuracy_thresh after epoch 2: 0.5888888835906982: \n",
            "08/02/2020 02:24:31 - INFO - root -   eval_roc_auc after epoch 2: 0.5980516194331983: \n",
            "08/02/2020 02:24:31 - INFO - root -   eval_fbeta after epoch 2: 0.7561327815055847: \n",
            "08/02/2020 02:24:31 - INFO - root -   lr after epoch 2: 6e-06\n",
            "08/02/2020 02:24:31 - INFO - root -   train_loss after epoch 2: 0.6933609028657277\n",
            "08/02/2020 02:24:31 - INFO - root -   \n",
            "\n",
            "Gradient overflow.  Skipping step, loss scaler 0 reducing loss scale to 32768.0\n",
            "08/02/2020 02:25:22 - INFO - root -   Running evaluation\n",
            "08/02/2020 02:25:22 - INFO - root -     Num examples = 30\n",
            "08/02/2020 02:25:22 - INFO - root -     Batch size = 16\n"
          ],
          "name": "stdout"
        },
        {
          "output_type": "display_data",
          "data": {
            "text/html": [
              "\n",
              "    <div>\n",
              "        <style>\n",
              "            /* Turns off some styling */\n",
              "            progress {\n",
              "                /* gets rid of default border in Firefox and Opera. */\n",
              "                border: none;\n",
              "                /* Needs to be in here for Safari polyfill so background images work as expected. */\n",
              "                background-size: auto;\n",
              "            }\n",
              "            .progress-bar-interrupted, .progress-bar-interrupted::-webkit-progress-bar {\n",
              "                background: #F44336;\n",
              "            }\n",
              "        </style>\n",
              "      <progress value='2' class='' max='2' style='width:300px; height:20px; vertical-align: middle;'></progress>\n",
              "      100.00% [2/2 00:03<00:00]\n",
              "    </div>\n",
              "    "
            ],
            "text/plain": [
              "<IPython.core.display.HTML object>"
            ]
          },
          "metadata": {
            "tags": []
          }
        },
        {
          "output_type": "stream",
          "text": [
            "08/02/2020 02:25:25 - INFO - root -   eval_loss after epoch 3: 0.6580394804477692: \n",
            "08/02/2020 02:25:25 - INFO - root -   eval_accuracy_thresh after epoch 3: 0.6166666746139526: \n",
            "08/02/2020 02:25:25 - INFO - root -   eval_roc_auc after epoch 3: 0.6262019230769231: \n",
            "08/02/2020 02:25:25 - INFO - root -   eval_fbeta after epoch 3: 0.7561327815055847: \n",
            "08/02/2020 02:25:25 - INFO - root -   lr after epoch 3: 9e-06\n",
            "08/02/2020 02:25:25 - INFO - root -   train_loss after epoch 3: 0.692991562684377\n",
            "08/02/2020 02:25:25 - INFO - root -   \n",
            "\n",
            "08/02/2020 02:26:16 - INFO - root -   Running evaluation\n",
            "08/02/2020 02:26:16 - INFO - root -     Num examples = 30\n",
            "08/02/2020 02:26:16 - INFO - root -     Batch size = 16\n"
          ],
          "name": "stdout"
        },
        {
          "output_type": "display_data",
          "data": {
            "text/html": [
              "\n",
              "    <div>\n",
              "        <style>\n",
              "            /* Turns off some styling */\n",
              "            progress {\n",
              "                /* gets rid of default border in Firefox and Opera. */\n",
              "                border: none;\n",
              "                /* Needs to be in here for Safari polyfill so background images work as expected. */\n",
              "                background-size: auto;\n",
              "            }\n",
              "            .progress-bar-interrupted, .progress-bar-interrupted::-webkit-progress-bar {\n",
              "                background: #F44336;\n",
              "            }\n",
              "        </style>\n",
              "      <progress value='2' class='' max='2' style='width:300px; height:20px; vertical-align: middle;'></progress>\n",
              "      100.00% [2/2 00:03<00:00]\n",
              "    </div>\n",
              "    "
            ],
            "text/plain": [
              "<IPython.core.display.HTML object>"
            ]
          },
          "metadata": {
            "tags": []
          }
        },
        {
          "output_type": "stream",
          "text": [
            "08/02/2020 02:26:20 - INFO - root -   eval_loss after epoch 4: 0.6477772891521454: \n",
            "08/02/2020 02:26:20 - INFO - root -   eval_accuracy_thresh after epoch 4: 0.6277778148651123: \n",
            "08/02/2020 02:26:20 - INFO - root -   eval_roc_auc after epoch 4: 0.663588056680162: \n",
            "08/02/2020 02:26:20 - INFO - root -   eval_fbeta after epoch 4: 0.7577667832374573: \n",
            "08/02/2020 02:26:20 - INFO - root -   lr after epoch 4: 1.2e-05\n",
            "08/02/2020 02:26:20 - INFO - root -   train_loss after epoch 4: 0.6703834156195323\n",
            "08/02/2020 02:26:20 - INFO - root -   \n",
            "\n",
            "Gradient overflow.  Skipping step, loss scaler 0 reducing loss scale to 16384.0\n",
            "08/02/2020 02:27:11 - INFO - root -   Running evaluation\n",
            "08/02/2020 02:27:11 - INFO - root -     Num examples = 30\n",
            "08/02/2020 02:27:11 - INFO - root -     Batch size = 16\n"
          ],
          "name": "stdout"
        },
        {
          "output_type": "display_data",
          "data": {
            "text/html": [
              "\n",
              "    <div>\n",
              "        <style>\n",
              "            /* Turns off some styling */\n",
              "            progress {\n",
              "                /* gets rid of default border in Firefox and Opera. */\n",
              "                border: none;\n",
              "                /* Needs to be in here for Safari polyfill so background images work as expected. */\n",
              "                background-size: auto;\n",
              "            }\n",
              "            .progress-bar-interrupted, .progress-bar-interrupted::-webkit-progress-bar {\n",
              "                background: #F44336;\n",
              "            }\n",
              "        </style>\n",
              "      <progress value='2' class='' max='2' style='width:300px; height:20px; vertical-align: middle;'></progress>\n",
              "      100.00% [2/2 00:03<00:00]\n",
              "    </div>\n",
              "    "
            ],
            "text/plain": [
              "<IPython.core.display.HTML object>"
            ]
          },
          "metadata": {
            "tags": []
          }
        },
        {
          "output_type": "stream",
          "text": [
            "08/02/2020 02:27:15 - INFO - root -   eval_loss after epoch 5: 0.6368263065814972: \n",
            "08/02/2020 02:27:15 - INFO - root -   eval_accuracy_thresh after epoch 5: 0.644444465637207: \n",
            "08/02/2020 02:27:15 - INFO - root -   eval_roc_auc after epoch 5: 0.7019863360323886: \n",
            "08/02/2020 02:27:15 - INFO - root -   eval_fbeta after epoch 5: 0.7577667832374573: \n",
            "08/02/2020 02:27:15 - INFO - root -   lr after epoch 5: 1.5e-05\n",
            "08/02/2020 02:27:15 - INFO - root -   train_loss after epoch 5: 0.6666401425997416\n",
            "08/02/2020 02:27:15 - INFO - root -   \n",
            "\n",
            "08/02/2020 02:28:06 - INFO - root -   Running evaluation\n",
            "08/02/2020 02:28:06 - INFO - root -     Num examples = 30\n",
            "08/02/2020 02:28:06 - INFO - root -     Batch size = 16\n"
          ],
          "name": "stdout"
        },
        {
          "output_type": "display_data",
          "data": {
            "text/html": [
              "\n",
              "    <div>\n",
              "        <style>\n",
              "            /* Turns off some styling */\n",
              "            progress {\n",
              "                /* gets rid of default border in Firefox and Opera. */\n",
              "                border: none;\n",
              "                /* Needs to be in here for Safari polyfill so background images work as expected. */\n",
              "                background-size: auto;\n",
              "            }\n",
              "            .progress-bar-interrupted, .progress-bar-interrupted::-webkit-progress-bar {\n",
              "                background: #F44336;\n",
              "            }\n",
              "        </style>\n",
              "      <progress value='2' class='' max='2' style='width:300px; height:20px; vertical-align: middle;'></progress>\n",
              "      100.00% [2/2 00:03<00:00]\n",
              "    </div>\n",
              "    "
            ],
            "text/plain": [
              "<IPython.core.display.HTML object>"
            ]
          },
          "metadata": {
            "tags": []
          }
        },
        {
          "output_type": "stream",
          "text": [
            "08/02/2020 02:28:09 - INFO - root -   eval_loss after epoch 6: 0.6261331140995026: \n",
            "08/02/2020 02:28:09 - INFO - root -   eval_accuracy_thresh after epoch 6: 0.6666666865348816: \n",
            "08/02/2020 02:28:09 - INFO - root -   eval_roc_auc after epoch 6: 0.7285551619433198: \n",
            "08/02/2020 02:28:09 - INFO - root -   eval_fbeta after epoch 6: 0.7612526416778564: \n",
            "08/02/2020 02:28:09 - INFO - root -   lr after epoch 6: 1.8e-05\n",
            "08/02/2020 02:28:09 - INFO - root -   train_loss after epoch 6: 0.6479522824287415\n",
            "08/02/2020 02:28:09 - INFO - root -   \n",
            "\n"
          ],
          "name": "stdout"
        },
        {
          "output_type": "execute_result",
          "data": {
            "text/plain": [
              "(180, 0.6784421695603264)"
            ]
          },
          "metadata": {
            "tags": []
          },
          "execution_count": 97
        }
      ]
    },
    {
      "cell_type": "code",
      "metadata": {
        "id": "o7uNOff2-naW",
        "colab": {
          "base_uri": "https://localhost:8080/",
          "height": 154
        },
        "outputId": "ddce394f-a402-4835-f224-0c96474605c3"
      },
      "source": [
        "learner.validate()"
      ],
      "execution_count": null,
      "outputs": [
        {
          "output_type": "stream",
          "text": [
            "08/02/2020 02:28:09 - INFO - root -   Running evaluation\n",
            "08/02/2020 02:28:09 - INFO - root -     Num examples = 30\n",
            "08/02/2020 02:28:09 - INFO - root -     Batch size = 16\n"
          ],
          "name": "stdout"
        },
        {
          "output_type": "display_data",
          "data": {
            "text/html": [
              "\n",
              "    <div>\n",
              "        <style>\n",
              "            /* Turns off some styling */\n",
              "            progress {\n",
              "                /* gets rid of default border in Firefox and Opera. */\n",
              "                border: none;\n",
              "                /* Needs to be in here for Safari polyfill so background images work as expected. */\n",
              "                background-size: auto;\n",
              "            }\n",
              "            .progress-bar-interrupted, .progress-bar-interrupted::-webkit-progress-bar {\n",
              "                background: #F44336;\n",
              "            }\n",
              "        </style>\n",
              "      <progress value='2' class='' max='2' style='width:300px; height:20px; vertical-align: middle;'></progress>\n",
              "      100.00% [2/2 00:03<00:00]\n",
              "    </div>\n",
              "    "
            ],
            "text/plain": [
              "<IPython.core.display.HTML object>"
            ]
          },
          "metadata": {
            "tags": []
          }
        },
        {
          "output_type": "execute_result",
          "data": {
            "text/plain": [
              "{'accuracy_thresh': 0.6666666865348816,\n",
              " 'fbeta': 0.7612526416778564,\n",
              " 'loss': 0.6261331140995026,\n",
              " 'roc_auc': 0.7285551619433198}"
            ]
          },
          "metadata": {
            "tags": []
          },
          "execution_count": 98
        }
      ]
    },
    {
      "cell_type": "code",
      "metadata": {
        "id": "BqiGnx8n-tp6",
        "colab": {
          "base_uri": "https://localhost:8080/",
          "height": 50
        },
        "outputId": "f76252ff-7d0f-478d-f26f-60a29786eef8"
      },
      "source": [
        "learner.save_model()"
      ],
      "execution_count": null,
      "outputs": [
        {
          "output_type": "stream",
          "text": [
            "08/02/2020 02:28:13 - INFO - transformers.configuration_utils -   Configuration saved in ../models/output/model_out/config.json\n",
            "08/02/2020 02:28:15 - INFO - transformers.modeling_utils -   Model weights saved in ../models/output/model_out/pytorch_model.bin\n"
          ],
          "name": "stdout"
        }
      ]
    },
    {
      "cell_type": "code",
      "metadata": {
        "id": "kkms96aF-uwd",
        "colab": {
          "base_uri": "https://localhost:8080/",
          "height": 35
        },
        "outputId": "a6981f25-52f2-4407-ab27-203dcbc8dedb"
      },
      "source": [
        "'''\n",
        "learner.predict_batch(list(pd.read_csv('../data/test.csv')['comment_text'].values))\n",
        "'''"
      ],
      "execution_count": null,
      "outputs": [
        {
          "output_type": "execute_result",
          "data": {
            "application/vnd.google.colaboratory.intrinsic+json": {
              "type": "string"
            },
            "text/plain": [
              "\"\\nlearner.predict_batch(list(pd.read_csv('../data/test.csv')['comment_text'].values))\\n\""
            ]
          },
          "metadata": {
            "tags": []
          },
          "execution_count": 100
        }
      ]
    },
    {
      "cell_type": "code",
      "metadata": {
        "id": "Etnj1BUwAgkV",
        "colab": {
          "base_uri": "https://localhost:8080/",
          "height": 52
        },
        "outputId": "5c13c8bf-759d-43c7-9e0e-5c133f708327"
      },
      "source": [
        "list(test[\"overview\"])[0]"
      ],
      "execution_count": null,
      "outputs": [
        {
          "output_type": "execute_result",
          "data": {
            "application/vnd.google.colaboratory.intrinsic+json": {
              "type": "string"
            },
            "text/plain": [
              "'George Orr, a man whose dreams can change waking reality, tries to suppress this unpredictable gift with drugs. Dr. Haber, an assigned psychiatrist, discovers the gift to be real and hypnotically induces Mr. Orr to change reality for the benefit of mankind --- with bizarre and frightening results.'"
            ]
          },
          "metadata": {
            "tags": []
          },
          "execution_count": 106
        }
      ]
    },
    {
      "cell_type": "code",
      "metadata": {
        "id": "VBvF9Nw9_Sqd",
        "colab": {
          "base_uri": "https://localhost:8080/",
          "height": 1000
        },
        "outputId": "7b0ee876-52f0-4d3c-89d6-7432e9bb3255"
      },
      "source": [
        "learner.predict_batch(list(test[\"overview\"]))"
      ],
      "execution_count": null,
      "outputs": [
        {
          "output_type": "stream",
          "text": [
            "08/02/2020 02:31:24 - INFO - root -   Writing example 0 of 30\n"
          ],
          "name": "stdout"
        },
        {
          "output_type": "execute_result",
          "data": {
            "text/plain": [
              "[[('fear', 0.63330078125),\n",
              "  ('sadness', 0.46875),\n",
              "  ('surprise', 0.4453125),\n",
              "  ('anger', 0.388671875),\n",
              "  ('disgust', 0.3388671875),\n",
              "  ('happiness', 0.334228515625)],\n",
              " [('fear', 0.69140625),\n",
              "  ('disgust', 0.468017578125),\n",
              "  ('surprise', 0.453369140625),\n",
              "  ('anger', 0.40576171875),\n",
              "  ('sadness', 0.38671875),\n",
              "  ('happiness', 0.312255859375)],\n",
              " [('fear', 0.685546875),\n",
              "  ('disgust', 0.4970703125),\n",
              "  ('surprise', 0.4677734375),\n",
              "  ('anger', 0.439697265625),\n",
              "  ('sadness', 0.40576171875),\n",
              "  ('happiness', 0.329833984375)],\n",
              " [('fear', 0.5947265625),\n",
              "  ('surprise', 0.59228515625),\n",
              "  ('happiness', 0.44287109375),\n",
              "  ('disgust', 0.419921875),\n",
              "  ('anger', 0.3466796875),\n",
              "  ('sadness', 0.326171875)],\n",
              " [('fear', 0.6337890625),\n",
              "  ('surprise', 0.5263671875),\n",
              "  ('sadness', 0.39990234375),\n",
              "  ('happiness', 0.392822265625),\n",
              "  ('anger', 0.361572265625),\n",
              "  ('disgust', 0.32275390625)],\n",
              " [('surprise', 0.5478515625),\n",
              "  ('happiness', 0.52783203125),\n",
              "  ('anger', 0.52197265625),\n",
              "  ('fear', 0.5146484375),\n",
              "  ('sadness', 0.425048828125),\n",
              "  ('disgust', 0.402587890625)],\n",
              " [('fear', 0.615234375),\n",
              "  ('surprise', 0.5078125),\n",
              "  ('anger', 0.41455078125),\n",
              "  ('sadness', 0.4033203125),\n",
              "  ('disgust', 0.368896484375),\n",
              "  ('happiness', 0.364501953125)],\n",
              " [('surprise', 0.58642578125),\n",
              "  ('fear', 0.463623046875),\n",
              "  ('happiness', 0.39990234375),\n",
              "  ('anger', 0.38916015625),\n",
              "  ('disgust', 0.367919921875),\n",
              "  ('sadness', 0.358154296875)],\n",
              " [('surprise', 0.70068359375),\n",
              "  ('anger', 0.5087890625),\n",
              "  ('happiness', 0.5068359375),\n",
              "  ('fear', 0.368408203125),\n",
              "  ('disgust', 0.31005859375),\n",
              "  ('sadness', 0.307861328125)],\n",
              " [('fear', 0.6923828125),\n",
              "  ('surprise', 0.4677734375),\n",
              "  ('sadness', 0.43896484375),\n",
              "  ('anger', 0.410888671875),\n",
              "  ('disgust', 0.385009765625),\n",
              "  ('happiness', 0.3701171875)],\n",
              " [('fear', 0.6904296875),\n",
              "  ('surprise', 0.457275390625),\n",
              "  ('sadness', 0.453369140625),\n",
              "  ('anger', 0.4208984375),\n",
              "  ('disgust', 0.326904296875),\n",
              "  ('happiness', 0.322998046875)],\n",
              " [('fear', 0.67431640625),\n",
              "  ('surprise', 0.6015625),\n",
              "  ('happiness', 0.453857421875),\n",
              "  ('disgust', 0.430419921875),\n",
              "  ('anger', 0.409912109375),\n",
              "  ('sadness', 0.250244140625)],\n",
              " [('fear', 0.55517578125),\n",
              "  ('surprise', 0.49267578125),\n",
              "  ('sadness', 0.443115234375),\n",
              "  ('happiness', 0.430419921875),\n",
              "  ('disgust', 0.390380859375),\n",
              "  ('anger', 0.3642578125)],\n",
              " [('fear', 0.57958984375),\n",
              "  ('surprise', 0.5751953125),\n",
              "  ('anger', 0.47900390625),\n",
              "  ('sadness', 0.42626953125),\n",
              "  ('happiness', 0.343505859375),\n",
              "  ('disgust', 0.313720703125)],\n",
              " [('fear', 0.77587890625),\n",
              "  ('disgust', 0.496337890625),\n",
              "  ('sadness', 0.431884765625),\n",
              "  ('anger', 0.408203125),\n",
              "  ('happiness', 0.373291015625),\n",
              "  ('surprise', 0.307373046875)],\n",
              " [('fear', 0.61767578125),\n",
              "  ('surprise', 0.5107421875),\n",
              "  ('anger', 0.479248046875),\n",
              "  ('disgust', 0.414306640625),\n",
              "  ('sadness', 0.375),\n",
              "  ('happiness', 0.365478515625)],\n",
              " [('surprise', 0.64501953125),\n",
              "  ('anger', 0.433349609375),\n",
              "  ('happiness', 0.430419921875),\n",
              "  ('fear', 0.406494140625),\n",
              "  ('sadness', 0.33837890625),\n",
              "  ('disgust', 0.285888671875)],\n",
              " [('fear', 0.7919921875),\n",
              "  ('disgust', 0.52734375),\n",
              "  ('sadness', 0.4833984375),\n",
              "  ('surprise', 0.45361328125),\n",
              "  ('anger', 0.359619140625),\n",
              "  ('happiness', 0.237060546875)],\n",
              " [('fear', 0.6044921875),\n",
              "  ('surprise', 0.6025390625),\n",
              "  ('happiness', 0.469970703125),\n",
              "  ('anger', 0.425048828125),\n",
              "  ('disgust', 0.389892578125),\n",
              "  ('sadness', 0.28125)],\n",
              " [('surprise', 0.720703125),\n",
              "  ('fear', 0.48388671875),\n",
              "  ('happiness', 0.45263671875),\n",
              "  ('anger', 0.443603515625),\n",
              "  ('sadness', 0.36767578125),\n",
              "  ('disgust', 0.36279296875)],\n",
              " [('fear', 0.58837890625),\n",
              "  ('anger', 0.45849609375),\n",
              "  ('surprise', 0.4365234375),\n",
              "  ('sadness', 0.415771484375),\n",
              "  ('disgust', 0.399169921875),\n",
              "  ('happiness', 0.373291015625)],\n",
              " [('fear', 0.65283203125),\n",
              "  ('sadness', 0.44189453125),\n",
              "  ('anger', 0.415771484375),\n",
              "  ('disgust', 0.386474609375),\n",
              "  ('surprise', 0.381103515625),\n",
              "  ('happiness', 0.307373046875)],\n",
              " [('surprise', 0.603515625),\n",
              "  ('happiness', 0.505859375),\n",
              "  ('fear', 0.47265625),\n",
              "  ('anger', 0.42578125),\n",
              "  ('sadness', 0.41845703125),\n",
              "  ('disgust', 0.361083984375)],\n",
              " [('fear', 0.7021484375),\n",
              "  ('surprise', 0.445068359375),\n",
              "  ('sadness', 0.4287109375),\n",
              "  ('anger', 0.403564453125),\n",
              "  ('disgust', 0.37255859375),\n",
              "  ('happiness', 0.329833984375)],\n",
              " [('fear', 0.6103515625),\n",
              "  ('surprise', 0.4912109375),\n",
              "  ('sadness', 0.43505859375),\n",
              "  ('anger', 0.396728515625),\n",
              "  ('disgust', 0.38671875),\n",
              "  ('happiness', 0.332275390625)],\n",
              " [('fear', 0.59423828125),\n",
              "  ('surprise', 0.5771484375),\n",
              "  ('anger', 0.4375),\n",
              "  ('disgust', 0.392822265625),\n",
              "  ('happiness', 0.36083984375),\n",
              "  ('sadness', 0.3564453125)],\n",
              " [('fear', 0.611328125),\n",
              "  ('anger', 0.46533203125),\n",
              "  ('surprise', 0.462646484375),\n",
              "  ('disgust', 0.438232421875),\n",
              "  ('happiness', 0.402587890625),\n",
              "  ('sadness', 0.384033203125)],\n",
              " [('fear', 0.650390625),\n",
              "  ('surprise', 0.59326171875),\n",
              "  ('disgust', 0.408203125),\n",
              "  ('sadness', 0.3525390625),\n",
              "  ('happiness', 0.33740234375),\n",
              "  ('anger', 0.323974609375)],\n",
              " [('fear', 0.7294921875),\n",
              "  ('disgust', 0.5126953125),\n",
              "  ('surprise', 0.40576171875),\n",
              "  ('sadness', 0.36083984375),\n",
              "  ('happiness', 0.33251953125),\n",
              "  ('anger', 0.329833984375)],\n",
              " [('fear', 0.6455078125),\n",
              "  ('disgust', 0.469970703125),\n",
              "  ('anger', 0.4208984375),\n",
              "  ('surprise', 0.413818359375),\n",
              "  ('happiness', 0.403076171875),\n",
              "  ('sadness', 0.3291015625)]]"
            ]
          },
          "metadata": {
            "tags": []
          },
          "execution_count": 108
        }
      ]
    },
    {
      "cell_type": "code",
      "metadata": {
        "id": "ealncKTECJ5Z",
        "colab": {
          "base_uri": "https://localhost:8080/",
          "height": 34
        },
        "outputId": "420aebcc-2e1e-49b4-d442-72fdce0f842c"
      },
      "source": [
        "test_predictions =learner.predict_batch(list(test[\"overview\"].values))"
      ],
      "execution_count": null,
      "outputs": [
        {
          "output_type": "stream",
          "text": [
            "08/02/2020 02:40:02 - INFO - root -   Writing example 0 of 30\n"
          ],
          "name": "stdout"
        }
      ]
    },
    {
      "cell_type": "code",
      "metadata": {
        "id": "LdzwfJ2_BsPj",
        "colab": {
          "base_uri": "https://localhost:8080/",
          "height": 34
        },
        "outputId": "f65a74bb-3df5-4ba4-9ddd-38e136a66255"
      },
      "source": [
        "len(test_predictions)"
      ],
      "execution_count": null,
      "outputs": [
        {
          "output_type": "execute_result",
          "data": {
            "text/plain": [
              "30"
            ]
          },
          "metadata": {
            "tags": []
          },
          "execution_count": 130
        }
      ]
    },
    {
      "cell_type": "code",
      "metadata": {
        "id": "dB8bsmUUAYJe",
        "colab": {
          "base_uri": "https://localhost:8080/",
          "height": 52
        },
        "outputId": "d7460dd6-31e8-4744-cd40-e70669f7ffc1"
      },
      "source": [
        "'''\n",
        "from fast_bert.prediction import BertClassificationPredictor\n",
        "predictor = BertClassificationPredictor(args.output_dir/'model_out', args.output_dir, LABEL_PATH, \n",
        "                                        multi_label=True, model_type='xlnet', do_lower_case=False)\n",
        "'''"
      ],
      "execution_count": null,
      "outputs": [
        {
          "output_type": "execute_result",
          "data": {
            "application/vnd.google.colaboratory.intrinsic+json": {
              "type": "string"
            },
            "text/plain": [
              "\"\\nfrom fast_bert.prediction import BertClassificationPredictor\\npredictor = BertClassificationPredictor(args.output_dir/'model_out', args.output_dir, LABEL_PATH, \\n                                        multi_label=True, model_type='xlnet', do_lower_case=False)\\n\""
            ]
          },
          "metadata": {
            "tags": []
          },
          "execution_count": 115
        }
      ]
    },
    {
      "cell_type": "code",
      "metadata": {
        "id": "if1qAxGRCum0",
        "colab": {
          "base_uri": "https://localhost:8080/",
          "height": 34
        },
        "outputId": "21bc879d-77af-414c-f121-3f2a92fc2ede"
      },
      "source": [
        "unlabelled_df.shape"
      ],
      "execution_count": null,
      "outputs": [
        {
          "output_type": "execute_result",
          "data": {
            "text/plain": [
              "(55577, 19)"
            ]
          },
          "metadata": {
            "tags": []
          },
          "execution_count": 133
        }
      ]
    },
    {
      "cell_type": "code",
      "metadata": {
        "id": "F101SIaqDAic",
        "colab": {
          "base_uri": "https://localhost:8080/",
          "height": 118
        },
        "outputId": "6a7d5b51-f53e-4854-ceaa-1d5556a36766"
      },
      "source": [
        "test_predictions =learner.predict_batch(list(unlabelled_df[\"overview\"].values))"
      ],
      "execution_count": null,
      "outputs": [
        {
          "output_type": "stream",
          "text": [
            "08/02/2020 02:42:15 - INFO - root -   Writing example 0 of 55577\n",
            "08/02/2020 02:42:18 - INFO - root -   Writing example 10000 of 55577\n",
            "08/02/2020 02:42:20 - INFO - root -   Writing example 20000 of 55577\n",
            "08/02/2020 02:42:22 - INFO - root -   Writing example 30000 of 55577\n",
            "08/02/2020 02:42:25 - INFO - root -   Writing example 40000 of 55577\n",
            "08/02/2020 02:42:28 - INFO - root -   Writing example 50000 of 55577\n"
          ],
          "name": "stdout"
        }
      ]
    },
    {
      "cell_type": "code",
      "metadata": {
        "id": "ht8OfsvfDFxt"
      },
      "source": [
        "#len(test_predictions)"
      ],
      "execution_count": null,
      "outputs": []
    }
  ]
}